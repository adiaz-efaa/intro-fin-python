{
 "cells": [
  {
   "cell_type": "markdown",
   "metadata": {},
   "source": [
    "# Programación Orientada a Objetos"
   ]
  },
  {
   "cell_type": "markdown",
   "metadata": {},
   "source": [
    "https://en.wikipedia.org/wiki/Object-oriented_programming"
   ]
  },
  {
   "cell_type": "markdown",
   "metadata": {},
   "source": [
    "Tenemos las siguientes definiciones:\n",
    "\n",
    "**Clase:** es una plantilla (*template*) para crear *objetos* (*objects*).\n",
    "\n",
    "**Objeto:** los objetos son tipos de variables que a su vez tienen *member variables* y *member functions* o *métodos*. Estos métodos representan comportamiento y/o funcionalidad asociada al objeto."
   ]
  },
  {
   "cell_type": "markdown",
   "metadata": {},
   "source": [
    "## Ejemplos"
   ]
  },
  {
   "cell_type": "markdown",
   "metadata": {},
   "source": [
    "En Python, todo es un objeto."
   ]
  },
  {
   "cell_type": "code",
   "execution_count": 5,
   "metadata": {
    "ExecuteTime": {
     "end_time": "2021-08-25T14:44:16.760579Z",
     "start_time": "2021-08-25T14:44:16.755424Z"
    }
   },
   "outputs": [],
   "source": [
    "x = 2"
   ]
  },
  {
   "cell_type": "markdown",
   "metadata": {},
   "source": [
    "¿Cómo me doy cuenta? La variables `x` tiene métodos, por ejemplo:"
   ]
  },
  {
   "cell_type": "code",
   "execution_count": 11,
   "metadata": {
    "ExecuteTime": {
     "end_time": "2021-08-25T14:47:25.852164Z",
     "start_time": "2021-08-25T14:47:25.846697Z"
    }
   },
   "outputs": [
    {
     "data": {
      "text/plain": [
       "b'\\x02'"
      ]
     },
     "execution_count": 11,
     "metadata": {},
     "output_type": "execute_result"
    }
   ],
   "source": [
    "x.to_bytes(1, 'big')"
   ]
  },
  {
   "cell_type": "code",
   "execution_count": 12,
   "metadata": {
    "ExecuteTime": {
     "end_time": "2021-08-25T14:47:50.665118Z",
     "start_time": "2021-08-25T14:47:50.661477Z"
    }
   },
   "outputs": [],
   "source": [
    "from datetime import date\n",
    "fecha = date(2021, 8, 25)"
   ]
  },
  {
   "cell_type": "markdown",
   "metadata": {},
   "source": [
    "El objeto `fecha`, que es de tipo `date` se *construye* con tres enteros positivos que representan el año, mes y día. Si uso una combinación inválida se genera un error."
   ]
  },
  {
   "cell_type": "code",
   "execution_count": 16,
   "metadata": {
    "ExecuteTime": {
     "end_time": "2021-08-25T14:50:10.121374Z",
     "start_time": "2021-08-25T14:50:10.107754Z"
    }
   },
   "outputs": [
    {
     "ename": "ValueError",
     "evalue": "day is out of range for month",
     "output_type": "error",
     "traceback": [
      "\u001b[0;31m---------------------------------------------------------------------------\u001b[0m",
      "\u001b[0;31mValueError\u001b[0m                                Traceback (most recent call last)",
      "\u001b[0;32m<ipython-input-16-9c7dfae9a789>\u001b[0m in \u001b[0;36m<module>\u001b[0;34m\u001b[0m\n\u001b[0;32m----> 1\u001b[0;31m \u001b[0mdate\u001b[0m\u001b[0;34m(\u001b[0m\u001b[0;36m2021\u001b[0m\u001b[0;34m,\u001b[0m \u001b[0;36m2\u001b[0m\u001b[0;34m,\u001b[0m \u001b[0;36m29\u001b[0m\u001b[0;34m)\u001b[0m\u001b[0;34m\u001b[0m\u001b[0;34m\u001b[0m\u001b[0m\n\u001b[0m",
      "\u001b[0;31mValueError\u001b[0m: day is out of range for month"
     ]
    }
   ],
   "source": [
    "date(2021, 2, 29) # El 2021 no es bisiesto."
   ]
  },
  {
   "cell_type": "markdown",
   "metadata": {},
   "source": [
    "El objeto `fecha` tiene métodos."
   ]
  },
  {
   "cell_type": "code",
   "execution_count": 14,
   "metadata": {
    "ExecuteTime": {
     "end_time": "2021-08-25T14:48:17.549830Z",
     "start_time": "2021-08-25T14:48:17.543454Z"
    }
   },
   "outputs": [
    {
     "data": {
      "text/plain": [
       "'2021-08-25'"
      ]
     },
     "execution_count": 14,
     "metadata": {},
     "output_type": "execute_result"
    }
   ],
   "source": [
    "fecha.isoformat()"
   ]
  },
  {
   "cell_type": "markdown",
   "metadata": {},
   "source": [
    "Las funciones son objetos."
   ]
  },
  {
   "cell_type": "code",
   "execution_count": 17,
   "metadata": {
    "ExecuteTime": {
     "end_time": "2021-08-25T14:51:33.899019Z",
     "start_time": "2021-08-25T14:51:33.893283Z"
    }
   },
   "outputs": [
    {
     "data": {
      "text/plain": [
       "builtin_function_or_method"
      ]
     },
     "execution_count": 17,
     "metadata": {},
     "output_type": "execute_result"
    }
   ],
   "source": [
    "import math\n",
    "type(math.exp)"
   ]
  },
  {
   "cell_type": "markdown",
   "metadata": {},
   "source": [
    "La función `math.exp` tiene métodos."
   ]
  },
  {
   "cell_type": "code",
   "execution_count": 19,
   "metadata": {
    "ExecuteTime": {
     "end_time": "2021-08-25T14:51:51.314876Z",
     "start_time": "2021-08-25T14:51:51.309139Z"
    }
   },
   "outputs": [
    {
     "data": {
      "text/plain": [
       "'Return e raised to the power of x.'"
      ]
     },
     "execution_count": 19,
     "metadata": {},
     "output_type": "execute_result"
    }
   ],
   "source": [
    "math.exp.__doc__"
   ]
  },
  {
   "cell_type": "markdown",
   "metadata": {},
   "source": [
    "## Definir una Clase"
   ]
  },
  {
   "cell_type": "markdown",
   "metadata": {},
   "source": [
    "Podemos definir nuestras propias clases y objetos. En el siguiente ejemplo vamos a definir una clase que represente una coordenada cartesiana en el espacio."
   ]
  },
  {
   "cell_type": "code",
   "execution_count": 20,
   "metadata": {
    "ExecuteTime": {
     "end_time": "2021-08-25T14:56:02.994231Z",
     "start_time": "2021-08-25T14:56:02.989746Z"
    }
   },
   "outputs": [],
   "source": [
    "class PointInSpace:\n",
    "    def __init__(self, x, y, z):\n",
    "        self.x = x\n",
    "        self.y = y\n",
    "        self.z = z"
   ]
  },
  {
   "cell_type": "markdown",
   "metadata": {},
   "source": [
    "El método `__init__` es el *constructor* de la clase, el parámetro `self` representa la instancia de la clase (un objeto concreto).\n",
    "\n",
    "**Nota nerd:** en Python los métodos que empiezan y terminan con doble guión bajo `__` se llaman *dunder methods*."
   ]
  },
  {
   "cell_type": "markdown",
   "metadata": {},
   "source": [
    "¿Cómo se da de alta (*instantiate*) un objeto de tipo `PointInSpace`?"
   ]
  },
  {
   "cell_type": "code",
   "execution_count": 21,
   "metadata": {
    "ExecuteTime": {
     "end_time": "2021-08-25T15:01:00.338689Z",
     "start_time": "2021-08-25T15:01:00.331319Z"
    }
   },
   "outputs": [],
   "source": [
    "punto = PointInSpace(0, 0, 0)"
   ]
  },
  {
   "cell_type": "markdown",
   "metadata": {},
   "source": [
    "Luego, a través de `punto` podemos acceder a sus coordenadas."
   ]
  },
  {
   "cell_type": "code",
   "execution_count": 22,
   "metadata": {
    "ExecuteTime": {
     "end_time": "2021-08-25T15:01:06.939134Z",
     "start_time": "2021-08-25T15:01:06.933031Z"
    }
   },
   "outputs": [
    {
     "data": {
      "text/plain": [
       "0"
      ]
     },
     "execution_count": 22,
     "metadata": {},
     "output_type": "execute_result"
    }
   ],
   "source": [
    "punto.x"
   ]
  },
  {
   "cell_type": "code",
   "execution_count": 23,
   "metadata": {
    "ExecuteTime": {
     "end_time": "2021-08-25T15:01:20.877779Z",
     "start_time": "2021-08-25T15:01:20.873373Z"
    }
   },
   "outputs": [
    {
     "data": {
      "text/plain": [
       "0"
      ]
     },
     "execution_count": 23,
     "metadata": {},
     "output_type": "execute_result"
    }
   ],
   "source": [
    "punto.y"
   ]
  },
  {
   "cell_type": "code",
   "execution_count": 24,
   "metadata": {
    "ExecuteTime": {
     "end_time": "2021-08-25T15:01:24.098648Z",
     "start_time": "2021-08-25T15:01:24.093260Z"
    }
   },
   "outputs": [
    {
     "data": {
      "text/plain": [
       "0"
      ]
     },
     "execution_count": 24,
     "metadata": {},
     "output_type": "execute_result"
    }
   ],
   "source": [
    "punto.z"
   ]
  },
  {
   "cell_type": "markdown",
   "metadata": {},
   "source": [
    "Lo siguiente genera un error."
   ]
  },
  {
   "cell_type": "code",
   "execution_count": 25,
   "metadata": {
    "ExecuteTime": {
     "end_time": "2021-08-25T15:01:28.767129Z",
     "start_time": "2021-08-25T15:01:28.758761Z"
    }
   },
   "outputs": [
    {
     "ename": "AttributeError",
     "evalue": "'PointInSpace' object has no attribute 'w'",
     "output_type": "error",
     "traceback": [
      "\u001b[0;31m---------------------------------------------------------------------------\u001b[0m",
      "\u001b[0;31mAttributeError\u001b[0m                            Traceback (most recent call last)",
      "\u001b[0;32m<ipython-input-25-a1eeaf757af9>\u001b[0m in \u001b[0;36m<module>\u001b[0;34m\u001b[0m\n\u001b[0;32m----> 1\u001b[0;31m \u001b[0mpunto\u001b[0m\u001b[0;34m.\u001b[0m\u001b[0mw\u001b[0m\u001b[0;34m\u001b[0m\u001b[0;34m\u001b[0m\u001b[0m\n\u001b[0m",
      "\u001b[0;31mAttributeError\u001b[0m: 'PointInSpace' object has no attribute 'w'"
     ]
    }
   ],
   "source": [
    "punto.w"
   ]
  },
  {
   "cell_type": "markdown",
   "metadata": {},
   "source": [
    "Podemos agregar más comportamiento o funcionalidad a la clase, y en consecuencia, a todos los objetos de esa clase."
   ]
  },
  {
   "cell_type": "code",
   "execution_count": 35,
   "metadata": {
    "ExecuteTime": {
     "end_time": "2021-08-25T15:09:54.036370Z",
     "start_time": "2021-08-25T15:09:54.031116Z"
    }
   },
   "outputs": [],
   "source": [
    "class PointInSpace:\n",
    "    def __init__(self, x, y, z):\n",
    "        self.x = x\n",
    "        self.y = y\n",
    "        self.z = z\n",
    "        \n",
    "    def norma(self):\n",
    "        return math.sqrt(self.x**2 + self.y**2 + self.z**2)"
   ]
  },
  {
   "cell_type": "code",
   "execution_count": 36,
   "metadata": {
    "ExecuteTime": {
     "end_time": "2021-08-25T15:09:54.914526Z",
     "start_time": "2021-08-25T15:09:54.911240Z"
    }
   },
   "outputs": [],
   "source": [
    "punto = PointInSpace(1, 2, 3)"
   ]
  },
  {
   "cell_type": "code",
   "execution_count": 38,
   "metadata": {
    "ExecuteTime": {
     "end_time": "2021-08-25T15:10:06.808502Z",
     "start_time": "2021-08-25T15:10:06.797593Z"
    }
   },
   "outputs": [
    {
     "data": {
      "text/plain": [
       "3.7416573867739413"
      ]
     },
     "execution_count": 38,
     "metadata": {},
     "output_type": "execute_result"
    }
   ],
   "source": [
    "punto.norma()"
   ]
  },
  {
   "cell_type": "markdown",
   "metadata": {},
   "source": [
    "Un objeto es *mutable*:"
   ]
  },
  {
   "cell_type": "code",
   "execution_count": 39,
   "metadata": {
    "ExecuteTime": {
     "end_time": "2021-08-25T15:11:39.108972Z",
     "start_time": "2021-08-25T15:11:39.104496Z"
    }
   },
   "outputs": [],
   "source": [
    "punto.x = 2"
   ]
  },
  {
   "cell_type": "code",
   "execution_count": 40,
   "metadata": {
    "ExecuteTime": {
     "end_time": "2021-08-25T15:11:44.634925Z",
     "start_time": "2021-08-25T15:11:44.627719Z"
    }
   },
   "outputs": [
    {
     "data": {
      "text/plain": [
       "2"
      ]
     },
     "execution_count": 40,
     "metadata": {},
     "output_type": "execute_result"
    }
   ],
   "source": [
    "punto.x"
   ]
  },
  {
   "cell_type": "markdown",
   "metadata": {},
   "source": [
    "Incluso puedo agregarle métodos:"
   ]
  },
  {
   "cell_type": "code",
   "execution_count": 41,
   "metadata": {
    "ExecuteTime": {
     "end_time": "2021-08-25T15:13:02.704550Z",
     "start_time": "2021-08-25T15:13:02.699810Z"
    }
   },
   "outputs": [],
   "source": [
    "def norma_geom(self):\n",
    "    return math.pow(self.x * self.y * self.z, 1./3)"
   ]
  },
  {
   "cell_type": "code",
   "execution_count": 47,
   "metadata": {
    "ExecuteTime": {
     "end_time": "2021-08-25T15:14:01.500226Z",
     "start_time": "2021-08-25T15:14:01.497090Z"
    }
   },
   "outputs": [],
   "source": [
    "PointInSpace.norma_geom = norma_geom"
   ]
  },
  {
   "cell_type": "code",
   "execution_count": 49,
   "metadata": {
    "ExecuteTime": {
     "end_time": "2021-08-25T15:14:51.928505Z",
     "start_time": "2021-08-25T15:14:51.923777Z"
    }
   },
   "outputs": [],
   "source": [
    "punto = PointInSpace(1, 2, 3)"
   ]
  },
  {
   "cell_type": "code",
   "execution_count": 50,
   "metadata": {
    "ExecuteTime": {
     "end_time": "2021-08-25T15:14:52.829856Z",
     "start_time": "2021-08-25T15:14:52.819565Z"
    }
   },
   "outputs": [
    {
     "data": {
      "text/plain": [
       "1.8171205928321397"
      ]
     },
     "execution_count": 50,
     "metadata": {},
     "output_type": "execute_result"
    }
   ],
   "source": [
    "punto.norma_geom()"
   ]
  },
  {
   "cell_type": "markdown",
   "metadata": {},
   "source": [
    "## Otros *dunder methods*"
   ]
  },
  {
   "cell_type": "markdown",
   "metadata": {},
   "source": [
    "https://dbader.org/blog/python-dunder-methods"
   ]
  },
  {
   "cell_type": "code",
   "execution_count": 51,
   "metadata": {
    "ExecuteTime": {
     "end_time": "2021-08-25T15:22:21.527679Z",
     "start_time": "2021-08-25T15:22:21.085288Z"
    }
   },
   "outputs": [],
   "source": [
    "import pandas as pd"
   ]
  },
  {
   "cell_type": "code",
   "execution_count": 52,
   "metadata": {
    "ExecuteTime": {
     "end_time": "2021-08-25T15:24:09.572271Z",
     "start_time": "2021-08-25T15:24:09.559355Z"
    }
   },
   "outputs": [],
   "source": [
    "data = [\n",
    "    {\n",
    "        'nombre': 'Donald',\n",
    "        'especie': 'pato',\n",
    "    },\n",
    "    {\n",
    "        'nombre': 'Mickey',\n",
    "        'especie': 'ratón',\n",
    "    },\n",
    "    {\n",
    "        'nombre': 'Tribilín',\n",
    "        'especie': 'perro',\n",
    "    }\n",
    "]"
   ]
  },
  {
   "cell_type": "code",
   "execution_count": 53,
   "metadata": {
    "ExecuteTime": {
     "end_time": "2021-08-25T15:24:32.437628Z",
     "start_time": "2021-08-25T15:24:32.433009Z"
    }
   },
   "outputs": [],
   "source": [
    "data_df = pd.DataFrame(data)"
   ]
  },
  {
   "cell_type": "code",
   "execution_count": 54,
   "metadata": {
    "ExecuteTime": {
     "end_time": "2021-08-25T15:24:36.216834Z",
     "start_time": "2021-08-25T15:24:36.205035Z"
    }
   },
   "outputs": [
    {
     "data": {
      "text/html": [
       "<div>\n",
       "<style scoped>\n",
       "    .dataframe tbody tr th:only-of-type {\n",
       "        vertical-align: middle;\n",
       "    }\n",
       "\n",
       "    .dataframe tbody tr th {\n",
       "        vertical-align: top;\n",
       "    }\n",
       "\n",
       "    .dataframe thead th {\n",
       "        text-align: right;\n",
       "    }\n",
       "</style>\n",
       "<table border=\"1\" class=\"dataframe\">\n",
       "  <thead>\n",
       "    <tr style=\"text-align: right;\">\n",
       "      <th></th>\n",
       "      <th>nombre</th>\n",
       "      <th>especie</th>\n",
       "    </tr>\n",
       "  </thead>\n",
       "  <tbody>\n",
       "    <tr>\n",
       "      <th>0</th>\n",
       "      <td>Donald</td>\n",
       "      <td>pato</td>\n",
       "    </tr>\n",
       "    <tr>\n",
       "      <th>1</th>\n",
       "      <td>Mickey</td>\n",
       "      <td>ratón</td>\n",
       "    </tr>\n",
       "    <tr>\n",
       "      <th>2</th>\n",
       "      <td>Tribilín</td>\n",
       "      <td>perro</td>\n",
       "    </tr>\n",
       "  </tbody>\n",
       "</table>\n",
       "</div>"
      ],
      "text/plain": [
       "     nombre especie\n",
       "0    Donald    pato\n",
       "1    Mickey   ratón\n",
       "2  Tribilín   perro"
      ]
     },
     "execution_count": 54,
     "metadata": {},
     "output_type": "execute_result"
    }
   ],
   "source": [
    "data_df"
   ]
  },
  {
   "cell_type": "code",
   "execution_count": 61,
   "metadata": {
    "ExecuteTime": {
     "end_time": "2021-08-25T15:34:34.315008Z",
     "start_time": "2021-08-25T15:34:34.309026Z"
    }
   },
   "outputs": [
    {
     "name": "stdout",
     "output_type": "stream",
     "text": [
      "\n",
      "    Two-dimensional, size-mutable, potentially heterogeneous tabular data.\n",
      "\n",
      "    Data structure also contains labeled axes (rows and columns).\n",
      "    Arithmetic operations align on both row and column labels. Can be\n",
      "    thought of as a dict-like container for Series objects. The primary\n",
      "    pandas data structure.\n",
      "\n",
      "    Parameters\n",
      "    ----------\n",
      "    data : ndarray (structured or homogeneous), Iterable, dict, or DataFrame\n",
      "        Dict can contain Series, arrays, constants, or list-like objects.\n",
      "\n",
      "        .. versionchanged:: 0.23.0\n",
      "           If data is a dict, column order follows insertion-order for\n",
      "           Python 3.6 and later.\n",
      "\n",
      "        .. versionchanged:: 0.25.0\n",
      "           If data is a list of dicts, column order follows insertion-order\n",
      "           for Python 3.6 and later.\n",
      "\n",
      "    index : Index or array-like\n",
      "        Index to use for resulting frame. Will default to RangeIndex if\n",
      "        no indexing information part of input data and no index provided.\n",
      "    columns : Index or array-like\n",
      "        Column labels to use for resulting frame. Will default to\n",
      "        RangeIndex (0, 1, 2, ..., n) if no column labels are provided.\n",
      "    dtype : dtype, default None\n",
      "        Data type to force. Only a single dtype is allowed. If None, infer.\n",
      "    copy : bool, default False\n",
      "        Copy data from inputs. Only affects DataFrame / 2d ndarray input.\n",
      "\n",
      "    See Also\n",
      "    --------\n",
      "    DataFrame.from_records : Constructor from tuples, also record arrays.\n",
      "    DataFrame.from_dict : From dicts of Series, arrays, or dicts.\n",
      "    read_csv\n",
      "    read_table\n",
      "    read_clipboard\n",
      "\n",
      "    Examples\n",
      "    --------\n",
      "    Constructing DataFrame from a dictionary.\n",
      "\n",
      "    >>> d = {'col1': [1, 2], 'col2': [3, 4]}\n",
      "    >>> df = pd.DataFrame(data=d)\n",
      "    >>> df\n",
      "       col1  col2\n",
      "    0     1     3\n",
      "    1     2     4\n",
      "\n",
      "    Notice that the inferred dtype is int64.\n",
      "\n",
      "    >>> df.dtypes\n",
      "    col1    int64\n",
      "    col2    int64\n",
      "    dtype: object\n",
      "\n",
      "    To enforce a single dtype:\n",
      "\n",
      "    >>> df = pd.DataFrame(data=d, dtype=np.int8)\n",
      "    >>> df.dtypes\n",
      "    col1    int8\n",
      "    col2    int8\n",
      "    dtype: object\n",
      "\n",
      "    Constructing DataFrame from numpy ndarray:\n",
      "\n",
      "    >>> df2 = pd.DataFrame(np.array([[1, 2, 3], [4, 5, 6], [7, 8, 9]]),\n",
      "    ...                    columns=['a', 'b', 'c'])\n",
      "    >>> df2\n",
      "       a  b  c\n",
      "    0  1  2  3\n",
      "    1  4  5  6\n",
      "    2  7  8  9\n",
      "    \n"
     ]
    }
   ],
   "source": [
    "print(data_df.__doc__)"
   ]
  },
  {
   "cell_type": "code",
   "execution_count": 62,
   "metadata": {
    "ExecuteTime": {
     "end_time": "2021-08-25T15:35:01.589883Z",
     "start_time": "2021-08-25T15:35:01.580183Z"
    }
   },
   "outputs": [
    {
     "name": "stdout",
     "output_type": "stream",
     "text": [
      "     nombre especie\n",
      "0    Donald    pato\n",
      "1    Mickey   ratón\n",
      "2  Tribilín   perro\n"
     ]
    }
   ],
   "source": [
    "print(data_df.__str__())"
   ]
  },
  {
   "cell_type": "code",
   "execution_count": 59,
   "metadata": {
    "ExecuteTime": {
     "end_time": "2021-08-25T15:25:55.434272Z",
     "start_time": "2021-08-25T15:25:55.427324Z"
    }
   },
   "outputs": [
    {
     "data": {
      "text/plain": [
       "'     nombre especie\\n0    Donald    pato\\n1    Mickey   ratón\\n2  Tribilín   perro'"
      ]
     },
     "execution_count": 59,
     "metadata": {},
     "output_type": "execute_result"
    }
   ],
   "source": [
    "data_df.__repr__()"
   ]
  },
  {
   "cell_type": "code",
   "execution_count": 60,
   "metadata": {
    "ExecuteTime": {
     "end_time": "2021-08-25T15:26:24.520230Z",
     "start_time": "2021-08-25T15:26:24.514602Z"
    }
   },
   "outputs": [
    {
     "data": {
      "text/plain": [
       "3"
      ]
     },
     "execution_count": 60,
     "metadata": {},
     "output_type": "execute_result"
    }
   ],
   "source": [
    "data_df.__len__()"
   ]
  },
  {
   "cell_type": "markdown",
   "metadata": {},
   "source": [
    "## So?"
   ]
  },
  {
   "cell_type": "markdown",
   "metadata": {},
   "source": [
    "Vamos a desarrollar un pequeño ejemplo que nos de una mejor idea de las posibilidades que se abren cuando usamos objetos.\n",
    "\n",
    "**NOTA:** este código es sólo de ejemplo y le falta mucho para poder ser usado en un entorno de producción."
   ]
  },
  {
   "cell_type": "code",
   "execution_count": 128,
   "metadata": {
    "ExecuteTime": {
     "end_time": "2021-08-25T16:18:00.350014Z",
     "start_time": "2021-08-25T16:18:00.336733Z"
    }
   },
   "outputs": [],
   "source": [
    "class PosicionRF:\n",
    "    def __init__(self, nemotecnico, nominal, valor_mercado, tir_mercado, duracion):\n",
    "        self.nemotecnico = nemotecnico\n",
    "        self.nominal = nominal\n",
    "        self.valor_mercado = valor_mercado\n",
    "        self.tir_mercado = tir_mercado\n",
    "        self.duracion = duracion\n",
    "        \n",
    "    def sensibilidad(self, pb):\n",
    "        _pb = pb / 10000\n",
    "        return self.valor_mercado * self.duracion * _pb / (1 + self.tir_mercado)\n",
    "    \n",
    "    def __str__(self):\n",
    "        result = f'nemotecnico: {self.nemotecnico}\\n'\n",
    "        result += f'nominal: {self.nominal}\\n'\n",
    "        result += f'valor_mercado: {self.valor_mercado}\\n'\n",
    "        result += f'tir_mercado: {self.tir_mercado}\\n'\n",
    "        result += f'duracion: {self.duracion}'\n",
    "        return result\n",
    "    \n",
    "    def __repr__(self):\n",
    "        result = f'nemotecnico: {self.nemotecnico}\\n'\n",
    "        result += f'nominal: {self.nominal}\\n'\n",
    "        result += f'valor_mercado: {self.valor_mercado}\\n'\n",
    "        result += f'tir_mercado: {self.tir_mercado}\\n'\n",
    "        result += f'duracion: {self.duracion}'\n",
    "        return result"
   ]
  },
  {
   "cell_type": "code",
   "execution_count": 145,
   "metadata": {
    "ExecuteTime": {
     "end_time": "2021-08-25T16:21:27.817350Z",
     "start_time": "2021-08-25T16:21:27.807307Z"
    }
   },
   "outputs": [],
   "source": [
    "class Cuenta:\n",
    "    def __init__(self, id_cliente):\n",
    "        self.id_cliente = id_cliente\n",
    "        self.posiciones = []\n",
    "        \n",
    "    def agrega_posicion(self, posicion):\n",
    "        self.posiciones.append(posicion)\n",
    "        \n",
    "    def valor_mercado(self):\n",
    "        if len(self.posiciones) > 0:\n",
    "            return sum([p.valor_mercado for p in self.posiciones])\n",
    "        return 0\n",
    "    \n",
    "    def sensibilidad(self, pb):\n",
    "        if len(self.posiciones) > 0:\n",
    "            return round(sum([p.sensibilidad(pb) for p in self.posiciones]), 6)\n",
    "        return 0\n",
    "    \n",
    "    def __len__(self):\n",
    "        return len(self.posiciones)\n",
    "    \n",
    "    def __getitem__(self, index):\n",
    "        return self.posiciones[index]\n",
    "    \n",
    "    def __iter__(self):\n",
    "        return (t for t in self.posiciones)"
   ]
  },
  {
   "cell_type": "code",
   "execution_count": 138,
   "metadata": {
    "ExecuteTime": {
     "end_time": "2021-08-25T16:18:28.922682Z",
     "start_time": "2021-08-25T16:18:28.917779Z"
    }
   },
   "outputs": [],
   "source": [
    "cuenta = Cuenta('alvaro')"
   ]
  },
  {
   "cell_type": "code",
   "execution_count": 139,
   "metadata": {
    "ExecuteTime": {
     "end_time": "2021-08-25T16:18:29.115211Z",
     "start_time": "2021-08-25T16:18:29.110496Z"
    }
   },
   "outputs": [],
   "source": [
    "posicion = PosicionRF('bono1', 100, 101, .01, 4)"
   ]
  },
  {
   "cell_type": "code",
   "execution_count": 140,
   "metadata": {
    "ExecuteTime": {
     "end_time": "2021-08-25T16:18:29.315852Z",
     "start_time": "2021-08-25T16:18:29.312266Z"
    }
   },
   "outputs": [],
   "source": [
    "cuenta.agrega_posicion(posicion)"
   ]
  },
  {
   "cell_type": "code",
   "execution_count": 141,
   "metadata": {
    "ExecuteTime": {
     "end_time": "2021-08-25T16:18:30.530568Z",
     "start_time": "2021-08-25T16:18:30.523333Z"
    }
   },
   "outputs": [
    {
     "data": {
      "text/plain": [
       "1"
      ]
     },
     "execution_count": 141,
     "metadata": {},
     "output_type": "execute_result"
    }
   ],
   "source": [
    "len(cuenta)"
   ]
  },
  {
   "cell_type": "code",
   "execution_count": 142,
   "metadata": {
    "ExecuteTime": {
     "end_time": "2021-08-25T16:18:30.782222Z",
     "start_time": "2021-08-25T16:18:30.774865Z"
    }
   },
   "outputs": [
    {
     "data": {
      "text/plain": [
       "nemotecnico: bono1\n",
       "nominal: 100\n",
       "valor_mercado: 101\n",
       "tir_mercado: 0.01\n",
       "duracion: 4"
      ]
     },
     "execution_count": 142,
     "metadata": {},
     "output_type": "execute_result"
    }
   ],
   "source": [
    "cuenta[0]"
   ]
  },
  {
   "cell_type": "code",
   "execution_count": 143,
   "metadata": {
    "ExecuteTime": {
     "end_time": "2021-08-25T16:18:31.157065Z",
     "start_time": "2021-08-25T16:18:31.150817Z"
    }
   },
   "outputs": [
    {
     "data": {
      "text/plain": [
       "101"
      ]
     },
     "execution_count": 143,
     "metadata": {},
     "output_type": "execute_result"
    }
   ],
   "source": [
    "cuenta.valor_mercado()"
   ]
  },
  {
   "cell_type": "code",
   "execution_count": 144,
   "metadata": {
    "ExecuteTime": {
     "end_time": "2021-08-25T16:18:32.073538Z",
     "start_time": "2021-08-25T16:18:32.067382Z"
    }
   },
   "outputs": [
    {
     "data": {
      "text/plain": [
       "0.04"
      ]
     },
     "execution_count": 144,
     "metadata": {},
     "output_type": "execute_result"
    }
   ],
   "source": [
    "cuenta.sensibilidad(1)"
   ]
  },
  {
   "cell_type": "code",
   "execution_count": 146,
   "metadata": {
    "ExecuteTime": {
     "end_time": "2021-08-25T16:21:43.267407Z",
     "start_time": "2021-08-25T16:21:43.262707Z"
    }
   },
   "outputs": [
    {
     "name": "stdout",
     "output_type": "stream",
     "text": [
      "nemotecnico: bono1\n",
      "nominal: 100\n",
      "valor_mercado: 101\n",
      "tir_mercado: 0.01\n",
      "duracion: 4\n"
     ]
    }
   ],
   "source": [
    "for p in cuenta:\n",
    "    print(p)"
   ]
  },
  {
   "cell_type": "markdown",
   "metadata": {},
   "source": [
    "Hay mucho más y muchas cosas muy interesantes ... "
   ]
  }
 ],
 "metadata": {
  "hide_input": false,
  "kernelspec": {
   "display_name": "Python 3",
   "language": "python",
   "name": "python3"
  },
  "language_info": {
   "codemirror_mode": {
    "name": "ipython",
    "version": 3
   },
   "file_extension": ".py",
   "mimetype": "text/x-python",
   "name": "python",
   "nbconvert_exporter": "python",
   "pygments_lexer": "ipython3",
   "version": "3.7.3"
  },
  "toc": {
   "base_numbering": 1,
   "nav_menu": {},
   "number_sections": true,
   "sideBar": true,
   "skip_h1_title": true,
   "title_cell": "Table of Contents",
   "title_sidebar": "Contenido",
   "toc_cell": false,
   "toc_position": {},
   "toc_section_display": true,
   "toc_window_display": true
  }
 },
 "nbformat": 4,
 "nbformat_minor": 4
}
