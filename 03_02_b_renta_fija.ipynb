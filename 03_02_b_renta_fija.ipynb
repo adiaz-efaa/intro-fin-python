{
 "cells": [
  {
   "cell_type": "markdown",
   "metadata": {},
   "source": [
    "# Renta Fija"
   ]
  },
  {
   "cell_type": "markdown",
   "metadata": {},
   "source": [
    "En este notebook aprenderemos a valorizar un portfolio de papeles en distintos escenarios, tanto a fecha de hoy como en una fecha futura"
   ]
  },
  {
   "cell_type": "markdown",
   "metadata": {},
   "source": [
    "## Librerías"
   ]
  },
  {
   "cell_type": "code",
   "execution_count": 1,
   "metadata": {
    "ExecuteTime": {
     "end_time": "2021-08-22T18:50:52.734912Z",
     "start_time": "2021-08-22T18:50:52.316329Z"
    }
   },
   "outputs": [],
   "source": [
    "from datetime import date\n",
    "import datetime\n",
    "import bisect\n",
    "import pandas as pd\n",
    "import numpy as np\n",
    "\n",
    "import autograd.numpy as agnp\n",
    "from autograd import grad\n",
    "\n",
    "import my_functions as mf"
   ]
  },
  {
   "cell_type": "markdown",
   "metadata": {},
   "source": [
    "## Data de Bonos"
   ]
  },
  {
   "cell_type": "markdown",
   "metadata": {},
   "source": [
    "Vamos a utilizar la misma base de datos de la sesión anterior."
   ]
  },
  {
   "cell_type": "code",
   "execution_count": 2,
   "metadata": {
    "ExecuteTime": {
     "end_time": "2021-08-22T18:51:12.439047Z",
     "start_time": "2021-08-22T18:50:54.090577Z"
    }
   },
   "outputs": [],
   "source": [
    "bonos = pd.read_excel('data/bonos_empresa_carga_inicial.xlsx')"
   ]
  },
  {
   "cell_type": "markdown",
   "metadata": {},
   "source": [
    "Al hacer el append, se regenera el índice. Con el valor por default `ignore_index=True` se matienen los índices originales de ambos `DataFrame`."
   ]
  },
  {
   "cell_type": "code",
   "execution_count": 3,
   "metadata": {
    "ExecuteTime": {
     "end_time": "2021-08-22T18:51:12.518811Z",
     "start_time": "2021-08-22T18:51:12.442784Z"
    }
   },
   "outputs": [],
   "source": [
    "bonos = bonos.append(pd.read_excel('data/bonos_estado_carga_inicial.xlsx'), ignore_index=True)"
   ]
  },
  {
   "cell_type": "code",
   "execution_count": 4,
   "metadata": {
    "ExecuteTime": {
     "end_time": "2021-08-22T18:51:14.839570Z",
     "start_time": "2021-08-22T18:51:12.522297Z"
    }
   },
   "outputs": [],
   "source": [
    "tablas_desarrollo = pd.read_csv('data/tablas_desarrollo.csv')"
   ]
  },
  {
   "cell_type": "code",
   "execution_count": 5,
   "metadata": {
    "ExecuteTime": {
     "end_time": "2021-08-22T18:51:14.874914Z",
     "start_time": "2021-08-22T18:51:14.842776Z"
    }
   },
   "outputs": [
    {
     "data": {
      "text/html": [
       "<div>\n",
       "<style scoped>\n",
       "    .dataframe tbody tr th:only-of-type {\n",
       "        vertical-align: middle;\n",
       "    }\n",
       "\n",
       "    .dataframe tbody tr th {\n",
       "        vertical-align: top;\n",
       "    }\n",
       "\n",
       "    .dataframe thead th {\n",
       "        text-align: right;\n",
       "    }\n",
       "</style>\n",
       "<table border=\"1\" class=\"dataframe\">\n",
       "  <thead>\n",
       "    <tr style=\"text-align: right;\">\n",
       "      <th></th>\n",
       "      <th>nemotecnico</th>\n",
       "      <th>numero_cupon</th>\n",
       "      <th>fecha_vcto_cupon</th>\n",
       "      <th>interes</th>\n",
       "      <th>amortizacion</th>\n",
       "      <th>saldo_insoluto</th>\n",
       "    </tr>\n",
       "  </thead>\n",
       "  <tbody>\n",
       "    <tr>\n",
       "      <th>0</th>\n",
       "      <td>BC18-A0719</td>\n",
       "      <td>1</td>\n",
       "      <td>2019-10-31</td>\n",
       "      <td>0.98534</td>\n",
       "      <td>0.00</td>\n",
       "      <td>100.00</td>\n",
       "    </tr>\n",
       "    <tr>\n",
       "      <th>1</th>\n",
       "      <td>BC18-A0719</td>\n",
       "      <td>2</td>\n",
       "      <td>2020-01-31</td>\n",
       "      <td>0.98534</td>\n",
       "      <td>0.00</td>\n",
       "      <td>100.00</td>\n",
       "    </tr>\n",
       "    <tr>\n",
       "      <th>2</th>\n",
       "      <td>BC18-A0719</td>\n",
       "      <td>3</td>\n",
       "      <td>2020-04-30</td>\n",
       "      <td>0.98534</td>\n",
       "      <td>0.00</td>\n",
       "      <td>100.00</td>\n",
       "    </tr>\n",
       "    <tr>\n",
       "      <th>3</th>\n",
       "      <td>BC18-A0719</td>\n",
       "      <td>4</td>\n",
       "      <td>2020-07-31</td>\n",
       "      <td>0.98534</td>\n",
       "      <td>4.65</td>\n",
       "      <td>100.00</td>\n",
       "    </tr>\n",
       "    <tr>\n",
       "      <th>4</th>\n",
       "      <td>BC18-A0719</td>\n",
       "      <td>5</td>\n",
       "      <td>2020-10-31</td>\n",
       "      <td>0.93952</td>\n",
       "      <td>0.00</td>\n",
       "      <td>95.35</td>\n",
       "    </tr>\n",
       "  </tbody>\n",
       "</table>\n",
       "</div>"
      ],
      "text/plain": [
       "  nemotecnico  numero_cupon fecha_vcto_cupon  interes  amortizacion  \\\n",
       "0  BC18-A0719             1       2019-10-31  0.98534          0.00   \n",
       "1  BC18-A0719             2       2020-01-31  0.98534          0.00   \n",
       "2  BC18-A0719             3       2020-04-30  0.98534          0.00   \n",
       "3  BC18-A0719             4       2020-07-31  0.98534          4.65   \n",
       "4  BC18-A0719             5       2020-10-31  0.93952          0.00   \n",
       "\n",
       "   saldo_insoluto  \n",
       "0          100.00  \n",
       "1          100.00  \n",
       "2          100.00  \n",
       "3          100.00  \n",
       "4           95.35  "
      ]
     },
     "execution_count": 5,
     "metadata": {},
     "output_type": "execute_result"
    }
   ],
   "source": [
    "tablas_desarrollo.head()"
   ]
  },
  {
   "cell_type": "markdown",
   "metadata": {},
   "source": [
    "## Valorización de un Portfolio"
   ]
  },
  {
   "cell_type": "markdown",
   "metadata": {},
   "source": [
    "Vamos a definir un portfolio de bonos con el cual realizar los cálculos. La posición repetida en BTP0470930 es para considerar la práctica usual en Chile de considerar *palo a palo* las transacciones y no el precio promedio de toda la posición."
   ]
  },
  {
   "cell_type": "code",
   "execution_count": 6,
   "metadata": {
    "ExecuteTime": {
     "end_time": "2021-08-22T18:51:16.719310Z",
     "start_time": "2021-08-22T18:51:16.706693Z"
    }
   },
   "outputs": [],
   "source": [
    "portfolio = [\n",
    "    {\n",
    "        'nemotecnico': 'BTP0470930',\n",
    "        'monto': 1000000000,\n",
    "        'fecha_compra': date(2021, 3, 18),\n",
    "        'tir_compra': .0321,\n",
    "        'monto_compra': 1124753559,\n",
    "    },\n",
    "    {\n",
    "        'nemotecnico': 'BTP0470930',\n",
    "        'monto': 2000000000,\n",
    "        'fecha_compra': date(2021, 2, 23),\n",
    "        'tir_compra': .0293,\n",
    "        'monto_compra': 2340842895,\n",
    "    },\n",
    "    {\n",
    "        'nemotecnico': 'BTU0200335',\n",
    "        'monto': 300000,\n",
    "        'fecha_compra': date(2021, 7, 7),\n",
    "        'tir_compra': .0225,\n",
    "        'monto_compra': 8732178169,\n",
    "    },\n",
    "    {\n",
    "        'nemotecnico': 'BBNS-W0414',\n",
    "        'monto': 100000,\n",
    "        'fecha_compra': date(2020, 9, 3),\n",
    "        'tir_compra': -.0009,\n",
    "        'monto_compra': 3657255336,\n",
    "    },\n",
    "    {\n",
    "        'nemotecnico': 'BSTDW11218',\n",
    "        'monto': 300000,\n",
    "        'fecha_compra': date(2020, 11, 13),\n",
    "        'tir_compra': -.0045,\n",
    "        'monto_compra': 9533881736,\n",
    "    },\n",
    "    {\n",
    "        'nemotecnico': 'BCCA-F0919',\n",
    "        'monto': 1000000000,\n",
    "        'fecha_compra': date(2021, 3, 24),\n",
    "        'tir_compra': .0721 ,\n",
    "        'monto_compra': 1013970102,\n",
    "    }\n",
    "]"
   ]
  },
  {
   "cell_type": "markdown",
   "metadata": {
    "ExecuteTime": {
     "end_time": "2021-08-22T17:39:11.451816Z",
     "start_time": "2021-08-22T17:39:11.445430Z"
    }
   },
   "source": [
    "La fecha de valorización."
   ]
  },
  {
   "cell_type": "code",
   "execution_count": 7,
   "metadata": {
    "ExecuteTime": {
     "end_time": "2021-08-22T18:51:18.258856Z",
     "start_time": "2021-08-22T18:51:18.253751Z"
    }
   },
   "outputs": [],
   "source": [
    "fecha_valor = date(2021, 8, 23)"
   ]
  },
  {
   "cell_type": "markdown",
   "metadata": {},
   "source": [
    "Y los datos de mercado correspondientes."
   ]
  },
  {
   "cell_type": "code",
   "execution_count": 8,
   "metadata": {
    "ExecuteTime": {
     "end_time": "2021-08-22T18:51:19.910388Z",
     "start_time": "2021-08-22T18:51:19.902659Z"
    }
   },
   "outputs": [],
   "source": [
    "ufs = {fecha_valor: 29850.56}\n",
    "mkt = {\n",
    "    'BTP0470930': {\n",
    "        'tir_mcdo': .01,\n",
    "        'base': .0028,\n",
    "        'spread': 0.0072\n",
    "    },\n",
    "    'BTU0200335': {\n",
    "        'tir_mcdo': .0196,\n",
    "        'base': .0196,\n",
    "        'spread': 0.0\n",
    "    },\n",
    "    'BBNS-W0414': {\n",
    "        'tir_mcdo': .0016,\n",
    "        'base': -.0046,\n",
    "        'spread': 0.0062\n",
    "    },\n",
    "    'BSTDW11218': {\n",
    "        'tir_mcdo': .01,\n",
    "        'base': .0028,\n",
    "        'spread': 0.0072\n",
    "    },\n",
    "    'BCCA-F0919': {\n",
    "        'tir_mcdo': .09,\n",
    "        'base': .0326,\n",
    "        'spread': 0.0574\n",
    "    }\n",
    "}"
   ]
  },
  {
   "cell_type": "code",
   "execution_count": 9,
   "metadata": {
    "ExecuteTime": {
     "end_time": "2021-08-22T18:51:22.971535Z",
     "start_time": "2021-08-22T18:51:22.964945Z"
    }
   },
   "outputs": [],
   "source": [
    "def get_valorizador_with_data(bonos, tablas_desarrollo, ufs):\n",
    "    def wrapper(fecha_valor, nemotecnico, tir, monto):\n",
    "        return mf.valorizador_rf(\n",
    "            fecha_valor,\n",
    "            nemotecnico,\n",
    "            tir,\n",
    "            monto,\n",
    "            bonos,\n",
    "            tablas_desarrollo,\n",
    "            ufs\n",
    "        )\n",
    "    return wrapper"
   ]
  },
  {
   "cell_type": "code",
   "execution_count": 10,
   "metadata": {
    "ExecuteTime": {
     "end_time": "2021-08-22T18:51:26.194513Z",
     "start_time": "2021-08-22T18:51:26.190410Z"
    }
   },
   "outputs": [],
   "source": [
    "valorizador = get_valorizador_with_data(bonos, tablas_desarrollo, ufs)"
   ]
  },
  {
   "cell_type": "code",
   "execution_count": 11,
   "metadata": {
    "ExecuteTime": {
     "end_time": "2021-08-22T18:51:29.654870Z",
     "start_time": "2021-08-22T18:51:29.650735Z"
    }
   },
   "outputs": [],
   "source": [
    "def valor_portfolio(fecha_val, escenario, valorizador):\n",
    "    return [\n",
    "        valorizador(fecha_valor, nemo, escenario[nemo]['tir_mcdo'], 100) for nemo in mkt\n",
    "    ]"
   ]
  },
  {
   "cell_type": "code",
   "execution_count": 12,
   "metadata": {
    "ExecuteTime": {
     "end_time": "2021-08-22T18:51:35.705914Z",
     "start_time": "2021-08-22T18:51:34.269617Z"
    }
   },
   "outputs": [],
   "source": [
    "result = valor_portfolio(fecha_valor, mkt, valorizador)"
   ]
  },
  {
   "cell_type": "code",
   "execution_count": 26,
   "metadata": {
    "ExecuteTime": {
     "end_time": "2021-08-22T18:53:27.873643Z",
     "start_time": "2021-08-22T18:53:27.866570Z"
    },
    "cell_style": "center"
   },
   "outputs": [
    {
     "data": {
      "text/plain": [
       "[{'nemotecnico': 'BTP0470930',\n",
       "  'fecha_valor': datetime.date(2021, 8, 23),\n",
       "  'precio': 1.311553,\n",
       "  'valor_par': 102.25004038844081,\n",
       "  'valor_presente': 134.10639740039392,\n",
       "  'valor_pago': 134.1063472215807,\n",
       "  'duracion': 7.572087109563799,\n",
       "  'convexidad': 70.43408834145194},\n",
       " {'nemotecnico': 'BTU0200335',\n",
       "  'fecha_valor': datetime.date(2021, 8, 23),\n",
       "  'precio': 1.00566,\n",
       "  'valor_par': 100.95799598568694,\n",
       "  'valor_presente': 101.52938308528377,\n",
       "  'valor_pago': 3030709.991026749,\n",
       "  'duracion': 11.814434787227066,\n",
       "  'convexidad': 158.25644977322216},\n",
       " {'nemotecnico': 'BBNS-W0414',\n",
       "  'fecha_valor': datetime.date(2021, 8, 23),\n",
       "  'precio': 1.072975,\n",
       "  'valor_par': 101.18073158224423,\n",
       "  'valor_presente': 108.56439638814848,\n",
       "  'valor_pago': 3240708.0008247993,\n",
       "  'duracion': 2.504589715818105,\n",
       "  'convexidad': 8.928432876386603},\n",
       " {'nemotecnico': 'BSTDW11218',\n",
       "  'fecha_valor': datetime.date(2021, 8, 23),\n",
       "  'precio': 1.020312,\n",
       "  'valor_par': 100.35149796108647,\n",
       "  'valor_presente': 102.3898545736525,\n",
       "  'valor_pago': 3056393.9903010605,\n",
       "  'duracion': 3.670643928974249,\n",
       "  'convexidad': 17.053259165667136},\n",
       " {'nemotecnico': 'BCCA-F0919',\n",
       "  'fecha_valor': datetime.date(2021, 8, 23),\n",
       "  'precio': 0.976063,\n",
       "  'valor_par': 98.13871071693468,\n",
       "  'valor_presente': 95.78953587514249,\n",
       "  'valor_pago': 95.7895643985034,\n",
       "  'duracion': 2.279816295851228,\n",
       "  'convexidad': 6.684113183332923}]"
      ]
     },
     "execution_count": 26,
     "metadata": {},
     "output_type": "execute_result"
    }
   ],
   "source": [
    "result"
   ]
  },
  {
   "cell_type": "markdown",
   "metadata": {},
   "source": [
    "Vamos a procesar un poco este resultado para que resulte más legible y contenga también la información del portfolio."
   ]
  },
  {
   "cell_type": "code",
   "execution_count": 28,
   "metadata": {
    "ExecuteTime": {
     "end_time": "2021-08-22T18:54:33.426691Z",
     "start_time": "2021-08-22T18:54:33.419850Z"
    }
   },
   "outputs": [],
   "source": [
    "def genera_informe(resultado_valorizacion, portfolio, escenario):\n",
    "    df_valor = pd.DataFrame.from_dict(resultado_valorizacion)\n",
    "    df_portfolio = pd.DataFrame.from_dict(portfolio)\n",
    "    df_portfolio['tir_mcdo'] = df_portfolio.apply(lambda row: escenario[row['nemotecnico']]['tir_mcdo'], axis=1)\n",
    "    df_portfolio = df_portfolio.merge(\n",
    "        df_valor[['nemotecnico', 'valor_pago', 'precio', 'duracion', 'convexidad']])\n",
    "    df_portfolio['valor_pago'] = df_portfolio['valor_pago'] * df_portfolio['monto'] / 100.0\n",
    "    return df_portfolio"
   ]
  },
  {
   "cell_type": "code",
   "execution_count": 29,
   "metadata": {
    "ExecuteTime": {
     "end_time": "2021-08-22T18:54:34.415049Z",
     "start_time": "2021-08-22T18:54:34.395413Z"
    }
   },
   "outputs": [],
   "source": [
    "df_portfolio = genera_informe(result, portfolio, mkt)"
   ]
  },
  {
   "cell_type": "code",
   "execution_count": 30,
   "metadata": {
    "ExecuteTime": {
     "end_time": "2021-08-22T18:54:35.239061Z",
     "start_time": "2021-08-22T18:54:35.224634Z"
    }
   },
   "outputs": [
    {
     "data": {
      "text/html": [
       "<style  type=\"text/css\" >\n",
       "</style><table id=\"T_64b7b360_037a_11ec_80d9_02cba411ec9d\" ><thead>    <tr>        <th class=\"blank level0\" ></th>        <th class=\"col_heading level0 col0\" >nemotecnico</th>        <th class=\"col_heading level0 col1\" >monto</th>        <th class=\"col_heading level0 col2\" >fecha_compra</th>        <th class=\"col_heading level0 col3\" >tir_compra</th>        <th class=\"col_heading level0 col4\" >monto_compra</th>        <th class=\"col_heading level0 col5\" >tir_mcdo</th>        <th class=\"col_heading level0 col6\" >valor_pago</th>        <th class=\"col_heading level0 col7\" >precio</th>        <th class=\"col_heading level0 col8\" >duracion</th>        <th class=\"col_heading level0 col9\" >convexidad</th>    </tr></thead><tbody>\n",
       "                <tr>\n",
       "                        <th id=\"T_64b7b360_037a_11ec_80d9_02cba411ec9dlevel0_row0\" class=\"row_heading level0 row0\" >0</th>\n",
       "                        <td id=\"T_64b7b360_037a_11ec_80d9_02cba411ec9drow0_col0\" class=\"data row0 col0\" >BTP0470930</td>\n",
       "                        <td id=\"T_64b7b360_037a_11ec_80d9_02cba411ec9drow0_col1\" class=\"data row0 col1\" >1,000,000,000</td>\n",
       "                        <td id=\"T_64b7b360_037a_11ec_80d9_02cba411ec9drow0_col2\" class=\"data row0 col2\" >2021-03-18</td>\n",
       "                        <td id=\"T_64b7b360_037a_11ec_80d9_02cba411ec9drow0_col3\" class=\"data row0 col3\" >3.2100%</td>\n",
       "                        <td id=\"T_64b7b360_037a_11ec_80d9_02cba411ec9drow0_col4\" class=\"data row0 col4\" >1,124,753,559</td>\n",
       "                        <td id=\"T_64b7b360_037a_11ec_80d9_02cba411ec9drow0_col5\" class=\"data row0 col5\" >1.0000%</td>\n",
       "                        <td id=\"T_64b7b360_037a_11ec_80d9_02cba411ec9drow0_col6\" class=\"data row0 col6\" >1,341,063,472</td>\n",
       "                        <td id=\"T_64b7b360_037a_11ec_80d9_02cba411ec9drow0_col7\" class=\"data row0 col7\" >131.1553%</td>\n",
       "                        <td id=\"T_64b7b360_037a_11ec_80d9_02cba411ec9drow0_col8\" class=\"data row0 col8\" >7.57</td>\n",
       "                        <td id=\"T_64b7b360_037a_11ec_80d9_02cba411ec9drow0_col9\" class=\"data row0 col9\" >70.43</td>\n",
       "            </tr>\n",
       "            <tr>\n",
       "                        <th id=\"T_64b7b360_037a_11ec_80d9_02cba411ec9dlevel0_row1\" class=\"row_heading level0 row1\" >1</th>\n",
       "                        <td id=\"T_64b7b360_037a_11ec_80d9_02cba411ec9drow1_col0\" class=\"data row1 col0\" >BTP0470930</td>\n",
       "                        <td id=\"T_64b7b360_037a_11ec_80d9_02cba411ec9drow1_col1\" class=\"data row1 col1\" >2,000,000,000</td>\n",
       "                        <td id=\"T_64b7b360_037a_11ec_80d9_02cba411ec9drow1_col2\" class=\"data row1 col2\" >2021-02-23</td>\n",
       "                        <td id=\"T_64b7b360_037a_11ec_80d9_02cba411ec9drow1_col3\" class=\"data row1 col3\" >2.9300%</td>\n",
       "                        <td id=\"T_64b7b360_037a_11ec_80d9_02cba411ec9drow1_col4\" class=\"data row1 col4\" >2,340,842,895</td>\n",
       "                        <td id=\"T_64b7b360_037a_11ec_80d9_02cba411ec9drow1_col5\" class=\"data row1 col5\" >1.0000%</td>\n",
       "                        <td id=\"T_64b7b360_037a_11ec_80d9_02cba411ec9drow1_col6\" class=\"data row1 col6\" >2,682,126,944</td>\n",
       "                        <td id=\"T_64b7b360_037a_11ec_80d9_02cba411ec9drow1_col7\" class=\"data row1 col7\" >131.1553%</td>\n",
       "                        <td id=\"T_64b7b360_037a_11ec_80d9_02cba411ec9drow1_col8\" class=\"data row1 col8\" >7.57</td>\n",
       "                        <td id=\"T_64b7b360_037a_11ec_80d9_02cba411ec9drow1_col9\" class=\"data row1 col9\" >70.43</td>\n",
       "            </tr>\n",
       "            <tr>\n",
       "                        <th id=\"T_64b7b360_037a_11ec_80d9_02cba411ec9dlevel0_row2\" class=\"row_heading level0 row2\" >2</th>\n",
       "                        <td id=\"T_64b7b360_037a_11ec_80d9_02cba411ec9drow2_col0\" class=\"data row2 col0\" >BTU0200335</td>\n",
       "                        <td id=\"T_64b7b360_037a_11ec_80d9_02cba411ec9drow2_col1\" class=\"data row2 col1\" >300,000</td>\n",
       "                        <td id=\"T_64b7b360_037a_11ec_80d9_02cba411ec9drow2_col2\" class=\"data row2 col2\" >2021-07-07</td>\n",
       "                        <td id=\"T_64b7b360_037a_11ec_80d9_02cba411ec9drow2_col3\" class=\"data row2 col3\" >2.2500%</td>\n",
       "                        <td id=\"T_64b7b360_037a_11ec_80d9_02cba411ec9drow2_col4\" class=\"data row2 col4\" >8,732,178,169</td>\n",
       "                        <td id=\"T_64b7b360_037a_11ec_80d9_02cba411ec9drow2_col5\" class=\"data row2 col5\" >1.9600%</td>\n",
       "                        <td id=\"T_64b7b360_037a_11ec_80d9_02cba411ec9drow2_col6\" class=\"data row2 col6\" >9,092,129,973</td>\n",
       "                        <td id=\"T_64b7b360_037a_11ec_80d9_02cba411ec9drow2_col7\" class=\"data row2 col7\" >100.5660%</td>\n",
       "                        <td id=\"T_64b7b360_037a_11ec_80d9_02cba411ec9drow2_col8\" class=\"data row2 col8\" >11.81</td>\n",
       "                        <td id=\"T_64b7b360_037a_11ec_80d9_02cba411ec9drow2_col9\" class=\"data row2 col9\" >158.26</td>\n",
       "            </tr>\n",
       "            <tr>\n",
       "                        <th id=\"T_64b7b360_037a_11ec_80d9_02cba411ec9dlevel0_row3\" class=\"row_heading level0 row3\" >3</th>\n",
       "                        <td id=\"T_64b7b360_037a_11ec_80d9_02cba411ec9drow3_col0\" class=\"data row3 col0\" >BBNS-W0414</td>\n",
       "                        <td id=\"T_64b7b360_037a_11ec_80d9_02cba411ec9drow3_col1\" class=\"data row3 col1\" >100,000</td>\n",
       "                        <td id=\"T_64b7b360_037a_11ec_80d9_02cba411ec9drow3_col2\" class=\"data row3 col2\" >2020-09-03</td>\n",
       "                        <td id=\"T_64b7b360_037a_11ec_80d9_02cba411ec9drow3_col3\" class=\"data row3 col3\" >-0.0900%</td>\n",
       "                        <td id=\"T_64b7b360_037a_11ec_80d9_02cba411ec9drow3_col4\" class=\"data row3 col4\" >3,657,255,336</td>\n",
       "                        <td id=\"T_64b7b360_037a_11ec_80d9_02cba411ec9drow3_col5\" class=\"data row3 col5\" >0.1600%</td>\n",
       "                        <td id=\"T_64b7b360_037a_11ec_80d9_02cba411ec9drow3_col6\" class=\"data row3 col6\" >3,240,708,001</td>\n",
       "                        <td id=\"T_64b7b360_037a_11ec_80d9_02cba411ec9drow3_col7\" class=\"data row3 col7\" >107.2975%</td>\n",
       "                        <td id=\"T_64b7b360_037a_11ec_80d9_02cba411ec9drow3_col8\" class=\"data row3 col8\" >2.50</td>\n",
       "                        <td id=\"T_64b7b360_037a_11ec_80d9_02cba411ec9drow3_col9\" class=\"data row3 col9\" >8.93</td>\n",
       "            </tr>\n",
       "            <tr>\n",
       "                        <th id=\"T_64b7b360_037a_11ec_80d9_02cba411ec9dlevel0_row4\" class=\"row_heading level0 row4\" >4</th>\n",
       "                        <td id=\"T_64b7b360_037a_11ec_80d9_02cba411ec9drow4_col0\" class=\"data row4 col0\" >BSTDW11218</td>\n",
       "                        <td id=\"T_64b7b360_037a_11ec_80d9_02cba411ec9drow4_col1\" class=\"data row4 col1\" >300,000</td>\n",
       "                        <td id=\"T_64b7b360_037a_11ec_80d9_02cba411ec9drow4_col2\" class=\"data row4 col2\" >2020-11-13</td>\n",
       "                        <td id=\"T_64b7b360_037a_11ec_80d9_02cba411ec9drow4_col3\" class=\"data row4 col3\" >-0.4500%</td>\n",
       "                        <td id=\"T_64b7b360_037a_11ec_80d9_02cba411ec9drow4_col4\" class=\"data row4 col4\" >9,533,881,736</td>\n",
       "                        <td id=\"T_64b7b360_037a_11ec_80d9_02cba411ec9drow4_col5\" class=\"data row4 col5\" >1.0000%</td>\n",
       "                        <td id=\"T_64b7b360_037a_11ec_80d9_02cba411ec9drow4_col6\" class=\"data row4 col6\" >9,169,181,971</td>\n",
       "                        <td id=\"T_64b7b360_037a_11ec_80d9_02cba411ec9drow4_col7\" class=\"data row4 col7\" >102.0312%</td>\n",
       "                        <td id=\"T_64b7b360_037a_11ec_80d9_02cba411ec9drow4_col8\" class=\"data row4 col8\" >3.67</td>\n",
       "                        <td id=\"T_64b7b360_037a_11ec_80d9_02cba411ec9drow4_col9\" class=\"data row4 col9\" >17.05</td>\n",
       "            </tr>\n",
       "            <tr>\n",
       "                        <th id=\"T_64b7b360_037a_11ec_80d9_02cba411ec9dlevel0_row5\" class=\"row_heading level0 row5\" >5</th>\n",
       "                        <td id=\"T_64b7b360_037a_11ec_80d9_02cba411ec9drow5_col0\" class=\"data row5 col0\" >BCCA-F0919</td>\n",
       "                        <td id=\"T_64b7b360_037a_11ec_80d9_02cba411ec9drow5_col1\" class=\"data row5 col1\" >1,000,000,000</td>\n",
       "                        <td id=\"T_64b7b360_037a_11ec_80d9_02cba411ec9drow5_col2\" class=\"data row5 col2\" >2021-03-24</td>\n",
       "                        <td id=\"T_64b7b360_037a_11ec_80d9_02cba411ec9drow5_col3\" class=\"data row5 col3\" >7.2100%</td>\n",
       "                        <td id=\"T_64b7b360_037a_11ec_80d9_02cba411ec9drow5_col4\" class=\"data row5 col4\" >1,013,970,102</td>\n",
       "                        <td id=\"T_64b7b360_037a_11ec_80d9_02cba411ec9drow5_col5\" class=\"data row5 col5\" >9.0000%</td>\n",
       "                        <td id=\"T_64b7b360_037a_11ec_80d9_02cba411ec9drow5_col6\" class=\"data row5 col6\" >957,895,644</td>\n",
       "                        <td id=\"T_64b7b360_037a_11ec_80d9_02cba411ec9drow5_col7\" class=\"data row5 col7\" >97.6063%</td>\n",
       "                        <td id=\"T_64b7b360_037a_11ec_80d9_02cba411ec9drow5_col8\" class=\"data row5 col8\" >2.28</td>\n",
       "                        <td id=\"T_64b7b360_037a_11ec_80d9_02cba411ec9drow5_col9\" class=\"data row5 col9\" >6.68</td>\n",
       "            </tr>\n",
       "    </tbody></table>"
      ],
      "text/plain": [
       "<pandas.io.formats.style.Styler at 0x7fba9e08d860>"
      ]
     },
     "execution_count": 30,
     "metadata": {},
     "output_type": "execute_result"
    }
   ],
   "source": [
    "df_portfolio.style.format({\n",
    "    'tir_compra': '{:.4%}',\n",
    "    'tir_mcdo': '{:.4%}',\n",
    "    'precio': '{:.4%}',\n",
    "    'monto': '{:,.0f}',\n",
    "    'monto_compra': '{:,.0f}',\n",
    "    'valor_pago': '{:,.0f}',\n",
    "    'duracion': '{:,.2f}',\n",
    "    'convexidad': '{:,.2f}',\n",
    "})"
   ]
  },
  {
   "cell_type": "markdown",
   "metadata": {},
   "source": [
    "El valor total del portfolio es:"
   ]
  },
  {
   "cell_type": "code",
   "execution_count": 31,
   "metadata": {
    "ExecuteTime": {
     "end_time": "2021-08-22T18:54:38.337858Z",
     "start_time": "2021-08-22T18:54:38.333049Z"
    }
   },
   "outputs": [
    {
     "name": "stdout",
     "output_type": "stream",
     "text": [
      "Valor total:  26,483,106,005\n"
     ]
    }
   ],
   "source": [
    "print(f\"Valor total: {df_portfolio['valor_pago'].sum(): ,.0f}\")"
   ]
  },
  {
   "cell_type": "markdown",
   "metadata": {},
   "source": [
    "### Definir Escenarios de Valorización"
   ]
  },
  {
   "cell_type": "markdown",
   "metadata": {},
   "source": [
    "Supongamos que queremos saber cuánto cambia el valor del portfolio si las tasas base suben N puntos básicos. Vamos a definir una función que dado un número puntos básicos y un escenario base de valorización construya el escenario deseado."
   ]
  },
  {
   "cell_type": "code",
   "execution_count": 32,
   "metadata": {
    "ExecuteTime": {
     "end_time": "2021-08-22T18:54:40.508298Z",
     "start_time": "2021-08-22T18:54:40.503096Z"
    }
   },
   "outputs": [],
   "source": [
    "def escenario_tasa_base(n, escenario_base):\n",
    "    return {\n",
    "        k: {\n",
    "        'tir_mcdo': escenario_base[k]['tir_mcdo'] + n / 10000.,\n",
    "        'base': escenario_base[k]['base'] + n / 10000.,\n",
    "        'spread': escenario_base[k]['spread']\n",
    "        } for k in escenario_base\n",
    "    }"
   ]
  },
  {
   "cell_type": "code",
   "execution_count": 33,
   "metadata": {
    "ExecuteTime": {
     "end_time": "2021-08-22T18:54:40.800543Z",
     "start_time": "2021-08-22T18:54:40.793982Z"
    }
   },
   "outputs": [
    {
     "data": {
      "text/plain": [
       "{'BTP0470930': {'tir_mcdo': 0.02, 'base': 0.0128, 'spread': 0.0072},\n",
       " 'BTU0200335': {'tir_mcdo': 0.0296, 'base': 0.0296, 'spread': 0.0},\n",
       " 'BBNS-W0414': {'tir_mcdo': 0.011600000000000001,\n",
       "  'base': 0.0054,\n",
       "  'spread': 0.0062},\n",
       " 'BSTDW11218': {'tir_mcdo': 0.02, 'base': 0.0128, 'spread': 0.0072},\n",
       " 'BCCA-F0919': {'tir_mcdo': 0.09999999999999999,\n",
       "  'base': 0.0426,\n",
       "  'spread': 0.0574}}"
      ]
     },
     "execution_count": 33,
     "metadata": {},
     "output_type": "execute_result"
    }
   ],
   "source": [
    "mkt_10pb_mas_base = escenario_tasa_base(100, mkt)\n",
    "mkt_10pb_mas_base"
   ]
  },
  {
   "cell_type": "markdown",
   "metadata": {
    "ExecuteTime": {
     "end_time": "2021-08-22T18:33:27.044276Z",
     "start_time": "2021-08-22T18:33:27.038303Z"
    }
   },
   "source": [
    "Podemos generar un informe de valorización con este escenario:"
   ]
  },
  {
   "cell_type": "code",
   "execution_count": 34,
   "metadata": {
    "ExecuteTime": {
     "end_time": "2021-08-22T18:54:44.140773Z",
     "start_time": "2021-08-22T18:54:42.677616Z"
    }
   },
   "outputs": [],
   "source": [
    "nuevo_valor = valor_portfolio(fecha_valor, mkt_10pb_mas_base, valorizador)\n",
    "df_portfolio_10pb_mas_base = genera_informe(\n",
    "    nuevo_valor,\n",
    "    portfolio,\n",
    "    mkt_10pb_mas_base\n",
    ")"
   ]
  },
  {
   "cell_type": "code",
   "execution_count": 35,
   "metadata": {
    "ExecuteTime": {
     "end_time": "2021-08-22T18:54:45.538665Z",
     "start_time": "2021-08-22T18:54:45.524042Z"
    }
   },
   "outputs": [
    {
     "data": {
      "text/html": [
       "<style  type=\"text/css\" >\n",
       "</style><table id=\"T_6adb5f30_037a_11ec_80d9_02cba411ec9d\" ><thead>    <tr>        <th class=\"blank level0\" ></th>        <th class=\"col_heading level0 col0\" >nemotecnico</th>        <th class=\"col_heading level0 col1\" >monto</th>        <th class=\"col_heading level0 col2\" >fecha_compra</th>        <th class=\"col_heading level0 col3\" >tir_compra</th>        <th class=\"col_heading level0 col4\" >monto_compra</th>        <th class=\"col_heading level0 col5\" >tir_mcdo</th>        <th class=\"col_heading level0 col6\" >valor_pago</th>        <th class=\"col_heading level0 col7\" >precio</th>        <th class=\"col_heading level0 col8\" >duracion</th>        <th class=\"col_heading level0 col9\" >convexidad</th>    </tr></thead><tbody>\n",
       "                <tr>\n",
       "                        <th id=\"T_6adb5f30_037a_11ec_80d9_02cba411ec9dlevel0_row0\" class=\"row_heading level0 row0\" >0</th>\n",
       "                        <td id=\"T_6adb5f30_037a_11ec_80d9_02cba411ec9drow0_col0\" class=\"data row0 col0\" >BTP0470930</td>\n",
       "                        <td id=\"T_6adb5f30_037a_11ec_80d9_02cba411ec9drow0_col1\" class=\"data row0 col1\" >1,000,000,000</td>\n",
       "                        <td id=\"T_6adb5f30_037a_11ec_80d9_02cba411ec9drow0_col2\" class=\"data row0 col2\" >2021-03-18</td>\n",
       "                        <td id=\"T_6adb5f30_037a_11ec_80d9_02cba411ec9drow0_col3\" class=\"data row0 col3\" >3.2100%</td>\n",
       "                        <td id=\"T_6adb5f30_037a_11ec_80d9_02cba411ec9drow0_col4\" class=\"data row0 col4\" >1,124,753,559</td>\n",
       "                        <td id=\"T_6adb5f30_037a_11ec_80d9_02cba411ec9drow0_col5\" class=\"data row0 col5\" >2.0000%</td>\n",
       "                        <td id=\"T_6adb5f30_037a_11ec_80d9_02cba411ec9drow0_col6\" class=\"data row0 col6\" >1,245,083,404</td>\n",
       "                        <td id=\"T_6adb5f30_037a_11ec_80d9_02cba411ec9drow0_col7\" class=\"data row0 col7\" >121.7685%</td>\n",
       "                        <td id=\"T_6adb5f30_037a_11ec_80d9_02cba411ec9drow0_col8\" class=\"data row0 col8\" >7.50</td>\n",
       "                        <td id=\"T_6adb5f30_037a_11ec_80d9_02cba411ec9drow0_col9\" class=\"data row0 col9\" >68.26</td>\n",
       "            </tr>\n",
       "            <tr>\n",
       "                        <th id=\"T_6adb5f30_037a_11ec_80d9_02cba411ec9dlevel0_row1\" class=\"row_heading level0 row1\" >1</th>\n",
       "                        <td id=\"T_6adb5f30_037a_11ec_80d9_02cba411ec9drow1_col0\" class=\"data row1 col0\" >BTP0470930</td>\n",
       "                        <td id=\"T_6adb5f30_037a_11ec_80d9_02cba411ec9drow1_col1\" class=\"data row1 col1\" >2,000,000,000</td>\n",
       "                        <td id=\"T_6adb5f30_037a_11ec_80d9_02cba411ec9drow1_col2\" class=\"data row1 col2\" >2021-02-23</td>\n",
       "                        <td id=\"T_6adb5f30_037a_11ec_80d9_02cba411ec9drow1_col3\" class=\"data row1 col3\" >2.9300%</td>\n",
       "                        <td id=\"T_6adb5f30_037a_11ec_80d9_02cba411ec9drow1_col4\" class=\"data row1 col4\" >2,340,842,895</td>\n",
       "                        <td id=\"T_6adb5f30_037a_11ec_80d9_02cba411ec9drow1_col5\" class=\"data row1 col5\" >2.0000%</td>\n",
       "                        <td id=\"T_6adb5f30_037a_11ec_80d9_02cba411ec9drow1_col6\" class=\"data row1 col6\" >2,490,166,809</td>\n",
       "                        <td id=\"T_6adb5f30_037a_11ec_80d9_02cba411ec9drow1_col7\" class=\"data row1 col7\" >121.7685%</td>\n",
       "                        <td id=\"T_6adb5f30_037a_11ec_80d9_02cba411ec9drow1_col8\" class=\"data row1 col8\" >7.50</td>\n",
       "                        <td id=\"T_6adb5f30_037a_11ec_80d9_02cba411ec9drow1_col9\" class=\"data row1 col9\" >68.26</td>\n",
       "            </tr>\n",
       "            <tr>\n",
       "                        <th id=\"T_6adb5f30_037a_11ec_80d9_02cba411ec9dlevel0_row2\" class=\"row_heading level0 row2\" >2</th>\n",
       "                        <td id=\"T_6adb5f30_037a_11ec_80d9_02cba411ec9drow2_col0\" class=\"data row2 col0\" >BTU0200335</td>\n",
       "                        <td id=\"T_6adb5f30_037a_11ec_80d9_02cba411ec9drow2_col1\" class=\"data row2 col1\" >300,000</td>\n",
       "                        <td id=\"T_6adb5f30_037a_11ec_80d9_02cba411ec9drow2_col2\" class=\"data row2 col2\" >2021-07-07</td>\n",
       "                        <td id=\"T_6adb5f30_037a_11ec_80d9_02cba411ec9drow2_col3\" class=\"data row2 col3\" >2.2500%</td>\n",
       "                        <td id=\"T_6adb5f30_037a_11ec_80d9_02cba411ec9drow2_col4\" class=\"data row2 col4\" >8,732,178,169</td>\n",
       "                        <td id=\"T_6adb5f30_037a_11ec_80d9_02cba411ec9drow2_col5\" class=\"data row2 col5\" >2.9600%</td>\n",
       "                        <td id=\"T_6adb5f30_037a_11ec_80d9_02cba411ec9drow2_col6\" class=\"data row2 col6\" >8,107,099,501</td>\n",
       "                        <td id=\"T_6adb5f30_037a_11ec_80d9_02cba411ec9drow2_col7\" class=\"data row2 col7\" >89.6708%</td>\n",
       "                        <td id=\"T_6adb5f30_037a_11ec_80d9_02cba411ec9drow2_col8\" class=\"data row2 col8\" >11.68</td>\n",
       "                        <td id=\"T_6adb5f30_037a_11ec_80d9_02cba411ec9drow2_col9\" class=\"data row2 col9\" >153.03</td>\n",
       "            </tr>\n",
       "            <tr>\n",
       "                        <th id=\"T_6adb5f30_037a_11ec_80d9_02cba411ec9dlevel0_row3\" class=\"row_heading level0 row3\" >3</th>\n",
       "                        <td id=\"T_6adb5f30_037a_11ec_80d9_02cba411ec9drow3_col0\" class=\"data row3 col0\" >BBNS-W0414</td>\n",
       "                        <td id=\"T_6adb5f30_037a_11ec_80d9_02cba411ec9drow3_col1\" class=\"data row3 col1\" >100,000</td>\n",
       "                        <td id=\"T_6adb5f30_037a_11ec_80d9_02cba411ec9drow3_col2\" class=\"data row3 col2\" >2020-09-03</td>\n",
       "                        <td id=\"T_6adb5f30_037a_11ec_80d9_02cba411ec9drow3_col3\" class=\"data row3 col3\" >-0.0900%</td>\n",
       "                        <td id=\"T_6adb5f30_037a_11ec_80d9_02cba411ec9drow3_col4\" class=\"data row3 col4\" >3,657,255,336</td>\n",
       "                        <td id=\"T_6adb5f30_037a_11ec_80d9_02cba411ec9drow3_col5\" class=\"data row3 col5\" >1.1600%</td>\n",
       "                        <td id=\"T_6adb5f30_037a_11ec_80d9_02cba411ec9drow3_col6\" class=\"data row3 col6\" >3,161,095,874</td>\n",
       "                        <td id=\"T_6adb5f30_037a_11ec_80d9_02cba411ec9drow3_col7\" class=\"data row3 col7\" >104.6616%</td>\n",
       "                        <td id=\"T_6adb5f30_037a_11ec_80d9_02cba411ec9drow3_col8\" class=\"data row3 col8\" >2.50</td>\n",
       "                        <td id=\"T_6adb5f30_037a_11ec_80d9_02cba411ec9drow3_col9\" class=\"data row3 col9\" >8.75</td>\n",
       "            </tr>\n",
       "            <tr>\n",
       "                        <th id=\"T_6adb5f30_037a_11ec_80d9_02cba411ec9dlevel0_row4\" class=\"row_heading level0 row4\" >4</th>\n",
       "                        <td id=\"T_6adb5f30_037a_11ec_80d9_02cba411ec9drow4_col0\" class=\"data row4 col0\" >BSTDW11218</td>\n",
       "                        <td id=\"T_6adb5f30_037a_11ec_80d9_02cba411ec9drow4_col1\" class=\"data row4 col1\" >300,000</td>\n",
       "                        <td id=\"T_6adb5f30_037a_11ec_80d9_02cba411ec9drow4_col2\" class=\"data row4 col2\" >2020-11-13</td>\n",
       "                        <td id=\"T_6adb5f30_037a_11ec_80d9_02cba411ec9drow4_col3\" class=\"data row4 col3\" >-0.4500%</td>\n",
       "                        <td id=\"T_6adb5f30_037a_11ec_80d9_02cba411ec9drow4_col4\" class=\"data row4 col4\" >9,533,881,736</td>\n",
       "                        <td id=\"T_6adb5f30_037a_11ec_80d9_02cba411ec9drow4_col5\" class=\"data row4 col5\" >2.0000%</td>\n",
       "                        <td id=\"T_6adb5f30_037a_11ec_80d9_02cba411ec9drow4_col6\" class=\"data row4 col6\" >8,843,622,774</td>\n",
       "                        <td id=\"T_6adb5f30_037a_11ec_80d9_02cba411ec9drow4_col7\" class=\"data row4 col7\" >98.4085%</td>\n",
       "                        <td id=\"T_6adb5f30_037a_11ec_80d9_02cba411ec9drow4_col8\" class=\"data row4 col8\" >3.67</td>\n",
       "                        <td id=\"T_6adb5f30_037a_11ec_80d9_02cba411ec9drow4_col9\" class=\"data row4 col9\" >16.71</td>\n",
       "            </tr>\n",
       "            <tr>\n",
       "                        <th id=\"T_6adb5f30_037a_11ec_80d9_02cba411ec9dlevel0_row5\" class=\"row_heading level0 row5\" >5</th>\n",
       "                        <td id=\"T_6adb5f30_037a_11ec_80d9_02cba411ec9drow5_col0\" class=\"data row5 col0\" >BCCA-F0919</td>\n",
       "                        <td id=\"T_6adb5f30_037a_11ec_80d9_02cba411ec9drow5_col1\" class=\"data row5 col1\" >1,000,000,000</td>\n",
       "                        <td id=\"T_6adb5f30_037a_11ec_80d9_02cba411ec9drow5_col2\" class=\"data row5 col2\" >2021-03-24</td>\n",
       "                        <td id=\"T_6adb5f30_037a_11ec_80d9_02cba411ec9drow5_col3\" class=\"data row5 col3\" >7.2100%</td>\n",
       "                        <td id=\"T_6adb5f30_037a_11ec_80d9_02cba411ec9drow5_col4\" class=\"data row5 col4\" >1,013,970,102</td>\n",
       "                        <td id=\"T_6adb5f30_037a_11ec_80d9_02cba411ec9drow5_col5\" class=\"data row5 col5\" >10.0000%</td>\n",
       "                        <td id=\"T_6adb5f30_037a_11ec_80d9_02cba411ec9drow5_col6\" class=\"data row5 col6\" >938,175,651</td>\n",
       "                        <td id=\"T_6adb5f30_037a_11ec_80d9_02cba411ec9drow5_col7\" class=\"data row5 col7\" >95.5969%</td>\n",
       "                        <td id=\"T_6adb5f30_037a_11ec_80d9_02cba411ec9drow5_col8\" class=\"data row5 col8\" >2.28</td>\n",
       "                        <td id=\"T_6adb5f30_037a_11ec_80d9_02cba411ec9drow5_col9\" class=\"data row5 col9\" >6.55</td>\n",
       "            </tr>\n",
       "    </tbody></table>"
      ],
      "text/plain": [
       "<pandas.io.formats.style.Styler at 0x7fba9e08d6a0>"
      ]
     },
     "execution_count": 35,
     "metadata": {},
     "output_type": "execute_result"
    }
   ],
   "source": [
    "df_portfolio_10pb_mas_base.style.format({\n",
    "    'tir_compra': '{:.4%}',\n",
    "    'tir_mcdo': '{:.4%}',\n",
    "    'precio': '{:.4%}',\n",
    "    'monto': '{:,.0f}',\n",
    "    'monto_compra': '{:,.0f}',\n",
    "    'valor_pago': '{:,.0f}',\n",
    "    'duracion': '{:,.2f}',\n",
    "    'convexidad': '{:,.2f}',\n",
    "})"
   ]
  },
  {
   "cell_type": "code",
   "execution_count": 36,
   "metadata": {
    "ExecuteTime": {
     "end_time": "2021-08-22T18:54:47.446042Z",
     "start_time": "2021-08-22T18:54:47.441811Z"
    }
   },
   "outputs": [
    {
     "name": "stdout",
     "output_type": "stream",
     "text": [
      "Valor total +10 pb en base:  24,785,244,013\n"
     ]
    }
   ],
   "source": [
    "print(f\"Valor total +10 pb en base: {df_portfolio_10pb_mas_base['valor_pago'].sum(): ,.0f}\")"
   ]
  }
 ],
 "metadata": {
  "hide_input": false,
  "kernelspec": {
   "display_name": "Python 3",
   "language": "python",
   "name": "python3"
  },
  "language_info": {
   "codemirror_mode": {
    "name": "ipython",
    "version": 3
   },
   "file_extension": ".py",
   "mimetype": "text/x-python",
   "name": "python",
   "nbconvert_exporter": "python",
   "pygments_lexer": "ipython3",
   "version": "3.7.3"
  },
  "toc": {
   "base_numbering": 1,
   "nav_menu": {},
   "number_sections": true,
   "sideBar": true,
   "skip_h1_title": true,
   "title_cell": "Table of Contents",
   "title_sidebar": "Contenido",
   "toc_cell": false,
   "toc_position": {
    "height": "calc(100% - 180px)",
    "left": "10px",
    "top": "150px",
    "width": "183px"
   },
   "toc_section_display": true,
   "toc_window_display": true
  }
 },
 "nbformat": 4,
 "nbformat_minor": 4
}
