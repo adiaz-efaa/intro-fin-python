{
 "cells": [
  {
   "cell_type": "markdown",
   "metadata": {},
   "source": [
    "# Fundamentos\n",
    "\n",
    "- `zip` de 2 variables `List`\n",
    "- Variables de tipo `Dict`\n",
    "-  `if ... elif ... else`\n",
    "- `bool`, `and` y `or`\n",
    "- la instrucción `while`"
   ]
  },
  {
   "cell_type": "markdown",
   "metadata": {},
   "source": [
    "Resolvamos el problema propuesto en la [Tarea](01-01_c_intro-python.ipynb)."
   ]
  },
  {
   "cell_type": "markdown",
   "metadata": {},
   "source": [
    "## `zip` de 2 `List`"
   ]
  },
  {
   "cell_type": "markdown",
   "metadata": {},
   "source": [
    "Consideremos las variables de tipo `List` donde están almacenados los flujos y los plazos de los flujos."
   ]
  },
  {
   "cell_type": "code",
   "execution_count": 1,
   "metadata": {
    "ExecuteTime": {
     "end_time": "2021-07-28T22:15:48.809847Z",
     "start_time": "2021-07-28T22:15:48.803718Z"
    }
   },
   "outputs": [],
   "source": [
    "flujos = [1, 1, 1, 1, 1, 1, 1, 1, 1, 101]"
   ]
  },
  {
   "cell_type": "code",
   "execution_count": 2,
   "metadata": {
    "ExecuteTime": {
     "end_time": "2021-07-28T22:16:01.535363Z",
     "start_time": "2021-07-28T22:16:01.530109Z"
    }
   },
   "outputs": [],
   "source": [
    "plazos = [182, 365, 547, 730, 912, 1095, 1277, 1460, 1642, 1825]"
   ]
  },
  {
   "cell_type": "markdown",
   "metadata": {},
   "source": [
    "Ahora, podemos *juntar* las `List` `notas` y `nombres` usando la función `zip`."
   ]
  },
  {
   "cell_type": "markdown",
   "metadata": {},
   "source": [
    "El `zip` de 2 `List` es `Iterable` y podemos, por lo tanto, recorrer sus elementos con una instrucción `for`."
   ]
  },
  {
   "cell_type": "code",
   "execution_count": 3,
   "metadata": {
    "ExecuteTime": {
     "end_time": "2021-07-28T22:16:42.407597Z",
     "start_time": "2021-07-28T22:16:42.400839Z"
    }
   },
   "outputs": [
    {
     "name": "stdout",
     "output_type": "stream",
     "text": [
      "(1, 182)\n",
      "(1, 365)\n",
      "(1, 547)\n",
      "(1, 730)\n",
      "(1, 912)\n",
      "(1, 1095)\n",
      "(1, 1277)\n",
      "(1, 1460)\n",
      "(1, 1642)\n",
      "(101, 1825)\n"
     ]
    }
   ],
   "source": [
    "for fp in zip(flujos, plazos):\n",
    "    print(fp)"
   ]
  },
  {
   "cell_type": "markdown",
   "metadata": {},
   "source": [
    "Notar que los resultados de cada `print` aparecen entre `(...)`. Esto indica que cada elemento del `zip` es una `Tuple`."
   ]
  },
  {
   "cell_type": "markdown",
   "metadata": {},
   "source": [
    "También se puede hacer de la siguiente forma:"
   ]
  },
  {
   "cell_type": "code",
   "execution_count": 4,
   "metadata": {
    "ExecuteTime": {
     "end_time": "2021-07-28T22:17:25.490885Z",
     "start_time": "2021-07-28T22:17:25.482086Z"
    }
   },
   "outputs": [
    {
     "name": "stdout",
     "output_type": "stream",
     "text": [
      "1 182\n",
      "1 365\n",
      "1 547\n",
      "1 730\n",
      "1 912\n",
      "1 1095\n",
      "1 1277\n",
      "1 1460\n",
      "1 1642\n",
      "101 1825\n"
     ]
    }
   ],
   "source": [
    "for f, p in zip(flujos, plazos):\n",
    "    print(f, p)"
   ]
  },
  {
   "cell_type": "markdown",
   "metadata": {},
   "source": [
    "De esta forma, en cada paso del `for`, el flujo y plazo correspondiente se almacenan separadamente (sin uasr una `Tuple`)."
   ]
  },
  {
   "cell_type": "markdown",
   "metadata": {},
   "source": [
    "<div class=\"alert alert-block alert-warning\">\n",
    "    <b>Ojo:</b> al hacer <mark background-color:\"grey\">zip</mark> de <mark>List</mark> tenemos que estar atentos al largo de las <mark>List</mark>. Si hacemos <mark>zip</mark> de 2 <mark>List</mark> de largo distinto, <mark>zip</mark> considerará el largo de la <mark>List</mark> más corta.\n",
    "</div>"
   ]
  },
  {
   "cell_type": "code",
   "execution_count": 5,
   "metadata": {
    "ExecuteTime": {
     "end_time": "2021-07-28T22:18:21.519282Z",
     "start_time": "2021-07-28T22:18:21.513046Z"
    }
   },
   "outputs": [
    {
     "name": "stdout",
     "output_type": "stream",
     "text": [
      "(1, 'a')\n",
      "(2, 'b')\n",
      "(3, 'c')\n"
     ]
    }
   ],
   "source": [
    "lista1 = [1, 2, 3]\n",
    "lista2 = ['a', 'b', 'c', 'd']\n",
    "for ll in zip(lista1, lista2):\n",
    "    print(ll)"
   ]
  },
  {
   "cell_type": "markdown",
   "metadata": {},
   "source": [
    "Gracias a la instrucción `zip` podemos calcular el valor presente de los flujos utilizando el `for`."
   ]
  },
  {
   "cell_type": "code",
   "execution_count": 10,
   "metadata": {
    "ExecuteTime": {
     "end_time": "2021-07-28T22:21:30.603329Z",
     "start_time": "2021-07-28T22:21:30.596871Z"
    }
   },
   "outputs": [
    {
     "name": "stdout",
     "output_type": "stream",
     "text": [
      "El valor presente es: 100.0470\n"
     ]
    }
   ],
   "source": [
    "vp = 0.0     # <--- en esta variable se almacenará el resultado del cálculo\n",
    "tasa = .02   # <--- este es el valor de la tasa de descuento\n",
    "for f, p in zip(flujos, plazos):\n",
    "    vp += f * (1 + tasa)**(-p / 365) # vp = vp + f * (1 + tasa)**(-p / 365)\n",
    "print(f'El valor presente es: {vp:,.4f}')"
   ]
  },
  {
   "cell_type": "markdown",
   "metadata": {},
   "source": [
    "En el `loop` anterior hay dos elementos nuevos:\n",
    "\n",
    "- La expresión `a += b` es equivalente a escribir `a = a + b` que, a su vez, quiere decir que el nuevo valor de la variable `a` es el actual valor de `a` más el valor de la variable `b`. En el caso anterior, el nuevo valor de `vp` es el valor actual de `vp` más el valor presente del flujo `f`. Podemos apreciar como `vp` es una variable en donde vamos sumando (acumulando) los valores presentes de cada flujo.\n",
    "- `**` representa elevar a una potencia, como ^ en Excel."
   ]
  },
  {
   "cell_type": "markdown",
   "metadata": {},
   "source": [
    "### Pregunta"
   ]
  },
  {
   "cell_type": "markdown",
   "metadata": {},
   "source": [
    "La tasa de cupón del bono es 2.00% y la tasa de descuento es 2.00% ¿Porqué no está perfectamente a la par (vp = 100)?"
   ]
  },
  {
   "cell_type": "markdown",
   "metadata": {},
   "source": [
    "## Variables de Tipo `Dict`"
   ]
  },
  {
   "cell_type": "markdown",
   "metadata": {},
   "source": [
    "En el ejemplo anterior tenemos los flujos de un único bono, sea éste `bono_1`. ¿Cómo podemos almacenar flujos de distintos bonos y posteriormente identificarlos con facilidad? Por ejemplo, lo más usual sería usar como identificador el nemotécnico del bono. Para eso sirven las variables de tipo `Dict`."
   ]
  },
  {
   "cell_type": "code",
   "execution_count": 11,
   "metadata": {
    "ExecuteTime": {
     "end_time": "2021-07-28T22:25:49.017329Z",
     "start_time": "2021-07-28T22:25:49.012963Z"
    }
   },
   "outputs": [],
   "source": [
    "nombre_edad = {\n",
    "    'alvaro': 52,\n",
    "    'thomas': 26,\n",
    "    'daniel': 36\n",
    "}"
   ]
  },
  {
   "cell_type": "code",
   "execution_count": 12,
   "metadata": {
    "ExecuteTime": {
     "end_time": "2021-07-28T22:27:24.988108Z",
     "start_time": "2021-07-28T22:27:24.982884Z"
    }
   },
   "outputs": [],
   "source": [
    "nombre_edad_peso = {\n",
    "    'alvaro': [52, 94],\n",
    "    'thomas': [26, 80]\n",
    "}"
   ]
  },
  {
   "cell_type": "code",
   "execution_count": 13,
   "metadata": {
    "ExecuteTime": {
     "end_time": "2021-07-28T22:27:44.026388Z",
     "start_time": "2021-07-28T22:27:44.018842Z"
    }
   },
   "outputs": [],
   "source": [
    "dict_bonos = {\n",
    "    \"bono_1\": [\n",
    "        [1, 1, 1, 1, 1, 1, 1, 1, 1, 101],\n",
    "        [182, 365, 547, 730, 912, 1095, 1277, 1460, 1642, 1825]\n",
    "    ],\n",
    "    \"bono_2\": [\n",
    "        [2, 2, 2, 2, 2, 2, 2, 2, 2, 102],\n",
    "        [182, 365, 547, 730, 912, 1095, 1277, 1460, 1642, 1825]\n",
    "    ]\n",
    "}"
   ]
  },
  {
   "cell_type": "markdown",
   "metadata": {},
   "source": [
    "Un dict va entre `{}` y cada elemento del `Dict` tiene la forma `<identificador>: <valor>`. En este caso, el identificador de cada elemento es el nemotécnico del bono (variable de tipo `str`) y el valor de cada elemento es una `List` que, a su vez, contiene una `List` con los flujos y una `List` con los plazos de los bonos."
   ]
  },
  {
   "cell_type": "markdown",
   "metadata": {},
   "source": [
    "### Cómo se Usa un `Dict`"
   ]
  },
  {
   "cell_type": "code",
   "execution_count": 15,
   "metadata": {
    "ExecuteTime": {
     "end_time": "2021-07-28T22:28:55.176707Z",
     "start_time": "2021-07-28T22:28:55.172732Z"
    }
   },
   "outputs": [
    {
     "data": {
      "text/plain": [
       "52"
      ]
     },
     "execution_count": 15,
     "metadata": {},
     "output_type": "execute_result"
    }
   ],
   "source": [
    "nombre_edad['alvaro']"
   ]
  },
  {
   "cell_type": "code",
   "execution_count": 14,
   "metadata": {
    "ExecuteTime": {
     "end_time": "2021-07-28T22:28:39.090498Z",
     "start_time": "2021-07-28T22:28:39.076870Z"
    }
   },
   "outputs": [
    {
     "data": {
      "text/plain": [
       "[[1, 1, 1, 1, 1, 1, 1, 1, 1, 101],\n",
       " [182, 365, 547, 730, 912, 1095, 1277, 1460, 1642, 1825]]"
      ]
     },
     "execution_count": 14,
     "metadata": {},
     "output_type": "execute_result"
    }
   ],
   "source": [
    "dict_bonos['bono_1'] # los flujos y plazos del bono_1"
   ]
  },
  {
   "cell_type": "markdown",
   "metadata": {},
   "source": [
    "Si queremos sólo los flujos del `bono_1`:"
   ]
  },
  {
   "cell_type": "code",
   "execution_count": 20,
   "metadata": {
    "ExecuteTime": {
     "end_time": "2021-07-28T22:30:53.039988Z",
     "start_time": "2021-07-28T22:30:53.031544Z"
    }
   },
   "outputs": [
    {
     "data": {
      "text/plain": [
       "[1, 1, 1, 1, 1, 1, 1, 1, 1, 101]"
      ]
     },
     "execution_count": 20,
     "metadata": {},
     "output_type": "execute_result"
    }
   ],
   "source": [
    "dict_bonos['bono_1'][0]"
   ]
  },
  {
   "cell_type": "markdown",
   "metadata": {},
   "source": [
    "Los datos del `bono_2`."
   ]
  },
  {
   "cell_type": "code",
   "execution_count": 12,
   "metadata": {
    "ExecuteTime": {
     "end_time": "2021-07-25T17:21:36.654331Z",
     "start_time": "2021-07-25T17:21:36.647428Z"
    }
   },
   "outputs": [
    {
     "data": {
      "text/plain": [
       "[[2, 2, 2, 2, 2, 2, 2, 2, 2, 102],\n",
       " [182, 365, 547, 730, 912, 1095, 1277, 1460, 1642, 1825]]"
      ]
     },
     "execution_count": 12,
     "metadata": {},
     "output_type": "execute_result"
    }
   ],
   "source": [
    "dict_bonos['bono_2'] # las notas de Física"
   ]
  },
  {
   "cell_type": "markdown",
   "metadata": {},
   "source": [
    "Sólo los plazos del `bono_2`."
   ]
  },
  {
   "cell_type": "code",
   "execution_count": 13,
   "metadata": {
    "ExecuteTime": {
     "end_time": "2021-07-25T17:21:36.665030Z",
     "start_time": "2021-07-25T17:21:36.658212Z"
    }
   },
   "outputs": [
    {
     "data": {
      "text/plain": [
       "[182, 365, 547, 730, 912, 1095, 1277, 1460, 1642, 1825]"
      ]
     },
     "execution_count": 13,
     "metadata": {},
     "output_type": "execute_result"
    }
   ],
   "source": [
    "dict_bonos['bono_2'][1]"
   ]
  },
  {
   "cell_type": "markdown",
   "metadata": {},
   "source": [
    "Un `Dict`es una estructura de datos mutable. Si aparece un nuevo bono, podemos agregarlo, por ejemplo:"
   ]
  },
  {
   "cell_type": "code",
   "execution_count": 21,
   "metadata": {
    "ExecuteTime": {
     "end_time": "2021-07-28T22:33:10.631468Z",
     "start_time": "2021-07-28T22:33:10.622649Z"
    }
   },
   "outputs": [],
   "source": [
    "dict_bonos['bono_3'] = [\n",
    "    [3, 3, 3, 3, 3, 3, 3, 3, 3, 103],\n",
    "    [182, 365, 547, 730, 912, 1095, 1277, 1460, 1642, 1825]\n",
    "]"
   ]
  },
  {
   "cell_type": "code",
   "execution_count": 22,
   "metadata": {
    "ExecuteTime": {
     "end_time": "2021-07-28T22:33:15.494017Z",
     "start_time": "2021-07-28T22:33:15.481832Z"
    }
   },
   "outputs": [
    {
     "data": {
      "text/plain": [
       "{'bono_1': [[1, 1, 1, 1, 1, 1, 1, 1, 1, 101],\n",
       "  [182, 365, 547, 730, 912, 1095, 1277, 1460, 1642, 1825]],\n",
       " 'bono_2': [[2, 2, 2, 2, 2, 2, 2, 2, 2, 102],\n",
       "  [182, 365, 547, 730, 912, 1095, 1277, 1460, 1642, 1825]],\n",
       " 'bono_3': [[3, 3, 3, 3, 3, 3, 3, 3, 3, 103],\n",
       "  [182, 365, 547, 730, 912, 1095, 1277, 1460, 1642, 1825]]}"
      ]
     },
     "execution_count": 22,
     "metadata": {},
     "output_type": "execute_result"
    }
   ],
   "source": [
    "dict_bonos"
   ]
  },
  {
   "cell_type": "code",
   "execution_count": 23,
   "metadata": {
    "ExecuteTime": {
     "end_time": "2021-07-28T22:34:59.172486Z",
     "start_time": "2021-07-28T22:34:59.169011Z"
    }
   },
   "outputs": [],
   "source": [
    "dict_bonos['bono_3'][0][9] = 104"
   ]
  },
  {
   "cell_type": "code",
   "execution_count": 24,
   "metadata": {
    "ExecuteTime": {
     "end_time": "2021-07-28T22:35:12.263324Z",
     "start_time": "2021-07-28T22:35:12.255917Z"
    }
   },
   "outputs": [
    {
     "data": {
      "text/plain": [
       "{'bono_1': [[1, 1, 1, 1, 1, 1, 1, 1, 1, 101],\n",
       "  [182, 365, 547, 730, 912, 1095, 1277, 1460, 1642, 1825]],\n",
       " 'bono_2': [[2, 2, 2, 2, 2, 2, 2, 2, 2, 102],\n",
       "  [182, 365, 547, 730, 912, 1095, 1277, 1460, 1642, 1825]],\n",
       " 'bono_3': [[3, 3, 3, 3, 3, 3, 3, 3, 3, 104],\n",
       "  [182, 365, 547, 730, 912, 1095, 1277, 1460, 1642, 1825]]}"
      ]
     },
     "execution_count": 24,
     "metadata": {},
     "output_type": "execute_result"
    }
   ],
   "source": [
    "dict_bonos"
   ]
  },
  {
   "cell_type": "markdown",
   "metadata": {},
   "source": [
    "Un `Dict` también es `Iterable`, veamos que pasa cuando lo usamos en un `for loop`."
   ]
  },
  {
   "cell_type": "code",
   "execution_count": 25,
   "metadata": {
    "ExecuteTime": {
     "end_time": "2021-07-28T22:37:46.558418Z",
     "start_time": "2021-07-28T22:37:46.553041Z"
    }
   },
   "outputs": [
    {
     "name": "stdout",
     "output_type": "stream",
     "text": [
      "bono_1\n",
      "bono_2\n",
      "bono_3\n"
     ]
    }
   ],
   "source": [
    "for x in dict_bonos:\n",
    "    print(x)"
   ]
  },
  {
   "cell_type": "code",
   "execution_count": 26,
   "metadata": {
    "ExecuteTime": {
     "end_time": "2021-07-28T22:38:14.794126Z",
     "start_time": "2021-07-28T22:38:14.789567Z"
    }
   },
   "outputs": [
    {
     "name": "stdout",
     "output_type": "stream",
     "text": [
      "[[1, 1, 1, 1, 1, 1, 1, 1, 1, 101], [182, 365, 547, 730, 912, 1095, 1277, 1460, 1642, 1825]]\n",
      "[[2, 2, 2, 2, 2, 2, 2, 2, 2, 102], [182, 365, 547, 730, 912, 1095, 1277, 1460, 1642, 1825]]\n",
      "[[3, 3, 3, 3, 3, 3, 3, 3, 3, 104], [182, 365, 547, 730, 912, 1095, 1277, 1460, 1642, 1825]]\n"
     ]
    }
   ],
   "source": [
    "for x in dict_bonos:\n",
    "    print(dict_bonos[x])"
   ]
  },
  {
   "cell_type": "markdown",
   "metadata": {},
   "source": [
    "Vemos que `x` es el valor de los identificadores del `Dict`, en este caso, los nemotécnicos de los bonos."
   ]
  },
  {
   "cell_type": "markdown",
   "metadata": {},
   "source": [
    "Para obtener los valores del `Dict` usamos lo siguiente:"
   ]
  },
  {
   "cell_type": "code",
   "execution_count": 17,
   "metadata": {
    "ExecuteTime": {
     "end_time": "2021-07-25T17:21:36.703543Z",
     "start_time": "2021-07-25T17:21:36.697914Z"
    }
   },
   "outputs": [
    {
     "name": "stdout",
     "output_type": "stream",
     "text": [
      "[[1, 1, 1, 1, 1, 1, 1, 1, 1, 101], [182, 365, 547, 730, 912, 1095, 1277, 1460, 1642, 1825]]\n",
      "[[2, 2, 2, 2, 2, 2, 2, 2, 2, 102], [182, 365, 547, 730, 912, 1095, 1277, 1460, 1642, 1825]]\n",
      "[[3, 3, 3, 3, 3, 3, 3, 3, 3, 103], [182, 365, 547, 730, 912, 1095, 1277, 1460, 1642, 1825]]\n"
     ]
    }
   ],
   "source": [
    "for x in dict_bonos.values():\n",
    "    print(x)"
   ]
  },
  {
   "cell_type": "markdown",
   "metadata": {},
   "source": [
    "Para obtener los identificadores (`keys`) y valores (`values`) usamos lo siguiente:"
   ]
  },
  {
   "cell_type": "code",
   "execution_count": 18,
   "metadata": {
    "ExecuteTime": {
     "end_time": "2021-07-25T17:21:36.713314Z",
     "start_time": "2021-07-25T17:21:36.707594Z"
    }
   },
   "outputs": [
    {
     "name": "stdout",
     "output_type": "stream",
     "text": [
      "('bono_1', [[1, 1, 1, 1, 1, 1, 1, 1, 1, 101], [182, 365, 547, 730, 912, 1095, 1277, 1460, 1642, 1825]])\n",
      "('bono_2', [[2, 2, 2, 2, 2, 2, 2, 2, 2, 102], [182, 365, 547, 730, 912, 1095, 1277, 1460, 1642, 1825]])\n",
      "('bono_3', [[3, 3, 3, 3, 3, 3, 3, 3, 3, 103], [182, 365, 547, 730, 912, 1095, 1277, 1460, 1642, 1825]])\n"
     ]
    }
   ],
   "source": [
    "for x in dict_bonos.items():\n",
    "    print(x)"
   ]
  },
  {
   "cell_type": "code",
   "execution_count": 27,
   "metadata": {
    "ExecuteTime": {
     "end_time": "2021-07-28T22:39:34.216159Z",
     "start_time": "2021-07-28T22:39:34.209314Z"
    }
   },
   "outputs": [
    {
     "name": "stdout",
     "output_type": "stream",
     "text": [
      "bono_1 [[1, 1, 1, 1, 1, 1, 1, 1, 1, 101], [182, 365, 547, 730, 912, 1095, 1277, 1460, 1642, 1825]]\n",
      "bono_2 [[2, 2, 2, 2, 2, 2, 2, 2, 2, 102], [182, 365, 547, 730, 912, 1095, 1277, 1460, 1642, 1825]]\n",
      "bono_3 [[3, 3, 3, 3, 3, 3, 3, 3, 3, 104], [182, 365, 547, 730, 912, 1095, 1277, 1460, 1642, 1825]]\n"
     ]
    }
   ],
   "source": [
    "for k, v in dict_bonos.items():\n",
    "    print(k, v)"
   ]
  },
  {
   "cell_type": "markdown",
   "metadata": {},
   "source": [
    "O también:"
   ]
  },
  {
   "cell_type": "code",
   "execution_count": 30,
   "metadata": {
    "ExecuteTime": {
     "end_time": "2021-07-28T22:43:11.719316Z",
     "start_time": "2021-07-28T22:43:11.713264Z"
    }
   },
   "outputs": [
    {
     "name": "stdout",
     "output_type": "stream",
     "text": [
      "nemotécnico: bono_1,\n",
      "flujos: [1, 1, 1, 1, 1, 1, 1, 1, 1, 101]\n",
      "plazos: [182, 365, 547, 730, 912, 1095, 1277, 1460, 1642, 1825]\n",
      "\n",
      "nemotécnico: bono_2,\n",
      "flujos: [2, 2, 2, 2, 2, 2, 2, 2, 2, 102]\n",
      "plazos: [182, 365, 547, 730, 912, 1095, 1277, 1460, 1642, 1825]\n",
      "\n",
      "nemotécnico: bono_3,\n",
      "flujos: [3, 3, 3, 3, 3, 3, 3, 3, 3, 104]\n",
      "plazos: [182, 365, 547, 730, 912, 1095, 1277, 1460, 1642, 1825]\n",
      "\n"
     ]
    }
   ],
   "source": [
    "for k, v in dict_bonos.items():\n",
    "    print(f'nemotécnico: {k},\\nflujos: {v[0]}\\nplazos: {v[1]}\\n') # <--- \\n significa que lo que sigue empieza\n",
    "                                                                  # en una nueva línea. Es como apretar Enter."
   ]
  },
  {
   "cell_type": "markdown",
   "metadata": {},
   "source": [
    "### Ejercicio"
   ]
  },
  {
   "cell_type": "markdown",
   "metadata": {},
   "source": [
    "Escribir una función que tenga como argumento una variable como `dict_bonos` y una tasa de descuento y devuelva un `Dict` donde el identicador es el nemotécnico del bono y el valor es el valor presente del bono."
   ]
  },
  {
   "cell_type": "markdown",
   "metadata": {},
   "source": [
    "Primero vamos a definir una función que calcula el valor presente de sólo 1 bono. Aprovechamos de introducir la `docstring` de una función."
   ]
  },
  {
   "cell_type": "code",
   "execution_count": 31,
   "metadata": {
    "ExecuteTime": {
     "end_time": "2021-07-28T22:47:48.463601Z",
     "start_time": "2021-07-28T22:47:48.456315Z"
    }
   },
   "outputs": [],
   "source": [
    "def vp_bono(flujos, plazos, tasa):\n",
    "    \"\"\"\n",
    "    Calcula el valor presente de un bono dada una tasa de descuento.\n",
    "    \n",
    "    Parameters\n",
    "    ----------\n",
    "    \n",
    "    flujos: List[float]\n",
    "            Contiene los flujos del bono.\n",
    "            \n",
    "    plazos: List[float]\n",
    "            Contiene los plazos residuales de los flujos expresados en días.\n",
    "    \n",
    "    tasa: float\n",
    "          Tasa de descuento del bono. Debe ser en convención Com Act/365.\n",
    "          \n",
    "    Returns\n",
    "    -------\n",
    "    \n",
    "    float\n",
    "         El valor presente del bono.\n",
    "    \"\"\"\n",
    "    result = 0.0\n",
    "    for f, p in zip(flujos, plazos):\n",
    "        result += f * (1 + tasa)**(-p / 365.0)\n",
    "    return result"
   ]
  },
  {
   "cell_type": "markdown",
   "metadata": {},
   "source": [
    "El `docstring` de la función anterior está en formato `numpy`. Hay un par más ([ver](https://www.datacamp.com/community/tutorials/docstrings-python)) y se tiene libertad para escoger el que más te gusta. Es importante, eso sí, que una vez que se ha escogido un estilo, mantener consistencia en su uso.\n",
    "\n",
    "El uso del `docstring` me permite investigar una función antes de usarla. Esto es muy útil para funciones de paquetes y librerías externas e incluso para nuestras propias funciones."
   ]
  },
  {
   "cell_type": "code",
   "execution_count": 32,
   "metadata": {
    "ExecuteTime": {
     "end_time": "2021-07-28T22:48:03.432041Z",
     "start_time": "2021-07-28T22:48:03.423452Z"
    },
    "scrolled": true
   },
   "outputs": [
    {
     "name": "stdout",
     "output_type": "stream",
     "text": [
      "\n",
      "    Calcula el valor presente de un bono dada una tasa de descuento.\n",
      "    \n",
      "    Parameters\n",
      "    ----------\n",
      "    \n",
      "    flujos: List[float]\n",
      "            Contiene los flujos del bono.\n",
      "            \n",
      "    plazos: List[float]\n",
      "            Contiene los plazos residuales de los flujos expresados en días.\n",
      "    \n",
      "    tasa: float\n",
      "          Tasa de descuento del bono. Debe ser en convención Com Act/365.\n",
      "          \n",
      "    Returns\n",
      "    -------\n",
      "    \n",
      "    float\n",
      "         El valor presente del bono.\n",
      "    \n"
     ]
    }
   ],
   "source": [
    "print(vp_bono.__doc__)"
   ]
  },
  {
   "cell_type": "markdown",
   "metadata": {},
   "source": [
    "Probemos la función usando las variables definidas al inicio de este notebook."
   ]
  },
  {
   "cell_type": "code",
   "execution_count": 33,
   "metadata": {
    "ExecuteTime": {
     "end_time": "2021-07-28T22:53:35.646912Z",
     "start_time": "2021-07-28T22:53:35.641152Z"
    }
   },
   "outputs": [
    {
     "name": "stdout",
     "output_type": "stream",
     "text": [
      "Valor presente: 100.0470\n"
     ]
    }
   ],
   "source": [
    "vp = vp_bono(flujos, plazos, tasa)\n",
    "print(f'Valor presente: {vp:,.04f}')"
   ]
  },
  {
   "cell_type": "markdown",
   "metadata": {},
   "source": [
    "Ahora, con esta función, podemos definir una función que valorice muchos bonos."
   ]
  },
  {
   "cell_type": "code",
   "execution_count": 37,
   "metadata": {
    "ExecuteTime": {
     "end_time": "2021-07-28T23:04:50.442234Z",
     "start_time": "2021-07-28T23:04:50.433856Z"
    }
   },
   "outputs": [],
   "source": [
    "def vp_bonos(bonos, tasa):\n",
    "    \"\"\"\n",
    "    Calcula el valor presente de un conjunto de bonos con una tasa de descuento dada.\n",
    "      \n",
    "    Parameters\n",
    "    ----------\n",
    "    \n",
    "    bonos: Dict[str, List[List[float], List[float]]]\n",
    "          Las `keys` del `Dict` son los nemotécnicos del bono o cualquier otro identificador único, como el CUSIP.\n",
    "          Los `values` son una `List` que, a su vez, contiene dos `List`, una con los flujos del bono en el índice\n",
    "          0 y otra con los plazos residuales de los flujos en días en el índice 1.\n",
    "          \n",
    "    tasa: float\n",
    "          Tasa de descuento, debe estar en convención Com Act/365.\n",
    "          \n",
    "    Returns\n",
    "    -------\n",
    "    \n",
    "    Dict[str, float]\n",
    "        Los `keys` son los mismos del parámetro `bono` y los `values` son los valores presente de los bonos.\n",
    "    \"\"\"\n",
    "    result = {} # Dict vacío\n",
    "    for k, v in bonos.items():\n",
    "        result[k] = vp_bono(v[0], v[1], tasa)\n",
    "    return result"
   ]
  },
  {
   "cell_type": "markdown",
   "metadata": {},
   "source": [
    "Probemos con el `Dict` `dict_bonos` y la variable `tasa` definida al prinicpio del notebook."
   ]
  },
  {
   "cell_type": "code",
   "execution_count": 40,
   "metadata": {
    "ExecuteTime": {
     "end_time": "2021-07-28T23:05:53.611169Z",
     "start_time": "2021-07-28T23:05:53.606438Z"
    }
   },
   "outputs": [],
   "source": [
    "vps = vp_bonos(dict_bonos, tasa)"
   ]
  },
  {
   "cell_type": "code",
   "execution_count": 41,
   "metadata": {
    "ExecuteTime": {
     "end_time": "2021-07-28T23:05:54.219881Z",
     "start_time": "2021-07-28T23:05:54.214556Z"
    }
   },
   "outputs": [
    {
     "name": "stdout",
     "output_type": "stream",
     "text": [
      "El valor presente de bono_1 es: 100.0470\n",
      "El valor presente de bono_2 es: 109.5210\n",
      "El valor presente de bono_3 es: 119.9007\n"
     ]
    }
   ],
   "source": [
    "for k, v in vps.items():\n",
    "    print(f'El valor presente de {k} es: {v:,.04f}')"
   ]
  },
  {
   "cell_type": "markdown",
   "metadata": {},
   "source": [
    "### Tarea"
   ]
  },
  {
   "cell_type": "markdown",
   "metadata": {},
   "source": [
    "Hacer todos los cambios que estimen necesarios para poder valorizar `dict_bonos` usando una tasa de descuento distinta para cada bono."
   ]
  },
  {
   "cell_type": "markdown",
   "metadata": {},
   "source": [
    "## La Instrucción `if ... elif ... else`"
   ]
  },
  {
   "cell_type": "markdown",
   "metadata": {},
   "source": [
    "Muchas veces, la función que estamos programando requiere hacer una distinción, o tomar un decisión en función de una o más variables. Veamos un ejemplo muy sencillo. La función\n",
    "\n",
    "$$abs: \\mathbb{R} \\rightarrow \\mathbb{R}^+$$\n",
    "\n",
    "se define de la siguiente forma $abs(x)=x$ si $x\\geq0$ y $abs(x)=-x$ si $x<0$. Para programar esta función, necesitamos una forma de distinguir si si $x$ es positivo (o cero) o negativo."
   ]
  },
  {
   "cell_type": "markdown",
   "metadata": {},
   "source": [
    "### La instrucción `if ... else`"
   ]
  },
  {
   "cell_type": "markdown",
   "metadata": {},
   "source": [
    "Veamos como hacerlo, poner mucha atención en la indentación que viene debajo de los `if` y `else`."
   ]
  },
  {
   "cell_type": "code",
   "execution_count": 43,
   "metadata": {
    "ExecuteTime": {
     "end_time": "2021-07-28T23:09:27.284124Z",
     "start_time": "2021-07-28T23:09:27.265360Z"
    }
   },
   "outputs": [],
   "source": [
    "def abs(x):\n",
    "    if x < 0:\n",
    "        return -x\n",
    "    else:\n",
    "        return x"
   ]
  },
  {
   "cell_type": "markdown",
   "metadata": {},
   "source": [
    "Probemos ..."
   ]
  },
  {
   "cell_type": "code",
   "execution_count": 44,
   "metadata": {
    "ExecuteTime": {
     "end_time": "2021-07-28T23:12:29.959891Z",
     "start_time": "2021-07-28T23:12:29.954134Z"
    }
   },
   "outputs": [
    {
     "name": "stdout",
     "output_type": "stream",
     "text": [
      "El valor absoluto de 2 es: 2\n",
      "El valor absoluto de -2 es: 2\n"
     ]
    }
   ],
   "source": [
    "print(f\"El valor absoluto de {2} es: {abs(2)}\")\n",
    "print(f\"El valor absoluto de {-2} es: {abs(-2)}\")"
   ]
  },
  {
   "cell_type": "markdown",
   "metadata": {},
   "source": [
    "¡Bien! El resultado es el esperado. Existe también una forma breve de escribir esta instrucción. Esta forma breve se puede utilizar en casos sencillos como el anterior."
   ]
  },
  {
   "cell_type": "code",
   "execution_count": 45,
   "metadata": {
    "ExecuteTime": {
     "end_time": "2021-07-28T23:12:52.443228Z",
     "start_time": "2021-07-28T23:12:52.438905Z"
    }
   },
   "outputs": [],
   "source": [
    "def abs2(x):\n",
    "    return x if x >= 0 else -x"
   ]
  },
  {
   "cell_type": "markdown",
   "metadata": {},
   "source": [
    "Probemos esta también ... (para recordar, aquí usamos `print` con `format`)"
   ]
  },
  {
   "cell_type": "code",
   "execution_count": 46,
   "metadata": {
    "ExecuteTime": {
     "end_time": "2021-07-28T23:12:59.244938Z",
     "start_time": "2021-07-28T23:12:59.239230Z"
    }
   },
   "outputs": [
    {
     "name": "stdout",
     "output_type": "stream",
     "text": [
      "El valor absoluto de 2 es: 2\n",
      "El valor absoluto de -2 es: 2\n"
     ]
    }
   ],
   "source": [
    "print(\"El valor absoluto de {} es: {}\".format(2, abs2(2)))\n",
    "print(\"El valor absoluto de {} es: {}\".format(-2, abs2(-2)))"
   ]
  },
  {
   "cell_type": "markdown",
   "metadata": {},
   "source": [
    "## La instrucción `if ... elif ... else`"
   ]
  },
  {
   "cell_type": "markdown",
   "metadata": {},
   "source": [
    "En ocasiones, debemos distinguir entre más de dos alternativas. Por ejemplo, supongamos que queremos clasificar los bonos de una cartera en las categorías 'SUBPAR' si el bono se transa por debajo de 98, 'PAR' si el bono se transa entre 98 y 102 y 'SOBREPAR' si el bono se transa por sobre 102.\n",
    "\n",
    "Definimos una función que acepta un número que representa el precio del bono y retorna un `str` con la categoría del bono. Este ejemplo nos permite introducir, además, el operador lógico `and`, con el cual se puede verificar si 2 condiciones son verdaderas al mismo tiempo."
   ]
  },
  {
   "cell_type": "code",
   "execution_count": 47,
   "metadata": {
    "ExecuteTime": {
     "end_time": "2021-07-28T23:15:13.886685Z",
     "start_time": "2021-07-28T23:15:13.881460Z"
    }
   },
   "outputs": [],
   "source": [
    "def categoria(precio):\n",
    "    if precio < 98:\n",
    "        return \"SUBPAR\"\n",
    "    elif precio >= 98 and precio < 102: # <--- Notar el conector lógico and. Más detalle en lo que sigue.\n",
    "        return \"PAR\"\n",
    "    else:\n",
    "        return \"SOBREPAR\""
   ]
  },
  {
   "cell_type": "markdown",
   "metadata": {},
   "source": [
    "Probemos ..."
   ]
  },
  {
   "cell_type": "code",
   "execution_count": 48,
   "metadata": {
    "ExecuteTime": {
     "end_time": "2021-07-28T23:15:30.096538Z",
     "start_time": "2021-07-28T23:15:30.089810Z"
    }
   },
   "outputs": [
    {
     "name": "stdout",
     "output_type": "stream",
     "text": [
      "El bono de precio 96.00 está en la categoría: SUBPAR\n",
      "El bono de precio 97.00 está en la categoría: SUBPAR\n",
      "El bono de precio 98.00 está en la categoría: PAR\n",
      "El bono de precio 99.00 está en la categoría: PAR\n",
      "El bono de precio 100.00 está en la categoría: PAR\n",
      "El bono de precio 101.00 está en la categoría: PAR\n",
      "El bono de precio 102.00 está en la categoría: SOBREPAR\n",
      "El bono de precio 103.00 está en la categoría: SOBREPAR\n"
     ]
    }
   ],
   "source": [
    "precios = [96, 97, 98, 99, 100, 101, 102, 103]\n",
    "for precio in precios:\n",
    "    print(f\"El bono de precio {precio:.2f} está en la categoría: {categoria(precio)}\")"
   ]
  },
  {
   "cell_type": "markdown",
   "metadata": {},
   "source": [
    "Se puede utilizar más de un `elif`, por ejemplo, supongamos que necesitamos establecer otra categoría más y dejar las cosas de esta manera:\n",
    "\n",
    "- Menor a 98: \"SUBPAR\"\n",
    "- Mayor o igual 98 y menor que 101: \"PAR\"\n",
    "- Mayor o igual a 101 y menor a 103: \"SOBREPAR\"\n",
    "- Mayor o igual a 103: \"MUYSOBREPAR\"\n",
    "\n",
    "Esta categoría se podría implementar de la siguiente forma:"
   ]
  },
  {
   "cell_type": "code",
   "execution_count": 50,
   "metadata": {
    "ExecuteTime": {
     "end_time": "2021-07-28T23:17:55.957654Z",
     "start_time": "2021-07-28T23:17:55.948739Z"
    }
   },
   "outputs": [],
   "source": [
    "def categoria2(preco):\n",
    "    if precio < 98:\n",
    "        return \"SUBPAR\"\n",
    "    elif precio >= 98 and precio < 101:\n",
    "        return \"PAR\"\n",
    "    elif precio >= 101 and precio < 103:\n",
    "        return \"SOBREPAR\"\n",
    "    else:\n",
    "        return \"MUYSOBREPAR\""
   ]
  },
  {
   "cell_type": "code",
   "execution_count": 51,
   "metadata": {
    "ExecuteTime": {
     "end_time": "2021-07-28T23:19:27.765540Z",
     "start_time": "2021-07-28T23:19:27.756592Z"
    }
   },
   "outputs": [
    {
     "name": "stdout",
     "output_type": "stream",
     "text": [
      "El bono de precio 96.00 está en la categoría: SUBPAR\n",
      "El bono de precio 97.00 está en la categoría: SUBPAR\n",
      "El bono de precio 98.00 está en la categoría: PAR\n",
      "El bono de precio 99.00 está en la categoría: PAR\n",
      "El bono de precio 100.00 está en la categoría: PAR\n",
      "El bono de precio 101.00 está en la categoría: SOBREPAR\n",
      "El bono de precio 102.00 está en la categoría: SOBREPAR\n",
      "El bono de precio 103.00 está en la categoría: MUYSOBREPAR\n"
     ]
    }
   ],
   "source": [
    "for precio in precios:\n",
    "    print(f\"El bono de precio {precio:.2f} está en la categoría: {categoria2(precio)}\")"
   ]
  },
  {
   "cell_type": "markdown",
   "metadata": {},
   "source": [
    "## Valores `bool` y los Operadores Lógicos `and` y `or`"
   ]
  },
  {
   "cell_type": "markdown",
   "metadata": {},
   "source": [
    "### El Tipo `bool`"
   ]
  },
  {
   "cell_type": "markdown",
   "metadata": {},
   "source": [
    "Hasta ahora hemos visto los tipos de variable `int`, `float` y `str`. Existe otro tipo de variable primitiva, las variables de tipo `bool`. Estas variables sólo pueden asumir dos valores `True` o `False` y aparecen al momento de verificar una condición. De hecho, al verificar una condición, Python retorna una variable de tipo `bool`. Veamos un par de ejemplos:"
   ]
  },
  {
   "cell_type": "code",
   "execution_count": 52,
   "metadata": {
    "ExecuteTime": {
     "end_time": "2021-07-28T23:22:46.548851Z",
     "start_time": "2021-07-28T23:22:46.542195Z"
    }
   },
   "outputs": [
    {
     "data": {
      "text/plain": [
       "True"
      ]
     },
     "execution_count": 52,
     "metadata": {},
     "output_type": "execute_result"
    }
   ],
   "source": [
    "2 > 1"
   ]
  },
  {
   "cell_type": "code",
   "execution_count": 53,
   "metadata": {
    "ExecuteTime": {
     "end_time": "2021-07-28T23:22:52.435457Z",
     "start_time": "2021-07-28T23:22:52.427631Z"
    }
   },
   "outputs": [
    {
     "data": {
      "text/plain": [
       "False"
      ]
     },
     "execution_count": 53,
     "metadata": {},
     "output_type": "execute_result"
    }
   ],
   "source": [
    "2 < 1"
   ]
  },
  {
   "cell_type": "markdown",
   "metadata": {},
   "source": [
    "Cuando queremos verificar si dos valores son iguales, se utiliza el símbolo `==`, el símbolo `=` sólo se utiliza para asignar un valor a una variable. Por ejemplo:"
   ]
  },
  {
   "cell_type": "code",
   "execution_count": 58,
   "metadata": {
    "ExecuteTime": {
     "end_time": "2021-07-28T23:25:48.512062Z",
     "start_time": "2021-07-28T23:25:48.505890Z"
    }
   },
   "outputs": [
    {
     "data": {
      "text/plain": [
       "False"
      ]
     },
     "execution_count": 58,
     "metadata": {},
     "output_type": "execute_result"
    }
   ],
   "source": [
    "a = 3  # asignación\n",
    "b = 4  # asignación\n",
    "a == b # comparación"
   ]
  },
  {
   "cell_type": "markdown",
   "metadata": {},
   "source": [
    "El resultado de una comparación, puede almacenarse en una variable."
   ]
  },
  {
   "cell_type": "code",
   "execution_count": 59,
   "metadata": {
    "ExecuteTime": {
     "end_time": "2021-07-28T23:26:12.722456Z",
     "start_time": "2021-07-28T23:26:12.713999Z"
    }
   },
   "outputs": [
    {
     "name": "stdout",
     "output_type": "stream",
     "text": [
      "El valor de c es False\n"
     ]
    }
   ],
   "source": [
    "c = (a == b) # se asigna a c el resultado (bool) de a == b\n",
    "print(\"El valor de c es {}\".format(c))"
   ]
  },
  {
   "cell_type": "markdown",
   "metadata": {},
   "source": [
    "### Operador `and`"
   ]
  },
  {
   "cell_type": "markdown",
   "metadata": {},
   "source": [
    "Al ejecutar `condicion1 and condicion2` se obtendrá `True` si y sólo si ambas condiciones son `True`."
   ]
  },
  {
   "cell_type": "code",
   "execution_count": 60,
   "metadata": {
    "ExecuteTime": {
     "end_time": "2021-07-28T23:27:53.573085Z",
     "start_time": "2021-07-28T23:27:53.560460Z"
    }
   },
   "outputs": [
    {
     "name": "stdout",
     "output_type": "stream",
     "text": [
      "precio: 101\n",
      "¿precio >= 100: True\n",
      "¿precio < 102?: True\n",
      "¿precio >= 100 and precio < 102?: True\n"
     ]
    }
   ],
   "source": [
    "precio = 101\n",
    "print(\"precio: {}\".format(precio))\n",
    "print(\"¿precio >= 100: {}\".format(precio >= 100))\n",
    "print(\"¿precio < 102?: {}\".format(precio < 102))\n",
    "print(\"¿precio >= 100 and precio < 102?: {}\".format(precio >= 100 and precio < 102))"
   ]
  },
  {
   "cell_type": "code",
   "execution_count": 61,
   "metadata": {
    "ExecuteTime": {
     "end_time": "2021-07-28T23:28:17.968665Z",
     "start_time": "2021-07-28T23:28:17.962698Z"
    }
   },
   "outputs": [
    {
     "name": "stdout",
     "output_type": "stream",
     "text": [
      "precio: 101\n",
      "¿precio >= 100: True\n",
      "¿precio < 101?: False\n",
      "¿precio >= 100 and precio < 101?: False\n"
     ]
    }
   ],
   "source": [
    "print(\"precio: {}\".format(precio))\n",
    "print(\"¿precio >= 100: {}\".format(precio >= 100))\n",
    "print(\"¿precio < 101?: {}\".format(precio < 101))\n",
    "print(\"¿precio >= 100 and precio < 101?: {}\".format(precio >= 100 and precio < 101))"
   ]
  },
  {
   "cell_type": "markdown",
   "metadata": {},
   "source": [
    "### Operador `or`"
   ]
  },
  {
   "cell_type": "markdown",
   "metadata": {},
   "source": [
    "Al ejecutar `condicion1 or condicion2` se obtendrá `False` si y sólo si ambas condiciones son `False`."
   ]
  },
  {
   "cell_type": "code",
   "execution_count": 62,
   "metadata": {
    "ExecuteTime": {
     "end_time": "2021-07-28T23:29:18.622559Z",
     "start_time": "2021-07-28T23:29:18.613951Z"
    }
   },
   "outputs": [
    {
     "name": "stdout",
     "output_type": "stream",
     "text": [
      "precio: 101\n",
      "¿precio >= 100: True\n",
      "¿precio < 101?: False\n",
      "¿precio >= 100 or precio < 101?: True\n"
     ]
    }
   ],
   "source": [
    "print(\"precio: {}\".format(precio))\n",
    "print(\"¿precio >= 100: {}\".format(precio >= 100))\n",
    "print(\"¿precio < 101?: {}\".format(precio < 101))\n",
    "print(\"¿precio >= 100 or precio < 101?: {}\".format(precio >= 100 or precio < 101))"
   ]
  },
  {
   "cell_type": "code",
   "execution_count": 64,
   "metadata": {
    "ExecuteTime": {
     "end_time": "2021-07-28T23:30:12.782788Z",
     "start_time": "2021-07-28T23:30:12.766953Z"
    }
   },
   "outputs": [
    {
     "name": "stdout",
     "output_type": "stream",
     "text": [
      "precio: 101\n",
      "¿precio < 101: False\n",
      "¿precio >= 102?: False\n",
      "¿precio < 101 or precio >= 102?: False\n"
     ]
    }
   ],
   "source": [
    "print(\"precio: {}\".format(precio))\n",
    "print(\"¿precio < 101: {}\".format(precio < 101))\n",
    "print(\"¿precio >= 102?: {}\".format(precio >= 102))\n",
    "print(\"¿precio < 101 or precio >= 102?: {}\".format(precio < 101 or precio >= 102))"
   ]
  },
  {
   "cell_type": "markdown",
   "metadata": {},
   "source": [
    "### Ejercicio"
   ]
  },
  {
   "cell_type": "markdown",
   "metadata": {},
   "source": [
    "Una universidad ofrece una beca si:\n",
    "\n",
    "- El NEM del alumno es superior a 5.5 y tu ingreso familiar es menor a 1.2 millones de CLP (pesos chilenos) o\n",
    "- El NEM del alumno es superior a 6.0 y tu ingreso familiar es menor a 1.5 millones de CLP (pesos chilenos) o\n",
    "- El NEM del alumno es superior a 6.5\n",
    "\n",
    "Escribe una función que tenga el NEM y el ingreso familiar como variables y retorne un `bool` que indique si es eligible para la beca (`True` eres eligible, `False` no eres elegible)."
   ]
  },
  {
   "cell_type": "markdown",
   "metadata": {},
   "source": [
    "## La Instrucción `while`"
   ]
  },
  {
   "cell_type": "markdown",
   "metadata": {},
   "source": [
    "El uso de `while` permite ejecutar un grupo de instrucciones hasta que una condición sea verdadera."
   ]
  },
  {
   "cell_type": "markdown",
   "metadata": {},
   "source": [
    "### Ejemplo"
   ]
  },
  {
   "cell_type": "markdown",
   "metadata": {},
   "source": [
    "En este caso, se mostrarán por pantalla los números del 0 al 9.\n",
    "\n",
    "- Se inicializa el valor de la variable `i`.\n",
    "- Comienza `while`, se evalúa si `i < 10`, las instrucciones dentro del `while` se ejecutarán sólo si `i < 10 = True`.\n",
    "- Se muestra por pantalla el valor de `i`\n",
    "- Se incrementa el valor de `i` en 1 (la instrucción `i += 1` es equivalente a `i = i + 1`)\n",
    "- Se vuelve a ejecutar ..."
   ]
  },
  {
   "cell_type": "code",
   "execution_count": 65,
   "metadata": {
    "ExecuteTime": {
     "end_time": "2021-07-28T23:36:14.861382Z",
     "start_time": "2021-07-28T23:36:14.854471Z"
    }
   },
   "outputs": [
    {
     "name": "stdout",
     "output_type": "stream",
     "text": [
      "El valor de i es 0\n",
      "El valor de i es 1\n",
      "El valor de i es 2\n",
      "El valor de i es 3\n",
      "El valor de i es 4\n",
      "El valor de i es 5\n",
      "El valor de i es 6\n",
      "El valor de i es 7\n",
      "El valor de i es 8\n",
      "El valor de i es 9\n"
     ]
    }
   ],
   "source": [
    "i = 0\n",
    "while i < 10:\n",
    "    print(f'El valor de i es {i}')\n",
    "    i += 1"
   ]
  },
  {
   "cell_type": "markdown",
   "metadata": {},
   "source": [
    "### La Instrucción `continue`"
   ]
  },
  {
   "cell_type": "markdown",
   "metadata": {},
   "source": [
    "La instrucción `continue` permite volver anticipadamente al inicio del `while`. En este caso, cuando `i == 3`, no se muestra el valor de `i` por pantalla y se vuelve al inicio."
   ]
  },
  {
   "cell_type": "code",
   "execution_count": 66,
   "metadata": {
    "ExecuteTime": {
     "end_time": "2021-07-28T23:37:15.422823Z",
     "start_time": "2021-07-28T23:37:15.410297Z"
    }
   },
   "outputs": [
    {
     "name": "stdout",
     "output_type": "stream",
     "text": [
      "El valor de i es 0\n",
      "El valor de i es 1\n",
      "El valor de i es 2\n",
      "El valor de i es 4\n",
      "El valor de i es 5\n",
      "El valor de i es 6\n",
      "El valor de i es 7\n",
      "El valor de i es 8\n",
      "El valor de i es 9\n"
     ]
    }
   ],
   "source": [
    "i = 0\n",
    "while i < 10:\n",
    "    if i == 3:\n",
    "        i += 1\n",
    "        continue\n",
    "    print(f'El valor de i es {i}')\n",
    "    i += 1"
   ]
  },
  {
   "cell_type": "markdown",
   "metadata": {},
   "source": [
    "### Continuar la Ejecución Hasta que el Usuario la Interrumpa"
   ]
  },
  {
   "cell_type": "markdown",
   "metadata": {},
   "source": [
    "En este ejemplo, el `while` se ejecuta siempre y sólo se interrumpe cuando el usuario ingresa la letra `'q'`. Para este ejemplo utilizamos una nueva función: `input`. Esta función permite capturar input del usuario y procesarlo."
   ]
  },
  {
   "cell_type": "code",
   "execution_count": 67,
   "metadata": {
    "ExecuteTime": {
     "end_time": "2021-07-28T23:39:38.435734Z",
     "start_time": "2021-07-28T23:39:21.334807Z"
    }
   },
   "outputs": [
    {
     "name": "stdout",
     "output_type": "stream",
     "text": [
      "Elige una letra ...a\n",
      "\tNop, esa no ...\n",
      "Elige una letra ...b\n",
      "\tNop, esa no ...\n",
      "Elige una letra ...s\n",
      "\tNop, esa no ...\n",
      "Elige una letra ...1\n",
      "\tNop, esa no ...\n",
      "Elige una letra ...q\n",
      "Esa sí.\n",
      "\n",
      "Fuera del while.\n"
     ]
    }
   ],
   "source": [
    "while True: # dado que True == True siempre, el while siempre se ejecuta\n",
    "    letra = input('Elige una letra ...')\n",
    "    if letra == 'q':\n",
    "        print('Esa sí.')\n",
    "        break\n",
    "    else:\n",
    "        print('\\tNop, esa no ...')\n",
    "        continue\n",
    "print('\\nFuera del while.')"
   ]
  },
  {
   "cell_type": "markdown",
   "metadata": {},
   "source": [
    "### Ejercicio"
   ]
  },
  {
   "cell_type": "markdown",
   "metadata": {},
   "source": [
    "Para este ejercicio, vas a necesitar la siguiente función: `randint`\n",
    "\n",
    "- Primero se debe importar el módulo `random`. Un módulo puede pensarse como programas que otros han escrito y que podemos agregar a nuestros propios programas.\n",
    "- `random` es un módulo de la **librería estándar** de Python, eso quiere decir que siempre está disponible.\n",
    "- Para agregarlo a nuestros programas, se ejecuta la siguiente instrucción"
   ]
  },
  {
   "cell_type": "code",
   "execution_count": 68,
   "metadata": {
    "ExecuteTime": {
     "end_time": "2021-07-28T23:41:13.684292Z",
     "start_time": "2021-07-28T23:41:13.681397Z"
    }
   },
   "outputs": [],
   "source": [
    "import random as rnd"
   ]
  },
  {
   "cell_type": "markdown",
   "metadata": {},
   "source": [
    "Del módulo `random` vamos a utilizar la función `randint(i, j)` que genera un número entero aleatorio entre `i` y `j` (ambos inclusive)."
   ]
  },
  {
   "cell_type": "markdown",
   "metadata": {},
   "source": [
    "Cada vez que se ejecuta esta celda, se obtiene un número entero nuevo de forma aleatoria."
   ]
  },
  {
   "cell_type": "code",
   "execution_count": 74,
   "metadata": {
    "ExecuteTime": {
     "end_time": "2021-07-28T23:41:47.702986Z",
     "start_time": "2021-07-28T23:41:47.694524Z"
    }
   },
   "outputs": [
    {
     "data": {
      "text/plain": [
       "8"
      ]
     },
     "execution_count": 74,
     "metadata": {},
     "output_type": "execute_result"
    }
   ],
   "source": [
    "rnd.randint(1, 10)"
   ]
  },
  {
   "cell_type": "markdown",
   "metadata": {},
   "source": [
    "#### Enunciado del Ejercicio"
   ]
  },
  {
   "cell_type": "markdown",
   "metadata": {
    "solution2": "shown",
    "solution2_first": true
   },
   "source": [
    "Vas a programar un juego muy sencillo utilizando `while` y la función `randint`.\n",
    "\n",
    "- El computador *elige* un número entero aleatorio, que llamaremos `num_secreto`, en un rango predeterminado.\n",
    "- Tú debes tratar de adivinarlo\n",
    "- Si lo adivinas ganas y tu puntaje es el número de veces que tuviste que jugar para adivinar `num_secreto`\n",
    "- Si no lo adivinas, el computador te responderá si el número que dijiste es más alto o más bajo que `num_secreto` y sigues jugando\n",
    "- Mientras más bajo tu puntaje, mejor"
   ]
  },
  {
   "cell_type": "markdown",
   "metadata": {
    "solution2": "shown"
   },
   "source": [
    "**Tip:** el resultado de input es un `str`"
   ]
  },
  {
   "cell_type": "code",
   "execution_count": 75,
   "metadata": {
    "ExecuteTime": {
     "end_time": "2021-07-28T23:43:51.071732Z",
     "start_time": "2021-07-28T23:43:47.155648Z"
    },
    "solution2": "shown"
   },
   "outputs": [
    {
     "name": "stdout",
     "output_type": "stream",
     "text": [
      "2\n"
     ]
    }
   ],
   "source": [
    "x = input()"
   ]
  },
  {
   "cell_type": "code",
   "execution_count": 76,
   "metadata": {
    "ExecuteTime": {
     "end_time": "2021-07-28T23:43:54.415370Z",
     "start_time": "2021-07-28T23:43:54.410792Z"
    },
    "solution2": "shown"
   },
   "outputs": [
    {
     "name": "stdout",
     "output_type": "stream",
     "text": [
      "<class 'str'>\n"
     ]
    }
   ],
   "source": [
    "print(type(x))"
   ]
  },
  {
   "cell_type": "markdown",
   "metadata": {
    "solution2": "shown"
   },
   "source": [
    "Para convertirlo a `int` hacer lo siguiente:"
   ]
  },
  {
   "cell_type": "code",
   "execution_count": 77,
   "metadata": {
    "ExecuteTime": {
     "end_time": "2021-07-28T23:44:05.562842Z",
     "start_time": "2021-07-28T23:44:05.558539Z"
    }
   },
   "outputs": [],
   "source": [
    "x = int(x)"
   ]
  },
  {
   "cell_type": "code",
   "execution_count": 78,
   "metadata": {
    "ExecuteTime": {
     "end_time": "2021-07-28T23:44:08.519656Z",
     "start_time": "2021-07-28T23:44:08.493932Z"
    }
   },
   "outputs": [
    {
     "data": {
      "text/plain": [
       "int"
      ]
     },
     "execution_count": 78,
     "metadata": {},
     "output_type": "execute_result"
    }
   ],
   "source": [
    "type(x)"
   ]
  },
  {
   "cell_type": "markdown",
   "metadata": {},
   "source": [
    "### Encuentra la TIR de un Bono"
   ]
  },
  {
   "cell_type": "markdown",
   "metadata": {},
   "source": [
    "Supongamos que tenemos un bono que está transando a un valor presente de 101 y queremos calcular cuál es su TIR de mercado. O sea, queremos determinar qué tasa de descuento hace que el valor presente del bono sea 101. Veamos como hacerlo utilizando los flujos y plazos definidos al principio del notebook."
   ]
  },
  {
   "cell_type": "code",
   "execution_count": 79,
   "metadata": {
    "ExecuteTime": {
     "end_time": "2021-07-28T23:49:09.767141Z",
     "start_time": "2021-07-28T23:49:09.755749Z"
    }
   },
   "outputs": [
    {
     "data": {
      "text/plain": [
       "[1, 1, 1, 1, 1, 1, 1, 1, 1, 101]"
      ]
     },
     "execution_count": 79,
     "metadata": {},
     "output_type": "execute_result"
    }
   ],
   "source": [
    "flujos"
   ]
  },
  {
   "cell_type": "code",
   "execution_count": 80,
   "metadata": {
    "ExecuteTime": {
     "end_time": "2021-07-28T23:49:10.598558Z",
     "start_time": "2021-07-28T23:49:10.591258Z"
    }
   },
   "outputs": [
    {
     "data": {
      "text/plain": [
       "[182, 365, 547, 730, 912, 1095, 1277, 1460, 1642, 1825]"
      ]
     },
     "execution_count": 80,
     "metadata": {},
     "output_type": "execute_result"
    }
   ],
   "source": [
    "plazos"
   ]
  },
  {
   "cell_type": "markdown",
   "metadata": {},
   "source": [
    "Tenemos que resolver la ecuación:\n",
    "\n",
    "$$VP\\left(TIR\\right)-P=0$$\n",
    "\n",
    "Para esto vamos a programar un mini `BuscarObjetivo` totalmente similar al que usaríamos si resolviéramos este problema con Excel. Utilizaremos el método de Newton-Raphson que nos dice que podemos encontrar la solución a la ecuación anterior si iterativamente calculamos:\n",
    "\n",
    "$$TIR_{n+1}=TIR_n - \\frac{VP\\left(TIR_n\\right)-P}{VP'\\left(TIR_n\\right)}$$\n",
    "\n",
    "Aquí $V'\\left(TIR_n\\right)$ es la derivada del valor presente respecto a $TIR_n$."
   ]
  },
  {
   "cell_type": "markdown",
   "metadata": {},
   "source": [
    "La derivada del valor presente la calcularemos de forma numérica con la siguiente aproximación:\n",
    "\n",
    "$$VP'\\left(TIR_n\\right)\\approx\\frac{VP\\left(TIR_n+h\\right)-VP\\left(TIR_n-h\\right)}{2h}$$"
   ]
  },
  {
   "cell_type": "code",
   "execution_count": 82,
   "metadata": {
    "ExecuteTime": {
     "end_time": "2021-07-28T23:55:50.016989Z",
     "start_time": "2021-07-28T23:55:50.010836Z"
    }
   },
   "outputs": [],
   "source": [
    "def der_vp_bono(flujos, plazos, tasa):\n",
    "    \"\"\"\n",
    "    Calcula la derivada del valor presente del bono respecto a la tasa usando la aproximación\n",
    "    por diferencia central.\n",
    "    \n",
    "    VP'(tasa) = (VP(tasa + h) - VP(tasa - h)) / 2h\n",
    "    \n",
    "    Se utiliza un valor de h = .0001\n",
    "    \n",
    "    Parameters\n",
    "    ----------\n",
    "    \n",
    "    flujos: List[float]\n",
    "            Contiene los flujos del bono.\n",
    "            \n",
    "    plazos: List[float]\n",
    "            Contiene los plazos residuales de los flujos expresados en días.\n",
    "    \n",
    "    tasa: float\n",
    "          Tasa de descuento del bono. Debe ser en convención Com Act/365.\n",
    "          \n",
    "    Returns\n",
    "    -------\n",
    "    \n",
    "    float\n",
    "         La derivada del valor presente del bono.\n",
    "    \"\"\"\n",
    "    h = .0001\n",
    "    return (vp_bono(flujos, plazos, tasa + h) - vp_bono(flujos, plazos, tasa - h)) / (2 * h)"
   ]
  },
  {
   "cell_type": "markdown",
   "metadata": {},
   "source": [
    "Realizamos un check:"
   ]
  },
  {
   "cell_type": "code",
   "execution_count": 84,
   "metadata": {
    "ExecuteTime": {
     "end_time": "2021-07-28T23:57:46.736697Z",
     "start_time": "2021-07-28T23:57:46.732449Z"
    }
   },
   "outputs": [],
   "source": [
    "h = .0001"
   ]
  },
  {
   "cell_type": "code",
   "execution_count": 86,
   "metadata": {
    "ExecuteTime": {
     "end_time": "2021-07-28T23:58:56.802992Z",
     "start_time": "2021-07-28T23:58:56.795069Z"
    }
   },
   "outputs": [
    {
     "data": {
      "text/plain": [
       "-469.1425137848171"
      ]
     },
     "execution_count": 86,
     "metadata": {},
     "output_type": "execute_result"
    }
   ],
   "source": [
    "vp = vp_bono(flujos, plazos, .02)\n",
    "vp_mas = vp_bono(flujos, plazos, .02 + h)\n",
    "vp_menos = vp_bono(flujos, plazos, .02 - h)\n",
    "(vp_mas - vp_menos)/(2 * h)"
   ]
  },
  {
   "cell_type": "code",
   "execution_count": 89,
   "metadata": {
    "ExecuteTime": {
     "end_time": "2021-07-29T00:01:36.467027Z",
     "start_time": "2021-07-29T00:01:36.436082Z"
    }
   },
   "outputs": [
    {
     "data": {
      "text/plain": [
       "-469.1425137848171"
      ]
     },
     "execution_count": 89,
     "metadata": {},
     "output_type": "execute_result"
    }
   ],
   "source": [
    "der_vp_bono(flujos, plazos, .02) # f(x + h) = f(x) + f'(x)*h + error(h), error(h)->0 , h->0"
   ]
  },
  {
   "cell_type": "markdown",
   "metadata": {},
   "source": [
    "Ahora definimos la función que encuentre la TIR para un cierto precio de mercado."
   ]
  },
  {
   "cell_type": "code",
   "execution_count": 90,
   "metadata": {
    "ExecuteTime": {
     "end_time": "2021-07-29T00:06:56.106099Z",
     "start_time": "2021-07-29T00:06:56.096819Z"
    }
   },
   "outputs": [],
   "source": [
    "def encuentra_tir(flujos, plazos, vp, tasa):\n",
    "    \"\"\"\n",
    "    Calcula la tasa de descuento o TIR que hace que el valor presente del bono (en base 100)\n",
    "    sea igual a un valor dado.\n",
    "    \n",
    "    Parameters\n",
    "    ----------\n",
    "    \n",
    "    flujos: List[float]\n",
    "            Contiene los flujos del bono.\n",
    "            \n",
    "    plazos: List[float]\n",
    "            Contiene los plazos residuales de los flujos expresados en días.\n",
    "    \n",
    "    vp: float\n",
    "        Valor presente del bono.\n",
    "          \n",
    "    tasa: float\n",
    "          Estimación inicial del valor del resultado.\n",
    "          \n",
    "    Returns\n",
    "    -------\n",
    "    \n",
    "    float\n",
    "         Tasa de descuento buscada.\n",
    "    \"\"\"\n",
    "    epsilon = .000001\n",
    "    diff = 1000\n",
    "    while diff > epsilon:\n",
    "        q = (vp_bono(flujos, plazos, tasa) - vp) / der_vp_bono(flujos, plazos, tasa)\n",
    "        nueva_tasa = tasa - q\n",
    "        diff = abs(nueva_tasa - tasa)\n",
    "        tasa = nueva_tasa\n",
    "    return tasa"
   ]
  },
  {
   "cell_type": "code",
   "execution_count": 101,
   "metadata": {
    "ExecuteTime": {
     "end_time": "2021-07-29T00:08:48.320612Z",
     "start_time": "2021-07-29T00:08:48.316177Z"
    }
   },
   "outputs": [],
   "source": [
    "tir = encuentra_tir(flujos, plazos, 104, .02)"
   ]
  },
  {
   "cell_type": "code",
   "execution_count": 102,
   "metadata": {
    "ExecuteTime": {
     "end_time": "2021-07-29T00:08:50.055337Z",
     "start_time": "2021-07-29T00:08:50.051042Z"
    }
   },
   "outputs": [
    {
     "name": "stdout",
     "output_type": "stream",
     "text": [
      "El valor de la TIR es: 1.17740766%\n"
     ]
    }
   ],
   "source": [
    "print(f'El valor de la TIR es: {tir:.8%}')"
   ]
  },
  {
   "cell_type": "markdown",
   "metadata": {},
   "source": [
    "Hagamos el check:"
   ]
  },
  {
   "cell_type": "code",
   "execution_count": 103,
   "metadata": {
    "ExecuteTime": {
     "end_time": "2021-07-29T00:08:54.322155Z",
     "start_time": "2021-07-29T00:08:54.317740Z"
    }
   },
   "outputs": [
    {
     "name": "stdout",
     "output_type": "stream",
     "text": [
      "El valor presente con la TIR es: 104.00000000\n"
     ]
    }
   ],
   "source": [
    "print(f'El valor presente con la TIR es: {vp_bono(flujos, plazos, tir):,.8f}')"
   ]
  }
 ],
 "metadata": {
  "hide_input": false,
  "kernelspec": {
   "display_name": "Python 3",
   "language": "python",
   "name": "python3"
  },
  "language_info": {
   "codemirror_mode": {
    "name": "ipython",
    "version": 3
   },
   "file_extension": ".py",
   "mimetype": "text/x-python",
   "name": "python",
   "nbconvert_exporter": "python",
   "pygments_lexer": "ipython3",
   "version": "3.7.3"
  },
  "toc": {
   "base_numbering": 1,
   "nav_menu": {},
   "number_sections": true,
   "sideBar": true,
   "skip_h1_title": true,
   "title_cell": "Table of Contents",
   "title_sidebar": "Contenido",
   "toc_cell": false,
   "toc_position": {
    "height": "calc(100% - 180px)",
    "left": "10px",
    "top": "150px",
    "width": "419px"
   },
   "toc_section_display": true,
   "toc_window_display": true
  }
 },
 "nbformat": 4,
 "nbformat_minor": 4
}
