{
 "cells": [
  {
   "cell_type": "markdown",
   "metadata": {},
   "source": [
    "# Fundamentos\n",
    "\n",
    "- `zip` de 2 variables `List`\n",
    "- Variables de tipo `Dict`\n",
    "-  `if ... elif ... else`\n",
    "- `bool`, `and` y `or`\n",
    "- la instrucción `while`"
   ]
  },
  {
   "cell_type": "markdown",
   "metadata": {},
   "source": [
    "Resolvamos el problema propuesto en la [Tarea](01-01_c_intro-python.ipynb)."
   ]
  },
  {
   "cell_type": "markdown",
   "metadata": {},
   "source": [
    "## `zip` de 2 `List`"
   ]
  },
  {
   "cell_type": "markdown",
   "metadata": {},
   "source": [
    "Consideremos las variables de tipo `List` donde están almacenados los flujos y los plazos de los flujos."
   ]
  },
  {
   "cell_type": "code",
   "execution_count": 3,
   "metadata": {
    "ExecuteTime": {
     "end_time": "2021-07-25T17:21:36.512050Z",
     "start_time": "2021-07-25T17:21:36.508024Z"
    }
   },
   "outputs": [],
   "source": [
    "flujos = [1, 1, 1, 1, 1, 1, 1, 1, 1, 101]"
   ]
  },
  {
   "cell_type": "code",
   "execution_count": 4,
   "metadata": {
    "ExecuteTime": {
     "end_time": "2021-07-25T17:21:36.518067Z",
     "start_time": "2021-07-25T17:21:36.514401Z"
    }
   },
   "outputs": [],
   "source": [
    "plazos = [182, 365, 547, 730, 912, 1095, 1277, 1460, 1642, 1825]"
   ]
  },
  {
   "cell_type": "markdown",
   "metadata": {},
   "source": [
    "Ahora, podemos *juntar* las `List` `notas` y `nombres` usando la función `zip`."
   ]
  },
  {
   "cell_type": "markdown",
   "metadata": {},
   "source": [
    "El `zip` de 2 `List` es `Iterable` y podemos, por lo tanto, recorrer sus elementos con una instrucción `for`."
   ]
  },
  {
   "cell_type": "code",
   "execution_count": 5,
   "metadata": {
    "ExecuteTime": {
     "end_time": "2021-07-25T17:21:36.527353Z",
     "start_time": "2021-07-25T17:21:36.520691Z"
    }
   },
   "outputs": [
    {
     "name": "stdout",
     "output_type": "stream",
     "text": [
      "(1, 182)\n",
      "(1, 365)\n",
      "(1, 547)\n",
      "(1, 730)\n",
      "(1, 912)\n",
      "(1, 1095)\n",
      "(1, 1277)\n",
      "(1, 1460)\n",
      "(1, 1642)\n",
      "(101, 1825)\n"
     ]
    }
   ],
   "source": [
    "for fp in zip(flujos, plazos):\n",
    "    print(fp)"
   ]
  },
  {
   "cell_type": "markdown",
   "metadata": {},
   "source": [
    "Notar que los resultados de cada `print` aparecen entre `(...)`. Esto indica que cada elemento del `zip` es una `Tuple`."
   ]
  },
  {
   "cell_type": "markdown",
   "metadata": {},
   "source": [
    "También se puede hacer de la siguiente forma:"
   ]
  },
  {
   "cell_type": "code",
   "execution_count": 6,
   "metadata": {
    "ExecuteTime": {
     "end_time": "2021-07-25T17:21:36.568936Z",
     "start_time": "2021-07-25T17:21:36.559839Z"
    }
   },
   "outputs": [
    {
     "name": "stdout",
     "output_type": "stream",
     "text": [
      "1 182\n",
      "1 365\n",
      "1 547\n",
      "1 730\n",
      "1 912\n",
      "1 1095\n",
      "1 1277\n",
      "1 1460\n",
      "1 1642\n",
      "101 1825\n"
     ]
    }
   ],
   "source": [
    "for f, p in zip(flujos, plazos):\n",
    "    print(f, p)"
   ]
  },
  {
   "cell_type": "markdown",
   "metadata": {},
   "source": [
    "De esta forma, en cada paso del `for`, el flujo y plazo correspondiente se almacenan separadamente (sin uasr una `Tuple`)."
   ]
  },
  {
   "cell_type": "markdown",
   "metadata": {},
   "source": [
    "<div class=\"alert alert-block alert-warning\">\n",
    "    <b>Ojo:</b> al hacer <mark background-color:\"grey\">zip</mark> de <mark>List</mark> tenemos que estar atentos al largo de las <mark>List</mark>. Si hacemos <mark>zip</mark> de 2 <mark>List</mark> de largo distinto, <mark>zip</mark> considerará el largo de la <mark>List</mark> más corta.\n",
    "</div>"
   ]
  },
  {
   "cell_type": "code",
   "execution_count": 7,
   "metadata": {
    "ExecuteTime": {
     "end_time": "2021-07-25T17:21:36.582784Z",
     "start_time": "2021-07-25T17:21:36.575216Z"
    }
   },
   "outputs": [
    {
     "name": "stdout",
     "output_type": "stream",
     "text": [
      "(1, 'a')\n",
      "(2, 'b')\n",
      "(3, 'c')\n"
     ]
    }
   ],
   "source": [
    "lista1 = [1, 2, 3]\n",
    "lista2 = ['a', 'b', 'c', 'd']\n",
    "for ll in zip(lista1, lista2):\n",
    "    print(ll)"
   ]
  },
  {
   "cell_type": "markdown",
   "metadata": {},
   "source": [
    "Gracias a la instrucción `zip` podemos calcular el valor presente de los flujos utilizando el `for`."
   ]
  },
  {
   "cell_type": "code",
   "execution_count": 8,
   "metadata": {
    "ExecuteTime": {
     "end_time": "2021-07-25T17:21:36.595897Z",
     "start_time": "2021-07-25T17:21:36.586474Z"
    }
   },
   "outputs": [
    {
     "name": "stdout",
     "output_type": "stream",
     "text": [
      "El valor presente es: 100.0470\n"
     ]
    }
   ],
   "source": [
    "vp = 0.0     # <--- en esta variable se almacenará el resultado del cálculo\n",
    "tasa = .02   # <--- este es el valor de la tasa de descuento\n",
    "for f, p in zip(flujos, plazos):\n",
    "    vp += f * (1 + tasa)**(-p / 365)\n",
    "print(f'El valor presente es: {vp:,.4f}')"
   ]
  },
  {
   "cell_type": "markdown",
   "metadata": {},
   "source": [
    "En el `loop` anterior hay dos elementos nuevos:\n",
    "\n",
    "- La expresión `a += b` es equivalente a escribir `a = a + b` que, a su vez, quiere decir que el nuevo valor de la variable `a` es el actual valor de `a` más el valor de la variable `b`. En el caso anterior, el nuevo valor de `vp` es el valor actual de `vp` más el valor presente del flujo `f`. Podemos apreciar como `vp` es una variable en donde vamos sumando (acumulando) los valores presentes de cada flujo.\n",
    "- `**` representa elevar a una potencia, como ^ en Excel."
   ]
  },
  {
   "cell_type": "markdown",
   "metadata": {},
   "source": [
    "### Pregunta"
   ]
  },
  {
   "cell_type": "markdown",
   "metadata": {},
   "source": [
    "La tasa de cupón del bono es 2.00% y la tasa de descuento es 2.00% ¿Porqué no está perfectamente a la par (vp = 100)?"
   ]
  },
  {
   "cell_type": "markdown",
   "metadata": {},
   "source": [
    "## Variables de Tipo `Dict`"
   ]
  },
  {
   "cell_type": "markdown",
   "metadata": {},
   "source": [
    "En el ejemplo anterior tenemos los flujos de un único bono, sea éste `bono_1`. ¿Cómo podemos almacenar flujos de distintos bonos y posteriormente identificarlos con facilidad? Por ejemplo, lo más usual sería usar como identificador el nemotécnico del bono. Para eso sirven las variables de tipo `Dict`."
   ]
  },
  {
   "cell_type": "code",
   "execution_count": 9,
   "metadata": {
    "ExecuteTime": {
     "end_time": "2021-07-25T17:21:36.610845Z",
     "start_time": "2021-07-25T17:21:36.599540Z"
    }
   },
   "outputs": [],
   "source": [
    "dict_bonos = {\n",
    "    \"bono_1\": [\n",
    "        [1, 1, 1, 1, 1, 1, 1, 1, 1, 101],\n",
    "        [182, 365, 547, 730, 912, 1095, 1277, 1460, 1642, 1825]\n",
    "    ],\n",
    "    \"bono_2\": [\n",
    "        [2, 2, 2, 2, 2, 2, 2, 2, 2, 102],\n",
    "        [182, 365, 547, 730, 912, 1095, 1277, 1460, 1642, 1825]\n",
    "    ]\n",
    "}"
   ]
  },
  {
   "cell_type": "markdown",
   "metadata": {},
   "source": [
    "Un dict va entre `{}` y cada elemento del `Dict` tiene la forma `<identificador>: <valor>`. En este caso, el identificador de cada elemento es el nemotécnico del bono (variable de tipo `str`) y el valor de cada elemento es una `List` que, a su vez, contiene una `List` con los flujos y una `List` con los plazos de los bonos."
   ]
  },
  {
   "cell_type": "markdown",
   "metadata": {},
   "source": [
    "### Cómo se Usa un `Dict`"
   ]
  },
  {
   "cell_type": "code",
   "execution_count": 10,
   "metadata": {
    "ExecuteTime": {
     "end_time": "2021-07-25T17:21:36.631137Z",
     "start_time": "2021-07-25T17:21:36.618653Z"
    }
   },
   "outputs": [
    {
     "data": {
      "text/plain": [
       "[[1, 1, 1, 1, 1, 1, 1, 1, 1, 101],\n",
       " [182, 365, 547, 730, 912, 1095, 1277, 1460, 1642, 1825]]"
      ]
     },
     "execution_count": 10,
     "metadata": {},
     "output_type": "execute_result"
    }
   ],
   "source": [
    "dict_bonos['bono_1'] # los flujos y plazos del bono_1"
   ]
  },
  {
   "cell_type": "markdown",
   "metadata": {},
   "source": [
    "Si queremos sólo los flujos del `bono_1`:"
   ]
  },
  {
   "cell_type": "code",
   "execution_count": 11,
   "metadata": {
    "ExecuteTime": {
     "end_time": "2021-07-25T17:21:36.644093Z",
     "start_time": "2021-07-25T17:21:36.637097Z"
    }
   },
   "outputs": [
    {
     "data": {
      "text/plain": [
       "[1, 1, 1, 1, 1, 1, 1, 1, 1, 101]"
      ]
     },
     "execution_count": 11,
     "metadata": {},
     "output_type": "execute_result"
    }
   ],
   "source": [
    "dict_bonos['bono_1'][0]"
   ]
  },
  {
   "cell_type": "markdown",
   "metadata": {},
   "source": [
    "Los datos del `bono_2`."
   ]
  },
  {
   "cell_type": "code",
   "execution_count": 12,
   "metadata": {
    "ExecuteTime": {
     "end_time": "2021-07-25T17:21:36.654331Z",
     "start_time": "2021-07-25T17:21:36.647428Z"
    }
   },
   "outputs": [
    {
     "data": {
      "text/plain": [
       "[[2, 2, 2, 2, 2, 2, 2, 2, 2, 102],\n",
       " [182, 365, 547, 730, 912, 1095, 1277, 1460, 1642, 1825]]"
      ]
     },
     "execution_count": 12,
     "metadata": {},
     "output_type": "execute_result"
    }
   ],
   "source": [
    "dict_bonos['bono_2'] # las notas de Física"
   ]
  },
  {
   "cell_type": "markdown",
   "metadata": {},
   "source": [
    "Sólo los plazos del `bono_2`."
   ]
  },
  {
   "cell_type": "code",
   "execution_count": 13,
   "metadata": {
    "ExecuteTime": {
     "end_time": "2021-07-25T17:21:36.665030Z",
     "start_time": "2021-07-25T17:21:36.658212Z"
    }
   },
   "outputs": [
    {
     "data": {
      "text/plain": [
       "[182, 365, 547, 730, 912, 1095, 1277, 1460, 1642, 1825]"
      ]
     },
     "execution_count": 13,
     "metadata": {},
     "output_type": "execute_result"
    }
   ],
   "source": [
    "dict_bonos['bono_2'][1]"
   ]
  },
  {
   "cell_type": "markdown",
   "metadata": {},
   "source": [
    "Un `Dict`es una estructura de datos mutable. Si aparece un nuevo bono, podemos agregarlo, por ejemplo:"
   ]
  },
  {
   "cell_type": "code",
   "execution_count": 14,
   "metadata": {
    "ExecuteTime": {
     "end_time": "2021-07-25T17:21:36.672486Z",
     "start_time": "2021-07-25T17:21:36.667549Z"
    }
   },
   "outputs": [],
   "source": [
    "dict_bonos['bono_3'] = [\n",
    "    [3, 3, 3, 3, 3, 3, 3, 3, 3, 103],\n",
    "        [182, 365, 547, 730, 912, 1095, 1277, 1460, 1642, 1825]\n",
    "]"
   ]
  },
  {
   "cell_type": "code",
   "execution_count": 15,
   "metadata": {
    "ExecuteTime": {
     "end_time": "2021-07-25T17:21:36.684745Z",
     "start_time": "2021-07-25T17:21:36.675302Z"
    }
   },
   "outputs": [
    {
     "data": {
      "text/plain": [
       "{'bono_1': [[1, 1, 1, 1, 1, 1, 1, 1, 1, 101],\n",
       "  [182, 365, 547, 730, 912, 1095, 1277, 1460, 1642, 1825]],\n",
       " 'bono_2': [[2, 2, 2, 2, 2, 2, 2, 2, 2, 102],\n",
       "  [182, 365, 547, 730, 912, 1095, 1277, 1460, 1642, 1825]],\n",
       " 'bono_3': [[3, 3, 3, 3, 3, 3, 3, 3, 3, 103],\n",
       "  [182, 365, 547, 730, 912, 1095, 1277, 1460, 1642, 1825]]}"
      ]
     },
     "execution_count": 15,
     "metadata": {},
     "output_type": "execute_result"
    }
   ],
   "source": [
    "dict_bonos"
   ]
  },
  {
   "cell_type": "markdown",
   "metadata": {},
   "source": [
    "Un `Dict` también es `Iterable`, veamos que pasa cuando lo usamos en un `for loop`."
   ]
  },
  {
   "cell_type": "code",
   "execution_count": 16,
   "metadata": {
    "ExecuteTime": {
     "end_time": "2021-07-25T17:21:36.693953Z",
     "start_time": "2021-07-25T17:21:36.688633Z"
    }
   },
   "outputs": [
    {
     "name": "stdout",
     "output_type": "stream",
     "text": [
      "bono_1\n",
      "bono_2\n",
      "bono_3\n"
     ]
    }
   ],
   "source": [
    "for x in dict_bonos:\n",
    "    print(x)"
   ]
  },
  {
   "cell_type": "markdown",
   "metadata": {},
   "source": [
    "Vemos que `x` es el valor de los identificadores del `Dict`, en este caso, los nemotécnicos de los bonos."
   ]
  },
  {
   "cell_type": "markdown",
   "metadata": {},
   "source": [
    "Para obtener los valores del `Dict` usamos lo siguiente:"
   ]
  },
  {
   "cell_type": "code",
   "execution_count": 17,
   "metadata": {
    "ExecuteTime": {
     "end_time": "2021-07-25T17:21:36.703543Z",
     "start_time": "2021-07-25T17:21:36.697914Z"
    }
   },
   "outputs": [
    {
     "name": "stdout",
     "output_type": "stream",
     "text": [
      "[[1, 1, 1, 1, 1, 1, 1, 1, 1, 101], [182, 365, 547, 730, 912, 1095, 1277, 1460, 1642, 1825]]\n",
      "[[2, 2, 2, 2, 2, 2, 2, 2, 2, 102], [182, 365, 547, 730, 912, 1095, 1277, 1460, 1642, 1825]]\n",
      "[[3, 3, 3, 3, 3, 3, 3, 3, 3, 103], [182, 365, 547, 730, 912, 1095, 1277, 1460, 1642, 1825]]\n"
     ]
    }
   ],
   "source": [
    "for x in dict_bonos.values():\n",
    "    print(x)"
   ]
  },
  {
   "cell_type": "markdown",
   "metadata": {},
   "source": [
    "Para obtener los identificadores (`keys`) y valores (`values`) usamos lo siguiente:"
   ]
  },
  {
   "cell_type": "code",
   "execution_count": 18,
   "metadata": {
    "ExecuteTime": {
     "end_time": "2021-07-25T17:21:36.713314Z",
     "start_time": "2021-07-25T17:21:36.707594Z"
    }
   },
   "outputs": [
    {
     "name": "stdout",
     "output_type": "stream",
     "text": [
      "('bono_1', [[1, 1, 1, 1, 1, 1, 1, 1, 1, 101], [182, 365, 547, 730, 912, 1095, 1277, 1460, 1642, 1825]])\n",
      "('bono_2', [[2, 2, 2, 2, 2, 2, 2, 2, 2, 102], [182, 365, 547, 730, 912, 1095, 1277, 1460, 1642, 1825]])\n",
      "('bono_3', [[3, 3, 3, 3, 3, 3, 3, 3, 3, 103], [182, 365, 547, 730, 912, 1095, 1277, 1460, 1642, 1825]])\n"
     ]
    }
   ],
   "source": [
    "for x in dict_bonos.items():\n",
    "    print(x)"
   ]
  },
  {
   "cell_type": "markdown",
   "metadata": {},
   "source": [
    "O también:"
   ]
  },
  {
   "cell_type": "code",
   "execution_count": 19,
   "metadata": {
    "ExecuteTime": {
     "end_time": "2021-07-25T17:21:36.723458Z",
     "start_time": "2021-07-25T17:21:36.716959Z"
    }
   },
   "outputs": [
    {
     "name": "stdout",
     "output_type": "stream",
     "text": [
      "nemotécnico: bono_1,\n",
      "flujos: [1, 1, 1, 1, 1, 1, 1, 1, 1, 101]\n",
      "plazos: [182, 365, 547, 730, 912, 1095, 1277, 1460, 1642, 1825]\n",
      "\n",
      "nemotécnico: bono_2,\n",
      "flujos: [2, 2, 2, 2, 2, 2, 2, 2, 2, 102]\n",
      "plazos: [182, 365, 547, 730, 912, 1095, 1277, 1460, 1642, 1825]\n",
      "\n",
      "nemotécnico: bono_3,\n",
      "flujos: [3, 3, 3, 3, 3, 3, 3, 3, 3, 103]\n",
      "plazos: [182, 365, 547, 730, 912, 1095, 1277, 1460, 1642, 1825]\n",
      "\n"
     ]
    }
   ],
   "source": [
    "for k, v in dict_bonos.items():\n",
    "    print(f'nemotécnico: {k},\\nflujos: {v[0]}\\nplazos: {v[1]}\\n') # <--- \\n significa que lo que sigue empieza\n",
    "                                                                  # en una nueva línea. Es como apretar Enter."
   ]
  },
  {
   "cell_type": "markdown",
   "metadata": {},
   "source": [
    "### Ejercicio"
   ]
  },
  {
   "cell_type": "markdown",
   "metadata": {},
   "source": [
    "Escribir una función que tenga como argumento una variable como `dict_bonos` y una tasa de descuento y devuelva un `Dict` donde el identicador es el nemotécnico del bono y el valor es el valor presente del bono."
   ]
  },
  {
   "cell_type": "markdown",
   "metadata": {},
   "source": [
    "Primero vamos a definir una función que calcula el valor presente de sólo 1 bono. Aprovechamos de introducir la `docstring` de una función."
   ]
  },
  {
   "cell_type": "code",
   "execution_count": 20,
   "metadata": {
    "ExecuteTime": {
     "end_time": "2021-07-25T17:21:36.734796Z",
     "start_time": "2021-07-25T17:21:36.727053Z"
    }
   },
   "outputs": [],
   "source": [
    "def vp_bono(flujos, plazos, tasa):\n",
    "    \"\"\"\n",
    "    Calcula el valor presente de un bono dada una tasa de descuento.\n",
    "    \n",
    "    Parameters\n",
    "    ----------\n",
    "    \n",
    "    flujos: List[float]\n",
    "            Contiene los flujos del bono.\n",
    "            \n",
    "    plazos: List[float]\n",
    "            Contiene los plazos residuales de los flujos expresados en días.\n",
    "    \n",
    "    tasa: float\n",
    "          Tasa de descuento del bono. Debe ser en convención Com Act/365.\n",
    "          \n",
    "    Returns\n",
    "    -------\n",
    "    \n",
    "    float\n",
    "         El valor presente del bono.\n",
    "    \"\"\"\n",
    "    result = 0.0\n",
    "    for f, p in zip(flujos, plazos):\n",
    "        result += f * (1 + tasa)**(-p / 365.0)\n",
    "    return result"
   ]
  },
  {
   "cell_type": "markdown",
   "metadata": {},
   "source": [
    "El `docstring` de la función anterior está en formato `numpy`. Hay un par más ([ver](https://www.datacamp.com/community/tutorials/docstrings-python)) y se tiene libertad para escoger el que más te gusta. Es importante, eso sí, que una vez que se ha escogido un estilo, mantener consistencia en su uso.\n",
    "\n",
    "El uso del `docstring` me permite investigar una función antes de usarla. Esto es muy útil para funciones de paquetes y librerías externas e incluso para nuestras propias funciones."
   ]
  },
  {
   "cell_type": "code",
   "execution_count": 21,
   "metadata": {
    "ExecuteTime": {
     "end_time": "2021-07-25T17:21:36.744034Z",
     "start_time": "2021-07-25T17:21:36.739044Z"
    },
    "solution2": "shown"
   },
   "outputs": [
    {
     "name": "stdout",
     "output_type": "stream",
     "text": [
      "\n",
      "    Calcula el valor presente de un bono dada una tasa de descuento.\n",
      "    \n",
      "    Parameters\n",
      "    ----------\n",
      "    \n",
      "    flujos: List[float]\n",
      "            Contiene los flujos del bono.\n",
      "            \n",
      "    plazos: List[float]\n",
      "            Contiene los plazos residuales de los flujos expresados en días.\n",
      "    \n",
      "    tasa: float\n",
      "          Tasa de descuento del bono. Debe ser en convención Com Act/365.\n",
      "          \n",
      "    Returns\n",
      "    -------\n",
      "    \n",
      "    float\n",
      "         El valor presente del bono.\n",
      "    \n"
     ]
    }
   ],
   "source": [
    "print(vp_bono.__doc__)"
   ]
  },
  {
   "cell_type": "markdown",
   "metadata": {
    "solution2": "shown"
   },
   "source": [
    "Probemos la función usando las variables definidas al inicio de este notebook."
   ]
  },
  {
   "cell_type": "code",
   "execution_count": 22,
   "metadata": {
    "ExecuteTime": {
     "end_time": "2021-07-25T17:21:36.754042Z",
     "start_time": "2021-07-25T17:21:36.747301Z"
    },
    "solution2": "shown"
   },
   "outputs": [
    {
     "name": "stdout",
     "output_type": "stream",
     "text": [
      "Valor presente: 100.0470\n"
     ]
    }
   ],
   "source": [
    "vp = vp_bono(flujos, plazos, tasa)\n",
    "print(f'Valor presente: {vp:,.04f}')"
   ]
  },
  {
   "cell_type": "markdown",
   "metadata": {},
   "source": [
    "Ahora, con esta función, podemos definir una función que valorice muchos bonos."
   ]
  },
  {
   "cell_type": "code",
   "execution_count": 23,
   "metadata": {
    "ExecuteTime": {
     "end_time": "2021-07-25T17:21:36.764787Z",
     "start_time": "2021-07-25T17:21:36.757654Z"
    }
   },
   "outputs": [],
   "source": [
    "def vp_bonos(bonos, tasa):\n",
    "    \"\"\"\n",
    "    Calcula el valor presente de un conjunto de bonos con una tasa de descuento dada.\n",
    "      \n",
    "    Parameters\n",
    "    ----------\n",
    "    \n",
    "    bono: Dict[str, List[List[float], List[float]]]\n",
    "          Las `keys` del `Dict` son los nemotécnicos del bono o cualquier otro identificador único, como el CUSIP.\n",
    "          Los `values` son una `List` que, a su vez, contiene dos `List`, una con los flujos del bono en el índice\n",
    "          0 y otra con los plazos residuales de los flujos en días en el índice 1.\n",
    "          \n",
    "    tasa: float\n",
    "          Tasa de descuento, debe estar en convención Com Act/365.\n",
    "          \n",
    "    Returns\n",
    "    -------\n",
    "    \n",
    "    Dict[str, float]\n",
    "        Los `keys` son los mismos del parámetro `bono` y los `values` son los valores presente de los bonos.\n",
    "    \"\"\"\n",
    "    result = {}\n",
    "    for k, v in bonos.items():\n",
    "        result[k] = vp_bono(v[0], v[1], tasa)\n",
    "    return result"
   ]
  },
  {
   "cell_type": "markdown",
   "metadata": {},
   "source": [
    "Probemos con el `Dict` `dict_bonos` y la variable `tasa` definida al prinicpio del notebook."
   ]
  },
  {
   "cell_type": "code",
   "execution_count": 24,
   "metadata": {
    "ExecuteTime": {
     "end_time": "2021-07-25T17:21:36.775754Z",
     "start_time": "2021-07-25T17:21:36.768424Z"
    }
   },
   "outputs": [],
   "source": [
    "vps = vp_bonos(dict_bonos, tasa)"
   ]
  },
  {
   "cell_type": "code",
   "execution_count": 25,
   "metadata": {
    "ExecuteTime": {
     "end_time": "2021-07-25T17:21:36.782536Z",
     "start_time": "2021-07-25T17:21:36.778202Z"
    }
   },
   "outputs": [
    {
     "name": "stdout",
     "output_type": "stream",
     "text": [
      "El valor presente de bono_1 es: 100.0470\n",
      "El valor presente de bono_2 es: 109.5210\n",
      "El valor presente de bono_3 es: 118.9949\n"
     ]
    }
   ],
   "source": [
    "for k, v in vps.items():\n",
    "    print(f'El valor presente de {k} es: {v:,.04f}')"
   ]
  },
  {
   "cell_type": "markdown",
   "metadata": {},
   "source": [
    "### Tarea"
   ]
  },
  {
   "cell_type": "markdown",
   "metadata": {},
   "source": [
    "Hacer todos los cambios que estimen necesarios para poder valorizar `dict_bonos` usando una tasa de descuento distinta para cada bono."
   ]
  },
  {
   "cell_type": "markdown",
   "metadata": {},
   "source": [
    "## La Instrucción `if ... elif ... else`"
   ]
  },
  {
   "cell_type": "markdown",
   "metadata": {},
   "source": [
    "Muchas veces, la función que estamos programando requiere hacer una distinción, o tomar un decisión en función de una o más variables. Veamos un ejemplo muy sencillo. La función\n",
    "\n",
    "$$abs: \\mathbb{R} \\rightarrow \\mathbb{R}^+$$\n",
    "\n",
    "se define de la siguiente forma $abs(x)=x$ si $x\\geq0$ y $abs(x)=-x$ si $x<0$. Para programar esta función, necesitamos una forma de distinguir si si $x$ es positivo (o cero) o negativo."
   ]
  },
  {
   "cell_type": "markdown",
   "metadata": {},
   "source": [
    "### La instrucción `if ... else`"
   ]
  },
  {
   "cell_type": "markdown",
   "metadata": {},
   "source": [
    "Veamos como hacerlo, poner mucha atención en la indentación que viene debajo de los `if` y `else`."
   ]
  },
  {
   "cell_type": "code",
   "execution_count": 26,
   "metadata": {
    "ExecuteTime": {
     "end_time": "2021-07-25T17:21:36.789164Z",
     "start_time": "2021-07-25T17:21:36.785322Z"
    }
   },
   "outputs": [],
   "source": [
    "def abs(x):\n",
    "    if x < 0:\n",
    "        return -x\n",
    "    else:\n",
    "        return x"
   ]
  },
  {
   "cell_type": "markdown",
   "metadata": {},
   "source": [
    "Probemos ..."
   ]
  },
  {
   "cell_type": "code",
   "execution_count": 27,
   "metadata": {
    "ExecuteTime": {
     "end_time": "2021-07-25T17:21:36.795517Z",
     "start_time": "2021-07-25T17:21:36.791842Z"
    }
   },
   "outputs": [
    {
     "name": "stdout",
     "output_type": "stream",
     "text": [
      "El valor absoluto de 2 es: 2\n",
      "El valor absoluto de -2 es: 2\n"
     ]
    }
   ],
   "source": [
    "print(f\"El valor absoluto de {2} es: {abs(2)}\")\n",
    "print(f\"El valor absoluto de {-2} es: {abs(-2)}\")"
   ]
  },
  {
   "cell_type": "markdown",
   "metadata": {},
   "source": [
    "¡Bien! El resultado es el esperado. Existe también una forma breve de escribir esta instrucción. Esta forma breve se puede utilizar en casos sencillos como el anterior."
   ]
  },
  {
   "cell_type": "code",
   "execution_count": 28,
   "metadata": {
    "ExecuteTime": {
     "end_time": "2021-07-25T17:21:36.802495Z",
     "start_time": "2021-07-25T17:21:36.798029Z"
    }
   },
   "outputs": [],
   "source": [
    "def abs2(x):\n",
    "    return x if x >= 0 else -x"
   ]
  },
  {
   "cell_type": "markdown",
   "metadata": {},
   "source": [
    "Probemos esta también ... (para recordar, aquí usamos `print` con `format`)"
   ]
  },
  {
   "cell_type": "code",
   "execution_count": 29,
   "metadata": {
    "ExecuteTime": {
     "end_time": "2021-07-25T17:21:36.809593Z",
     "start_time": "2021-07-25T17:21:36.805223Z"
    }
   },
   "outputs": [
    {
     "name": "stdout",
     "output_type": "stream",
     "text": [
      "El valor absoluto de 2 es: 2\n",
      "El valor absoluto de -2 es: 2\n"
     ]
    }
   ],
   "source": [
    "print(\"El valor absoluto de {} es: {}\".format(2, abs2(2)))\n",
    "print(\"El valor absoluto de {} es: {}\".format(-2, abs2(-2)))"
   ]
  },
  {
   "cell_type": "markdown",
   "metadata": {},
   "source": [
    "## La instrucción `if ... elif ... else`"
   ]
  },
  {
   "cell_type": "markdown",
   "metadata": {},
   "source": [
    "En ocasiones, debemos distinguir entre más de dos alternativas. Por ejemplo, supongamos que queremos clasificar los bonos de una cartera en las categorías 'SUBPAR' si el bono se transa por debajo de 98, 'PAR' si el bono se transa entre 98 y 102 y 'SOBREPAR' si el bono se transa por sobre 102.\n",
    "\n",
    "Definimos una función que acepta un número que representa el precio del bono y retorna un `str` con la categoría del bono. Este ejemplo nos permite introducir, además, el operador lógico `and`, con el cual se puede verificar si 2 condiciones son verdaderas al mismo tiempo."
   ]
  },
  {
   "cell_type": "code",
   "execution_count": 30,
   "metadata": {
    "ExecuteTime": {
     "end_time": "2021-07-25T17:21:36.818656Z",
     "start_time": "2021-07-25T17:21:36.813012Z"
    }
   },
   "outputs": [],
   "source": [
    "def categoria(precio):\n",
    "    if precio < 98:\n",
    "        return \"SUBPAR\"\n",
    "    elif precio >= 98 and precio < 102: # <--- Notar el conector lógico and. Más detalle en lo que sigue.\n",
    "        return \"PAR\"\n",
    "    else:\n",
    "        return \"SOBREPAR\""
   ]
  },
  {
   "cell_type": "markdown",
   "metadata": {},
   "source": [
    "Probemos ..."
   ]
  },
  {
   "cell_type": "code",
   "execution_count": 31,
   "metadata": {
    "ExecuteTime": {
     "end_time": "2021-07-25T17:21:36.827335Z",
     "start_time": "2021-07-25T17:21:36.821936Z"
    }
   },
   "outputs": [
    {
     "name": "stdout",
     "output_type": "stream",
     "text": [
      "El bono de precio 96.00 está en la categoría: SUBPAR\n",
      "El bono de precio 97.00 está en la categoría: SUBPAR\n",
      "El bono de precio 98.00 está en la categoría: PAR\n",
      "El bono de precio 99.00 está en la categoría: PAR\n",
      "El bono de precio 100.00 está en la categoría: PAR\n",
      "El bono de precio 101.00 está en la categoría: PAR\n",
      "El bono de precio 102.00 está en la categoría: SOBREPAR\n",
      "El bono de precio 103.00 está en la categoría: SOBREPAR\n"
     ]
    }
   ],
   "source": [
    "precios = [96, 97, 98, 99, 100, 101, 102, 103]\n",
    "for precio in precios:\n",
    "    print(f\"El bono de precio {precio:.2f} está en la categoría: {categoria(precio)}\")"
   ]
  },
  {
   "cell_type": "markdown",
   "metadata": {},
   "source": [
    "Se puede utilizar más de un `elif`, por ejemplo, supongamos que necesitamos establecer otra categoría más y dejar las cosas de esta manera:\n",
    "\n",
    "- Menor a 98: \"SUBPAR\"\n",
    "- Mayor o igual 98 y menor que 101: \"PAR\"\n",
    "- Mayor o igual a 101 y menor a 103: \"SOBREPAR\"\n",
    "- Mayor o igual a 103: \"MUYSOBREPAR\"\n",
    "\n",
    "Esta categoría se podría implementar de la siguiente forma:"
   ]
  },
  {
   "cell_type": "code",
   "execution_count": 32,
   "metadata": {
    "ExecuteTime": {
     "end_time": "2021-07-25T17:21:36.834744Z",
     "start_time": "2021-07-25T17:21:36.830499Z"
    }
   },
   "outputs": [],
   "source": [
    "def categoria2(preco):\n",
    "    if precio < 98:\n",
    "        return \"SUBPAR\"\n",
    "    elif precio >= 98 and precio < 101:\n",
    "        return \"PAR\"\n",
    "    elif precio >= 101 and precio < 103:\n",
    "        return \"SOBREPAR\"\n",
    "    else:\n",
    "        return \"MUYSOBREPAR\""
   ]
  },
  {
   "cell_type": "code",
   "execution_count": 33,
   "metadata": {
    "ExecuteTime": {
     "end_time": "2021-07-25T17:21:36.841661Z",
     "start_time": "2021-07-25T17:21:36.837601Z"
    }
   },
   "outputs": [
    {
     "name": "stdout",
     "output_type": "stream",
     "text": [
      "El bono de precio 96.00 está en la categoría: SUBPAR\n",
      "El bono de precio 97.00 está en la categoría: SUBPAR\n",
      "El bono de precio 98.00 está en la categoría: PAR\n",
      "El bono de precio 99.00 está en la categoría: PAR\n",
      "El bono de precio 100.00 está en la categoría: PAR\n",
      "El bono de precio 101.00 está en la categoría: SOBREPAR\n",
      "El bono de precio 102.00 está en la categoría: SOBREPAR\n",
      "El bono de precio 103.00 está en la categoría: MUYSOBREPAR\n"
     ]
    }
   ],
   "source": [
    "for precio in precios:\n",
    "    print(f\"El bono de precio {precio:.2f} está en la categoría: {categoria2(precio)}\")"
   ]
  },
  {
   "cell_type": "markdown",
   "metadata": {},
   "source": [
    "## Valores `bool` y los Operadores Lógicos `and` y `or`"
   ]
  },
  {
   "cell_type": "markdown",
   "metadata": {},
   "source": [
    "### El Tipo `bool`"
   ]
  },
  {
   "cell_type": "markdown",
   "metadata": {},
   "source": [
    "Hasta ahora hemos visto los tipos de variable `int`, `float` y `str`. Existe otro tipo de variable primitiva, las variables de tipo `bool`. Estas variables sólo pueden asumir dos valores `True` o `False` y aparecen al momento de verificar una condición. De hecho, al verificar una condición, Python retorna una variable de tipo `bool`. Veamos un par de ejemplos:"
   ]
  },
  {
   "cell_type": "code",
   "execution_count": 34,
   "metadata": {
    "ExecuteTime": {
     "end_time": "2021-07-25T17:21:36.849938Z",
     "start_time": "2021-07-25T17:21:36.844726Z"
    }
   },
   "outputs": [
    {
     "data": {
      "text/plain": [
       "True"
      ]
     },
     "execution_count": 34,
     "metadata": {},
     "output_type": "execute_result"
    }
   ],
   "source": [
    "2 > 1"
   ]
  },
  {
   "cell_type": "code",
   "execution_count": 35,
   "metadata": {
    "ExecuteTime": {
     "end_time": "2021-07-25T17:21:36.856643Z",
     "start_time": "2021-07-25T17:21:36.852043Z"
    }
   },
   "outputs": [
    {
     "data": {
      "text/plain": [
       "False"
      ]
     },
     "execution_count": 35,
     "metadata": {},
     "output_type": "execute_result"
    }
   ],
   "source": [
    "2 < 1"
   ]
  },
  {
   "cell_type": "markdown",
   "metadata": {},
   "source": [
    "Cuando queremos verificar si dos valores son iguales, se utiliza el símbolo `==`, el símbolo `=` sólo se utiliza para asignar un valor a una variable. Por ejemplo:"
   ]
  },
  {
   "cell_type": "code",
   "execution_count": 36,
   "metadata": {
    "ExecuteTime": {
     "end_time": "2021-07-25T17:21:36.864563Z",
     "start_time": "2021-07-25T17:21:36.858989Z"
    }
   },
   "outputs": [
    {
     "data": {
      "text/plain": [
       "False"
      ]
     },
     "execution_count": 36,
     "metadata": {},
     "output_type": "execute_result"
    }
   ],
   "source": [
    "a = 3  # asignación\n",
    "b = 4  # asignación\n",
    "a == b # comparación"
   ]
  },
  {
   "cell_type": "markdown",
   "metadata": {},
   "source": [
    "El resultado de una comparación, puede almacenarse en una variable."
   ]
  },
  {
   "cell_type": "code",
   "execution_count": 37,
   "metadata": {
    "ExecuteTime": {
     "end_time": "2021-07-25T17:21:36.876533Z",
     "start_time": "2021-07-25T17:21:36.872007Z"
    }
   },
   "outputs": [
    {
     "name": "stdout",
     "output_type": "stream",
     "text": [
      "El valor de c es False\n"
     ]
    }
   ],
   "source": [
    "c = (a == b) # se asigna a c el resultado (bool) de a == b\n",
    "print(\"El valor de c es {}\".format(c))"
   ]
  },
  {
   "cell_type": "markdown",
   "metadata": {},
   "source": [
    "### Operador `and`"
   ]
  },
  {
   "cell_type": "markdown",
   "metadata": {},
   "source": [
    "Al ejecutar `condicion1 and condicion2` se obtendrá `True` si y sólo si ambas condiciones son `True`."
   ]
  },
  {
   "cell_type": "code",
   "execution_count": 38,
   "metadata": {
    "ExecuteTime": {
     "end_time": "2021-07-25T17:21:36.885549Z",
     "start_time": "2021-07-25T17:21:36.879609Z"
    }
   },
   "outputs": [
    {
     "name": "stdout",
     "output_type": "stream",
     "text": [
      "precio: 101\n",
      "¿precio >= 100: True\n",
      "¿precio < 102?: True\n",
      "¿precio >= 100 and precio < 102?: True\n"
     ]
    }
   ],
   "source": [
    "precio = 101\n",
    "print(\"precio: {}\".format(precio))\n",
    "print(\"¿precio >= 100: {}\".format(precio >= 100))\n",
    "print(\"¿precio < 102?: {}\".format(precio < 102))\n",
    "print(\"¿precio >= 100 and precio < 102?: {}\".format(precio >= 100 and precio < 102))"
   ]
  },
  {
   "cell_type": "code",
   "execution_count": 39,
   "metadata": {
    "ExecuteTime": {
     "end_time": "2021-07-25T17:21:36.894395Z",
     "start_time": "2021-07-25T17:21:36.888202Z"
    }
   },
   "outputs": [
    {
     "name": "stdout",
     "output_type": "stream",
     "text": [
      "precio: 101\n",
      "¿precio >= 100: True\n",
      "¿precio < 101?: False\n",
      "¿precio >= 100 and precio < 101?: False\n"
     ]
    }
   ],
   "source": [
    "print(\"precio: {}\".format(precio))\n",
    "print(\"¿precio >= 100: {}\".format(precio >= 100))\n",
    "print(\"¿precio < 101?: {}\".format(precio < 101))\n",
    "print(\"¿precio >= 100 and precio < 101?: {}\".format(precio >= 100 and precio < 101))"
   ]
  },
  {
   "cell_type": "markdown",
   "metadata": {},
   "source": [
    "### Operador `or`"
   ]
  },
  {
   "cell_type": "markdown",
   "metadata": {},
   "source": [
    "Al ejecutar `condicion1 or condicion2` se obtendrá `False` si y sólo si ambas condiciones son `False`."
   ]
  },
  {
   "cell_type": "code",
   "execution_count": 40,
   "metadata": {
    "ExecuteTime": {
     "end_time": "2021-07-25T17:21:36.902945Z",
     "start_time": "2021-07-25T17:21:36.897150Z"
    }
   },
   "outputs": [
    {
     "name": "stdout",
     "output_type": "stream",
     "text": [
      "precio: 101\n",
      "¿precio >= 100: True\n",
      "¿precio < 101?: False\n",
      "¿precio >= 100 or precio < 101?: True\n"
     ]
    }
   ],
   "source": [
    "print(\"precio: {}\".format(precio))\n",
    "print(\"¿precio >= 100: {}\".format(precio >= 100))\n",
    "print(\"¿precio < 101?: {}\".format(precio < 101))\n",
    "print(\"¿precio >= 100 or precio < 101?: {}\".format(precio >= 100 or precio < 101))"
   ]
  },
  {
   "cell_type": "code",
   "execution_count": 41,
   "metadata": {
    "ExecuteTime": {
     "end_time": "2021-07-25T17:21:36.911374Z",
     "start_time": "2021-07-25T17:21:36.905036Z"
    }
   },
   "outputs": [
    {
     "name": "stdout",
     "output_type": "stream",
     "text": [
      "precio: 101\n",
      "¿precio < 101: False\n",
      "¿precio >= 102?: False\n",
      "¿precio < 101 and precio >= 102?: False\n"
     ]
    }
   ],
   "source": [
    "print(\"precio: {}\".format(precio))\n",
    "print(\"¿precio < 101: {}\".format(precio < 101))\n",
    "print(\"¿precio >= 102?: {}\".format(precio >= 102))\n",
    "print(\"¿precio < 101 and precio >= 102?: {}\".format(precio < 101 and precio >= 102))"
   ]
  },
  {
   "cell_type": "markdown",
   "metadata": {},
   "source": [
    "### Ejercicio"
   ]
  },
  {
   "cell_type": "markdown",
   "metadata": {},
   "source": [
    "Una universidad ofrece una beca si:\n",
    "\n",
    "- El NEM del alumno es superior a 5.5 y tu ingreso familiar es menor a 1.2 millones de CLP (pesos chilenos) o\n",
    "- El NEM del alumno es superior a 6.0 y tu ingreso familiar es menor a 1.5 millones de CLP (pesos chilenos) o\n",
    "- El NEM del alumno es superior a 6.5\n",
    "\n",
    "Escribe una función que tenga el NEM y el ingreso familiar como variables y retorne un `bool` que indique si es eligible para la beca (`True` eres eligible, `False` no eres elegible)."
   ]
  },
  {
   "cell_type": "markdown",
   "metadata": {},
   "source": [
    "## La Instrucción `while`"
   ]
  },
  {
   "cell_type": "markdown",
   "metadata": {},
   "source": [
    "El uso de `while` permite ejecutar un grupo de instrucciones hasta que una condición sea verdadera."
   ]
  },
  {
   "cell_type": "markdown",
   "metadata": {},
   "source": [
    "### Ejemplo"
   ]
  },
  {
   "cell_type": "markdown",
   "metadata": {},
   "source": [
    "En este caso, se mostrarán por pantalla los números del 0 al 9.\n",
    "\n",
    "- Se inicializa el valor de la variable `i`.\n",
    "- Comienza `while`, se evalúa si `i < 10`, las instrucciones dentro del `while` se ejecutarán sólo si `i < 10 = True`.\n",
    "- Se muestra por pantalla el valor de `i`\n",
    "- Se incrementa el valor de `i` en 1 (la instrucción `i += 1` es equivalente a `i = i + 1`)\n",
    "- Se vuelve a ejecutar ..."
   ]
  },
  {
   "cell_type": "code",
   "execution_count": 42,
   "metadata": {
    "ExecuteTime": {
     "end_time": "2021-07-25T17:21:36.917869Z",
     "start_time": "2021-07-25T17:21:36.913433Z"
    }
   },
   "outputs": [
    {
     "name": "stdout",
     "output_type": "stream",
     "text": [
      "El valor de i es 0\n",
      "El valor de i es 1\n",
      "El valor de i es 2\n",
      "El valor de i es 3\n",
      "El valor de i es 4\n",
      "El valor de i es 5\n",
      "El valor de i es 6\n",
      "El valor de i es 7\n",
      "El valor de i es 8\n",
      "El valor de i es 9\n"
     ]
    }
   ],
   "source": [
    "i = 0\n",
    "while i < 10:\n",
    "    print(f'El valor de i es {i}')\n",
    "    i += 1"
   ]
  },
  {
   "cell_type": "markdown",
   "metadata": {},
   "source": [
    "### La Instrucción `continue`"
   ]
  },
  {
   "cell_type": "markdown",
   "metadata": {},
   "source": [
    "La instrucción `continue` permite volver anticipadamente al inicio del `while`. En este caso, cuando `i == 3`, no se muestra el valor de `i` por pantalla y se vuelve al inicio."
   ]
  },
  {
   "cell_type": "code",
   "execution_count": 43,
   "metadata": {
    "ExecuteTime": {
     "end_time": "2021-07-25T17:21:36.925405Z",
     "start_time": "2021-07-25T17:21:36.920595Z"
    }
   },
   "outputs": [
    {
     "name": "stdout",
     "output_type": "stream",
     "text": [
      "El valor de i es 0\n",
      "El valor de i es 1\n",
      "El valor de i es 2\n",
      "El valor de i es 4\n",
      "El valor de i es 5\n",
      "El valor de i es 6\n",
      "El valor de i es 7\n",
      "El valor de i es 8\n",
      "El valor de i es 9\n"
     ]
    }
   ],
   "source": [
    "i = 0\n",
    "while i < 10:\n",
    "    if i == 3:\n",
    "        i += 1\n",
    "        continue\n",
    "    print(f'El valor de i es {i}')\n",
    "    i += 1"
   ]
  },
  {
   "cell_type": "markdown",
   "metadata": {},
   "source": [
    "### Continuar la Ejecución Hasta que el Usuario la Interrumpa"
   ]
  },
  {
   "cell_type": "markdown",
   "metadata": {},
   "source": [
    "En este ejemplo, el `while` se ejecuta siempre y sólo se interrumpe cuando el usuario ingresa la letra `'q'`. Para este ejemplo utilizamos una nueva función: `input`. Esta función permite capturar input del usuario y procesarlo."
   ]
  },
  {
   "cell_type": "code",
   "execution_count": 44,
   "metadata": {
    "ExecuteTime": {
     "end_time": "2021-07-25T17:21:41.779516Z",
     "start_time": "2021-07-25T17:21:36.927975Z"
    }
   },
   "outputs": [
    {
     "name": "stdout",
     "output_type": "stream",
     "text": [
      "Elige una letra ...q\n",
      "Esa sí.\n",
      "\n",
      "Fuera del while.\n"
     ]
    }
   ],
   "source": [
    "while True: # dado que True == True siempre, el while siempre se ejecuta\n",
    "    letra = input('Elige una letra ...')\n",
    "    if letra == 'q':\n",
    "        print('Esa sí.')\n",
    "        break\n",
    "    else:\n",
    "        print('\\tNop, esa no ...')\n",
    "        continue\n",
    "print('\\nFuera del while.')"
   ]
  },
  {
   "cell_type": "markdown",
   "metadata": {},
   "source": [
    "### Ejercicio"
   ]
  },
  {
   "cell_type": "markdown",
   "metadata": {},
   "source": [
    "Para este ejercicio, vas a necesitar la siguiente función: `randint`\n",
    "\n",
    "- Primero se debe importar el módulo `random`. Un módulo puede pensarse como programas que otros han escrito y que podemos agregar a nuestros propios programas.\n",
    "- `random` es un módulo de la **librería estándar** de Python, eso quiere decir que siempre está disponible.\n",
    "- Para agregarlo a nuestros programas, se ejecuta la siguiente instrucción"
   ]
  },
  {
   "cell_type": "code",
   "execution_count": 45,
   "metadata": {
    "ExecuteTime": {
     "end_time": "2021-07-25T17:21:41.785688Z",
     "start_time": "2021-07-25T17:21:41.782146Z"
    }
   },
   "outputs": [],
   "source": [
    "import random as rnd"
   ]
  },
  {
   "cell_type": "markdown",
   "metadata": {},
   "source": [
    "Del módulo `random` vamos a utilizar la función `randint(i, j)` que genera un número entero aleatorio entre `i` y `j` (ambos inclusive)."
   ]
  },
  {
   "cell_type": "markdown",
   "metadata": {},
   "source": [
    "Cada vez que se ejecuta esta celda, se obtiene un número entero nuevo de forma aleatoria."
   ]
  },
  {
   "cell_type": "code",
   "execution_count": 46,
   "metadata": {
    "ExecuteTime": {
     "end_time": "2021-07-25T17:21:41.793280Z",
     "start_time": "2021-07-25T17:21:41.788111Z"
    }
   },
   "outputs": [
    {
     "data": {
      "text/plain": [
       "6"
      ]
     },
     "execution_count": 46,
     "metadata": {},
     "output_type": "execute_result"
    }
   ],
   "source": [
    "rnd.randint(1, 10)"
   ]
  },
  {
   "cell_type": "markdown",
   "metadata": {},
   "source": [
    "#### Enunciado del Ejercicio"
   ]
  },
  {
   "cell_type": "markdown",
   "metadata": {
    "solution2": "shown",
    "solution2_first": true
   },
   "source": [
    "Vas a programar un juego muy sencillo utilizando `while` y la función `randint`.\n",
    "\n",
    "- El computador *elige* un número entero aleatorio, que llamaremos `num_secreto`, en un rango predeterminado.\n",
    "- Tú debes tratar de adivinarlo\n",
    "- Si lo adivinas ganas y tu puntaje es el número de veces que tuviste que jugar para adivinar `num_secreto`\n",
    "- Si no lo adivinas, el computador te responderá si el número que dijiste es más alto o más bajo que `num_secreto` y sigues jugando\n",
    "- Mientras más bajo tu puntaje, mejor"
   ]
  },
  {
   "cell_type": "markdown",
   "metadata": {
    "solution2": "shown"
   },
   "source": [
    "**Tip:** el resultado de input es un `str`"
   ]
  },
  {
   "cell_type": "code",
   "execution_count": 47,
   "metadata": {
    "ExecuteTime": {
     "end_time": "2021-07-25T17:21:57.661751Z",
     "start_time": "2021-07-25T17:21:41.795410Z"
    },
    "solution2": "shown"
   },
   "outputs": [
    {
     "name": "stdout",
     "output_type": "stream",
     "text": [
      "1\n"
     ]
    }
   ],
   "source": [
    "x = input()"
   ]
  },
  {
   "cell_type": "code",
   "execution_count": 48,
   "metadata": {
    "ExecuteTime": {
     "end_time": "2021-07-25T17:21:57.668627Z",
     "start_time": "2021-07-25T17:21:57.664706Z"
    },
    "solution2": "shown"
   },
   "outputs": [
    {
     "name": "stdout",
     "output_type": "stream",
     "text": [
      "<class 'str'>\n"
     ]
    }
   ],
   "source": [
    "print(type(x))"
   ]
  },
  {
   "cell_type": "markdown",
   "metadata": {
    "solution2": "shown"
   },
   "source": [
    "Para convertirlo a `int` hacer lo siguiente:"
   ]
  },
  {
   "cell_type": "code",
   "execution_count": 49,
   "metadata": {
    "ExecuteTime": {
     "end_time": "2021-07-25T17:21:57.676602Z",
     "start_time": "2021-07-25T17:21:57.671985Z"
    }
   },
   "outputs": [],
   "source": [
    "x = int(x)"
   ]
  },
  {
   "cell_type": "code",
   "execution_count": 50,
   "metadata": {
    "ExecuteTime": {
     "end_time": "2021-07-25T17:21:57.686414Z",
     "start_time": "2021-07-25T17:21:57.679592Z"
    }
   },
   "outputs": [
    {
     "data": {
      "text/plain": [
       "int"
      ]
     },
     "execution_count": 50,
     "metadata": {},
     "output_type": "execute_result"
    }
   ],
   "source": [
    "type(x)"
   ]
  },
  {
   "cell_type": "markdown",
   "metadata": {},
   "source": [
    "### Encuentra la TIR de un Bono"
   ]
  },
  {
   "cell_type": "markdown",
   "metadata": {},
   "source": [
    "Supongamos que tenemos un bono que está transando a un valor presente de 101 y queremos calcular cuál es su TUR de mercado. O sea, queremos determinar qué tasa de descuento hace que el valor presente del bono sea 101. Veamos como hacerlo utilizando los flujos y plazos definidos al principio del notebook."
   ]
  },
  {
   "cell_type": "code",
   "execution_count": 51,
   "metadata": {
    "ExecuteTime": {
     "end_time": "2021-07-25T17:21:57.697208Z",
     "start_time": "2021-07-25T17:21:57.691163Z"
    }
   },
   "outputs": [
    {
     "data": {
      "text/plain": [
       "[1, 1, 1, 1, 1, 1, 1, 1, 1, 101]"
      ]
     },
     "execution_count": 51,
     "metadata": {},
     "output_type": "execute_result"
    }
   ],
   "source": [
    "flujos"
   ]
  },
  {
   "cell_type": "code",
   "execution_count": 52,
   "metadata": {
    "ExecuteTime": {
     "end_time": "2021-07-25T17:21:57.705408Z",
     "start_time": "2021-07-25T17:21:57.699865Z"
    }
   },
   "outputs": [
    {
     "data": {
      "text/plain": [
       "[182, 365, 547, 730, 912, 1095, 1277, 1460, 1642, 1825]"
      ]
     },
     "execution_count": 52,
     "metadata": {},
     "output_type": "execute_result"
    }
   ],
   "source": [
    "plazos"
   ]
  },
  {
   "cell_type": "markdown",
   "metadata": {},
   "source": [
    "Tenemos que resolver la ecuación:\n",
    "\n",
    "$$VP\\left(TIR\\right)-P=0$$\n",
    "\n",
    "Para esto vamos a programar un mini `BuscarObjetivo` totalmente similar a l que usaríamos si resolviéramos este problema con Excel. Utilizaremos el método de Newton-Raphson que nos dice que podemos encontrar la solución a la ecuación anterior si iterativamente calculamos:\n",
    "\n",
    "$$TIR_{n+1}=TIR_n - \\frac{VP\\left(TIR_n\\right)-P}{VP'\\left(TIR_n\\right)}$$\n",
    "\n",
    "Aquí $V'\\left(TIR_n\\right)$ es la derivada del valor presente respecto a $TIR_n$."
   ]
  },
  {
   "cell_type": "markdown",
   "metadata": {},
   "source": [
    "La derivada del valor presente la calcularemos de forma numérica con la siguiente aproximación:\n",
    "\n",
    "$$VP'\\left(TIR_n\\right)\\approx\\frac{VP\\left(TIR_n+h\\right)-VP\\left(TIR_n-h\\right)}{2h}$$"
   ]
  },
  {
   "cell_type": "code",
   "execution_count": 74,
   "metadata": {
    "ExecuteTime": {
     "end_time": "2021-07-25T17:28:54.459023Z",
     "start_time": "2021-07-25T17:28:54.451031Z"
    }
   },
   "outputs": [],
   "source": [
    "def der_vp_bono(flujos, plazos, tasa):\n",
    "    \"\"\"\n",
    "    Calcula la derivada del valor presente del bono respecto a la tasa usando la aproximación\n",
    "    por diferencia central.\n",
    "    \n",
    "    VP'(tasa) = (VP(tasa + h) - VP(tasa - h)) / 2h\n",
    "    \n",
    "    Se utiliza un valor de h = .0001\n",
    "    \n",
    "    Parameters\n",
    "    ----------\n",
    "    \n",
    "    flujos: List[float]\n",
    "            Contiene los flujos del bono.\n",
    "            \n",
    "    plazos: List[float]\n",
    "            Contiene los plazos residuales de los flujos expresados en días.\n",
    "    \n",
    "    tasa: float\n",
    "          Tasa de descuento del bono. Debe ser en convención Com Act/365.\n",
    "          \n",
    "    Returns\n",
    "    -------\n",
    "    \n",
    "    float\n",
    "         La derivada del valor presente del bono.\n",
    "    \"\"\"\n",
    "    h = .0001\n",
    "    return (vp_bono(flujos, plazos, tasa + h) - vp_bono(flujos, plazos, tasa - h)) / (2*h)"
   ]
  },
  {
   "cell_type": "markdown",
   "metadata": {},
   "source": [
    "Realizamos un check:"
   ]
  },
  {
   "cell_type": "code",
   "execution_count": 75,
   "metadata": {
    "ExecuteTime": {
     "end_time": "2021-07-25T17:28:56.076170Z",
     "start_time": "2021-07-25T17:28:56.071976Z"
    }
   },
   "outputs": [],
   "source": [
    "h = .0001"
   ]
  },
  {
   "cell_type": "code",
   "execution_count": 76,
   "metadata": {
    "ExecuteTime": {
     "end_time": "2021-07-25T17:28:56.848804Z",
     "start_time": "2021-07-25T17:28:56.838920Z"
    }
   },
   "outputs": [
    {
     "data": {
      "text/plain": [
       "0.01796869909101433"
      ]
     },
     "execution_count": 76,
     "metadata": {},
     "output_type": "execute_result"
    }
   ],
   "source": [
    "vp = vp_bono(flujos, plazos, .02)\n",
    "vp_mas = vp_bono(flujos, plazos, .02 + h)\n",
    "vp_menos = vp_bono(flujos, plazos, .02 - h)\n",
    ".02-(vp-101)/((vp_mas-vp_menos)/(2*h))"
   ]
  },
  {
   "cell_type": "code",
   "execution_count": 77,
   "metadata": {
    "ExecuteTime": {
     "end_time": "2021-07-25T17:29:00.216578Z",
     "start_time": "2021-07-25T17:29:00.210960Z"
    }
   },
   "outputs": [
    {
     "data": {
      "text/plain": [
       "-469.1425137848171"
      ]
     },
     "execution_count": 77,
     "metadata": {},
     "output_type": "execute_result"
    }
   ],
   "source": [
    "der_vp_bono(flujos, plazos, .02)"
   ]
  },
  {
   "cell_type": "markdown",
   "metadata": {},
   "source": [
    "Ahora definimos la función que encuentre la TIR para un cierto precio de mercado."
   ]
  },
  {
   "cell_type": "code",
   "execution_count": 80,
   "metadata": {
    "ExecuteTime": {
     "end_time": "2021-07-25T17:29:21.903243Z",
     "start_time": "2021-07-25T17:29:21.896577Z"
    }
   },
   "outputs": [],
   "source": [
    "def encuentra_tir(flujos, plazos, vp, tasa):\n",
    "    \"\"\"\n",
    "    Calcula la tasa de descuento o TIR que hace que el valor presente del bono (en base 100)\n",
    "    sea igual a un valor dado.\n",
    "    \n",
    "    Parameters\n",
    "    ----------\n",
    "    \n",
    "    flujos: List[float]\n",
    "            Contiene los flujos del bono.\n",
    "            \n",
    "    plazos: List[float]\n",
    "            Contiene los plazos residuales de los flujos expresados en días.\n",
    "    \n",
    "    vp: float\n",
    "        Valor presente del bono.\n",
    "          \n",
    "    tasa: float\n",
    "          Estimación inicial del valor del resultado.\n",
    "          \n",
    "    Returns\n",
    "    -------\n",
    "    \n",
    "    float\n",
    "         Tasa de descuento buscada.\n",
    "    \"\"\"\n",
    "    epsilon = .000001\n",
    "    diff = 1000\n",
    "    while diff > epsilon:\n",
    "        q = (vp_bono(flujos, plazos, tasa) - vp) / der_vp_bono(flujos, plazos, tasa)\n",
    "        new_tasa = tasa - q\n",
    "        diff = abs(new_tasa - tasa)\n",
    "        tasa = new_tasa\n",
    "    return tasa"
   ]
  },
  {
   "cell_type": "code",
   "execution_count": 81,
   "metadata": {
    "ExecuteTime": {
     "end_time": "2021-07-25T17:29:22.589882Z",
     "start_time": "2021-07-25T17:29:22.586567Z"
    }
   },
   "outputs": [],
   "source": [
    "tir = encuentra_tir(flujos, plazos, 101, .02)"
   ]
  },
  {
   "cell_type": "code",
   "execution_count": 82,
   "metadata": {
    "ExecuteTime": {
     "end_time": "2021-07-25T17:29:41.350359Z",
     "start_time": "2021-07-25T17:29:41.343813Z"
    }
   },
   "outputs": [
    {
     "name": "stdout",
     "output_type": "stream",
     "text": [
      "El valor de la TIR es: 1.7981%\n"
     ]
    }
   ],
   "source": [
    "print(f'El valor de la TIR es: {tir:.4%}')"
   ]
  },
  {
   "cell_type": "markdown",
   "metadata": {},
   "source": [
    "Hagamos el check:"
   ]
  },
  {
   "cell_type": "code",
   "execution_count": 84,
   "metadata": {
    "ExecuteTime": {
     "end_time": "2021-07-25T17:30:40.583543Z",
     "start_time": "2021-07-25T17:30:40.579054Z"
    }
   },
   "outputs": [
    {
     "name": "stdout",
     "output_type": "stream",
     "text": [
      "El valor presente con la TIR es: 101.00000000\n"
     ]
    }
   ],
   "source": [
    "print(f'El valor presente con la TIR es: {vp_bono(flujos, plazos, tir):,.8f}')"
   ]
  }
 ],
 "metadata": {
  "hide_input": false,
  "kernelspec": {
   "display_name": "Python 3",
   "language": "python",
   "name": "python3"
  },
  "language_info": {
   "codemirror_mode": {
    "name": "ipython",
    "version": 3
   },
   "file_extension": ".py",
   "mimetype": "text/x-python",
   "name": "python",
   "nbconvert_exporter": "python",
   "pygments_lexer": "ipython3",
   "version": "3.7.3"
  },
  "toc": {
   "base_numbering": 1,
   "nav_menu": {},
   "number_sections": true,
   "sideBar": true,
   "skip_h1_title": true,
   "title_cell": "Table of Contents",
   "title_sidebar": "Contenido",
   "toc_cell": false,
   "toc_position": {},
   "toc_section_display": true,
   "toc_window_display": true
  }
 },
 "nbformat": 4,
 "nbformat_minor": 4
}
