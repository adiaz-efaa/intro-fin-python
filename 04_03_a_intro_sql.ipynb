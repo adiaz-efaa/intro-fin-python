{
 "cells": [
  {
   "cell_type": "markdown",
   "metadata": {},
   "source": [
    "# Implementando la BBDD de Datos de Mercado en PostgreSQL"
   ]
  },
  {
   "cell_type": "markdown",
   "metadata": {},
   "source": [
    "En la sesión creamos una definición más o menos precisa para una BBDD de precios de mercado. En esta sesión vamos a implementar esa BBDD en un servidor PostreSQL en la nube."
   ]
  },
  {
   "cell_type": "markdown",
   "metadata": {},
   "source": [
    "## PostreSQL"
   ]
  },
  {
   "cell_type": "markdown",
   "metadata": {},
   "source": [
    "PostgreSQL es un motor de bases de datos relacional open source muy utilizado tanto en otros proyectos open source como en entornos corporativos. Es un motor muy avanzado y de alto rendimiento. Para más detalles ver https://www.postgresql.org/."
   ]
  },
  {
   "cell_type": "markdown",
   "metadata": {},
   "source": [
    "Para esta actividad contamos con un servidor PostgreSQL en la nube. Vamos a establecer conexión con él, para eso, necesitamos la librería en Python que permite la interacción con un motor de BBDD PostreSQL."
   ]
  },
  {
   "cell_type": "code",
   "execution_count": 1,
   "metadata": {
    "ExecuteTime": {
     "end_time": "2021-09-22T19:56:30.592877Z",
     "start_time": "2021-09-22T19:56:30.575001Z"
    }
   },
   "outputs": [],
   "source": [
    "import psycopg2"
   ]
  },
  {
   "cell_type": "markdown",
   "metadata": {},
   "source": [
    "Se establece la conexión."
   ]
  },
  {
   "cell_type": "code",
   "execution_count": 2,
   "metadata": {
    "ExecuteTime": {
     "end_time": "2021-09-22T19:56:32.283248Z",
     "start_time": "2021-09-22T19:56:31.787986Z"
    }
   },
   "outputs": [],
   "source": [
    "conn = psycopg2.connect(\n",
    "    host=\"chunee.db.elephantsql.com\",\n",
    "    database=\"fzvvearc\",\n",
    "    user=\"fzvvearc\",\n",
    "    password=\"U2kRI8TA45Ie6zm3GIsM8D0-aZWZXTDN\"\n",
    ")"
   ]
  },
  {
   "cell_type": "markdown",
   "metadata": {},
   "source": [
    "### Revisando la BBDD"
   ]
  },
  {
   "cell_type": "markdown",
   "metadata": {},
   "source": [
    "Esta BBDD tiene ya algunas cosas que yo he creado para probar la conexión y la performance. Investiguemos un poco:"
   ]
  },
  {
   "cell_type": "code",
   "execution_count": 3,
   "metadata": {
    "ExecuteTime": {
     "end_time": "2021-09-22T19:56:34.198837Z",
     "start_time": "2021-09-22T19:56:34.052112Z"
    }
   },
   "outputs": [],
   "source": [
    "qry_schemas = \"select schema_name from information_schema.schemata\"\n",
    "with conn.cursor() as cursor:\n",
    "    cursor.execute(qry_schemas)\n",
    "    data = cursor.fetchall()"
   ]
  },
  {
   "cell_type": "code",
   "execution_count": 4,
   "metadata": {
    "ExecuteTime": {
     "end_time": "2021-09-22T19:56:36.647183Z",
     "start_time": "2021-09-22T19:56:36.630769Z"
    }
   },
   "outputs": [
    {
     "data": {
      "text/plain": [
       "[('pg_catalog',),\n",
       " ('public',),\n",
       " ('information_schema',),\n",
       " ('fixed_income',),\n",
       " ('market_data',),\n",
       " ('calendar_data',),\n",
       " ('enum_types',),\n",
       " ('user_data',)]"
      ]
     },
     "execution_count": 4,
     "metadata": {},
     "output_type": "execute_result"
    }
   ],
   "source": [
    "data"
   ]
  },
  {
   "cell_type": "markdown",
   "metadata": {},
   "source": [
    "También podemos usar `pandas` para tener un ouput más amistoso."
   ]
  },
  {
   "cell_type": "code",
   "execution_count": 5,
   "metadata": {
    "ExecuteTime": {
     "end_time": "2021-09-22T19:56:37.715496Z",
     "start_time": "2021-09-22T19:56:37.398825Z"
    }
   },
   "outputs": [],
   "source": [
    "import pandas as pd"
   ]
  },
  {
   "cell_type": "code",
   "execution_count": 6,
   "metadata": {
    "ExecuteTime": {
     "end_time": "2021-09-22T19:56:37.971669Z",
     "start_time": "2021-09-22T19:56:37.809833Z"
    }
   },
   "outputs": [
    {
     "data": {
      "text/html": [
       "<div>\n",
       "<style scoped>\n",
       "    .dataframe tbody tr th:only-of-type {\n",
       "        vertical-align: middle;\n",
       "    }\n",
       "\n",
       "    .dataframe tbody tr th {\n",
       "        vertical-align: top;\n",
       "    }\n",
       "\n",
       "    .dataframe thead th {\n",
       "        text-align: right;\n",
       "    }\n",
       "</style>\n",
       "<table border=\"1\" class=\"dataframe\">\n",
       "  <thead>\n",
       "    <tr style=\"text-align: right;\">\n",
       "      <th></th>\n",
       "      <th>schema_name</th>\n",
       "    </tr>\n",
       "  </thead>\n",
       "  <tbody>\n",
       "    <tr>\n",
       "      <th>0</th>\n",
       "      <td>pg_catalog</td>\n",
       "    </tr>\n",
       "    <tr>\n",
       "      <th>1</th>\n",
       "      <td>public</td>\n",
       "    </tr>\n",
       "    <tr>\n",
       "      <th>2</th>\n",
       "      <td>information_schema</td>\n",
       "    </tr>\n",
       "    <tr>\n",
       "      <th>3</th>\n",
       "      <td>fixed_income</td>\n",
       "    </tr>\n",
       "    <tr>\n",
       "      <th>4</th>\n",
       "      <td>market_data</td>\n",
       "    </tr>\n",
       "    <tr>\n",
       "      <th>5</th>\n",
       "      <td>calendar_data</td>\n",
       "    </tr>\n",
       "    <tr>\n",
       "      <th>6</th>\n",
       "      <td>enum_types</td>\n",
       "    </tr>\n",
       "    <tr>\n",
       "      <th>7</th>\n",
       "      <td>user_data</td>\n",
       "    </tr>\n",
       "  </tbody>\n",
       "</table>\n",
       "</div>"
      ],
      "text/plain": [
       "          schema_name\n",
       "0          pg_catalog\n",
       "1              public\n",
       "2  information_schema\n",
       "3        fixed_income\n",
       "4         market_data\n",
       "5       calendar_data\n",
       "6          enum_types\n",
       "7           user_data"
      ]
     },
     "execution_count": 6,
     "metadata": {},
     "output_type": "execute_result"
    }
   ],
   "source": [
    "pd.read_sql(qry_schemas, conn)"
   ]
  },
  {
   "cell_type": "markdown",
   "metadata": {},
   "source": [
    "Los últimos 5 esquemas, son los que yo creé. Vamos a investigar un poco más."
   ]
  },
  {
   "cell_type": "markdown",
   "metadata": {},
   "source": [
    "**NOTA:** Los esquemas (*schema*) de una BBDD son simplemente grupos de tablas. Es una agrupación que se realiza por diseño y no es estrictamente necesaria. Es similar a la organización en carpetas de los archivos en un disco duro."
   ]
  },
  {
   "cell_type": "code",
   "execution_count": 7,
   "metadata": {
    "ExecuteTime": {
     "end_time": "2021-09-22T19:56:52.502291Z",
     "start_time": "2021-09-22T19:56:52.417774Z"
    }
   },
   "outputs": [
    {
     "data": {
      "text/html": [
       "<div>\n",
       "<style scoped>\n",
       "    .dataframe tbody tr th:only-of-type {\n",
       "        vertical-align: middle;\n",
       "    }\n",
       "\n",
       "    .dataframe tbody tr th {\n",
       "        vertical-align: top;\n",
       "    }\n",
       "\n",
       "    .dataframe thead th {\n",
       "        text-align: right;\n",
       "    }\n",
       "</style>\n",
       "<table border=\"1\" class=\"dataframe\">\n",
       "  <thead>\n",
       "    <tr style=\"text-align: right;\">\n",
       "      <th></th>\n",
       "      <th>table_schema</th>\n",
       "      <th>table_name</th>\n",
       "    </tr>\n",
       "  </thead>\n",
       "  <tbody>\n",
       "    <tr>\n",
       "      <th>0</th>\n",
       "      <td>market_data</td>\n",
       "      <td>capitalization_indexes</td>\n",
       "    </tr>\n",
       "    <tr>\n",
       "      <th>1</th>\n",
       "      <td>market_data</td>\n",
       "      <td>capitalization_index_values</td>\n",
       "    </tr>\n",
       "    <tr>\n",
       "      <th>2</th>\n",
       "      <td>market_data</td>\n",
       "      <td>currencies</td>\n",
       "    </tr>\n",
       "    <tr>\n",
       "      <th>3</th>\n",
       "      <td>market_data</td>\n",
       "      <td>fx_rates</td>\n",
       "    </tr>\n",
       "    <tr>\n",
       "      <th>4</th>\n",
       "      <td>market_data</td>\n",
       "      <td>fx_rate_indexes</td>\n",
       "    </tr>\n",
       "    <tr>\n",
       "      <th>5</th>\n",
       "      <td>market_data</td>\n",
       "      <td>fx_rate_index_values</td>\n",
       "    </tr>\n",
       "  </tbody>\n",
       "</table>\n",
       "</div>"
      ],
      "text/plain": [
       "  table_schema                   table_name\n",
       "0  market_data       capitalization_indexes\n",
       "1  market_data  capitalization_index_values\n",
       "2  market_data                   currencies\n",
       "3  market_data                     fx_rates\n",
       "4  market_data              fx_rate_indexes\n",
       "5  market_data         fx_rate_index_values"
      ]
     },
     "execution_count": 7,
     "metadata": {},
     "output_type": "execute_result"
    }
   ],
   "source": [
    "qry = \"SELECT table_schema, table_name FROM information_schema.tables WHERE table_schema = 'market_data'\"\n",
    "pd.read_sql(qry, conn)"
   ]
  },
  {
   "cell_type": "markdown",
   "metadata": {},
   "source": [
    "Vamos a ver que hay en la tabla `fx_rate_index_values`."
   ]
  },
  {
   "cell_type": "code",
   "execution_count": 8,
   "metadata": {
    "ExecuteTime": {
     "end_time": "2021-09-22T19:56:55.873269Z",
     "start_time": "2021-09-22T19:56:55.422059Z"
    }
   },
   "outputs": [],
   "source": [
    "qry = \"SELECT * FROM market_data.fx_rate_index_values\"\n",
    "result = pd.read_sql(qry, conn)"
   ]
  },
  {
   "cell_type": "code",
   "execution_count": 9,
   "metadata": {
    "ExecuteTime": {
     "end_time": "2021-09-22T19:56:56.628392Z",
     "start_time": "2021-09-22T19:56:56.616864Z"
    }
   },
   "outputs": [
    {
     "data": {
      "text/html": [
       "<div>\n",
       "<style scoped>\n",
       "    .dataframe tbody tr th:only-of-type {\n",
       "        vertical-align: middle;\n",
       "    }\n",
       "\n",
       "    .dataframe tbody tr th {\n",
       "        vertical-align: top;\n",
       "    }\n",
       "\n",
       "    .dataframe thead th {\n",
       "        text-align: right;\n",
       "    }\n",
       "</style>\n",
       "<table border=\"1\" class=\"dataframe\">\n",
       "  <thead>\n",
       "    <tr style=\"text-align: right;\">\n",
       "      <th></th>\n",
       "      <th>id</th>\n",
       "      <th>fx_rate_index_code</th>\n",
       "      <th>date</th>\n",
       "      <th>value</th>\n",
       "    </tr>\n",
       "  </thead>\n",
       "  <tbody>\n",
       "    <tr>\n",
       "      <th>0</th>\n",
       "      <td>1</td>\n",
       "      <td>UF</td>\n",
       "      <td>2000-01-01</td>\n",
       "      <td>15067.93</td>\n",
       "    </tr>\n",
       "    <tr>\n",
       "      <th>1</th>\n",
       "      <td>2</td>\n",
       "      <td>UF</td>\n",
       "      <td>2000-01-02</td>\n",
       "      <td>15068.90</td>\n",
       "    </tr>\n",
       "    <tr>\n",
       "      <th>2</th>\n",
       "      <td>3</td>\n",
       "      <td>UF</td>\n",
       "      <td>2000-01-03</td>\n",
       "      <td>15069.87</td>\n",
       "    </tr>\n",
       "    <tr>\n",
       "      <th>3</th>\n",
       "      <td>4</td>\n",
       "      <td>UF</td>\n",
       "      <td>2000-01-04</td>\n",
       "      <td>15070.84</td>\n",
       "    </tr>\n",
       "    <tr>\n",
       "      <th>4</th>\n",
       "      <td>5</td>\n",
       "      <td>UF</td>\n",
       "      <td>2000-01-05</td>\n",
       "      <td>15071.82</td>\n",
       "    </tr>\n",
       "  </tbody>\n",
       "</table>\n",
       "</div>"
      ],
      "text/plain": [
       "   id fx_rate_index_code        date     value\n",
       "0   1                 UF  2000-01-01  15067.93\n",
       "1   2                 UF  2000-01-02  15068.90\n",
       "2   3                 UF  2000-01-03  15069.87\n",
       "3   4                 UF  2000-01-04  15070.84\n",
       "4   5                 UF  2000-01-05  15071.82"
      ]
     },
     "execution_count": 9,
     "metadata": {},
     "output_type": "execute_result"
    }
   ],
   "source": [
    "result.head()"
   ]
  },
  {
   "cell_type": "code",
   "execution_count": 10,
   "metadata": {
    "ExecuteTime": {
     "end_time": "2021-09-22T19:56:57.694374Z",
     "start_time": "2021-09-22T19:56:57.682875Z"
    }
   },
   "outputs": [
    {
     "data": {
      "text/html": [
       "<div>\n",
       "<style scoped>\n",
       "    .dataframe tbody tr th:only-of-type {\n",
       "        vertical-align: middle;\n",
       "    }\n",
       "\n",
       "    .dataframe tbody tr th {\n",
       "        vertical-align: top;\n",
       "    }\n",
       "\n",
       "    .dataframe thead th {\n",
       "        text-align: right;\n",
       "    }\n",
       "</style>\n",
       "<table border=\"1\" class=\"dataframe\">\n",
       "  <thead>\n",
       "    <tr style=\"text-align: right;\">\n",
       "      <th></th>\n",
       "      <th>id</th>\n",
       "      <th>fx_rate_index_code</th>\n",
       "      <th>date</th>\n",
       "      <th>value</th>\n",
       "    </tr>\n",
       "  </thead>\n",
       "  <tbody>\n",
       "    <tr>\n",
       "      <th>7947</th>\n",
       "      <td>7948</td>\n",
       "      <td>UF</td>\n",
       "      <td>2021-10-05</td>\n",
       "      <td>30108.40</td>\n",
       "    </tr>\n",
       "    <tr>\n",
       "      <th>7948</th>\n",
       "      <td>7949</td>\n",
       "      <td>UF</td>\n",
       "      <td>2021-10-06</td>\n",
       "      <td>30112.40</td>\n",
       "    </tr>\n",
       "    <tr>\n",
       "      <th>7949</th>\n",
       "      <td>7950</td>\n",
       "      <td>UF</td>\n",
       "      <td>2021-10-07</td>\n",
       "      <td>30116.41</td>\n",
       "    </tr>\n",
       "    <tr>\n",
       "      <th>7950</th>\n",
       "      <td>7951</td>\n",
       "      <td>UF</td>\n",
       "      <td>2021-10-08</td>\n",
       "      <td>30120.42</td>\n",
       "    </tr>\n",
       "    <tr>\n",
       "      <th>7951</th>\n",
       "      <td>7952</td>\n",
       "      <td>UF</td>\n",
       "      <td>2021-10-09</td>\n",
       "      <td>30124.43</td>\n",
       "    </tr>\n",
       "  </tbody>\n",
       "</table>\n",
       "</div>"
      ],
      "text/plain": [
       "        id fx_rate_index_code        date     value\n",
       "7947  7948                 UF  2021-10-05  30108.40\n",
       "7948  7949                 UF  2021-10-06  30112.40\n",
       "7949  7950                 UF  2021-10-07  30116.41\n",
       "7950  7951                 UF  2021-10-08  30120.42\n",
       "7951  7952                 UF  2021-10-09  30124.43"
      ]
     },
     "execution_count": 10,
     "metadata": {},
     "output_type": "execute_result"
    }
   ],
   "source": [
    "result.tail()"
   ]
  },
  {
   "cell_type": "markdown",
   "metadata": {},
   "source": [
    "El valor de la UF desde el 2000 hasta hoy ... en 21 años se duplicó el valor de la UF."
   ]
  },
  {
   "cell_type": "markdown",
   "metadata": {},
   "source": [
    "$$UF_T=UF_0\\cdot\\left(1+I_{anual}\\right)^{21}$$\n",
    "\n",
    "$$I_{anual}=\\left(\\frac{UF_T}{UF_0}\\right)^{\\frac{1}{21}}-1$$\n",
    "\n",
    "Haciendo el cálculo muy al ojo ..."
   ]
  },
  {
   "cell_type": "code",
   "execution_count": 11,
   "metadata": {
    "ExecuteTime": {
     "end_time": "2021-09-22T19:56:59.817056Z",
     "start_time": "2021-09-22T19:56:59.806642Z"
    }
   },
   "outputs": [
    {
     "name": "stdout",
     "output_type": "stream",
     "text": [
      "Inflación anual promedio de los últimos 21 años: 3.35%\n"
     ]
    }
   ],
   "source": [
    "i = (30123.33 / 15067.93)**(1 / 21) - 1\n",
    "print(f'Inflación anual promedio de los últimos 21 años: {i:.2%}')"
   ]
  },
  {
   "cell_type": "markdown",
   "metadata": {},
   "source": [
    "## Construyendo la Nueva BBDD"
   ]
  },
  {
   "cell_type": "markdown",
   "metadata": {},
   "source": [
    "Partamos creando un esquema donde iremos a alojar las tablas que definimos."
   ]
  },
  {
   "cell_type": "code",
   "execution_count": 12,
   "metadata": {
    "ExecuteTime": {
     "end_time": "2021-09-22T19:57:12.623733Z",
     "start_time": "2021-09-22T19:57:12.471854Z"
    }
   },
   "outputs": [],
   "source": [
    "qry = \"CREATE SCHEMA IF NOT EXISTS lv_cdb_mkt_data\"\n",
    "with conn.cursor() as cursor:\n",
    "    cursor.execute(qry)\n",
    "    conn.commit()"
   ]
  },
  {
   "cell_type": "markdown",
   "metadata": {},
   "source": [
    "Verifiquemos."
   ]
  },
  {
   "cell_type": "code",
   "execution_count": 13,
   "metadata": {
    "ExecuteTime": {
     "end_time": "2021-09-22T19:57:14.194609Z",
     "start_time": "2021-09-22T19:57:14.043085Z"
    }
   },
   "outputs": [
    {
     "data": {
      "text/html": [
       "<div>\n",
       "<style scoped>\n",
       "    .dataframe tbody tr th:only-of-type {\n",
       "        vertical-align: middle;\n",
       "    }\n",
       "\n",
       "    .dataframe tbody tr th {\n",
       "        vertical-align: top;\n",
       "    }\n",
       "\n",
       "    .dataframe thead th {\n",
       "        text-align: right;\n",
       "    }\n",
       "</style>\n",
       "<table border=\"1\" class=\"dataframe\">\n",
       "  <thead>\n",
       "    <tr style=\"text-align: right;\">\n",
       "      <th></th>\n",
       "      <th>schema_name</th>\n",
       "    </tr>\n",
       "  </thead>\n",
       "  <tbody>\n",
       "    <tr>\n",
       "      <th>0</th>\n",
       "      <td>pg_catalog</td>\n",
       "    </tr>\n",
       "    <tr>\n",
       "      <th>1</th>\n",
       "      <td>public</td>\n",
       "    </tr>\n",
       "    <tr>\n",
       "      <th>2</th>\n",
       "      <td>information_schema</td>\n",
       "    </tr>\n",
       "    <tr>\n",
       "      <th>3</th>\n",
       "      <td>fixed_income</td>\n",
       "    </tr>\n",
       "    <tr>\n",
       "      <th>4</th>\n",
       "      <td>market_data</td>\n",
       "    </tr>\n",
       "    <tr>\n",
       "      <th>5</th>\n",
       "      <td>calendar_data</td>\n",
       "    </tr>\n",
       "    <tr>\n",
       "      <th>6</th>\n",
       "      <td>enum_types</td>\n",
       "    </tr>\n",
       "    <tr>\n",
       "      <th>7</th>\n",
       "      <td>user_data</td>\n",
       "    </tr>\n",
       "    <tr>\n",
       "      <th>8</th>\n",
       "      <td>lv_cdb_mkt_data</td>\n",
       "    </tr>\n",
       "  </tbody>\n",
       "</table>\n",
       "</div>"
      ],
      "text/plain": [
       "          schema_name\n",
       "0          pg_catalog\n",
       "1              public\n",
       "2  information_schema\n",
       "3        fixed_income\n",
       "4         market_data\n",
       "5       calendar_data\n",
       "6          enum_types\n",
       "7           user_data\n",
       "8     lv_cdb_mkt_data"
      ]
     },
     "execution_count": 13,
     "metadata": {},
     "output_type": "execute_result"
    }
   ],
   "source": [
    "pd.read_sql(qry_schemas, conn)"
   ]
  },
  {
   "cell_type": "markdown",
   "metadata": {},
   "source": [
    "### Tablas"
   ]
  },
  {
   "cell_type": "markdown",
   "metadata": {},
   "source": [
    "Las siguientes son las tablas definidas en la sesión anterior, pero ordenadas de forma que podamos ir dándolas de alta una a una."
   ]
  },
  {
   "cell_type": "markdown",
   "metadata": {},
   "source": [
    "- Tipo de valor\n",
    "  - id\n",
    "  - codigo (bid, ask, ...)\n",
    "  - descripcion \n",
    " \n",
    " \n",
    " - Tipo de dato\n",
    "  - id\n",
    "  - codigo (unique)\n",
    "  - descripcion\n",
    "  \n",
    "  \n",
    "- Asset Class\n",
    " - id\n",
    " - codigo\n",
    " - descripcion\n",
    "\n",
    "\n",
    " - Activos\n",
    "  - id\n",
    "  - codigo\n",
    "  - codigo asset class\n",
    "  - descripcion\n",
    " \n",
    " \n",
    "- Caracteristicas Activos\n",
    " - id\n",
    " - codigo del activo (FK a Activos)\n",
    " - characteristicas: y esto es un JSON (piensen en un Dict de Python)\n",
    "\n",
    "  \n",
    "- Serie de precios (precios diarios):\n",
    " - timestamp\n",
    " - identificador del activo (FK a Activos)\n",
    " - tipo de dato (FK al codigo de tipo de dato)\n",
    " - tipo de valor (bid, ask, close, last ..., NAV que aplica para los ETF)\n",
    " - valor\n",
    " \n",
    "\n",
    "- Curvas - Superficies\n",
    " - id\n",
    " - codigo\n",
    " - descripcion\n",
    "\n",
    "\n",
    "- Elementos Curvas\n",
    " - id\n",
    " - codigo activo\n",
    " - codigo curva\n",
    " \n",
    "\n",
    "- Emisores\n",
    "\n",
    "\n",
    "- Ratings\n",
    " - Necesita una dimensión temporal"
   ]
  },
  {
   "cell_type": "markdown",
   "metadata": {},
   "source": [
    "### Tabla `tipo de valor`"
   ]
  },
  {
   "cell_type": "markdown",
   "metadata": {},
   "source": [
    "Los \"\\\" son sólo para continuar la `str` en la línea siguiente, no son parte de la query ejecutada."
   ]
  },
  {
   "cell_type": "code",
   "execution_count": 14,
   "metadata": {
    "ExecuteTime": {
     "end_time": "2021-09-22T19:57:19.442255Z",
     "start_time": "2021-09-22T19:57:19.260493Z"
    }
   },
   "outputs": [],
   "source": [
    "qry = \"CREATE TABLE IF NOT EXISTS lv_cdb_mkt_data.tipo_de_valor ( \\\n",
    "id serial8 PRIMARY KEY, \\\n",
    "codigo VARCHAR ( 50 ) UNIQUE NOT NULL, \\\n",
    "descripcion VARCHAR ( 255 ) NOT NULL);\"\n",
    "with conn.cursor() as cursor:\n",
    "    cursor.execute(qry)\n",
    "    conn.commit()"
   ]
  },
  {
   "cell_type": "code",
   "execution_count": 15,
   "metadata": {
    "ExecuteTime": {
     "end_time": "2021-09-22T19:57:20.584797Z",
     "start_time": "2021-09-22T19:57:20.580155Z"
    }
   },
   "outputs": [
    {
     "name": "stdout",
     "output_type": "stream",
     "text": [
      "CREATE TABLE IF NOT EXISTS lv_cdb_mkt_data.tipo_de_valor ( id serial8 PRIMARY KEY, codigo VARCHAR ( 50 ) UNIQUE NOT NULL, descripcion VARCHAR ( 255 ) NOT NULL);\n"
     ]
    }
   ],
   "source": [
    "print(qry)"
   ]
  },
  {
   "cell_type": "markdown",
   "metadata": {},
   "source": [
    "### Tabla `tipo_de_dato`"
   ]
  },
  {
   "cell_type": "code",
   "execution_count": 16,
   "metadata": {
    "ExecuteTime": {
     "end_time": "2021-09-22T19:57:21.939168Z",
     "start_time": "2021-09-22T19:57:21.704641Z"
    }
   },
   "outputs": [],
   "source": [
    "qry = \"CREATE TABLE IF NOT EXISTS lv_cdb_mkt_data.tipo_de_dato ( \\\n",
    "id serial8 PRIMARY KEY, \\\n",
    "codigo VARCHAR ( 50 ) UNIQUE NOT NULL, \\\n",
    "descripcion VARCHAR ( 255 ) NOT NULL);\"\n",
    "with conn.cursor() as cursor:\n",
    "    cursor.execute(qry)\n",
    "    conn.commit()"
   ]
  },
  {
   "cell_type": "markdown",
   "metadata": {},
   "source": [
    "### Tabla `clase_de_activo` (asset class)"
   ]
  },
  {
   "cell_type": "code",
   "execution_count": 17,
   "metadata": {
    "ExecuteTime": {
     "end_time": "2021-09-22T19:57:23.134587Z",
     "start_time": "2021-09-22T19:57:22.883883Z"
    }
   },
   "outputs": [],
   "source": [
    "qry = \"CREATE TABLE IF NOT EXISTS lv_cdb_mkt_data.clase_de_activo ( \\\n",
    "id serial8 PRIMARY KEY, \\\n",
    "codigo VARCHAR ( 50 ) UNIQUE NOT NULL, \\\n",
    "descripcion VARCHAR ( 255 ) NOT NULL);\"\n",
    "with conn.cursor() as cursor:\n",
    "    cursor.execute(qry)\n",
    "    conn.commit()"
   ]
  },
  {
   "cell_type": "markdown",
   "metadata": {},
   "source": [
    "### Tabla `activos`"
   ]
  },
  {
   "cell_type": "code",
   "execution_count": 18,
   "metadata": {
    "ExecuteTime": {
     "end_time": "2021-09-22T19:57:24.675379Z",
     "start_time": "2021-09-22T19:57:24.438220Z"
    }
   },
   "outputs": [],
   "source": [
    "qry = \"CREATE TABLE IF NOT EXISTS lv_cdb_mkt_data.activos ( \\\n",
    "id serial8 PRIMARY KEY, \\\n",
    "codigo VARCHAR ( 50 ) UNIQUE NOT NULL, \\\n",
    "descripcion VARCHAR ( 255 ) NOT NULL, \\\n",
    "codigo_clase_activo VARCHAR ( 50 ) NOT NULL, \\\n",
    "caracteristicas VARCHAR ( 255 ) NOT NULL, \\\n",
    "FOREIGN KEY (codigo_clase_activo) \\\n",
    "REFERENCES lv_cdb_mkt_data.clase_de_activo (codigo));\"\n",
    "with conn.cursor() as cursor:\n",
    "    cursor.execute(qry)\n",
    "    conn.commit()"
   ]
  },
  {
   "cell_type": "markdown",
   "metadata": {},
   "source": [
    "### Tabla `caracteristicas_activos`"
   ]
  },
  {
   "cell_type": "code",
   "execution_count": 19,
   "metadata": {
    "ExecuteTime": {
     "end_time": "2021-09-22T19:57:28.152815Z",
     "start_time": "2021-09-22T19:57:27.920737Z"
    }
   },
   "outputs": [],
   "source": [
    "qry = \"CREATE TABLE IF NOT EXISTS lv_cdb_mkt_data.caracteristicas_activos ( \\\n",
    "id serial8 PRIMARY KEY, \\\n",
    "codigo_activo VARCHAR ( 50 ) NOT NULL, \\\n",
    "caracteristicas JSONB NOT NULL, \\\n",
    "FOREIGN KEY (codigo_activo) \\\n",
    "REFERENCES lv_cdb_mkt_data.activos (codigo));\"\n",
    "with conn.cursor() as cursor:\n",
    "    cursor.execute(qry)\n",
    "    conn.commit()"
   ]
  },
  {
   "cell_type": "markdown",
   "metadata": {},
   "source": [
    "### Tabla `precios` (series de precios)"
   ]
  },
  {
   "cell_type": "code",
   "execution_count": 20,
   "metadata": {
    "ExecuteTime": {
     "end_time": "2021-09-22T19:57:30.366980Z",
     "start_time": "2021-09-22T19:57:30.132758Z"
    }
   },
   "outputs": [],
   "source": [
    "qry = \"CREATE TABLE IF NOT EXISTS lv_cdb_mkt_data.precios ( \\\n",
    "id serial8 PRIMARY KEY, \\\n",
    "fecha_hora TIMESTAMP NOT NULL, \\\n",
    "codigo_activo VARCHAR ( 50 ) NOT NULL, \\\n",
    "codigo_tipo_de_dato VARCHAR ( 50 ) NOT NULL, \\\n",
    "codigo_tipo_de_valor VARCHAR ( 50 ) NOT NULL, \\\n",
    "valor NUMERIC NOT NULL, \\\n",
    "FOREIGN KEY (codigo_activo) \\\n",
    "REFERENCES lv_cdb_mkt_data.activos (codigo), \\\n",
    "FOREIGN KEY (codigo_tipo_de_dato) \\\n",
    "REFERENCES lv_cdb_mkt_data.tipo_de_dato (codigo), \\\n",
    "FOREIGN KEY (codigo_tipo_de_valor) \\\n",
    "REFERENCES lv_cdb_mkt_data.tipo_de_valor (codigo));\"\n",
    "with conn.cursor() as cursor:\n",
    "    cursor.execute(qry)\n",
    "    conn.commit()"
   ]
  },
  {
   "cell_type": "markdown",
   "metadata": {},
   "source": [
    "### Tarea"
   ]
  },
  {
   "cell_type": "markdown",
   "metadata": {},
   "source": [
    "Dar de alta las tablas que faltan."
   ]
  },
  {
   "cell_type": "markdown",
   "metadata": {},
   "source": [
    "## Insertar Data"
   ]
  },
  {
   "cell_type": "markdown",
   "metadata": {},
   "source": [
    "Vamos a subir algunos valores de la UF para partir. La data es la siguiente:"
   ]
  },
  {
   "cell_type": "code",
   "execution_count": 21,
   "metadata": {
    "ExecuteTime": {
     "end_time": "2021-09-22T19:57:34.204848Z",
     "start_time": "2021-09-22T19:57:34.197113Z"
    }
   },
   "outputs": [],
   "source": [
    "ufs = pd.read_csv('data/valores_uf.csv')"
   ]
  },
  {
   "cell_type": "code",
   "execution_count": 22,
   "metadata": {
    "ExecuteTime": {
     "end_time": "2021-09-22T19:57:35.027304Z",
     "start_time": "2021-09-22T19:57:35.016888Z"
    }
   },
   "outputs": [
    {
     "data": {
      "text/html": [
       "<div>\n",
       "<style scoped>\n",
       "    .dataframe tbody tr th:only-of-type {\n",
       "        vertical-align: middle;\n",
       "    }\n",
       "\n",
       "    .dataframe tbody tr th {\n",
       "        vertical-align: top;\n",
       "    }\n",
       "\n",
       "    .dataframe thead th {\n",
       "        text-align: right;\n",
       "    }\n",
       "</style>\n",
       "<table border=\"1\" class=\"dataframe\">\n",
       "  <thead>\n",
       "    <tr style=\"text-align: right;\">\n",
       "      <th></th>\n",
       "      <th>fx_rate_index_code</th>\n",
       "      <th>date</th>\n",
       "      <th>value</th>\n",
       "    </tr>\n",
       "  </thead>\n",
       "  <tbody>\n",
       "    <tr>\n",
       "      <th>0</th>\n",
       "      <td>UF</td>\n",
       "      <td>2021-10-09</td>\n",
       "      <td>30124.43</td>\n",
       "    </tr>\n",
       "    <tr>\n",
       "      <th>1</th>\n",
       "      <td>UF</td>\n",
       "      <td>2021-10-08</td>\n",
       "      <td>30120.42</td>\n",
       "    </tr>\n",
       "    <tr>\n",
       "      <th>2</th>\n",
       "      <td>UF</td>\n",
       "      <td>2021-10-07</td>\n",
       "      <td>30116.41</td>\n",
       "    </tr>\n",
       "    <tr>\n",
       "      <th>3</th>\n",
       "      <td>UF</td>\n",
       "      <td>2021-10-06</td>\n",
       "      <td>30112.40</td>\n",
       "    </tr>\n",
       "    <tr>\n",
       "      <th>4</th>\n",
       "      <td>UF</td>\n",
       "      <td>2021-10-05</td>\n",
       "      <td>30108.40</td>\n",
       "    </tr>\n",
       "  </tbody>\n",
       "</table>\n",
       "</div>"
      ],
      "text/plain": [
       "  fx_rate_index_code        date     value\n",
       "0                 UF  2021-10-09  30124.43\n",
       "1                 UF  2021-10-08  30120.42\n",
       "2                 UF  2021-10-07  30116.41\n",
       "3                 UF  2021-10-06  30112.40\n",
       "4                 UF  2021-10-05  30108.40"
      ]
     },
     "execution_count": 22,
     "metadata": {},
     "output_type": "execute_result"
    }
   ],
   "source": [
    "ufs.head()"
   ]
  },
  {
   "cell_type": "markdown",
   "metadata": {},
   "source": [
    "Pero no es llegar y subirla, hay que seguir el orden de las tablas que dimos de alta.\n",
    "\n",
    "- Clase de activo ---> INDICE\n",
    "- El activo ---> UF\n",
    "- Tipo de valor ---> DIARIO\n",
    "- Tipo de dato ---> PUBLICADO\n",
    "\n",
    "Vamos a definir funciones para hacer las inserciones, así no tenemos que recordar la sintaxis SQL."
   ]
  },
  {
   "cell_type": "markdown",
   "metadata": {},
   "source": [
    "### `clase_activo`"
   ]
  },
  {
   "cell_type": "code",
   "execution_count": 23,
   "metadata": {
    "ExecuteTime": {
     "end_time": "2021-09-22T19:57:38.648786Z",
     "start_time": "2021-09-22T19:57:38.643098Z"
    }
   },
   "outputs": [],
   "source": [
    "def inserta_clase_activo(codigo, descripcion, conn):\n",
    "    qry = \"INSERT INTO lv_cdb_mkt_data.clase_de_activo (codigo, descripcion) \\\n",
    "    VALUES (%s, %s)\"\n",
    "    try:\n",
    "        cursor = conn.cursor()\n",
    "        cursor.execute(qry, [codigo, descripcion])\n",
    "        conn.commit()\n",
    "    except Exception as e:\n",
    "        print(f'Se produjo el error: {str(e)}')\n",
    "    finally:\n",
    "        conn.rollback()\n",
    "        if cursor is not None:\n",
    "            cursor.close()"
   ]
  },
  {
   "cell_type": "code",
   "execution_count": 24,
   "metadata": {
    "ExecuteTime": {
     "end_time": "2021-09-22T19:57:42.342287Z",
     "start_time": "2021-09-22T19:57:42.121381Z"
    }
   },
   "outputs": [],
   "source": [
    "inserta_clase_activo('INDICE', 'Representa índices de inflación, equity, tasa de interés ...', conn)"
   ]
  },
  {
   "cell_type": "markdown",
   "metadata": {},
   "source": [
    "### `activo`"
   ]
  },
  {
   "cell_type": "code",
   "execution_count": 25,
   "metadata": {
    "ExecuteTime": {
     "end_time": "2021-09-22T19:57:45.850948Z",
     "start_time": "2021-09-22T19:57:45.845412Z"
    }
   },
   "outputs": [],
   "source": [
    "def inserta_activo(codigo, descripcion, clase_activo, caracteristicas, conn):\n",
    "    qry = \"INSERT INTO lv_cdb_mkt_data.activos (codigo, descripcion, \\\n",
    "    codigo_clase_activo, caracteristicas) \\\n",
    "    VALUES (%s, %s, %s, %s)\"\n",
    "    try:\n",
    "        cursor = conn.cursor()\n",
    "        cursor.execute(qry, [codigo, descripcion, clase_activo, caracteristicas])\n",
    "        conn.commit()\n",
    "    except Exception as e:\n",
    "        print(f'Se produjo el error: {str(e)}')\n",
    "    finally:\n",
    "        conn.rollback()\n",
    "        if cursor is not None:\n",
    "            cursor.close()"
   ]
  },
  {
   "cell_type": "code",
   "execution_count": 26,
   "metadata": {
    "ExecuteTime": {
     "end_time": "2021-09-22T19:57:55.206760Z",
     "start_time": "2021-09-22T19:57:54.986257Z"
    }
   },
   "outputs": [],
   "source": [
    "inserta_activo('UF', 'Indice de inflación mensual de Chile', 'INDICE', '{}', conn)"
   ]
  },
  {
   "cell_type": "markdown",
   "metadata": {},
   "source": [
    "### `tipo_de_valor`"
   ]
  },
  {
   "cell_type": "code",
   "execution_count": 27,
   "metadata": {
    "ExecuteTime": {
     "end_time": "2021-09-22T20:03:33.027394Z",
     "start_time": "2021-09-22T20:03:33.021171Z"
    }
   },
   "outputs": [],
   "source": [
    "def inserta_tipo_valor(codigo, descripcion, conn):\n",
    "    qry = \"INSERT INTO lv_cdb_mkt_data.tipo_de_valor (codigo, descripcion) \\\n",
    "    VALUES (%s, %s)\"\n",
    "    try:\n",
    "        cursor = conn.cursor()\n",
    "        cursor.execute(qry, [codigo, descripcion])\n",
    "        conn.commit()\n",
    "    except Exception as e:\n",
    "        print(f'Se produjo el error: {str(e)}')\n",
    "    finally:\n",
    "        conn.rollback()\n",
    "        if cursor is not None:\n",
    "            cursor.close()"
   ]
  },
  {
   "cell_type": "code",
   "execution_count": 28,
   "metadata": {
    "ExecuteTime": {
     "end_time": "2021-09-22T20:04:22.320816Z",
     "start_time": "2021-09-22T20:04:22.099581Z"
    }
   },
   "outputs": [],
   "source": [
    "inserta_tipo_valor('DIARIO', 'Valor que se registra una vez al día', conn)"
   ]
  },
  {
   "cell_type": "markdown",
   "metadata": {},
   "source": [
    "### `tipo_de_dato`"
   ]
  },
  {
   "cell_type": "code",
   "execution_count": 29,
   "metadata": {
    "ExecuteTime": {
     "end_time": "2021-09-22T20:06:20.432341Z",
     "start_time": "2021-09-22T20:06:20.426742Z"
    }
   },
   "outputs": [],
   "source": [
    "def inserta_tipo_dato(codigo, descripcion, conn):\n",
    "    qry = \"INSERT INTO lv_cdb_mkt_data.tipo_de_dato (codigo, descripcion) \\\n",
    "    VALUES (%s, %s)\"\n",
    "    try:\n",
    "        cursor = conn.cursor()\n",
    "        cursor.execute(qry, [codigo, descripcion])\n",
    "        conn.commit()\n",
    "    except Exception as e:\n",
    "        print(f'Se produjo el error: {str(e)}')\n",
    "    finally:\n",
    "        conn.rollback()\n",
    "        if cursor is not None:\n",
    "            cursor.close()"
   ]
  },
  {
   "cell_type": "code",
   "execution_count": 30,
   "metadata": {
    "ExecuteTime": {
     "end_time": "2021-09-22T20:07:06.210761Z",
     "start_time": "2021-09-22T20:07:05.987135Z"
    }
   },
   "outputs": [],
   "source": [
    "inserta_tipo_dato(\n",
    "    'PUBLICADO',\n",
    "    'Representa el valor oficial publicado por el ente responsable del valor',\n",
    "    conn\n",
    ")"
   ]
  },
  {
   "cell_type": "markdown",
   "metadata": {},
   "source": [
    "### `precios`"
   ]
  },
  {
   "cell_type": "code",
   "execution_count": 36,
   "metadata": {
    "ExecuteTime": {
     "end_time": "2021-09-22T20:15:36.821271Z",
     "start_time": "2021-09-22T20:15:36.815314Z"
    }
   },
   "outputs": [],
   "source": [
    "def inserta_precios(data, conn):\n",
    "    qry = \"INSERT INTO lv_cdb_mkt_data.precios (fecha_hora, codigo_activo, \\\n",
    "    codigo_tipo_de_dato, codigo_tipo_de_valor, valor) VALUES \\\n",
    "    (%s, %s, %s, %s, %s)\"\n",
    "    try:\n",
    "        cursor = conn.cursor()\n",
    "        cursor.executemany(qry, data) # executemany requiere una matriz de datos\n",
    "        conn.commit()\n",
    "    except Exception as e:\n",
    "        print(f'Se produjo el error: {str(e)}')\n",
    "    finally:\n",
    "        conn.rollback()\n",
    "        if cursor is not None:\n",
    "            cursor.close()"
   ]
  },
  {
   "cell_type": "code",
   "execution_count": 37,
   "metadata": {
    "ExecuteTime": {
     "end_time": "2021-09-22T20:16:24.685566Z",
     "start_time": "2021-09-22T20:16:24.664249Z"
    }
   },
   "outputs": [
    {
     "data": {
      "text/html": [
       "<div>\n",
       "<style scoped>\n",
       "    .dataframe tbody tr th:only-of-type {\n",
       "        vertical-align: middle;\n",
       "    }\n",
       "\n",
       "    .dataframe tbody tr th {\n",
       "        vertical-align: top;\n",
       "    }\n",
       "\n",
       "    .dataframe thead th {\n",
       "        text-align: right;\n",
       "    }\n",
       "</style>\n",
       "<table border=\"1\" class=\"dataframe\">\n",
       "  <thead>\n",
       "    <tr style=\"text-align: right;\">\n",
       "      <th></th>\n",
       "      <th>fx_rate_index_code</th>\n",
       "      <th>date</th>\n",
       "      <th>value</th>\n",
       "      <th>tipo_valor</th>\n",
       "      <th>tipo_dato</th>\n",
       "    </tr>\n",
       "  </thead>\n",
       "  <tbody>\n",
       "    <tr>\n",
       "      <th>0</th>\n",
       "      <td>UF</td>\n",
       "      <td>2021-10-09</td>\n",
       "      <td>30124.43</td>\n",
       "      <td>DIARIO</td>\n",
       "      <td>PUBLICADO</td>\n",
       "    </tr>\n",
       "    <tr>\n",
       "      <th>1</th>\n",
       "      <td>UF</td>\n",
       "      <td>2021-10-08</td>\n",
       "      <td>30120.42</td>\n",
       "      <td>DIARIO</td>\n",
       "      <td>PUBLICADO</td>\n",
       "    </tr>\n",
       "    <tr>\n",
       "      <th>2</th>\n",
       "      <td>UF</td>\n",
       "      <td>2021-10-07</td>\n",
       "      <td>30116.41</td>\n",
       "      <td>DIARIO</td>\n",
       "      <td>PUBLICADO</td>\n",
       "    </tr>\n",
       "    <tr>\n",
       "      <th>3</th>\n",
       "      <td>UF</td>\n",
       "      <td>2021-10-06</td>\n",
       "      <td>30112.40</td>\n",
       "      <td>DIARIO</td>\n",
       "      <td>PUBLICADO</td>\n",
       "    </tr>\n",
       "    <tr>\n",
       "      <th>4</th>\n",
       "      <td>UF</td>\n",
       "      <td>2021-10-05</td>\n",
       "      <td>30108.40</td>\n",
       "      <td>DIARIO</td>\n",
       "      <td>PUBLICADO</td>\n",
       "    </tr>\n",
       "    <tr>\n",
       "      <th>...</th>\n",
       "      <td>...</td>\n",
       "      <td>...</td>\n",
       "      <td>...</td>\n",
       "      <td>...</td>\n",
       "      <td>...</td>\n",
       "    </tr>\n",
       "    <tr>\n",
       "      <th>495</th>\n",
       "      <td>UF</td>\n",
       "      <td>2020-06-01</td>\n",
       "      <td>28716.52</td>\n",
       "      <td>DIARIO</td>\n",
       "      <td>PUBLICADO</td>\n",
       "    </tr>\n",
       "    <tr>\n",
       "      <th>496</th>\n",
       "      <td>UF</td>\n",
       "      <td>2020-05-31</td>\n",
       "      <td>28716.52</td>\n",
       "      <td>DIARIO</td>\n",
       "      <td>PUBLICADO</td>\n",
       "    </tr>\n",
       "    <tr>\n",
       "      <th>497</th>\n",
       "      <td>UF</td>\n",
       "      <td>2020-05-30</td>\n",
       "      <td>28716.52</td>\n",
       "      <td>DIARIO</td>\n",
       "      <td>PUBLICADO</td>\n",
       "    </tr>\n",
       "    <tr>\n",
       "      <th>498</th>\n",
       "      <td>UF</td>\n",
       "      <td>2020-05-29</td>\n",
       "      <td>28716.52</td>\n",
       "      <td>DIARIO</td>\n",
       "      <td>PUBLICADO</td>\n",
       "    </tr>\n",
       "    <tr>\n",
       "      <th>499</th>\n",
       "      <td>UF</td>\n",
       "      <td>2020-05-28</td>\n",
       "      <td>28716.52</td>\n",
       "      <td>DIARIO</td>\n",
       "      <td>PUBLICADO</td>\n",
       "    </tr>\n",
       "  </tbody>\n",
       "</table>\n",
       "<p>500 rows × 5 columns</p>\n",
       "</div>"
      ],
      "text/plain": [
       "    fx_rate_index_code        date     value tipo_valor  tipo_dato\n",
       "0                   UF  2021-10-09  30124.43     DIARIO  PUBLICADO\n",
       "1                   UF  2021-10-08  30120.42     DIARIO  PUBLICADO\n",
       "2                   UF  2021-10-07  30116.41     DIARIO  PUBLICADO\n",
       "3                   UF  2021-10-06  30112.40     DIARIO  PUBLICADO\n",
       "4                   UF  2021-10-05  30108.40     DIARIO  PUBLICADO\n",
       "..                 ...         ...       ...        ...        ...\n",
       "495                 UF  2020-06-01  28716.52     DIARIO  PUBLICADO\n",
       "496                 UF  2020-05-31  28716.52     DIARIO  PUBLICADO\n",
       "497                 UF  2020-05-30  28716.52     DIARIO  PUBLICADO\n",
       "498                 UF  2020-05-29  28716.52     DIARIO  PUBLICADO\n",
       "499                 UF  2020-05-28  28716.52     DIARIO  PUBLICADO\n",
       "\n",
       "[500 rows x 5 columns]"
      ]
     },
     "execution_count": 37,
     "metadata": {},
     "output_type": "execute_result"
    }
   ],
   "source": [
    "ufs['tipo_valor'] = 'DIARIO'\n",
    "ufs['tipo_dato'] = 'PUBLICADO'\n",
    "ufs"
   ]
  },
  {
   "cell_type": "markdown",
   "metadata": {},
   "source": [
    "Reordenamos las columnas."
   ]
  },
  {
   "cell_type": "code",
   "execution_count": 38,
   "metadata": {
    "ExecuteTime": {
     "end_time": "2021-09-22T20:17:57.991355Z",
     "start_time": "2021-09-22T20:17:57.969751Z"
    }
   },
   "outputs": [
    {
     "data": {
      "text/html": [
       "<div>\n",
       "<style scoped>\n",
       "    .dataframe tbody tr th:only-of-type {\n",
       "        vertical-align: middle;\n",
       "    }\n",
       "\n",
       "    .dataframe tbody tr th {\n",
       "        vertical-align: top;\n",
       "    }\n",
       "\n",
       "    .dataframe thead th {\n",
       "        text-align: right;\n",
       "    }\n",
       "</style>\n",
       "<table border=\"1\" class=\"dataframe\">\n",
       "  <thead>\n",
       "    <tr style=\"text-align: right;\">\n",
       "      <th></th>\n",
       "      <th>date</th>\n",
       "      <th>fx_rate_index_code</th>\n",
       "      <th>tipo_dato</th>\n",
       "      <th>tipo_valor</th>\n",
       "      <th>value</th>\n",
       "    </tr>\n",
       "  </thead>\n",
       "  <tbody>\n",
       "    <tr>\n",
       "      <th>0</th>\n",
       "      <td>2021-10-09</td>\n",
       "      <td>UF</td>\n",
       "      <td>PUBLICADO</td>\n",
       "      <td>DIARIO</td>\n",
       "      <td>30124.43</td>\n",
       "    </tr>\n",
       "    <tr>\n",
       "      <th>1</th>\n",
       "      <td>2021-10-08</td>\n",
       "      <td>UF</td>\n",
       "      <td>PUBLICADO</td>\n",
       "      <td>DIARIO</td>\n",
       "      <td>30120.42</td>\n",
       "    </tr>\n",
       "    <tr>\n",
       "      <th>2</th>\n",
       "      <td>2021-10-07</td>\n",
       "      <td>UF</td>\n",
       "      <td>PUBLICADO</td>\n",
       "      <td>DIARIO</td>\n",
       "      <td>30116.41</td>\n",
       "    </tr>\n",
       "    <tr>\n",
       "      <th>3</th>\n",
       "      <td>2021-10-06</td>\n",
       "      <td>UF</td>\n",
       "      <td>PUBLICADO</td>\n",
       "      <td>DIARIO</td>\n",
       "      <td>30112.40</td>\n",
       "    </tr>\n",
       "    <tr>\n",
       "      <th>4</th>\n",
       "      <td>2021-10-05</td>\n",
       "      <td>UF</td>\n",
       "      <td>PUBLICADO</td>\n",
       "      <td>DIARIO</td>\n",
       "      <td>30108.40</td>\n",
       "    </tr>\n",
       "    <tr>\n",
       "      <th>...</th>\n",
       "      <td>...</td>\n",
       "      <td>...</td>\n",
       "      <td>...</td>\n",
       "      <td>...</td>\n",
       "      <td>...</td>\n",
       "    </tr>\n",
       "    <tr>\n",
       "      <th>495</th>\n",
       "      <td>2020-06-01</td>\n",
       "      <td>UF</td>\n",
       "      <td>PUBLICADO</td>\n",
       "      <td>DIARIO</td>\n",
       "      <td>28716.52</td>\n",
       "    </tr>\n",
       "    <tr>\n",
       "      <th>496</th>\n",
       "      <td>2020-05-31</td>\n",
       "      <td>UF</td>\n",
       "      <td>PUBLICADO</td>\n",
       "      <td>DIARIO</td>\n",
       "      <td>28716.52</td>\n",
       "    </tr>\n",
       "    <tr>\n",
       "      <th>497</th>\n",
       "      <td>2020-05-30</td>\n",
       "      <td>UF</td>\n",
       "      <td>PUBLICADO</td>\n",
       "      <td>DIARIO</td>\n",
       "      <td>28716.52</td>\n",
       "    </tr>\n",
       "    <tr>\n",
       "      <th>498</th>\n",
       "      <td>2020-05-29</td>\n",
       "      <td>UF</td>\n",
       "      <td>PUBLICADO</td>\n",
       "      <td>DIARIO</td>\n",
       "      <td>28716.52</td>\n",
       "    </tr>\n",
       "    <tr>\n",
       "      <th>499</th>\n",
       "      <td>2020-05-28</td>\n",
       "      <td>UF</td>\n",
       "      <td>PUBLICADO</td>\n",
       "      <td>DIARIO</td>\n",
       "      <td>28716.52</td>\n",
       "    </tr>\n",
       "  </tbody>\n",
       "</table>\n",
       "<p>500 rows × 5 columns</p>\n",
       "</div>"
      ],
      "text/plain": [
       "           date fx_rate_index_code  tipo_dato tipo_valor     value\n",
       "0    2021-10-09                 UF  PUBLICADO     DIARIO  30124.43\n",
       "1    2021-10-08                 UF  PUBLICADO     DIARIO  30120.42\n",
       "2    2021-10-07                 UF  PUBLICADO     DIARIO  30116.41\n",
       "3    2021-10-06                 UF  PUBLICADO     DIARIO  30112.40\n",
       "4    2021-10-05                 UF  PUBLICADO     DIARIO  30108.40\n",
       "..          ...                ...        ...        ...       ...\n",
       "495  2020-06-01                 UF  PUBLICADO     DIARIO  28716.52\n",
       "496  2020-05-31                 UF  PUBLICADO     DIARIO  28716.52\n",
       "497  2020-05-30                 UF  PUBLICADO     DIARIO  28716.52\n",
       "498  2020-05-29                 UF  PUBLICADO     DIARIO  28716.52\n",
       "499  2020-05-28                 UF  PUBLICADO     DIARIO  28716.52\n",
       "\n",
       "[500 rows x 5 columns]"
      ]
     },
     "execution_count": 38,
     "metadata": {},
     "output_type": "execute_result"
    }
   ],
   "source": [
    "ufs = ufs[['date', 'fx_rate_index_code', 'tipo_dato', 'tipo_valor', 'value']]\n",
    "ufs"
   ]
  },
  {
   "cell_type": "code",
   "execution_count": 39,
   "metadata": {
    "ExecuteTime": {
     "end_time": "2021-09-22T20:18:56.926714Z",
     "start_time": "2021-09-22T20:18:21.207726Z"
    }
   },
   "outputs": [],
   "source": [
    "inserta_precios(ufs.values, conn)"
   ]
  }
 ],
 "metadata": {
  "hide_input": false,
  "kernelspec": {
   "display_name": "Python 3",
   "language": "python",
   "name": "python3"
  },
  "language_info": {
   "codemirror_mode": {
    "name": "ipython",
    "version": 3
   },
   "file_extension": ".py",
   "mimetype": "text/x-python",
   "name": "python",
   "nbconvert_exporter": "python",
   "pygments_lexer": "ipython3",
   "version": "3.7.3"
  },
  "toc": {
   "base_numbering": 1,
   "nav_menu": {},
   "number_sections": true,
   "sideBar": true,
   "skip_h1_title": true,
   "title_cell": "Table of Contents",
   "title_sidebar": "Contenido",
   "toc_cell": false,
   "toc_position": {
    "height": "calc(100% - 180px)",
    "left": "10px",
    "top": "150px",
    "width": "243px"
   },
   "toc_section_display": true,
   "toc_window_display": true
  }
 },
 "nbformat": 4,
 "nbformat_minor": 4
}
