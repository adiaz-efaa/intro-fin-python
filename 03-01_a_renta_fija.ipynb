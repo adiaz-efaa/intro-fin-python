{
 "cells": [
  {
   "cell_type": "markdown",
   "metadata": {},
   "source": [
    "# Renta Fija Local"
   ]
  },
  {
   "cell_type": "markdown",
   "metadata": {},
   "source": [
    "En este notebook construiremos un valorizador de renta fija local similar al de la Bolsa de Comercio o RiskAmerica. Dado un nemotécnico y su TIR de mercado, obtendremos el precio, valor par, duración, convexidad y monto a pagar. Adicionalmente, con este valorizador podremos construir una funcionalidad adicional, valorizar un forward de renta fija."
   ]
  },
  {
   "cell_type": "markdown",
   "metadata": {},
   "source": [
    "## Librerías"
   ]
  },
  {
   "cell_type": "code",
   "execution_count": 1,
   "metadata": {
    "ExecuteTime": {
     "end_time": "2021-08-18T22:30:51.146506Z",
     "start_time": "2021-08-18T22:30:50.682638Z"
    }
   },
   "outputs": [],
   "source": [
    "from datetime import date\n",
    "import pandas as pd\n",
    "import numpy as np\n",
    "\n",
    "import autograd.numpy as agnp\n",
    "from autograd import grad\n",
    "\n",
    "import my_functions as mf"
   ]
  },
  {
   "cell_type": "markdown",
   "metadata": {},
   "source": [
    "## Data"
   ]
  },
  {
   "cell_type": "code",
   "execution_count": 2,
   "metadata": {
    "ExecuteTime": {
     "end_time": "2021-08-18T22:31:27.497619Z",
     "start_time": "2021-08-18T22:31:07.205433Z"
    }
   },
   "outputs": [],
   "source": [
    "bonos = pd.read_excel('data/bonos_empresa_carga_inicial.xlsx')"
   ]
  },
  {
   "cell_type": "code",
   "execution_count": 3,
   "metadata": {
    "ExecuteTime": {
     "end_time": "2021-08-18T22:31:52.064917Z",
     "start_time": "2021-08-18T22:31:51.894011Z"
    }
   },
   "outputs": [
    {
     "data": {
      "text/html": [
       "<div>\n",
       "<style scoped>\n",
       "    .dataframe tbody tr th:only-of-type {\n",
       "        vertical-align: middle;\n",
       "    }\n",
       "\n",
       "    .dataframe tbody tr th {\n",
       "        vertical-align: top;\n",
       "    }\n",
       "\n",
       "    .dataframe thead th {\n",
       "        text-align: right;\n",
       "    }\n",
       "</style>\n",
       "<table border=\"1\" class=\"dataframe\">\n",
       "  <thead>\n",
       "    <tr style=\"text-align: right;\">\n",
       "      <th></th>\n",
       "      <th>nemotecnico</th>\n",
       "      <th>fecha_emision</th>\n",
       "      <th>tasa_emision</th>\n",
       "      <th>tasa_descuento</th>\n",
       "      <th>unidad_monetaria</th>\n",
       "      <th>base_tasa_descuento</th>\n",
       "      <th>numero_flujos</th>\n",
       "      <th>meses_entre_vencimiento</th>\n",
       "      <th>tipo_intereses</th>\n",
       "      <th>numero_amortizaciones</th>\n",
       "      <th>plazo_agnos</th>\n",
       "    </tr>\n",
       "  </thead>\n",
       "  <tbody>\n",
       "    <tr>\n",
       "      <th>0</th>\n",
       "      <td>BAARA-A</td>\n",
       "      <td>2017-12-01</td>\n",
       "      <td>3.85</td>\n",
       "      <td>3.8475</td>\n",
       "      <td>CLF</td>\n",
       "      <td>365</td>\n",
       "      <td>33</td>\n",
       "      <td>6</td>\n",
       "      <td>C</td>\n",
       "      <td>9</td>\n",
       "      <td>17</td>\n",
       "    </tr>\n",
       "    <tr>\n",
       "      <th>1</th>\n",
       "      <td>BAARA-B</td>\n",
       "      <td>2020-04-01</td>\n",
       "      <td>3.91</td>\n",
       "      <td>3.9075</td>\n",
       "      <td>CLF</td>\n",
       "      <td>365</td>\n",
       "      <td>28</td>\n",
       "      <td>6</td>\n",
       "      <td>C</td>\n",
       "      <td>13</td>\n",
       "      <td>14</td>\n",
       "    </tr>\n",
       "    <tr>\n",
       "      <th>2</th>\n",
       "      <td>BACEN-A1</td>\n",
       "      <td>2003-12-15</td>\n",
       "      <td>5.30</td>\n",
       "      <td>5.2960</td>\n",
       "      <td>CLF</td>\n",
       "      <td>365</td>\n",
       "      <td>46</td>\n",
       "      <td>6</td>\n",
       "      <td>C</td>\n",
       "      <td>34</td>\n",
       "      <td>23</td>\n",
       "    </tr>\n",
       "    <tr>\n",
       "      <th>3</th>\n",
       "      <td>BACEN-A2</td>\n",
       "      <td>2003-12-15</td>\n",
       "      <td>5.30</td>\n",
       "      <td>5.2960</td>\n",
       "      <td>CLF</td>\n",
       "      <td>365</td>\n",
       "      <td>46</td>\n",
       "      <td>6</td>\n",
       "      <td>C</td>\n",
       "      <td>34</td>\n",
       "      <td>23</td>\n",
       "    </tr>\n",
       "    <tr>\n",
       "      <th>4</th>\n",
       "      <td>BADAL-A</td>\n",
       "      <td>2017-12-01</td>\n",
       "      <td>3.85</td>\n",
       "      <td>3.8475</td>\n",
       "      <td>CLF</td>\n",
       "      <td>365</td>\n",
       "      <td>33</td>\n",
       "      <td>6</td>\n",
       "      <td>C</td>\n",
       "      <td>9</td>\n",
       "      <td>17</td>\n",
       "    </tr>\n",
       "    <tr>\n",
       "      <th>...</th>\n",
       "      <td>...</td>\n",
       "      <td>...</td>\n",
       "      <td>...</td>\n",
       "      <td>...</td>\n",
       "      <td>...</td>\n",
       "      <td>...</td>\n",
       "      <td>...</td>\n",
       "      <td>...</td>\n",
       "      <td>...</td>\n",
       "      <td>...</td>\n",
       "      <td>...</td>\n",
       "    </tr>\n",
       "    <tr>\n",
       "      <th>331</th>\n",
       "      <td>PRC-7D0201</td>\n",
       "      <td>2001-02-01</td>\n",
       "      <td>6.50</td>\n",
       "      <td>6.5932</td>\n",
       "      <td>CLF</td>\n",
       "      <td>365</td>\n",
       "      <td>40</td>\n",
       "      <td>6</td>\n",
       "      <td>C</td>\n",
       "      <td>40</td>\n",
       "      <td>20</td>\n",
       "    </tr>\n",
       "    <tr>\n",
       "      <th>332</th>\n",
       "      <td>PRC-7A0101</td>\n",
       "      <td>2001-01-01</td>\n",
       "      <td>6.50</td>\n",
       "      <td>6.5929</td>\n",
       "      <td>CLF</td>\n",
       "      <td>365</td>\n",
       "      <td>40</td>\n",
       "      <td>6</td>\n",
       "      <td>C</td>\n",
       "      <td>40</td>\n",
       "      <td>20</td>\n",
       "    </tr>\n",
       "    <tr>\n",
       "      <th>333</th>\n",
       "      <td>PRC-7B0101</td>\n",
       "      <td>2001-01-01</td>\n",
       "      <td>6.50</td>\n",
       "      <td>6.5935</td>\n",
       "      <td>CLF</td>\n",
       "      <td>365</td>\n",
       "      <td>40</td>\n",
       "      <td>6</td>\n",
       "      <td>C</td>\n",
       "      <td>40</td>\n",
       "      <td>20</td>\n",
       "    </tr>\n",
       "    <tr>\n",
       "      <th>334</th>\n",
       "      <td>PRC-7C0101</td>\n",
       "      <td>2001-01-01</td>\n",
       "      <td>6.50</td>\n",
       "      <td>6.5932</td>\n",
       "      <td>CLF</td>\n",
       "      <td>365</td>\n",
       "      <td>40</td>\n",
       "      <td>6</td>\n",
       "      <td>C</td>\n",
       "      <td>40</td>\n",
       "      <td>20</td>\n",
       "    </tr>\n",
       "    <tr>\n",
       "      <th>335</th>\n",
       "      <td>PRC-7D0101</td>\n",
       "      <td>2001-01-01</td>\n",
       "      <td>6.50</td>\n",
       "      <td>6.5932</td>\n",
       "      <td>CLF</td>\n",
       "      <td>365</td>\n",
       "      <td>40</td>\n",
       "      <td>6</td>\n",
       "      <td>C</td>\n",
       "      <td>40</td>\n",
       "      <td>20</td>\n",
       "    </tr>\n",
       "  </tbody>\n",
       "</table>\n",
       "<p>2096 rows × 11 columns</p>\n",
       "</div>"
      ],
      "text/plain": [
       "    nemotecnico fecha_emision  tasa_emision  tasa_descuento unidad_monetaria  \\\n",
       "0       BAARA-A    2017-12-01          3.85          3.8475              CLF   \n",
       "1       BAARA-B    2020-04-01          3.91          3.9075              CLF   \n",
       "2      BACEN-A1    2003-12-15          5.30          5.2960              CLF   \n",
       "3      BACEN-A2    2003-12-15          5.30          5.2960              CLF   \n",
       "4       BADAL-A    2017-12-01          3.85          3.8475              CLF   \n",
       "..          ...           ...           ...             ...              ...   \n",
       "331  PRC-7D0201    2001-02-01          6.50          6.5932              CLF   \n",
       "332  PRC-7A0101    2001-01-01          6.50          6.5929              CLF   \n",
       "333  PRC-7B0101    2001-01-01          6.50          6.5935              CLF   \n",
       "334  PRC-7C0101    2001-01-01          6.50          6.5932              CLF   \n",
       "335  PRC-7D0101    2001-01-01          6.50          6.5932              CLF   \n",
       "\n",
       "     base_tasa_descuento  numero_flujos  meses_entre_vencimiento  \\\n",
       "0                    365             33                        6   \n",
       "1                    365             28                        6   \n",
       "2                    365             46                        6   \n",
       "3                    365             46                        6   \n",
       "4                    365             33                        6   \n",
       "..                   ...            ...                      ...   \n",
       "331                  365             40                        6   \n",
       "332                  365             40                        6   \n",
       "333                  365             40                        6   \n",
       "334                  365             40                        6   \n",
       "335                  365             40                        6   \n",
       "\n",
       "    tipo_intereses  numero_amortizaciones  plazo_agnos  \n",
       "0                C                      9           17  \n",
       "1                C                     13           14  \n",
       "2                C                     34           23  \n",
       "3                C                     34           23  \n",
       "4                C                      9           17  \n",
       "..             ...                    ...          ...  \n",
       "331              C                     40           20  \n",
       "332              C                     40           20  \n",
       "333              C                     40           20  \n",
       "334              C                     40           20  \n",
       "335              C                     40           20  \n",
       "\n",
       "[2096 rows x 11 columns]"
      ]
     },
     "execution_count": 3,
     "metadata": {},
     "output_type": "execute_result"
    }
   ],
   "source": [
    "bonos.append(pd.read_excel('data/bonos_estado_carga_inicial.xlsx'))"
   ]
  },
  {
   "cell_type": "code",
   "execution_count": 4,
   "metadata": {
    "ExecuteTime": {
     "end_time": "2021-08-18T22:35:47.108718Z",
     "start_time": "2021-08-18T22:35:44.159482Z"
    },
    "cell_style": "center"
   },
   "outputs": [],
   "source": [
    "tablas_desarrollo = pd.read_csv('data/tablas_desarrollo.csv')"
   ]
  },
  {
   "cell_type": "code",
   "execution_count": 5,
   "metadata": {
    "ExecuteTime": {
     "end_time": "2021-08-18T22:38:03.521205Z",
     "start_time": "2021-08-18T22:38:03.498600Z"
    }
   },
   "outputs": [
    {
     "data": {
      "text/html": [
       "<div>\n",
       "<style scoped>\n",
       "    .dataframe tbody tr th:only-of-type {\n",
       "        vertical-align: middle;\n",
       "    }\n",
       "\n",
       "    .dataframe tbody tr th {\n",
       "        vertical-align: top;\n",
       "    }\n",
       "\n",
       "    .dataframe thead th {\n",
       "        text-align: right;\n",
       "    }\n",
       "</style>\n",
       "<table border=\"1\" class=\"dataframe\">\n",
       "  <thead>\n",
       "    <tr style=\"text-align: right;\">\n",
       "      <th></th>\n",
       "      <th>nemotecnico</th>\n",
       "      <th>numero_cupon</th>\n",
       "      <th>fecha_vcto_cupon</th>\n",
       "      <th>interes</th>\n",
       "      <th>amortizacion</th>\n",
       "      <th>saldo_insoluto</th>\n",
       "    </tr>\n",
       "  </thead>\n",
       "  <tbody>\n",
       "    <tr>\n",
       "      <th>0</th>\n",
       "      <td>BC18-A0719</td>\n",
       "      <td>1</td>\n",
       "      <td>2019-10-31</td>\n",
       "      <td>0.98534</td>\n",
       "      <td>0.00</td>\n",
       "      <td>100.00</td>\n",
       "    </tr>\n",
       "    <tr>\n",
       "      <th>1</th>\n",
       "      <td>BC18-A0719</td>\n",
       "      <td>2</td>\n",
       "      <td>2020-01-31</td>\n",
       "      <td>0.98534</td>\n",
       "      <td>0.00</td>\n",
       "      <td>100.00</td>\n",
       "    </tr>\n",
       "    <tr>\n",
       "      <th>2</th>\n",
       "      <td>BC18-A0719</td>\n",
       "      <td>3</td>\n",
       "      <td>2020-04-30</td>\n",
       "      <td>0.98534</td>\n",
       "      <td>0.00</td>\n",
       "      <td>100.00</td>\n",
       "    </tr>\n",
       "    <tr>\n",
       "      <th>3</th>\n",
       "      <td>BC18-A0719</td>\n",
       "      <td>4</td>\n",
       "      <td>2020-07-31</td>\n",
       "      <td>0.98534</td>\n",
       "      <td>4.65</td>\n",
       "      <td>100.00</td>\n",
       "    </tr>\n",
       "    <tr>\n",
       "      <th>4</th>\n",
       "      <td>BC18-A0719</td>\n",
       "      <td>5</td>\n",
       "      <td>2020-10-31</td>\n",
       "      <td>0.93952</td>\n",
       "      <td>0.00</td>\n",
       "      <td>95.35</td>\n",
       "    </tr>\n",
       "    <tr>\n",
       "      <th>...</th>\n",
       "      <td>...</td>\n",
       "      <td>...</td>\n",
       "      <td>...</td>\n",
       "      <td>...</td>\n",
       "      <td>...</td>\n",
       "      <td>...</td>\n",
       "    </tr>\n",
       "    <tr>\n",
       "      <th>3277320</th>\n",
       "      <td>BWATT-Q</td>\n",
       "      <td>18</td>\n",
       "      <td>2028-09-01</td>\n",
       "      <td>1.93130</td>\n",
       "      <td>0.00</td>\n",
       "      <td>100.00</td>\n",
       "    </tr>\n",
       "    <tr>\n",
       "      <th>3277321</th>\n",
       "      <td>BWATT-Q</td>\n",
       "      <td>19</td>\n",
       "      <td>2029-03-01</td>\n",
       "      <td>1.93130</td>\n",
       "      <td>0.00</td>\n",
       "      <td>100.00</td>\n",
       "    </tr>\n",
       "    <tr>\n",
       "      <th>3277322</th>\n",
       "      <td>BWATT-Q</td>\n",
       "      <td>20</td>\n",
       "      <td>2029-09-01</td>\n",
       "      <td>1.93130</td>\n",
       "      <td>100.00</td>\n",
       "      <td>100.00</td>\n",
       "    </tr>\n",
       "    <tr>\n",
       "      <th>3277323</th>\n",
       "      <td>XERO</td>\n",
       "      <td>0</td>\n",
       "      <td>0001-01-01</td>\n",
       "      <td>0.00000</td>\n",
       "      <td>0.00</td>\n",
       "      <td>0.00</td>\n",
       "    </tr>\n",
       "    <tr>\n",
       "      <th>3277324</th>\n",
       "      <td>ZERO</td>\n",
       "      <td>0</td>\n",
       "      <td>0001-01-01</td>\n",
       "      <td>0.00000</td>\n",
       "      <td>0.00</td>\n",
       "      <td>0.00</td>\n",
       "    </tr>\n",
       "  </tbody>\n",
       "</table>\n",
       "<p>3277325 rows × 6 columns</p>\n",
       "</div>"
      ],
      "text/plain": [
       "        nemotecnico  numero_cupon fecha_vcto_cupon  interes  amortizacion  \\\n",
       "0        BC18-A0719             1       2019-10-31  0.98534          0.00   \n",
       "1        BC18-A0719             2       2020-01-31  0.98534          0.00   \n",
       "2        BC18-A0719             3       2020-04-30  0.98534          0.00   \n",
       "3        BC18-A0719             4       2020-07-31  0.98534          4.65   \n",
       "4        BC18-A0719             5       2020-10-31  0.93952          0.00   \n",
       "...             ...           ...              ...      ...           ...   \n",
       "3277320     BWATT-Q            18       2028-09-01  1.93130          0.00   \n",
       "3277321     BWATT-Q            19       2029-03-01  1.93130          0.00   \n",
       "3277322     BWATT-Q            20       2029-09-01  1.93130        100.00   \n",
       "3277323        XERO             0       0001-01-01  0.00000          0.00   \n",
       "3277324        ZERO             0       0001-01-01  0.00000          0.00   \n",
       "\n",
       "         saldo_insoluto  \n",
       "0                100.00  \n",
       "1                100.00  \n",
       "2                100.00  \n",
       "3                100.00  \n",
       "4                 95.35  \n",
       "...                 ...  \n",
       "3277320          100.00  \n",
       "3277321          100.00  \n",
       "3277322          100.00  \n",
       "3277323            0.00  \n",
       "3277324            0.00  \n",
       "\n",
       "[3277325 rows x 6 columns]"
      ]
     },
     "execution_count": 5,
     "metadata": {},
     "output_type": "execute_result"
    }
   ],
   "source": [
    "tablas_desarrollo"
   ]
  },
  {
   "cell_type": "markdown",
   "metadata": {},
   "source": [
    "## Valorizador"
   ]
  },
  {
   "cell_type": "markdown",
   "metadata": {},
   "source": [
    "Nos gustaría poder reciclar las funciones que calculan el valor par y el valor presente, pero, nos damos cuenta, que las últimas versiones se han adaptado mucho al formato de la data disponible y ahora tenemos que hacer algunos cambios.\n",
    "\n",
    "Vamos a definir funciones `valor_presente` y `valor_par` que representen de la forma más general posible ambos cálculos. De esta manera, el formato particular de la data disponible se transforma en un problema totalmente separado del proceso de cálculo en sí."
   ]
  },
  {
   "cell_type": "markdown",
   "metadata": {},
   "source": [
    "### Función `valor_presente`"
   ]
  },
  {
   "cell_type": "code",
   "execution_count": 6,
   "metadata": {
    "ExecuteTime": {
     "end_time": "2021-08-18T22:41:44.184892Z",
     "start_time": "2021-08-18T22:41:44.178473Z"
    }
   },
   "outputs": [],
   "source": [
    "def valor_presente(fecha_valor, fechas, flujos, tasa):\n",
    "    \"\"\"\n",
    "    Calcula el valor presente de un conjunto de flujos utilizando una única tasa de descuento.\n",
    "    \n",
    "    Parameters\n",
    "    ----------\n",
    "    \n",
    "    fecha_valor: datetime.date\n",
    "        Fecha a la cual se quiere obtener el valor presente.\n",
    "        \n",
    "    fechas: List[datetime.date]\n",
    "        Fechas de pago de los flujos.\n",
    "        \n",
    "    flujos: List[float]\n",
    "        Flujos a traer a valor presente. Deben corresponder a las fechas en el parámetro `fechas`.\n",
    "        Los flujos cuyas fechas sean iguales o previas a `fecha_valor` no serán incluidos en el cálculo.\n",
    "        \n",
    "    tasa: float\n",
    "        Tasa de descuento a utilizar. Debe estar en convención Com Act/365.\n",
    "        \n",
    "    Returns\n",
    "    -------\n",
    "    \n",
    "    Un `float` que corresponde al valor presente de los flujos.\n",
    "    \"\"\"\n",
    "    result = 0.0\n",
    "    for fec, fl in zip(fechas, flujos):\n",
    "        p = (fec - fecha_valor).days\n",
    "        if p > 0:\n",
    "            result += fl * (1 + tasa)**(-p / 365.0)\n",
    "    return result"
   ]
  },
  {
   "cell_type": "markdown",
   "metadata": {},
   "source": [
    "Realicemos una prueba con la data que tenemos disponible en este notebook. Utilizaremos el bono BBNS-W0414."
   ]
  },
  {
   "cell_type": "code",
   "execution_count": 8,
   "metadata": {
    "ExecuteTime": {
     "end_time": "2021-08-18T22:42:42.010094Z",
     "start_time": "2021-08-18T22:42:41.713779Z"
    }
   },
   "outputs": [
    {
     "data": {
      "text/html": [
       "<div>\n",
       "<style scoped>\n",
       "    .dataframe tbody tr th:only-of-type {\n",
       "        vertical-align: middle;\n",
       "    }\n",
       "\n",
       "    .dataframe tbody tr th {\n",
       "        vertical-align: top;\n",
       "    }\n",
       "\n",
       "    .dataframe thead th {\n",
       "        text-align: right;\n",
       "    }\n",
       "</style>\n",
       "<table border=\"1\" class=\"dataframe\">\n",
       "  <thead>\n",
       "    <tr style=\"text-align: right;\">\n",
       "      <th></th>\n",
       "      <th>nemotecnico</th>\n",
       "      <th>numero_cupon</th>\n",
       "      <th>fecha_vcto_cupon</th>\n",
       "      <th>interes</th>\n",
       "      <th>amortizacion</th>\n",
       "      <th>saldo_insoluto</th>\n",
       "    </tr>\n",
       "  </thead>\n",
       "  <tbody>\n",
       "    <tr>\n",
       "      <th>57683</th>\n",
       "      <td>BBNS-W0414</td>\n",
       "      <td>1</td>\n",
       "      <td>2014-10-01</td>\n",
       "      <td>1.5</td>\n",
       "      <td>0.0</td>\n",
       "      <td>100.0</td>\n",
       "    </tr>\n",
       "    <tr>\n",
       "      <th>57684</th>\n",
       "      <td>BBNS-W0414</td>\n",
       "      <td>2</td>\n",
       "      <td>2015-04-01</td>\n",
       "      <td>1.5</td>\n",
       "      <td>0.0</td>\n",
       "      <td>100.0</td>\n",
       "    </tr>\n",
       "    <tr>\n",
       "      <th>57685</th>\n",
       "      <td>BBNS-W0414</td>\n",
       "      <td>3</td>\n",
       "      <td>2015-10-01</td>\n",
       "      <td>1.5</td>\n",
       "      <td>0.0</td>\n",
       "      <td>100.0</td>\n",
       "    </tr>\n",
       "    <tr>\n",
       "      <th>57686</th>\n",
       "      <td>BBNS-W0414</td>\n",
       "      <td>4</td>\n",
       "      <td>2016-04-01</td>\n",
       "      <td>1.5</td>\n",
       "      <td>0.0</td>\n",
       "      <td>100.0</td>\n",
       "    </tr>\n",
       "    <tr>\n",
       "      <th>57687</th>\n",
       "      <td>BBNS-W0414</td>\n",
       "      <td>5</td>\n",
       "      <td>2016-10-01</td>\n",
       "      <td>1.5</td>\n",
       "      <td>0.0</td>\n",
       "      <td>100.0</td>\n",
       "    </tr>\n",
       "    <tr>\n",
       "      <th>57688</th>\n",
       "      <td>BBNS-W0414</td>\n",
       "      <td>6</td>\n",
       "      <td>2017-04-01</td>\n",
       "      <td>1.5</td>\n",
       "      <td>0.0</td>\n",
       "      <td>100.0</td>\n",
       "    </tr>\n",
       "    <tr>\n",
       "      <th>57689</th>\n",
       "      <td>BBNS-W0414</td>\n",
       "      <td>7</td>\n",
       "      <td>2017-10-01</td>\n",
       "      <td>1.5</td>\n",
       "      <td>0.0</td>\n",
       "      <td>100.0</td>\n",
       "    </tr>\n",
       "    <tr>\n",
       "      <th>57690</th>\n",
       "      <td>BBNS-W0414</td>\n",
       "      <td>8</td>\n",
       "      <td>2018-04-01</td>\n",
       "      <td>1.5</td>\n",
       "      <td>0.0</td>\n",
       "      <td>100.0</td>\n",
       "    </tr>\n",
       "    <tr>\n",
       "      <th>57691</th>\n",
       "      <td>BBNS-W0414</td>\n",
       "      <td>9</td>\n",
       "      <td>2018-10-01</td>\n",
       "      <td>1.5</td>\n",
       "      <td>0.0</td>\n",
       "      <td>100.0</td>\n",
       "    </tr>\n",
       "    <tr>\n",
       "      <th>57692</th>\n",
       "      <td>BBNS-W0414</td>\n",
       "      <td>10</td>\n",
       "      <td>2019-04-01</td>\n",
       "      <td>1.5</td>\n",
       "      <td>0.0</td>\n",
       "      <td>100.0</td>\n",
       "    </tr>\n",
       "    <tr>\n",
       "      <th>57693</th>\n",
       "      <td>BBNS-W0414</td>\n",
       "      <td>11</td>\n",
       "      <td>2019-10-01</td>\n",
       "      <td>1.5</td>\n",
       "      <td>0.0</td>\n",
       "      <td>100.0</td>\n",
       "    </tr>\n",
       "    <tr>\n",
       "      <th>57694</th>\n",
       "      <td>BBNS-W0414</td>\n",
       "      <td>12</td>\n",
       "      <td>2020-04-01</td>\n",
       "      <td>1.5</td>\n",
       "      <td>0.0</td>\n",
       "      <td>100.0</td>\n",
       "    </tr>\n",
       "    <tr>\n",
       "      <th>57695</th>\n",
       "      <td>BBNS-W0414</td>\n",
       "      <td>13</td>\n",
       "      <td>2020-10-01</td>\n",
       "      <td>1.5</td>\n",
       "      <td>0.0</td>\n",
       "      <td>100.0</td>\n",
       "    </tr>\n",
       "    <tr>\n",
       "      <th>57696</th>\n",
       "      <td>BBNS-W0414</td>\n",
       "      <td>14</td>\n",
       "      <td>2021-04-01</td>\n",
       "      <td>1.5</td>\n",
       "      <td>0.0</td>\n",
       "      <td>100.0</td>\n",
       "    </tr>\n",
       "    <tr>\n",
       "      <th>57697</th>\n",
       "      <td>BBNS-W0414</td>\n",
       "      <td>15</td>\n",
       "      <td>2021-10-01</td>\n",
       "      <td>1.5</td>\n",
       "      <td>0.0</td>\n",
       "      <td>100.0</td>\n",
       "    </tr>\n",
       "    <tr>\n",
       "      <th>57698</th>\n",
       "      <td>BBNS-W0414</td>\n",
       "      <td>16</td>\n",
       "      <td>2022-04-01</td>\n",
       "      <td>1.5</td>\n",
       "      <td>0.0</td>\n",
       "      <td>100.0</td>\n",
       "    </tr>\n",
       "    <tr>\n",
       "      <th>57699</th>\n",
       "      <td>BBNS-W0414</td>\n",
       "      <td>17</td>\n",
       "      <td>2022-10-01</td>\n",
       "      <td>1.5</td>\n",
       "      <td>0.0</td>\n",
       "      <td>100.0</td>\n",
       "    </tr>\n",
       "    <tr>\n",
       "      <th>57700</th>\n",
       "      <td>BBNS-W0414</td>\n",
       "      <td>18</td>\n",
       "      <td>2023-04-01</td>\n",
       "      <td>1.5</td>\n",
       "      <td>0.0</td>\n",
       "      <td>100.0</td>\n",
       "    </tr>\n",
       "    <tr>\n",
       "      <th>57701</th>\n",
       "      <td>BBNS-W0414</td>\n",
       "      <td>19</td>\n",
       "      <td>2023-10-01</td>\n",
       "      <td>1.5</td>\n",
       "      <td>0.0</td>\n",
       "      <td>100.0</td>\n",
       "    </tr>\n",
       "    <tr>\n",
       "      <th>57702</th>\n",
       "      <td>BBNS-W0414</td>\n",
       "      <td>20</td>\n",
       "      <td>2024-04-01</td>\n",
       "      <td>1.5</td>\n",
       "      <td>100.0</td>\n",
       "      <td>100.0</td>\n",
       "    </tr>\n",
       "  </tbody>\n",
       "</table>\n",
       "</div>"
      ],
      "text/plain": [
       "      nemotecnico  numero_cupon fecha_vcto_cupon  interes  amortizacion  \\\n",
       "57683  BBNS-W0414             1       2014-10-01      1.5           0.0   \n",
       "57684  BBNS-W0414             2       2015-04-01      1.5           0.0   \n",
       "57685  BBNS-W0414             3       2015-10-01      1.5           0.0   \n",
       "57686  BBNS-W0414             4       2016-04-01      1.5           0.0   \n",
       "57687  BBNS-W0414             5       2016-10-01      1.5           0.0   \n",
       "57688  BBNS-W0414             6       2017-04-01      1.5           0.0   \n",
       "57689  BBNS-W0414             7       2017-10-01      1.5           0.0   \n",
       "57690  BBNS-W0414             8       2018-04-01      1.5           0.0   \n",
       "57691  BBNS-W0414             9       2018-10-01      1.5           0.0   \n",
       "57692  BBNS-W0414            10       2019-04-01      1.5           0.0   \n",
       "57693  BBNS-W0414            11       2019-10-01      1.5           0.0   \n",
       "57694  BBNS-W0414            12       2020-04-01      1.5           0.0   \n",
       "57695  BBNS-W0414            13       2020-10-01      1.5           0.0   \n",
       "57696  BBNS-W0414            14       2021-04-01      1.5           0.0   \n",
       "57697  BBNS-W0414            15       2021-10-01      1.5           0.0   \n",
       "57698  BBNS-W0414            16       2022-04-01      1.5           0.0   \n",
       "57699  BBNS-W0414            17       2022-10-01      1.5           0.0   \n",
       "57700  BBNS-W0414            18       2023-04-01      1.5           0.0   \n",
       "57701  BBNS-W0414            19       2023-10-01      1.5           0.0   \n",
       "57702  BBNS-W0414            20       2024-04-01      1.5         100.0   \n",
       "\n",
       "       saldo_insoluto  \n",
       "57683           100.0  \n",
       "57684           100.0  \n",
       "57685           100.0  \n",
       "57686           100.0  \n",
       "57687           100.0  \n",
       "57688           100.0  \n",
       "57689           100.0  \n",
       "57690           100.0  \n",
       "57691           100.0  \n",
       "57692           100.0  \n",
       "57693           100.0  \n",
       "57694           100.0  \n",
       "57695           100.0  \n",
       "57696           100.0  \n",
       "57697           100.0  \n",
       "57698           100.0  \n",
       "57699           100.0  \n",
       "57700           100.0  \n",
       "57701           100.0  \n",
       "57702           100.0  "
      ]
     },
     "execution_count": 8,
     "metadata": {},
     "output_type": "execute_result"
    }
   ],
   "source": [
    "tabla = tablas_desarrollo[tablas_desarrollo.nemotecnico == 'BBNS-W0414']\n",
    "tabla"
   ]
  },
  {
   "cell_type": "markdown",
   "metadata": {},
   "source": [
    "Vemos que los flujos corresponden a la suma de las columnas `interes` y `amortizacion` y las fechas están en la columna `fecha_vcto_cupon`."
   ]
  },
  {
   "cell_type": "code",
   "execution_count": 9,
   "metadata": {
    "ExecuteTime": {
     "end_time": "2021-08-18T22:43:23.397454Z",
     "start_time": "2021-08-18T22:43:23.391952Z"
    }
   },
   "outputs": [],
   "source": [
    "flujos = tabla['interes'] + tabla['amortizacion']"
   ]
  },
  {
   "cell_type": "markdown",
   "metadata": {},
   "source": [
    "El tipo de la variables `flujos` es:"
   ]
  },
  {
   "cell_type": "code",
   "execution_count": 10,
   "metadata": {
    "ExecuteTime": {
     "end_time": "2021-08-18T22:43:43.151843Z",
     "start_time": "2021-08-18T22:43:43.138966Z"
    }
   },
   "outputs": [
    {
     "data": {
      "text/plain": [
       "pandas.core.series.Series"
      ]
     },
     "execution_count": 10,
     "metadata": {},
     "output_type": "execute_result"
    }
   ],
   "source": [
    "type(flujos)"
   ]
  },
  {
   "cell_type": "markdown",
   "metadata": {},
   "source": [
    "Para tener un `np.array` con los valores aplicaremos:"
   ]
  },
  {
   "cell_type": "code",
   "execution_count": 12,
   "metadata": {
    "ExecuteTime": {
     "end_time": "2021-08-18T22:44:28.149159Z",
     "start_time": "2021-08-18T22:44:28.142334Z"
    }
   },
   "outputs": [
    {
     "data": {
      "text/plain": [
       "array([  1.5,   1.5,   1.5,   1.5,   1.5,   1.5,   1.5,   1.5,   1.5,\n",
       "         1.5,   1.5,   1.5,   1.5,   1.5,   1.5,   1.5,   1.5,   1.5,\n",
       "         1.5, 101.5])"
      ]
     },
     "execution_count": 12,
     "metadata": {},
     "output_type": "execute_result"
    }
   ],
   "source": [
    "flujos.values"
   ]
  },
  {
   "cell_type": "markdown",
   "metadata": {},
   "source": [
    "Obtenemos un `numpy.array` que es un tipo similar a una `List`, pero optimizado para cálculos.\n",
    "\n",
    "Para las fechas aplicamos un procedimiento similar:"
   ]
  },
  {
   "cell_type": "code",
   "execution_count": 13,
   "metadata": {
    "ExecuteTime": {
     "end_time": "2021-08-18T22:44:59.522018Z",
     "start_time": "2021-08-18T22:44:59.515998Z"
    }
   },
   "outputs": [
    {
     "data": {
      "text/plain": [
       "array(['2014-10-01', '2015-04-01', '2015-10-01', '2016-04-01',\n",
       "       '2016-10-01', '2017-04-01', '2017-10-01', '2018-04-01',\n",
       "       '2018-10-01', '2019-04-01', '2019-10-01', '2020-04-01',\n",
       "       '2020-10-01', '2021-04-01', '2021-10-01', '2022-04-01',\n",
       "       '2022-10-01', '2023-04-01', '2023-10-01', '2024-04-01'],\n",
       "      dtype=object)"
      ]
     },
     "execution_count": 13,
     "metadata": {},
     "output_type": "execute_result"
    }
   ],
   "source": [
    "fechas = tabla['fecha_vcto_cupon'].values\n",
    "fechas"
   ]
  },
  {
   "cell_type": "markdown",
   "metadata": {},
   "source": [
    "Vemos que tenemos que obtenemos un `numpy.array` de `str`, pero queremos `datetime.date`."
   ]
  },
  {
   "cell_type": "code",
   "execution_count": 15,
   "metadata": {
    "ExecuteTime": {
     "end_time": "2021-08-18T22:46:47.721434Z",
     "start_time": "2021-08-18T22:46:47.717673Z"
    }
   },
   "outputs": [],
   "source": [
    "import datetime"
   ]
  },
  {
   "cell_type": "code",
   "execution_count": 16,
   "metadata": {
    "ExecuteTime": {
     "end_time": "2021-08-18T22:46:49.277439Z",
     "start_time": "2021-08-18T22:46:49.272670Z"
    }
   },
   "outputs": [],
   "source": [
    "fechas = [datetime.datetime.strptime(f, \"%Y-%m-%d\").date() for f in fechas]"
   ]
  },
  {
   "cell_type": "code",
   "execution_count": 17,
   "metadata": {
    "ExecuteTime": {
     "end_time": "2021-08-18T22:46:51.310735Z",
     "start_time": "2021-08-18T22:46:51.305875Z"
    }
   },
   "outputs": [
    {
     "data": {
      "text/plain": [
       "[datetime.date(2014, 10, 1),\n",
       " datetime.date(2015, 4, 1),\n",
       " datetime.date(2015, 10, 1),\n",
       " datetime.date(2016, 4, 1),\n",
       " datetime.date(2016, 10, 1),\n",
       " datetime.date(2017, 4, 1),\n",
       " datetime.date(2017, 10, 1),\n",
       " datetime.date(2018, 4, 1),\n",
       " datetime.date(2018, 10, 1),\n",
       " datetime.date(2019, 4, 1),\n",
       " datetime.date(2019, 10, 1),\n",
       " datetime.date(2020, 4, 1),\n",
       " datetime.date(2020, 10, 1),\n",
       " datetime.date(2021, 4, 1),\n",
       " datetime.date(2021, 10, 1),\n",
       " datetime.date(2022, 4, 1),\n",
       " datetime.date(2022, 10, 1),\n",
       " datetime.date(2023, 4, 1),\n",
       " datetime.date(2023, 10, 1),\n",
       " datetime.date(2024, 4, 1)]"
      ]
     },
     "execution_count": 17,
     "metadata": {},
     "output_type": "execute_result"
    }
   ],
   "source": [
    "fechas"
   ]
  },
  {
   "cell_type": "markdown",
   "metadata": {},
   "source": [
    "Ahora aplicamos la función:"
   ]
  },
  {
   "cell_type": "code",
   "execution_count": 18,
   "metadata": {
    "ExecuteTime": {
     "end_time": "2021-08-18T22:47:09.698171Z",
     "start_time": "2021-08-18T22:47:09.691481Z"
    }
   },
   "outputs": [
    {
     "data": {
      "text/plain": [
       "99.9997566755515"
      ]
     },
     "execution_count": 18,
     "metadata": {},
     "output_type": "execute_result"
    }
   ],
   "source": [
    "valor_presente(date(2014,4,1), fechas, flujos, .0302)"
   ]
  },
  {
   "cell_type": "markdown",
   "metadata": {},
   "source": [
    "### Función `valor_par`"
   ]
  },
  {
   "cell_type": "markdown",
   "metadata": {},
   "source": [
    "Para el cálculo del `valor_par` necesitamos la fecha valor, las fechas iniciales de los cupones y la tera."
   ]
  },
  {
   "cell_type": "code",
   "execution_count": 19,
   "metadata": {
    "ExecuteTime": {
     "end_time": "2021-08-18T22:58:33.374444Z",
     "start_time": "2021-08-18T22:58:33.369568Z"
    }
   },
   "outputs": [],
   "source": [
    "def valor_par(fecha_valor, fechas_iniciales, saldos_insolutos, tera):\n",
    "    \"\"\"\n",
    "    Calcula el valor par en base 100 para un bono de renta fija local.\n",
    "    \n",
    "    Parameters\n",
    "    ----------\n",
    "    \n",
    "    fecha_valor: datetime.date\n",
    "        Fecha a la cual se quiere obtener el valor par.\n",
    "        \n",
    "    fechas_iniciales: List[datetime.date]\n",
    "        Fechas de inicio de devengo de los flujos del bono.\n",
    "        \n",
    "    saldos_insolutos: List[float]\n",
    "        Saldos insolutos de cada cupón del bono.\n",
    "        \n",
    "    tera: float\n",
    "        Tasa efectiva real anual del bono según las convenciones de la Bolsa de Comercio de Santiago.\n",
    "        \n",
    "    Returns\n",
    "    -------\n",
    "    \n",
    "    Un `float` que corresponde al valor par del bono.\n",
    "    \"\"\"\n",
    "    fecha = mf.find_le(fechas_iniciales, fecha_valor)\n",
    "    i = fechas_iniciales.index(fecha)\n",
    "    saldo = saldos_insolutos[i]\n",
    "    d = (fecha_valor - fecha).days\n",
    "    return saldo * (1 + tera)**(d / 365.0)"
   ]
  },
  {
   "cell_type": "markdown",
   "metadata": {},
   "source": [
    "Probemos. La data que ahora estamos utilizando no está en el formato astuto de RiskAmerica que agrega un cupón 0 a la tabla de desarrollo. Vamos a tomar las fechas de la tabla de desarrollo y luego vamos a insertar al inicio la fecha de *emisión* desde la tabla de características.\n",
    "\n",
    "Para este ejemplo vamos a usar el nemotécnico BCCA-F0919."
   ]
  },
  {
   "cell_type": "code",
   "execution_count": 20,
   "metadata": {
    "ExecuteTime": {
     "end_time": "2021-08-18T22:58:37.282009Z",
     "start_time": "2021-08-18T22:58:37.028692Z"
    }
   },
   "outputs": [],
   "source": [
    "fechas_iniciales = tablas_desarrollo[tablas_desarrollo.nemotecnico == 'BCCA-F0919']['fecha_vcto_cupon'].values"
   ]
  },
  {
   "cell_type": "code",
   "execution_count": 22,
   "metadata": {
    "ExecuteTime": {
     "end_time": "2021-08-18T23:00:50.559134Z",
     "start_time": "2021-08-18T23:00:50.553723Z"
    }
   },
   "outputs": [],
   "source": [
    "fecha_emision = bonos[bonos.nemotecnico == 'BCCA-F0919']['fecha_emision'].iloc[0]"
   ]
  },
  {
   "cell_type": "code",
   "execution_count": 23,
   "metadata": {
    "ExecuteTime": {
     "end_time": "2021-08-18T23:01:10.043026Z",
     "start_time": "2021-08-18T23:01:10.034323Z"
    }
   },
   "outputs": [
    {
     "data": {
      "text/plain": [
       "array(['2019-09-27 00:00:00', '2019-12-27', '2020-03-27', '2020-06-27',\n",
       "       '2020-09-27', '2020-12-27', '2021-03-27', '2021-06-27',\n",
       "       '2021-09-27', '2021-12-27', '2022-03-27', '2022-06-27',\n",
       "       '2022-09-27', '2022-12-27', '2023-03-27', '2023-06-27',\n",
       "       '2023-09-27', '2023-12-27', '2024-03-27'], dtype=object)"
      ]
     },
     "execution_count": 23,
     "metadata": {},
     "output_type": "execute_result"
    }
   ],
   "source": [
    "np.insert(fechas_iniciales, 0, [str(fecha_emision)])"
   ]
  },
  {
   "cell_type": "code",
   "execution_count": 24,
   "metadata": {
    "ExecuteTime": {
     "end_time": "2021-08-18T23:01:24.916376Z",
     "start_time": "2021-08-18T23:01:24.911398Z"
    }
   },
   "outputs": [],
   "source": [
    "fechas_iniciales = [datetime.datetime.strptime(f, \"%Y-%m-%d\").date() for f in fechas_iniciales]"
   ]
  },
  {
   "cell_type": "code",
   "execution_count": 25,
   "metadata": {
    "ExecuteTime": {
     "end_time": "2021-08-18T23:01:27.679392Z",
     "start_time": "2021-08-18T23:01:27.673683Z"
    }
   },
   "outputs": [
    {
     "data": {
      "text/plain": [
       "[datetime.date(2019, 12, 27),\n",
       " datetime.date(2020, 3, 27),\n",
       " datetime.date(2020, 6, 27),\n",
       " datetime.date(2020, 9, 27),\n",
       " datetime.date(2020, 12, 27),\n",
       " datetime.date(2021, 3, 27),\n",
       " datetime.date(2021, 6, 27),\n",
       " datetime.date(2021, 9, 27),\n",
       " datetime.date(2021, 12, 27),\n",
       " datetime.date(2022, 3, 27),\n",
       " datetime.date(2022, 6, 27),\n",
       " datetime.date(2022, 9, 27),\n",
       " datetime.date(2022, 12, 27),\n",
       " datetime.date(2023, 3, 27),\n",
       " datetime.date(2023, 6, 27),\n",
       " datetime.date(2023, 9, 27),\n",
       " datetime.date(2023, 12, 27),\n",
       " datetime.date(2024, 3, 27)]"
      ]
     },
     "execution_count": 25,
     "metadata": {},
     "output_type": "execute_result"
    }
   ],
   "source": [
    "fechas_iniciales"
   ]
  },
  {
   "cell_type": "code",
   "execution_count": 31,
   "metadata": {
    "ExecuteTime": {
     "end_time": "2021-08-18T23:07:35.082975Z",
     "start_time": "2021-08-18T23:07:34.832360Z"
    }
   },
   "outputs": [],
   "source": [
    "saldos_insolutos = list(tablas_desarrollo[tablas_desarrollo.nemotecnico == 'BCCA-F0919']['saldo_insoluto'].values)"
   ]
  },
  {
   "cell_type": "code",
   "execution_count": 32,
   "metadata": {
    "ExecuteTime": {
     "end_time": "2021-08-18T23:07:40.197763Z",
     "start_time": "2021-08-18T23:07:40.188623Z"
    }
   },
   "outputs": [
    {
     "data": {
      "text/plain": [
       "0.08092"
      ]
     },
     "execution_count": 32,
     "metadata": {},
     "output_type": "execute_result"
    }
   ],
   "source": [
    "tera = bonos[bonos.nemotecnico == 'BCCA-F0919']['tasa_descuento'].iloc[0] / 100.0\n",
    "tera"
   ]
  },
  {
   "cell_type": "code",
   "execution_count": 33,
   "metadata": {
    "ExecuteTime": {
     "end_time": "2021-08-18T23:07:48.480514Z",
     "start_time": "2021-08-18T23:07:48.473572Z"
    }
   },
   "outputs": [
    {
     "data": {
      "text/plain": [
       "100.08531037450017"
      ]
     },
     "execution_count": 33,
     "metadata": {},
     "output_type": "execute_result"
    }
   ],
   "source": [
    "valor_par(date(2019, 12, 31), fechas_iniciales, saldos_insolutos, tera)"
   ]
  },
  {
   "cell_type": "markdown",
   "metadata": {},
   "source": [
    "### Primera Versión"
   ]
  },
  {
   "cell_type": "markdown",
   "metadata": {},
   "source": [
    "Con las definiciones anteriores estamos en condiciones de construir el valorizador, al menos la funcionalidad relacionada con el valor presente y valor par.\n",
    "\n",
    "Vamos a definir una función que aproveche la funcionalidad definida y abstraiga los detalles relacionados con la obtención de la data específica de un bono.\n",
    "\n",
    "**IMPORTANTE:** Esta función captura desde el contexto global los `DataFrame` `bonos` y `tablas`, evitando así tener que pasar estos argumentos a cada llamada de la función. Al finalizar veremos una manera más elegante y explícita de lograr el mismo efecto."
   ]
  },
  {
   "cell_type": "code",
   "execution_count": 36,
   "metadata": {
    "ExecuteTime": {
     "end_time": "2021-08-18T23:20:47.882993Z",
     "start_time": "2021-08-18T23:20:47.866189Z"
    }
   },
   "outputs": [],
   "source": [
    "def valorizador_rf(fecha_valor, nemotecnico, tir, monto):\n",
    "    \"\"\"\n",
    "    Valoriza un instrumento de renta fija local a una fecha, a partir de su nemotécnico y la tir de mercado.\n",
    "    \n",
    "    Arguments\n",
    "    ---------\n",
    "    \n",
    "    nemotecnico: str\n",
    "        Es un nemotécnico válido de renta fija local.\n",
    "        \n",
    "    fecha_valor: datetime.date\n",
    "        Fecha a la cual se requiere el cálculo.\n",
    "        \n",
    "    tir: float\n",
    "        Tir de mercado del bono.\n",
    "        \n",
    "    monto: float\n",
    "        Monto total del bono.\n",
    "        \n",
    "    Returns\n",
    "    -------\n",
    "    \n",
    "    El precio, el valor par, el valor presente y el valor de pago del bono.\n",
    "    \n",
    "    \"\"\"\n",
    "    # Busca las características del bono\n",
    "    caracteristicas = bonos[bonos.nemotecnico == nemotecnico]\n",
    "    \n",
    "    # Busca la tabla de desarrollo\n",
    "    tabla = tablas_desarrollo[tablas_desarrollo.nemotecnico == nemotecnico]\n",
    "\n",
    "    \n",
    "    # Establece el valor de la TERA,\n",
    "    tera = round(caracteristicas['tasa_descuento'].iloc[0] / 100.0, 6)\n",
    "    \n",
    "    # la fecha de inicio del primer cupón,\n",
    "    primera_fecha = caracteristicas['fecha_emision'].iloc[0]\n",
    "    primera_fecha = datetime.datetime.strptime(str(primera_fecha)[0:10], \"%Y-%m-%d\").date()\n",
    "    \n",
    "    # las fechas de pago de cupón\n",
    "    fechas_pago = tabla['fecha_vcto_cupon'].values\n",
    "    fechas_pago = [datetime.datetime.strptime(f, \"%Y-%m-%d\").date() for f in fechas_pago]\n",
    "    \n",
    "    # y los cupones.\n",
    "    flujos = (tabla['interes'] + tabla['amortizacion']).values\n",
    "    \n",
    "    # Se calcula el valor presente\n",
    "    vpresente = valor_presente(fecha_valor, fechas_pago, flujos, tir)\n",
    "    \n",
    "    # Se establecen las fechas de inicio de los cupones.\n",
    "    np.insert(fechas_pago, 0, [primera_fecha])\n",
    "    \n",
    "    # Se establecen los saldos insolutos\n",
    "    saldos_insolutos = list(tabla['saldo_insoluto'])\n",
    "    \n",
    "    # Se calcula el valor par.\n",
    "    vpar = valor_par(fecha_valor, fechas_pago, saldos_insolutos, tera)\n",
    "    \n",
    "    # Se calcula el precio a 4 decimales\n",
    "    precio = round(vpresente / vpar, 6)\n",
    "    \n",
    "    # Se calcula el valor a pagar en unidades monetarias.\n",
    "    valor_pago = precio * vpar * monto / 100.0\n",
    "    \n",
    "    return {\n",
    "        'precio': precio,\n",
    "        'valor_par': vpar,\n",
    "        'valor_presente': vpresente,\n",
    "        'valor_pago': valor_pago\n",
    "    }"
   ]
  },
  {
   "cell_type": "code",
   "execution_count": 37,
   "metadata": {
    "ExecuteTime": {
     "end_time": "2021-08-18T23:20:53.179267Z",
     "start_time": "2021-08-18T23:20:52.924369Z"
    }
   },
   "outputs": [
    {
     "data": {
      "text/plain": [
       "{'precio': 0.832537,\n",
       " 'valor_par': 101.74312935262013,\n",
       " 'valor_presente': 84.70490433903439,\n",
       " 'valor_pago': 847.049196818423}"
      ]
     },
     "execution_count": 37,
     "metadata": {},
     "output_type": "execute_result"
    }
   ],
   "source": [
    "valorizador_rf(date(2021, 8, 13), 'BWATT-Q', 0.0673, 1000)"
   ]
  },
  {
   "cell_type": "markdown",
   "metadata": {},
   "source": [
    "#### Duración y Convexidad"
   ]
  },
  {
   "cell_type": "markdown",
   "metadata": {},
   "source": [
    "¿Qué es la duración de un bono? Típicamente la primera respuesta es *el promedio ponderado por el valor presente de los flujos de los plazos residuales de los flujos*. Una segunda forma, más robusta y que se extiende a otros contextos es pensar en la duración como la derivada primera del valor del bono respecto a la TIR de mercado.\n",
    "\n",
    "$$V\\left(TIR\\right)=\\sum_{i=1}^N C_i\\cdot \\exp\\left(-TIR\\cdot yf_i\\right)$$\n",
    "\n",
    "$$\\frac{dV}{dTIR}=-\\sum_{i=1}^N yf_i\\cdot C_i\\cdot \\exp\\left(-TIR\\cdot yf_i\\right)=-D\\cdot V\\left(TIR\\right)$$\n",
    "\n",
    "En esta convención de tasa, la duración es, a menos del valor presente del bono y el signo, exactamente igual a la derivada del valor del bono. Si usamos la convención de la TIR de mercado de la renta fija local tenemos:\n",
    "\n",
    "$$V\\left(TIR\\right)=\\sum_{i=1}^N C_i\\cdot\\left(1+TIR\\right)^{-yf_i}$$\n",
    "\n",
    "$$\\frac{dV}{dTIR}=-\\frac{\\sum_{i=1}^N yf_i\\cdot C_i\\cdot\\left(1+TIR\\right)^{-yf_i}}{1+TIR}=-D_M\\cdot V\\left(TIR\\right)$$\n",
    "\n",
    "Vemos que, en esta convención de tasa, la derivada del valor del bono coincide con la duración modificada.\n",
    "\n",
    "Para la convexidad se puede hacer un razonamiento del todo análogo al anterior:\n",
    "\n",
    "$$\\frac{d^2V}{dTIR^2}=\\frac{\\sum_{i=1}^N yf_i\\cdot \\left(yf_i+1\\right)\\cdot C_i\\cdot\\left(1+TIR\\right)^{-yf_i}}{\\left(1+TIR\\right)^2}$$"
   ]
  },
  {
   "cell_type": "markdown",
   "metadata": {},
   "source": [
    "Podríamos utilizar las últimas fórmulas y escribir funciones que calculen la duración y convexidad de un bono, pero vamos a adoptar un acercamiento al problema más extendible a situaciones futuras de mayor compeljidad.\n",
    "\n",
    "Vamos a utilizar la librería `autograd` que es capaz de calcular la derivada de una función. No es una aproximación por diferencias finitas, `autograd` calcula la derivada del código Python que define la función."
   ]
  },
  {
   "cell_type": "code",
   "execution_count": 38,
   "metadata": {
    "ExecuteTime": {
     "end_time": "2021-08-18T23:42:31.387917Z",
     "start_time": "2021-08-18T23:42:31.383841Z"
    }
   },
   "outputs": [],
   "source": [
    "dvdtir = grad(valor_presente, 3) # Derivada de la función valor_presente respecto a la TIR (3 variable)"
   ]
  },
  {
   "cell_type": "code",
   "execution_count": 39,
   "metadata": {
    "ExecuteTime": {
     "end_time": "2021-08-18T23:42:47.881481Z",
     "start_time": "2021-08-18T23:42:47.874704Z"
    }
   },
   "outputs": [
    {
     "data": {
      "text/plain": [
       "function"
      ]
     },
     "execution_count": 39,
     "metadata": {},
     "output_type": "execute_result"
    }
   ],
   "source": [
    "type(dvdtir)"
   ]
  },
  {
   "cell_type": "code",
   "execution_count": 41,
   "metadata": {
    "ExecuteTime": {
     "end_time": "2021-08-18T23:48:24.797595Z",
     "start_time": "2021-08-18T23:48:24.787994Z"
    }
   },
   "outputs": [
    {
     "data": {
      "text/plain": [
       "2.5322376795337695"
      ]
     },
     "execution_count": 41,
     "metadata": {},
     "output_type": "execute_result"
    }
   ],
   "source": [
    "dur = -(1 + .0002) * dvdtir(date(2021,8,13), fechas, flujos, .0002)\n",
    "dur /= valor_presente(date(2021,8,13), fechas, flujos, .0002)\n",
    "dur"
   ]
  },
  {
   "cell_type": "code",
   "execution_count": 43,
   "metadata": {
    "ExecuteTime": {
     "end_time": "2021-08-18T23:49:33.403361Z",
     "start_time": "2021-08-18T23:49:33.400331Z"
    }
   },
   "outputs": [],
   "source": [
    "d2vdtir2 = grad(dvdtir, 3)"
   ]
  },
  {
   "cell_type": "code",
   "execution_count": 45,
   "metadata": {
    "ExecuteTime": {
     "end_time": "2021-08-18T23:49:50.538840Z",
     "start_time": "2021-08-18T23:49:50.527168Z"
    }
   },
   "outputs": [
    {
     "data": {
      "text/plain": [
       "9.116173104913129"
      ]
     },
     "execution_count": 45,
     "metadata": {},
     "output_type": "execute_result"
    }
   ],
   "source": [
    "conv = d2vdtir2(date(2021,8,13), fechas, flujos, .0002)\n",
    "conv /= valor_presente(date(2021,8,13), fechas, flujos, .0002) * (1 + .0002)**2\n",
    "conv"
   ]
  },
  {
   "cell_type": "markdown",
   "metadata": {},
   "source": [
    "Dado lo anterior, podemos hacer una segunda versión de la función `valorizador_rf` que retorne también la duración y la convexidad."
   ]
  },
  {
   "cell_type": "code",
   "execution_count": 46,
   "metadata": {
    "ExecuteTime": {
     "end_time": "2021-08-18T23:50:58.371755Z",
     "start_time": "2021-08-18T23:50:58.356272Z"
    }
   },
   "outputs": [],
   "source": [
    "def valorizador_rf(fecha_valor, nemotecnico, tir, monto):\n",
    "    \"\"\"\n",
    "    Valoriza un instrumento de renta fija local a una fecha, a partir de su nemotécnico y la tir de mercado.\n",
    "\n",
    "    Arguments\n",
    "    ---------\n",
    "\n",
    "    nemotecnico: str\n",
    "        Es un nemotécnico válido de renta fija local.\n",
    "\n",
    "    fecha_valor: datetime.date\n",
    "        Fecha a la cual se requiere el cálculo.\n",
    "\n",
    "    tir: float\n",
    "        Tir de mercado del bono.\n",
    "\n",
    "    monto: float\n",
    "        Monto total del bono.\n",
    "\n",
    "    Returns\n",
    "    -------\n",
    "\n",
    "    El precio, el valor par, el valor presente, el valor de pago, la duración y la convexidad del bono.\n",
    "\n",
    "    \"\"\"\n",
    "    # Busca las características del bono\n",
    "    caracteristicas = bonos[bonos.nemotecnico == nemotecnico]\n",
    "\n",
    "    # Busca la tabla de desarrollo\n",
    "    tabla = tablas_desarrollo[tablas_desarrollo.nemotecnico == nemotecnico]\n",
    "\n",
    "    # Establece el valor de la TERA,\n",
    "    tera = round(caracteristicas['tasa_descuento'].iloc[0] / 100.0, 6)\n",
    "\n",
    "    # la fecha de inicio del primer cupón,\n",
    "    primera_fecha = caracteristicas['fecha_emision'].iloc[0]\n",
    "    primera_fecha = datetime.datetime.strptime(\n",
    "        str(primera_fecha)[0:10], \"%Y-%m-%d\").date()\n",
    "\n",
    "    # las fechas de pago de cupón\n",
    "    fechas_pago = tabla['fecha_vcto_cupon'].values\n",
    "    fechas_pago = [datetime.datetime.strptime(\n",
    "        f, \"%Y-%m-%d\").date() for f in fechas_pago]\n",
    "\n",
    "    # y los cupones.\n",
    "    flujos = (tabla['interes'] + tabla['amortizacion']).values\n",
    "\n",
    "    # Se calcula el valor presente\n",
    "    vpresente = valor_presente(fecha_valor, fechas_pago, flujos, tir)\n",
    "\n",
    "    # Se calcula la duración.\n",
    "    dvdtir = grad(valor_presente, 3)\n",
    "    dur = -(1 + tir) * dvdtir(fecha_valor,\n",
    "                              fechas_pago, flujos, tir) / vpresente\n",
    "\n",
    "    # Se calcula la convexidad\n",
    "    d2dvdtir2 = grad(dvdtir, 3)\n",
    "    conv = d2dvdtir2(fecha_valor, fechas_pago, flujos, tir)\n",
    "    conv /= vpresente\n",
    "\n",
    "    # Se establecen las fechas de inicio de los cupones.\n",
    "    np.insert(fechas_pago, 0, [primera_fecha])\n",
    "    \n",
    "    # Se establecen los saldos insolutos\n",
    "    saldos_insolutos = list(tabla['saldo_insoluto'])\n",
    "\n",
    "    # Se calcula el valor par.\n",
    "    vpar = valor_par(fecha_valor, fechas_pago, saldos_insolutos, tera)\n",
    "\n",
    "    # Se calcula el precio a 4 decimales\n",
    "    precio = round(vpresente / vpar, 6)\n",
    "\n",
    "    # Se calcula el valor a pagar en unidades monetarias.\n",
    "    valor_pago = precio * vpar * monto / 100.0\n",
    "\n",
    "    return {\n",
    "        'precio': precio,\n",
    "        'valor_par': vpar,\n",
    "        'valor_presente': vpresente,\n",
    "        'valor_pago': valor_pago,\n",
    "        'duracion': dur,\n",
    "        'convexidad': conv\n",
    "    }"
   ]
  },
  {
   "cell_type": "markdown",
   "metadata": {},
   "source": [
    "Probemos con los mismos valores anteriores."
   ]
  },
  {
   "cell_type": "code",
   "execution_count": 47,
   "metadata": {
    "ExecuteTime": {
     "end_time": "2021-08-18T23:51:05.648291Z",
     "start_time": "2021-08-18T23:51:05.280893Z"
    }
   },
   "outputs": [
    {
     "data": {
      "text/plain": [
       "{'precio': 0.832537,\n",
       " 'valor_par': 101.74312935262013,\n",
       " 'valor_presente': 84.70490433903439,\n",
       " 'valor_pago': 847049.196818423,\n",
       " 'duracion': 6.732718905495722,\n",
       " 'convexidad': 50.83936352905741}"
      ]
     },
     "execution_count": 47,
     "metadata": {},
     "output_type": "execute_result"
    }
   ],
   "source": [
    "valorizador_rf(date(2021, 8, 13), 'BWATT-Q', 0.0673, 1000000)"
   ]
  },
  {
   "cell_type": "markdown",
   "metadata": {},
   "source": [
    "### Segunda Versión"
   ]
  },
  {
   "cell_type": "markdown",
   "metadata": {},
   "source": [
    "Sin captura global de la data, pero con la misma usabilidad."
   ]
  },
  {
   "cell_type": "code",
   "execution_count": 48,
   "metadata": {
    "ExecuteTime": {
     "end_time": "2021-08-19T00:01:47.149670Z",
     "start_time": "2021-08-19T00:01:47.131100Z"
    }
   },
   "outputs": [],
   "source": [
    "def valorizador_rf(fecha_valor, nemotecnico, tir, monto, bonos, tablas_desarrollo):\n",
    "    \"\"\"\n",
    "    Valoriza un instrumento de renta fija local a una fecha, a partir de su nemotécnico y la tir de mercado.\n",
    "    \n",
    "    Arguments\n",
    "    ---------\n",
    "    \n",
    "    nemotecnico: str\n",
    "        Es un nemotécnico válido de renta fija local.\n",
    "        \n",
    "    fecha_valor: datetime.date\n",
    "        Fecha a la cual se requiere el cálculo.\n",
    "        \n",
    "    tir: float\n",
    "        Tir de mercado del bono.\n",
    "        \n",
    "    monto: float\n",
    "        Monto total del bono.\n",
    "        \n",
    "    bonos: pandas.DataFrame\n",
    "        Contiene la información de cabecera de los bonos. En particular tiene las columnas `nemotecnico`,\n",
    "        `tasa_descuento` que representa la TERA del bono y `fecha_emision`.\n",
    "        \n",
    "    tablas_desarrollo: pandas.DataFrame\n",
    "        Contiene las columnas `nemotecnico`, `interes`, `amortizacion` y `fecha_vcto_cupon`.\n",
    "        \n",
    "    Returns\n",
    "    -------\n",
    "    \n",
    "    El precio, el valor par, el valor presente, el valor de pago, la duración y la convexidad del bono.\n",
    "    \n",
    "    \"\"\"\n",
    "    # Busca las características del bono\n",
    "    caracteristicas = bonos[bonos.nemotecnico == nemotecnico]\n",
    "    \n",
    "    # Busca la tabla de desarrollo\n",
    "    tabla = tablas_desarrollo[tablas_desarrollo.nemotecnico == nemotecnico]\n",
    "\n",
    "    \n",
    "    # Establece el valor de la TERA,\n",
    "    tera = round(caracteristicas['tasa_descuento'].iloc[0] / 100.0, 6)\n",
    "    \n",
    "    # la fecha de inicio del primer cupón,\n",
    "    primera_fecha = caracteristicas['fecha_emision'].iloc[0]\n",
    "    primera_fecha = datetime.datetime.strptime(str(primera_fecha)[0:10], \"%Y-%m-%d\").date()\n",
    "    \n",
    "    # las fechas de pago de cupón\n",
    "    fechas_pago = tabla['fecha_vcto_cupon'].values\n",
    "    fechas_pago = [datetime.datetime.strptime(f, \"%Y-%m-%d\").date() for f in fechas_pago]\n",
    "    \n",
    "    # y los cupones.\n",
    "    flujos = (tabla['interes'] + tabla['amortizacion']).values\n",
    "    \n",
    "    # Se calcula el valor presente\n",
    "    vpresente = valor_presente(fecha_valor, fechas_pago, flujos, tir)\n",
    "    \n",
    "    # Se calcula la duración.\n",
    "    dvdtir = grad(valor_presente, 3)\n",
    "    dur = -(1 + tir) * dvdtir(fecha_valor, fechas_pago, flujos, tir) / vpresente\n",
    "    \n",
    "    # Se calcula la convexidad\n",
    "    d2dvdtir2 = grad(dvdtir, 3)\n",
    "    conv = d2dvdtir2(fecha_valor, fechas_pago, flujos, tir)\n",
    "    conv /= vpresente \n",
    "    \n",
    "    # Se establecen las fechas de inicio de los cupones.\n",
    "    np.insert(fechas_pago, 0, [primera_fecha])\n",
    "    \n",
    "    # Se establecen los saldos insolutos\n",
    "    saldos_insolutos = list(tabla['saldo_insoluto'])\n",
    "    \n",
    "    # Se calcula el valor par.\n",
    "    vpar = valor_par(fecha_valor, fechas_pago, saldos_insolutos, tera)\n",
    "    \n",
    "    # Se calcula el precio a 4 decimales\n",
    "    precio = round(vpresente / vpar, 6)\n",
    "    \n",
    "    # Se calcula el valor a pagar en unidades monetarias.\n",
    "    valor_pago = precio * vpar * monto / 100.0\n",
    "    \n",
    "    return {\n",
    "        'precio': precio,\n",
    "        'valor_par': vpar,\n",
    "        'valor_presente': vpresente,\n",
    "        'valor_pago': valor_pago,\n",
    "        'duracion': dur,\n",
    "        'convexidad': conv\n",
    "    }"
   ]
  },
  {
   "cell_type": "markdown",
   "metadata": {},
   "source": [
    "Est función hace explícita la dependencia de la data relacionada con los bonos y permite, por lo tanto, que sea reutilizable en otros contextos. Sin embargo, el código se hace más verboso si tenemos que pasar los `DataFrames` con la data cada vez que llamamos la función. Sin embargo, esto último se puede solucionar con la siguiente captura."
   ]
  },
  {
   "cell_type": "code",
   "execution_count": 49,
   "metadata": {
    "ExecuteTime": {
     "end_time": "2021-08-19T00:07:16.547457Z",
     "start_time": "2021-08-19T00:07:16.541517Z"
    }
   },
   "outputs": [
    {
     "name": "stdout",
     "output_type": "stream",
     "text": [
      "The Zen of Python, by Tim Peters\n",
      "\n",
      "Beautiful is better than ugly.\n",
      "Explicit is better than implicit.\n",
      "Simple is better than complex.\n",
      "Complex is better than complicated.\n",
      "Flat is better than nested.\n",
      "Sparse is better than dense.\n",
      "Readability counts.\n",
      "Special cases aren't special enough to break the rules.\n",
      "Although practicality beats purity.\n",
      "Errors should never pass silently.\n",
      "Unless explicitly silenced.\n",
      "In the face of ambiguity, refuse the temptation to guess.\n",
      "There should be one-- and preferably only one --obvious way to do it.\n",
      "Although that way may not be obvious at first unless you're Dutch.\n",
      "Now is better than never.\n",
      "Although never is often better than *right* now.\n",
      "If the implementation is hard to explain, it's a bad idea.\n",
      "If the implementation is easy to explain, it may be a good idea.\n",
      "Namespaces are one honking great idea -- let's do more of those!\n"
     ]
    }
   ],
   "source": [
    "import this"
   ]
  },
  {
   "cell_type": "code",
   "execution_count": 57,
   "metadata": {
    "ExecuteTime": {
     "end_time": "2021-08-19T00:14:19.827992Z",
     "start_time": "2021-08-19T00:14:19.822934Z"
    }
   },
   "outputs": [],
   "source": [
    "def get_valorizador_with_data(bonos, tablas_desarrollo):\n",
    "    def wrapper(fecha_valor, nemotecnico, tir, monto):\n",
    "        return valorizador_rf(\n",
    "            fecha_valor,\n",
    "            nemotecnico,\n",
    "            tir, monto,\n",
    "            bonos,\n",
    "            tablas_desarrollo\n",
    "        )\n",
    "    return wrapper"
   ]
  },
  {
   "cell_type": "code",
   "execution_count": 58,
   "metadata": {
    "ExecuteTime": {
     "end_time": "2021-08-19T00:14:24.579214Z",
     "start_time": "2021-08-19T00:14:24.575880Z"
    }
   },
   "outputs": [],
   "source": [
    "val_rf = get_valorizador_with_data(bonos, tablas_desarrollo)"
   ]
  },
  {
   "cell_type": "code",
   "execution_count": 59,
   "metadata": {
    "ExecuteTime": {
     "end_time": "2021-08-19T00:14:34.398579Z",
     "start_time": "2021-08-19T00:14:34.143452Z"
    }
   },
   "outputs": [
    {
     "data": {
      "text/plain": [
       "{'precio': 0.832537,\n",
       " 'valor_par': 101.74312935262013,\n",
       " 'valor_presente': 84.70490433903439,\n",
       " 'valor_pago': 847049.196818423,\n",
       " 'duracion': 6.732718905495722,\n",
       " 'convexidad': 50.83936352905741}"
      ]
     },
     "execution_count": 59,
     "metadata": {},
     "output_type": "execute_result"
    }
   ],
   "source": [
    "val_rf(date(2021, 8, 13), 'BWATT-Q', 0.0673, 1000000)"
   ]
  },
  {
   "cell_type": "markdown",
   "metadata": {},
   "source": [
    "#### Un Ejemplo Típico"
   ]
  },
  {
   "cell_type": "markdown",
   "metadata": {},
   "source": [
    "Como fijar el valor de una variable de una función."
   ]
  },
  {
   "cell_type": "code",
   "execution_count": 50,
   "metadata": {
    "ExecuteTime": {
     "end_time": "2021-08-19T00:10:48.447213Z",
     "start_time": "2021-08-19T00:10:48.442813Z"
    }
   },
   "outputs": [],
   "source": [
    "def suma(a, b):\n",
    "    return a + b"
   ]
  },
  {
   "cell_type": "code",
   "execution_count": 53,
   "metadata": {
    "ExecuteTime": {
     "end_time": "2021-08-19T00:12:26.048402Z",
     "start_time": "2021-08-19T00:12:26.040950Z"
    }
   },
   "outputs": [],
   "source": [
    "def suma_x(x):\n",
    "    def wrapper(a):\n",
    "        return suma(a, x)\n",
    "    return wrapper"
   ]
  },
  {
   "cell_type": "code",
   "execution_count": 54,
   "metadata": {
    "ExecuteTime": {
     "end_time": "2021-08-19T00:12:34.142313Z",
     "start_time": "2021-08-19T00:12:34.138267Z"
    }
   },
   "outputs": [],
   "source": [
    "suma2 = suma_x(2)"
   ]
  },
  {
   "cell_type": "code",
   "execution_count": 55,
   "metadata": {
    "ExecuteTime": {
     "end_time": "2021-08-19T00:12:45.379767Z",
     "start_time": "2021-08-19T00:12:45.373515Z"
    }
   },
   "outputs": [
    {
     "data": {
      "text/plain": [
       "12"
      ]
     },
     "execution_count": 55,
     "metadata": {},
     "output_type": "execute_result"
    }
   ],
   "source": [
    "suma2(10)"
   ]
  }
 ],
 "metadata": {
  "hide_input": false,
  "kernelspec": {
   "display_name": "Python 3",
   "language": "python",
   "name": "python3"
  },
  "language_info": {
   "codemirror_mode": {
    "name": "ipython",
    "version": 3
   },
   "file_extension": ".py",
   "mimetype": "text/x-python",
   "name": "python",
   "nbconvert_exporter": "python",
   "pygments_lexer": "ipython3",
   "version": "3.7.3"
  },
  "toc": {
   "base_numbering": 1,
   "nav_menu": {},
   "number_sections": true,
   "sideBar": true,
   "skip_h1_title": true,
   "title_cell": "Table of Contents",
   "title_sidebar": "Contenido",
   "toc_cell": false,
   "toc_position": {
    "height": "calc(100% - 180px)",
    "left": "10px",
    "top": "150px",
    "width": "165px"
   },
   "toc_section_display": true,
   "toc_window_display": true
  }
 },
 "nbformat": 4,
 "nbformat_minor": 4
}
