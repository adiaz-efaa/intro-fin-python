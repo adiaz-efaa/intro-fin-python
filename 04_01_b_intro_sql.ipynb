{
 "cells": [
  {
   "cell_type": "markdown",
   "metadata": {},
   "source": [
    "# Ejercicio"
   ]
  },
  {
   "cell_type": "markdown",
   "metadata": {},
   "source": [
    "Vamos a construir una BBDD en SQLite que modele, de forma muy estilizada, las necesidades de un administrador de cartera.\n",
    "\n",
    "De forma muy sencilla un administrador tiene clientes, que tinene cuentas de inversión, a esas cuentas le hacen aportes y retiros de capital y con ese capital compran y venden activos financieros."
   ]
  },
  {
   "cell_type": "markdown",
   "metadata": {},
   "source": [
    "## Creación de la Base de Datos"
   ]
  },
  {
   "cell_type": "code",
   "execution_count": 152,
   "metadata": {
    "ExecuteTime": {
     "end_time": "2021-09-01T20:36:55.983554Z",
     "start_time": "2021-09-01T20:36:55.979624Z"
    }
   },
   "outputs": [],
   "source": [
    "import sqlite3"
   ]
  },
  {
   "cell_type": "markdown",
   "metadata": {},
   "source": [
    "Si el archivo no existe, SQLite lo creará en la ruta especificada."
   ]
  },
  {
   "cell_type": "code",
   "execution_count": 153,
   "metadata": {
    "ExecuteTime": {
     "end_time": "2021-09-01T20:36:55.990967Z",
     "start_time": "2021-09-01T20:36:55.987289Z"
    }
   },
   "outputs": [],
   "source": [
    "conn = sqlite3.connect('data/administrador.db') "
   ]
  },
  {
   "cell_type": "markdown",
   "metadata": {},
   "source": [
    "Se crea el objeto `cursor`."
   ]
  },
  {
   "cell_type": "code",
   "execution_count": 154,
   "metadata": {
    "ExecuteTime": {
     "end_time": "2021-09-01T20:36:55.997126Z",
     "start_time": "2021-09-01T20:36:55.993263Z"
    }
   },
   "outputs": [],
   "source": [
    "cursor = conn.cursor()"
   ]
  },
  {
   "cell_type": "markdown",
   "metadata": {},
   "source": [
    "Para habilitar las llaves foráneas."
   ]
  },
  {
   "cell_type": "code",
   "execution_count": 155,
   "metadata": {
    "ExecuteTime": {
     "end_time": "2021-09-01T20:36:56.005002Z",
     "start_time": "2021-09-01T20:36:55.999601Z"
    }
   },
   "outputs": [
    {
     "data": {
      "text/plain": [
       "<sqlite3.Cursor at 0x7f35e2a3af80>"
      ]
     },
     "execution_count": 155,
     "metadata": {},
     "output_type": "execute_result"
    }
   ],
   "source": [
    "cursor.execute(\"PRAGMA foreign_keys = 1\")"
   ]
  },
  {
   "cell_type": "markdown",
   "metadata": {},
   "source": [
    "La siguiente función nos permitirá ver las tablas de la base de datos."
   ]
  },
  {
   "cell_type": "code",
   "execution_count": 156,
   "metadata": {
    "ExecuteTime": {
     "end_time": "2021-09-01T20:36:56.012373Z",
     "start_time": "2021-09-01T20:36:56.008865Z"
    }
   },
   "outputs": [],
   "source": [
    "import pandas as pd"
   ]
  },
  {
   "cell_type": "code",
   "execution_count": 157,
   "metadata": {
    "ExecuteTime": {
     "end_time": "2021-09-01T20:36:56.019441Z",
     "start_time": "2021-09-01T20:36:56.015924Z"
    }
   },
   "outputs": [],
   "source": [
    "def show_tables(conn):\n",
    "    qry_tables = \"SELECT name, sql FROM sqlite_master WHERE type = 'table'\"\n",
    "    return pd.read_sql(qry_tables, conn)"
   ]
  },
  {
   "cell_type": "markdown",
   "metadata": {},
   "source": [
    "¿Qué hay ahora en la BBDD?"
   ]
  },
  {
   "cell_type": "code",
   "execution_count": 158,
   "metadata": {
    "ExecuteTime": {
     "end_time": "2021-09-01T20:36:56.032471Z",
     "start_time": "2021-09-01T20:36:56.022083Z"
    }
   },
   "outputs": [
    {
     "data": {
      "text/html": [
       "<div>\n",
       "<style scoped>\n",
       "    .dataframe tbody tr th:only-of-type {\n",
       "        vertical-align: middle;\n",
       "    }\n",
       "\n",
       "    .dataframe tbody tr th {\n",
       "        vertical-align: top;\n",
       "    }\n",
       "\n",
       "    .dataframe thead th {\n",
       "        text-align: right;\n",
       "    }\n",
       "</style>\n",
       "<table border=\"1\" class=\"dataframe\">\n",
       "  <thead>\n",
       "    <tr style=\"text-align: right;\">\n",
       "      <th></th>\n",
       "      <th>name</th>\n",
       "      <th>sql</th>\n",
       "    </tr>\n",
       "  </thead>\n",
       "  <tbody>\n",
       "  </tbody>\n",
       "</table>\n",
       "</div>"
      ],
      "text/plain": [
       "Empty DataFrame\n",
       "Columns: [name, sql]\n",
       "Index: []"
      ]
     },
     "execution_count": 158,
     "metadata": {},
     "output_type": "execute_result"
    }
   ],
   "source": [
    "show_tables(conn)"
   ]
  },
  {
   "cell_type": "markdown",
   "metadata": {},
   "source": [
    "Vemos que todavía no hay ninguna tabla."
   ]
  },
  {
   "cell_type": "markdown",
   "metadata": {},
   "source": [
    "## Tablas"
   ]
  },
  {
   "cell_type": "markdown",
   "metadata": {},
   "source": [
    "La BBDD tendrá las siguientes tablas:\n",
    "\n",
    "- clientes\n",
    "- cuentas\n",
    "- tipos de movimientos (compras, ventas, aportes, retiros)\n",
    "- caja (cantidad de efectivo disponible en una cuenta)\n",
    "- tipos de inversión (supondremos para simplificar que sólo se invierte en cuotas de fondos y acciones)\n",
    "- inversiones (de una cuenta)\n",
    "- precios de mercado (de las cuotas de fondos)"
   ]
  },
  {
   "cell_type": "markdown",
   "metadata": {},
   "source": [
    "### Tabla `clientes`"
   ]
  },
  {
   "cell_type": "markdown",
   "metadata": {},
   "source": [
    "Notar las restricciones de tipo `UNIQUE` en los campos `email` y `telefono`. Estas restricciones indican que estos campos deben ser únicos para cada registro, es decir, dos o más clientes **NO** pueden tener el mismo email o teléfono."
   ]
  },
  {
   "cell_type": "code",
   "execution_count": 159,
   "metadata": {
    "ExecuteTime": {
     "end_time": "2021-09-01T20:36:56.038353Z",
     "start_time": "2021-09-01T20:36:56.034749Z"
    }
   },
   "outputs": [],
   "source": [
    "qry = \"CREATE TABLE IF NOT EXISTS clientes ( \\\n",
    "id INTEGER PRIMARY KEY AUTOINCREMENT, \\\n",
    "nombre TEXT NOT NULL, \\\n",
    "apellido TEXT NOT NULL, \\\n",
    "email TEXT NOT NULL UNIQUE, \\\n",
    "telefono TEXT NOT NULL UNIQUE \\\n",
    ")\""
   ]
  },
  {
   "cell_type": "code",
   "execution_count": 160,
   "metadata": {
    "ExecuteTime": {
     "end_time": "2021-09-01T20:36:56.049287Z",
     "start_time": "2021-09-01T20:36:56.041020Z"
    }
   },
   "outputs": [
    {
     "data": {
      "text/plain": [
       "<sqlite3.Cursor at 0x7f35e2a3af80>"
      ]
     },
     "execution_count": 160,
     "metadata": {},
     "output_type": "execute_result"
    }
   ],
   "source": [
    "cursor.execute(qry)"
   ]
  },
  {
   "cell_type": "markdown",
   "metadata": {},
   "source": [
    "Verifiquemos el resultado."
   ]
  },
  {
   "cell_type": "code",
   "execution_count": 161,
   "metadata": {
    "ExecuteTime": {
     "end_time": "2021-09-01T20:36:56.062879Z",
     "start_time": "2021-09-01T20:36:56.051515Z"
    }
   },
   "outputs": [
    {
     "data": {
      "text/html": [
       "<div>\n",
       "<style scoped>\n",
       "    .dataframe tbody tr th:only-of-type {\n",
       "        vertical-align: middle;\n",
       "    }\n",
       "\n",
       "    .dataframe tbody tr th {\n",
       "        vertical-align: top;\n",
       "    }\n",
       "\n",
       "    .dataframe thead th {\n",
       "        text-align: right;\n",
       "    }\n",
       "</style>\n",
       "<table border=\"1\" class=\"dataframe\">\n",
       "  <thead>\n",
       "    <tr style=\"text-align: right;\">\n",
       "      <th></th>\n",
       "      <th>name</th>\n",
       "      <th>sql</th>\n",
       "    </tr>\n",
       "  </thead>\n",
       "  <tbody>\n",
       "    <tr>\n",
       "      <th>0</th>\n",
       "      <td>clientes</td>\n",
       "      <td>CREATE TABLE clientes ( id INTEGER PRIMARY KEY...</td>\n",
       "    </tr>\n",
       "    <tr>\n",
       "      <th>1</th>\n",
       "      <td>sqlite_sequence</td>\n",
       "      <td>CREATE TABLE sqlite_sequence(name,seq)</td>\n",
       "    </tr>\n",
       "  </tbody>\n",
       "</table>\n",
       "</div>"
      ],
      "text/plain": [
       "              name                                                sql\n",
       "0         clientes  CREATE TABLE clientes ( id INTEGER PRIMARY KEY...\n",
       "1  sqlite_sequence             CREATE TABLE sqlite_sequence(name,seq)"
      ]
     },
     "execution_count": 161,
     "metadata": {},
     "output_type": "execute_result"
    }
   ],
   "source": [
    "show_tables(conn)"
   ]
  },
  {
   "cell_type": "markdown",
   "metadata": {},
   "source": [
    "¿Y la tabla `sqlite_sequence`?"
   ]
  },
  {
   "cell_type": "code",
   "execution_count": 162,
   "metadata": {
    "ExecuteTime": {
     "end_time": "2021-09-01T20:36:56.078378Z",
     "start_time": "2021-09-01T20:36:56.065357Z"
    }
   },
   "outputs": [
    {
     "data": {
      "text/html": [
       "<div>\n",
       "<style scoped>\n",
       "    .dataframe tbody tr th:only-of-type {\n",
       "        vertical-align: middle;\n",
       "    }\n",
       "\n",
       "    .dataframe tbody tr th {\n",
       "        vertical-align: top;\n",
       "    }\n",
       "\n",
       "    .dataframe thead th {\n",
       "        text-align: right;\n",
       "    }\n",
       "</style>\n",
       "<table border=\"1\" class=\"dataframe\">\n",
       "  <thead>\n",
       "    <tr style=\"text-align: right;\">\n",
       "      <th></th>\n",
       "      <th>name</th>\n",
       "      <th>seq</th>\n",
       "    </tr>\n",
       "  </thead>\n",
       "  <tbody>\n",
       "  </tbody>\n",
       "</table>\n",
       "</div>"
      ],
      "text/plain": [
       "Empty DataFrame\n",
       "Columns: [name, seq]\n",
       "Index: []"
      ]
     },
     "execution_count": 162,
     "metadata": {},
     "output_type": "execute_result"
    }
   ],
   "source": [
    "pd.read_sql(\"SELECT * FROM sqlite_sequence\", conn)"
   ]
  },
  {
   "cell_type": "markdown",
   "metadata": {},
   "source": [
    "Con esta función vamos a ir viendo si la tabla cambia más adelante."
   ]
  },
  {
   "cell_type": "code",
   "execution_count": 163,
   "metadata": {
    "ExecuteTime": {
     "end_time": "2021-09-01T20:36:56.085538Z",
     "start_time": "2021-09-01T20:36:56.080848Z"
    }
   },
   "outputs": [],
   "source": [
    "def ss():\n",
    "    return pd.read_sql(\"SELECT * FROM sqlite_sequence\", conn)"
   ]
  },
  {
   "cell_type": "markdown",
   "metadata": {},
   "source": [
    "### Tabla `cuentas`"
   ]
  },
  {
   "cell_type": "markdown",
   "metadata": {},
   "source": [
    "La tabla `cuentas` tendrá una llave foránea hacia la tabla `clientes`. Este campo permite establecer de qué cliente es la cuenta."
   ]
  },
  {
   "cell_type": "code",
   "execution_count": 164,
   "metadata": {
    "ExecuteTime": {
     "end_time": "2021-09-01T20:36:56.091392Z",
     "start_time": "2021-09-01T20:36:56.087787Z"
    }
   },
   "outputs": [],
   "source": [
    "qry = \"CREATE TABLE IF NOT EXISTS cuentas ( \\\n",
    "id INTEGER PRIMARY KEY AUTOINCREMENT, \\\n",
    "nombre TEXT NOT NULL, \\\n",
    "id_cliente INTEGER, \\\n",
    "FOREIGN KEY (id_cliente) REFERENCES clientes (id) \\\n",
    "ON DELETE NO ACTION ON UPDATE NO ACTION \\\n",
    ")\""
   ]
  },
  {
   "cell_type": "code",
   "execution_count": 165,
   "metadata": {
    "ExecuteTime": {
     "end_time": "2021-09-01T20:36:56.103194Z",
     "start_time": "2021-09-01T20:36:56.094406Z"
    }
   },
   "outputs": [
    {
     "data": {
      "text/plain": [
       "<sqlite3.Cursor at 0x7f35e2a3af80>"
      ]
     },
     "execution_count": 165,
     "metadata": {},
     "output_type": "execute_result"
    }
   ],
   "source": [
    "cursor.execute(qry)"
   ]
  },
  {
   "cell_type": "code",
   "execution_count": 166,
   "metadata": {
    "ExecuteTime": {
     "end_time": "2021-09-01T20:36:56.118868Z",
     "start_time": "2021-09-01T20:36:56.106033Z"
    }
   },
   "outputs": [
    {
     "data": {
      "text/html": [
       "<div>\n",
       "<style scoped>\n",
       "    .dataframe tbody tr th:only-of-type {\n",
       "        vertical-align: middle;\n",
       "    }\n",
       "\n",
       "    .dataframe tbody tr th {\n",
       "        vertical-align: top;\n",
       "    }\n",
       "\n",
       "    .dataframe thead th {\n",
       "        text-align: right;\n",
       "    }\n",
       "</style>\n",
       "<table border=\"1\" class=\"dataframe\">\n",
       "  <thead>\n",
       "    <tr style=\"text-align: right;\">\n",
       "      <th></th>\n",
       "      <th>name</th>\n",
       "      <th>sql</th>\n",
       "    </tr>\n",
       "  </thead>\n",
       "  <tbody>\n",
       "    <tr>\n",
       "      <th>0</th>\n",
       "      <td>clientes</td>\n",
       "      <td>CREATE TABLE clientes ( id INTEGER PRIMARY KEY...</td>\n",
       "    </tr>\n",
       "    <tr>\n",
       "      <th>1</th>\n",
       "      <td>sqlite_sequence</td>\n",
       "      <td>CREATE TABLE sqlite_sequence(name,seq)</td>\n",
       "    </tr>\n",
       "    <tr>\n",
       "      <th>2</th>\n",
       "      <td>cuentas</td>\n",
       "      <td>CREATE TABLE cuentas ( id INTEGER PRIMARY KEY ...</td>\n",
       "    </tr>\n",
       "  </tbody>\n",
       "</table>\n",
       "</div>"
      ],
      "text/plain": [
       "              name                                                sql\n",
       "0         clientes  CREATE TABLE clientes ( id INTEGER PRIMARY KEY...\n",
       "1  sqlite_sequence             CREATE TABLE sqlite_sequence(name,seq)\n",
       "2          cuentas  CREATE TABLE cuentas ( id INTEGER PRIMARY KEY ..."
      ]
     },
     "execution_count": 166,
     "metadata": {},
     "output_type": "execute_result"
    }
   ],
   "source": [
    "show_tables(conn)"
   ]
  },
  {
   "cell_type": "code",
   "execution_count": 167,
   "metadata": {
    "ExecuteTime": {
     "end_time": "2021-09-01T20:36:56.138554Z",
     "start_time": "2021-09-01T20:36:56.127328Z"
    }
   },
   "outputs": [
    {
     "data": {
      "text/html": [
       "<div>\n",
       "<style scoped>\n",
       "    .dataframe tbody tr th:only-of-type {\n",
       "        vertical-align: middle;\n",
       "    }\n",
       "\n",
       "    .dataframe tbody tr th {\n",
       "        vertical-align: top;\n",
       "    }\n",
       "\n",
       "    .dataframe thead th {\n",
       "        text-align: right;\n",
       "    }\n",
       "</style>\n",
       "<table border=\"1\" class=\"dataframe\">\n",
       "  <thead>\n",
       "    <tr style=\"text-align: right;\">\n",
       "      <th></th>\n",
       "      <th>name</th>\n",
       "      <th>seq</th>\n",
       "    </tr>\n",
       "  </thead>\n",
       "  <tbody>\n",
       "  </tbody>\n",
       "</table>\n",
       "</div>"
      ],
      "text/plain": [
       "Empty DataFrame\n",
       "Columns: [name, seq]\n",
       "Index: []"
      ]
     },
     "execution_count": 167,
     "metadata": {},
     "output_type": "execute_result"
    }
   ],
   "source": [
    "ss()"
   ]
  },
  {
   "cell_type": "markdown",
   "metadata": {},
   "source": [
    "### Tabla `tipo_movimiento`"
   ]
  },
  {
   "cell_type": "markdown",
   "metadata": {},
   "source": [
    "Esta tabla registra los tipos de movimientos válidos de caja. Éstos serán `APORTE`, `RETIRO`, `COMPRA` y `VENTA`."
   ]
  },
  {
   "cell_type": "code",
   "execution_count": 168,
   "metadata": {
    "ExecuteTime": {
     "end_time": "2021-09-01T20:36:56.146824Z",
     "start_time": "2021-09-01T20:36:56.143104Z"
    }
   },
   "outputs": [],
   "source": [
    "qry = \"CREATE TABLE IF NOT EXISTS tipo_movimiento ( \\\n",
    "id INTEGER PRIMARY KEY AUTOINCREMENT, \\\n",
    "codigo TEXT NOT NULL UNIQUE \\\n",
    ")\""
   ]
  },
  {
   "cell_type": "code",
   "execution_count": 169,
   "metadata": {
    "ExecuteTime": {
     "end_time": "2021-09-01T20:36:56.158469Z",
     "start_time": "2021-09-01T20:36:56.149409Z"
    }
   },
   "outputs": [
    {
     "data": {
      "text/plain": [
       "<sqlite3.Cursor at 0x7f35e2a3af80>"
      ]
     },
     "execution_count": 169,
     "metadata": {},
     "output_type": "execute_result"
    }
   ],
   "source": [
    "cursor.execute(qry)"
   ]
  },
  {
   "cell_type": "code",
   "execution_count": 170,
   "metadata": {
    "ExecuteTime": {
     "end_time": "2021-09-01T20:36:56.172212Z",
     "start_time": "2021-09-01T20:36:56.160784Z"
    }
   },
   "outputs": [
    {
     "data": {
      "text/html": [
       "<div>\n",
       "<style scoped>\n",
       "    .dataframe tbody tr th:only-of-type {\n",
       "        vertical-align: middle;\n",
       "    }\n",
       "\n",
       "    .dataframe tbody tr th {\n",
       "        vertical-align: top;\n",
       "    }\n",
       "\n",
       "    .dataframe thead th {\n",
       "        text-align: right;\n",
       "    }\n",
       "</style>\n",
       "<table border=\"1\" class=\"dataframe\">\n",
       "  <thead>\n",
       "    <tr style=\"text-align: right;\">\n",
       "      <th></th>\n",
       "      <th>name</th>\n",
       "      <th>sql</th>\n",
       "    </tr>\n",
       "  </thead>\n",
       "  <tbody>\n",
       "    <tr>\n",
       "      <th>0</th>\n",
       "      <td>clientes</td>\n",
       "      <td>CREATE TABLE clientes ( id INTEGER PRIMARY KEY...</td>\n",
       "    </tr>\n",
       "    <tr>\n",
       "      <th>1</th>\n",
       "      <td>sqlite_sequence</td>\n",
       "      <td>CREATE TABLE sqlite_sequence(name,seq)</td>\n",
       "    </tr>\n",
       "    <tr>\n",
       "      <th>2</th>\n",
       "      <td>cuentas</td>\n",
       "      <td>CREATE TABLE cuentas ( id INTEGER PRIMARY KEY ...</td>\n",
       "    </tr>\n",
       "    <tr>\n",
       "      <th>3</th>\n",
       "      <td>tipo_movimiento</td>\n",
       "      <td>CREATE TABLE tipo_movimiento ( id INTEGER PRIM...</td>\n",
       "    </tr>\n",
       "  </tbody>\n",
       "</table>\n",
       "</div>"
      ],
      "text/plain": [
       "              name                                                sql\n",
       "0         clientes  CREATE TABLE clientes ( id INTEGER PRIMARY KEY...\n",
       "1  sqlite_sequence             CREATE TABLE sqlite_sequence(name,seq)\n",
       "2          cuentas  CREATE TABLE cuentas ( id INTEGER PRIMARY KEY ...\n",
       "3  tipo_movimiento  CREATE TABLE tipo_movimiento ( id INTEGER PRIM..."
      ]
     },
     "execution_count": 170,
     "metadata": {},
     "output_type": "execute_result"
    }
   ],
   "source": [
    "show_tables(conn)"
   ]
  },
  {
   "cell_type": "code",
   "execution_count": 171,
   "metadata": {
    "ExecuteTime": {
     "end_time": "2021-09-01T20:36:56.184198Z",
     "start_time": "2021-09-01T20:36:56.174693Z"
    }
   },
   "outputs": [
    {
     "data": {
      "text/html": [
       "<div>\n",
       "<style scoped>\n",
       "    .dataframe tbody tr th:only-of-type {\n",
       "        vertical-align: middle;\n",
       "    }\n",
       "\n",
       "    .dataframe tbody tr th {\n",
       "        vertical-align: top;\n",
       "    }\n",
       "\n",
       "    .dataframe thead th {\n",
       "        text-align: right;\n",
       "    }\n",
       "</style>\n",
       "<table border=\"1\" class=\"dataframe\">\n",
       "  <thead>\n",
       "    <tr style=\"text-align: right;\">\n",
       "      <th></th>\n",
       "      <th>name</th>\n",
       "      <th>seq</th>\n",
       "    </tr>\n",
       "  </thead>\n",
       "  <tbody>\n",
       "  </tbody>\n",
       "</table>\n",
       "</div>"
      ],
      "text/plain": [
       "Empty DataFrame\n",
       "Columns: [name, seq]\n",
       "Index: []"
      ]
     },
     "execution_count": 171,
     "metadata": {},
     "output_type": "execute_result"
    }
   ],
   "source": [
    "ss()"
   ]
  },
  {
   "cell_type": "markdown",
   "metadata": {},
   "source": [
    "### Tabla `caja`"
   ]
  },
  {
   "cell_type": "markdown",
   "metadata": {},
   "source": [
    "En esta tabla se registrarán los movimientos de caja de las cuentas."
   ]
  },
  {
   "cell_type": "code",
   "execution_count": 172,
   "metadata": {
    "ExecuteTime": {
     "end_time": "2021-09-01T20:36:56.189281Z",
     "start_time": "2021-09-01T20:36:56.186285Z"
    }
   },
   "outputs": [],
   "source": [
    "qry = \"CREATE TABLE IF NOT EXISTS caja ( \\\n",
    "id INTEGER PRIMARY KEY AUTOINCREMENT, \\\n",
    "id_cuenta INTEGER, \\\n",
    "codigo_movimiento TEXT NOT NULL, \\\n",
    "monto NUMERIC NOT NULL, \\\n",
    "FOREIGN KEY (id_cuenta) REFERENCES cuentas (id) \\\n",
    "ON DELETE NO ACTION ON UPDATE NO ACTION, \\\n",
    "FOREIGN KEY (codigo_movimiento) REFERENCES tipo_movimiento (codigo) \\\n",
    "ON DELETE NO ACTION ON UPDATE NO ACTION \\\n",
    ")\""
   ]
  },
  {
   "cell_type": "code",
   "execution_count": 173,
   "metadata": {
    "ExecuteTime": {
     "end_time": "2021-09-01T20:36:56.199002Z",
     "start_time": "2021-09-01T20:36:56.191696Z"
    }
   },
   "outputs": [
    {
     "data": {
      "text/plain": [
       "<sqlite3.Cursor at 0x7f35e2a3af80>"
      ]
     },
     "execution_count": 173,
     "metadata": {},
     "output_type": "execute_result"
    }
   ],
   "source": [
    "cursor.execute(qry)"
   ]
  },
  {
   "cell_type": "code",
   "execution_count": 174,
   "metadata": {
    "ExecuteTime": {
     "end_time": "2021-09-01T20:36:56.211783Z",
     "start_time": "2021-09-01T20:36:56.201287Z"
    }
   },
   "outputs": [
    {
     "data": {
      "text/html": [
       "<div>\n",
       "<style scoped>\n",
       "    .dataframe tbody tr th:only-of-type {\n",
       "        vertical-align: middle;\n",
       "    }\n",
       "\n",
       "    .dataframe tbody tr th {\n",
       "        vertical-align: top;\n",
       "    }\n",
       "\n",
       "    .dataframe thead th {\n",
       "        text-align: right;\n",
       "    }\n",
       "</style>\n",
       "<table border=\"1\" class=\"dataframe\">\n",
       "  <thead>\n",
       "    <tr style=\"text-align: right;\">\n",
       "      <th></th>\n",
       "      <th>name</th>\n",
       "      <th>sql</th>\n",
       "    </tr>\n",
       "  </thead>\n",
       "  <tbody>\n",
       "    <tr>\n",
       "      <th>0</th>\n",
       "      <td>clientes</td>\n",
       "      <td>CREATE TABLE clientes ( id INTEGER PRIMARY KEY...</td>\n",
       "    </tr>\n",
       "    <tr>\n",
       "      <th>1</th>\n",
       "      <td>sqlite_sequence</td>\n",
       "      <td>CREATE TABLE sqlite_sequence(name,seq)</td>\n",
       "    </tr>\n",
       "    <tr>\n",
       "      <th>2</th>\n",
       "      <td>cuentas</td>\n",
       "      <td>CREATE TABLE cuentas ( id INTEGER PRIMARY KEY ...</td>\n",
       "    </tr>\n",
       "    <tr>\n",
       "      <th>3</th>\n",
       "      <td>tipo_movimiento</td>\n",
       "      <td>CREATE TABLE tipo_movimiento ( id INTEGER PRIM...</td>\n",
       "    </tr>\n",
       "    <tr>\n",
       "      <th>4</th>\n",
       "      <td>caja</td>\n",
       "      <td>CREATE TABLE caja ( id INTEGER PRIMARY KEY AUT...</td>\n",
       "    </tr>\n",
       "  </tbody>\n",
       "</table>\n",
       "</div>"
      ],
      "text/plain": [
       "              name                                                sql\n",
       "0         clientes  CREATE TABLE clientes ( id INTEGER PRIMARY KEY...\n",
       "1  sqlite_sequence             CREATE TABLE sqlite_sequence(name,seq)\n",
       "2          cuentas  CREATE TABLE cuentas ( id INTEGER PRIMARY KEY ...\n",
       "3  tipo_movimiento  CREATE TABLE tipo_movimiento ( id INTEGER PRIM...\n",
       "4             caja  CREATE TABLE caja ( id INTEGER PRIMARY KEY AUT..."
      ]
     },
     "execution_count": 174,
     "metadata": {},
     "output_type": "execute_result"
    }
   ],
   "source": [
    "show_tables(conn)"
   ]
  },
  {
   "cell_type": "code",
   "execution_count": 175,
   "metadata": {
    "ExecuteTime": {
     "end_time": "2021-09-01T20:36:56.224369Z",
     "start_time": "2021-09-01T20:36:56.214015Z"
    }
   },
   "outputs": [
    {
     "data": {
      "text/html": [
       "<div>\n",
       "<style scoped>\n",
       "    .dataframe tbody tr th:only-of-type {\n",
       "        vertical-align: middle;\n",
       "    }\n",
       "\n",
       "    .dataframe tbody tr th {\n",
       "        vertical-align: top;\n",
       "    }\n",
       "\n",
       "    .dataframe thead th {\n",
       "        text-align: right;\n",
       "    }\n",
       "</style>\n",
       "<table border=\"1\" class=\"dataframe\">\n",
       "  <thead>\n",
       "    <tr style=\"text-align: right;\">\n",
       "      <th></th>\n",
       "      <th>name</th>\n",
       "      <th>seq</th>\n",
       "    </tr>\n",
       "  </thead>\n",
       "  <tbody>\n",
       "  </tbody>\n",
       "</table>\n",
       "</div>"
      ],
      "text/plain": [
       "Empty DataFrame\n",
       "Columns: [name, seq]\n",
       "Index: []"
      ]
     },
     "execution_count": 175,
     "metadata": {},
     "output_type": "execute_result"
    }
   ],
   "source": [
    "ss()"
   ]
  },
  {
   "cell_type": "markdown",
   "metadata": {},
   "source": [
    "### Tabla `tipos_instrumentos`"
   ]
  },
  {
   "cell_type": "markdown",
   "metadata": {},
   "source": [
    "En esta tabla se registran los tipos de instrumentos en los que se puede invertir. Para este ejemplo, sólo utilizaremos activos *P x Q*, es decir `ACCIONES`, `ETF`, `CUOTAS_FONDOS`."
   ]
  },
  {
   "cell_type": "code",
   "execution_count": 176,
   "metadata": {
    "ExecuteTime": {
     "end_time": "2021-09-01T20:36:56.230476Z",
     "start_time": "2021-09-01T20:36:56.227087Z"
    }
   },
   "outputs": [],
   "source": [
    "qry = \"CREATE TABLE IF NOT EXISTS tipos_instrumentos ( \\\n",
    "id INTEGER PRIMARY KEY AUTOINCREMENT, \\\n",
    "codigo TEXT UNIQUE \\\n",
    ")\""
   ]
  },
  {
   "cell_type": "code",
   "execution_count": 177,
   "metadata": {
    "ExecuteTime": {
     "end_time": "2021-09-01T20:36:56.240540Z",
     "start_time": "2021-09-01T20:36:56.232913Z"
    }
   },
   "outputs": [
    {
     "data": {
      "text/plain": [
       "<sqlite3.Cursor at 0x7f35e2a3af80>"
      ]
     },
     "execution_count": 177,
     "metadata": {},
     "output_type": "execute_result"
    }
   ],
   "source": [
    "cursor.execute(qry)"
   ]
  },
  {
   "cell_type": "code",
   "execution_count": 178,
   "metadata": {
    "ExecuteTime": {
     "end_time": "2021-09-01T20:36:56.252655Z",
     "start_time": "2021-09-01T20:36:56.242842Z"
    }
   },
   "outputs": [
    {
     "data": {
      "text/html": [
       "<div>\n",
       "<style scoped>\n",
       "    .dataframe tbody tr th:only-of-type {\n",
       "        vertical-align: middle;\n",
       "    }\n",
       "\n",
       "    .dataframe tbody tr th {\n",
       "        vertical-align: top;\n",
       "    }\n",
       "\n",
       "    .dataframe thead th {\n",
       "        text-align: right;\n",
       "    }\n",
       "</style>\n",
       "<table border=\"1\" class=\"dataframe\">\n",
       "  <thead>\n",
       "    <tr style=\"text-align: right;\">\n",
       "      <th></th>\n",
       "      <th>name</th>\n",
       "      <th>sql</th>\n",
       "    </tr>\n",
       "  </thead>\n",
       "  <tbody>\n",
       "    <tr>\n",
       "      <th>0</th>\n",
       "      <td>clientes</td>\n",
       "      <td>CREATE TABLE clientes ( id INTEGER PRIMARY KEY...</td>\n",
       "    </tr>\n",
       "    <tr>\n",
       "      <th>1</th>\n",
       "      <td>sqlite_sequence</td>\n",
       "      <td>CREATE TABLE sqlite_sequence(name,seq)</td>\n",
       "    </tr>\n",
       "    <tr>\n",
       "      <th>2</th>\n",
       "      <td>cuentas</td>\n",
       "      <td>CREATE TABLE cuentas ( id INTEGER PRIMARY KEY ...</td>\n",
       "    </tr>\n",
       "    <tr>\n",
       "      <th>3</th>\n",
       "      <td>tipo_movimiento</td>\n",
       "      <td>CREATE TABLE tipo_movimiento ( id INTEGER PRIM...</td>\n",
       "    </tr>\n",
       "    <tr>\n",
       "      <th>4</th>\n",
       "      <td>caja</td>\n",
       "      <td>CREATE TABLE caja ( id INTEGER PRIMARY KEY AUT...</td>\n",
       "    </tr>\n",
       "    <tr>\n",
       "      <th>5</th>\n",
       "      <td>tipos_instrumentos</td>\n",
       "      <td>CREATE TABLE tipos_instrumentos ( id INTEGER P...</td>\n",
       "    </tr>\n",
       "  </tbody>\n",
       "</table>\n",
       "</div>"
      ],
      "text/plain": [
       "                 name                                                sql\n",
       "0            clientes  CREATE TABLE clientes ( id INTEGER PRIMARY KEY...\n",
       "1     sqlite_sequence             CREATE TABLE sqlite_sequence(name,seq)\n",
       "2             cuentas  CREATE TABLE cuentas ( id INTEGER PRIMARY KEY ...\n",
       "3     tipo_movimiento  CREATE TABLE tipo_movimiento ( id INTEGER PRIM...\n",
       "4                caja  CREATE TABLE caja ( id INTEGER PRIMARY KEY AUT...\n",
       "5  tipos_instrumentos  CREATE TABLE tipos_instrumentos ( id INTEGER P..."
      ]
     },
     "execution_count": 178,
     "metadata": {},
     "output_type": "execute_result"
    }
   ],
   "source": [
    "show_tables(conn)"
   ]
  },
  {
   "cell_type": "code",
   "execution_count": 179,
   "metadata": {
    "ExecuteTime": {
     "end_time": "2021-09-01T20:36:56.264004Z",
     "start_time": "2021-09-01T20:36:56.254828Z"
    }
   },
   "outputs": [
    {
     "data": {
      "text/html": [
       "<div>\n",
       "<style scoped>\n",
       "    .dataframe tbody tr th:only-of-type {\n",
       "        vertical-align: middle;\n",
       "    }\n",
       "\n",
       "    .dataframe tbody tr th {\n",
       "        vertical-align: top;\n",
       "    }\n",
       "\n",
       "    .dataframe thead th {\n",
       "        text-align: right;\n",
       "    }\n",
       "</style>\n",
       "<table border=\"1\" class=\"dataframe\">\n",
       "  <thead>\n",
       "    <tr style=\"text-align: right;\">\n",
       "      <th></th>\n",
       "      <th>name</th>\n",
       "      <th>seq</th>\n",
       "    </tr>\n",
       "  </thead>\n",
       "  <tbody>\n",
       "  </tbody>\n",
       "</table>\n",
       "</div>"
      ],
      "text/plain": [
       "Empty DataFrame\n",
       "Columns: [name, seq]\n",
       "Index: []"
      ]
     },
     "execution_count": 179,
     "metadata": {},
     "output_type": "execute_result"
    }
   ],
   "source": [
    "ss()"
   ]
  },
  {
   "cell_type": "markdown",
   "metadata": {},
   "source": [
    "### Tabla `instrumentos`"
   ]
  },
  {
   "cell_type": "markdown",
   "metadata": {},
   "source": [
    "Esta tabla requiere una llave foránea hacia la tabla `tipos_instrumentos`."
   ]
  },
  {
   "cell_type": "code",
   "execution_count": 180,
   "metadata": {
    "ExecuteTime": {
     "end_time": "2021-09-01T20:36:56.269479Z",
     "start_time": "2021-09-01T20:36:56.266448Z"
    }
   },
   "outputs": [],
   "source": [
    "qry = \"CREATE TABLE IF NOT EXISTS instrumentos ( \\\n",
    "id INTEGER PRIMARY KEY AUTOINCREMENT, \\\n",
    "codigo TEXT UNIQUE, \\\n",
    "codigo_instrumento TEXT NOT NULL, \\\n",
    "FOREIGN KEY (codigo_instrumento) REFERENCES tipos_instrumentos (codigo) \\\n",
    "ON DELETE NO ACTION ON UPDATE NO ACTION \\\n",
    ")\""
   ]
  },
  {
   "cell_type": "code",
   "execution_count": 181,
   "metadata": {
    "ExecuteTime": {
     "end_time": "2021-09-01T20:36:56.280396Z",
     "start_time": "2021-09-01T20:36:56.272102Z"
    }
   },
   "outputs": [
    {
     "data": {
      "text/plain": [
       "<sqlite3.Cursor at 0x7f35e2a3af80>"
      ]
     },
     "execution_count": 181,
     "metadata": {},
     "output_type": "execute_result"
    }
   ],
   "source": [
    "cursor.execute(qry)"
   ]
  },
  {
   "cell_type": "code",
   "execution_count": 182,
   "metadata": {
    "ExecuteTime": {
     "end_time": "2021-09-01T20:36:56.294709Z",
     "start_time": "2021-09-01T20:36:56.282740Z"
    }
   },
   "outputs": [
    {
     "data": {
      "text/html": [
       "<div>\n",
       "<style scoped>\n",
       "    .dataframe tbody tr th:only-of-type {\n",
       "        vertical-align: middle;\n",
       "    }\n",
       "\n",
       "    .dataframe tbody tr th {\n",
       "        vertical-align: top;\n",
       "    }\n",
       "\n",
       "    .dataframe thead th {\n",
       "        text-align: right;\n",
       "    }\n",
       "</style>\n",
       "<table border=\"1\" class=\"dataframe\">\n",
       "  <thead>\n",
       "    <tr style=\"text-align: right;\">\n",
       "      <th></th>\n",
       "      <th>name</th>\n",
       "      <th>sql</th>\n",
       "    </tr>\n",
       "  </thead>\n",
       "  <tbody>\n",
       "    <tr>\n",
       "      <th>0</th>\n",
       "      <td>clientes</td>\n",
       "      <td>CREATE TABLE clientes ( id INTEGER PRIMARY KEY...</td>\n",
       "    </tr>\n",
       "    <tr>\n",
       "      <th>1</th>\n",
       "      <td>sqlite_sequence</td>\n",
       "      <td>CREATE TABLE sqlite_sequence(name,seq)</td>\n",
       "    </tr>\n",
       "    <tr>\n",
       "      <th>2</th>\n",
       "      <td>cuentas</td>\n",
       "      <td>CREATE TABLE cuentas ( id INTEGER PRIMARY KEY ...</td>\n",
       "    </tr>\n",
       "    <tr>\n",
       "      <th>3</th>\n",
       "      <td>tipo_movimiento</td>\n",
       "      <td>CREATE TABLE tipo_movimiento ( id INTEGER PRIM...</td>\n",
       "    </tr>\n",
       "    <tr>\n",
       "      <th>4</th>\n",
       "      <td>caja</td>\n",
       "      <td>CREATE TABLE caja ( id INTEGER PRIMARY KEY AUT...</td>\n",
       "    </tr>\n",
       "    <tr>\n",
       "      <th>5</th>\n",
       "      <td>tipos_instrumentos</td>\n",
       "      <td>CREATE TABLE tipos_instrumentos ( id INTEGER P...</td>\n",
       "    </tr>\n",
       "    <tr>\n",
       "      <th>6</th>\n",
       "      <td>instrumentos</td>\n",
       "      <td>CREATE TABLE instrumentos ( id INTEGER PRIMARY...</td>\n",
       "    </tr>\n",
       "  </tbody>\n",
       "</table>\n",
       "</div>"
      ],
      "text/plain": [
       "                 name                                                sql\n",
       "0            clientes  CREATE TABLE clientes ( id INTEGER PRIMARY KEY...\n",
       "1     sqlite_sequence             CREATE TABLE sqlite_sequence(name,seq)\n",
       "2             cuentas  CREATE TABLE cuentas ( id INTEGER PRIMARY KEY ...\n",
       "3     tipo_movimiento  CREATE TABLE tipo_movimiento ( id INTEGER PRIM...\n",
       "4                caja  CREATE TABLE caja ( id INTEGER PRIMARY KEY AUT...\n",
       "5  tipos_instrumentos  CREATE TABLE tipos_instrumentos ( id INTEGER P...\n",
       "6        instrumentos  CREATE TABLE instrumentos ( id INTEGER PRIMARY..."
      ]
     },
     "execution_count": 182,
     "metadata": {},
     "output_type": "execute_result"
    }
   ],
   "source": [
    "show_tables(conn)"
   ]
  },
  {
   "cell_type": "code",
   "execution_count": 183,
   "metadata": {
    "ExecuteTime": {
     "end_time": "2021-09-01T20:36:56.306781Z",
     "start_time": "2021-09-01T20:36:56.297107Z"
    }
   },
   "outputs": [
    {
     "data": {
      "text/html": [
       "<div>\n",
       "<style scoped>\n",
       "    .dataframe tbody tr th:only-of-type {\n",
       "        vertical-align: middle;\n",
       "    }\n",
       "\n",
       "    .dataframe tbody tr th {\n",
       "        vertical-align: top;\n",
       "    }\n",
       "\n",
       "    .dataframe thead th {\n",
       "        text-align: right;\n",
       "    }\n",
       "</style>\n",
       "<table border=\"1\" class=\"dataframe\">\n",
       "  <thead>\n",
       "    <tr style=\"text-align: right;\">\n",
       "      <th></th>\n",
       "      <th>name</th>\n",
       "      <th>seq</th>\n",
       "    </tr>\n",
       "  </thead>\n",
       "  <tbody>\n",
       "  </tbody>\n",
       "</table>\n",
       "</div>"
      ],
      "text/plain": [
       "Empty DataFrame\n",
       "Columns: [name, seq]\n",
       "Index: []"
      ]
     },
     "execution_count": 183,
     "metadata": {},
     "output_type": "execute_result"
    }
   ],
   "source": [
    "ss()"
   ]
  },
  {
   "cell_type": "markdown",
   "metadata": {},
   "source": [
    "### Tabla `inversiones`"
   ]
  },
  {
   "cell_type": "code",
   "execution_count": 184,
   "metadata": {
    "ExecuteTime": {
     "end_time": "2021-09-01T20:36:56.313649Z",
     "start_time": "2021-09-01T20:36:56.310349Z"
    }
   },
   "outputs": [],
   "source": [
    "qry = \"CREATE TABLE IF NOT EXISTS inversiones ( \\\n",
    "id INTEGER PRIMARY KEY AUTOINCREMENT, \\\n",
    "id_cuenta INTEGER NOT NULL, \\\n",
    "codigo_instrumento TEXT NOT NULL, \\\n",
    "monto NUMERIC NOT NULL, \\\n",
    "precio NUMERIC NOT NULL, \\\n",
    "FOREIGN KEY (id_cuenta) REFERENCES cuentas (id) \\\n",
    "ON DELETE NO ACTION ON UPDATE NO ACTION, \\\n",
    "FOREIGN KEY (codigo_instrumento) REFERENCES instrumentos (codigo) \\\n",
    "ON DELETE NO ACTION ON UPDATE NO ACTION \\\n",
    ")\""
   ]
  },
  {
   "cell_type": "code",
   "execution_count": 185,
   "metadata": {
    "ExecuteTime": {
     "end_time": "2021-09-01T20:36:56.325630Z",
     "start_time": "2021-09-01T20:36:56.316325Z"
    }
   },
   "outputs": [
    {
     "data": {
      "text/plain": [
       "<sqlite3.Cursor at 0x7f35e2a3af80>"
      ]
     },
     "execution_count": 185,
     "metadata": {},
     "output_type": "execute_result"
    }
   ],
   "source": [
    "cursor.execute(qry)"
   ]
  },
  {
   "cell_type": "code",
   "execution_count": 186,
   "metadata": {
    "ExecuteTime": {
     "end_time": "2021-09-01T20:36:56.338948Z",
     "start_time": "2021-09-01T20:36:56.327984Z"
    }
   },
   "outputs": [
    {
     "data": {
      "text/html": [
       "<div>\n",
       "<style scoped>\n",
       "    .dataframe tbody tr th:only-of-type {\n",
       "        vertical-align: middle;\n",
       "    }\n",
       "\n",
       "    .dataframe tbody tr th {\n",
       "        vertical-align: top;\n",
       "    }\n",
       "\n",
       "    .dataframe thead th {\n",
       "        text-align: right;\n",
       "    }\n",
       "</style>\n",
       "<table border=\"1\" class=\"dataframe\">\n",
       "  <thead>\n",
       "    <tr style=\"text-align: right;\">\n",
       "      <th></th>\n",
       "      <th>name</th>\n",
       "      <th>sql</th>\n",
       "    </tr>\n",
       "  </thead>\n",
       "  <tbody>\n",
       "    <tr>\n",
       "      <th>0</th>\n",
       "      <td>clientes</td>\n",
       "      <td>CREATE TABLE clientes ( id INTEGER PRIMARY KEY...</td>\n",
       "    </tr>\n",
       "    <tr>\n",
       "      <th>1</th>\n",
       "      <td>sqlite_sequence</td>\n",
       "      <td>CREATE TABLE sqlite_sequence(name,seq)</td>\n",
       "    </tr>\n",
       "    <tr>\n",
       "      <th>2</th>\n",
       "      <td>cuentas</td>\n",
       "      <td>CREATE TABLE cuentas ( id INTEGER PRIMARY KEY ...</td>\n",
       "    </tr>\n",
       "    <tr>\n",
       "      <th>3</th>\n",
       "      <td>tipo_movimiento</td>\n",
       "      <td>CREATE TABLE tipo_movimiento ( id INTEGER PRIM...</td>\n",
       "    </tr>\n",
       "    <tr>\n",
       "      <th>4</th>\n",
       "      <td>caja</td>\n",
       "      <td>CREATE TABLE caja ( id INTEGER PRIMARY KEY AUT...</td>\n",
       "    </tr>\n",
       "    <tr>\n",
       "      <th>5</th>\n",
       "      <td>tipos_instrumentos</td>\n",
       "      <td>CREATE TABLE tipos_instrumentos ( id INTEGER P...</td>\n",
       "    </tr>\n",
       "    <tr>\n",
       "      <th>6</th>\n",
       "      <td>instrumentos</td>\n",
       "      <td>CREATE TABLE instrumentos ( id INTEGER PRIMARY...</td>\n",
       "    </tr>\n",
       "    <tr>\n",
       "      <th>7</th>\n",
       "      <td>inversiones</td>\n",
       "      <td>CREATE TABLE inversiones ( id INTEGER PRIMARY ...</td>\n",
       "    </tr>\n",
       "  </tbody>\n",
       "</table>\n",
       "</div>"
      ],
      "text/plain": [
       "                 name                                                sql\n",
       "0            clientes  CREATE TABLE clientes ( id INTEGER PRIMARY KEY...\n",
       "1     sqlite_sequence             CREATE TABLE sqlite_sequence(name,seq)\n",
       "2             cuentas  CREATE TABLE cuentas ( id INTEGER PRIMARY KEY ...\n",
       "3     tipo_movimiento  CREATE TABLE tipo_movimiento ( id INTEGER PRIM...\n",
       "4                caja  CREATE TABLE caja ( id INTEGER PRIMARY KEY AUT...\n",
       "5  tipos_instrumentos  CREATE TABLE tipos_instrumentos ( id INTEGER P...\n",
       "6        instrumentos  CREATE TABLE instrumentos ( id INTEGER PRIMARY...\n",
       "7         inversiones  CREATE TABLE inversiones ( id INTEGER PRIMARY ..."
      ]
     },
     "execution_count": 186,
     "metadata": {},
     "output_type": "execute_result"
    }
   ],
   "source": [
    "show_tables(conn)"
   ]
  },
  {
   "cell_type": "code",
   "execution_count": 187,
   "metadata": {
    "ExecuteTime": {
     "end_time": "2021-09-01T20:36:56.350526Z",
     "start_time": "2021-09-01T20:36:56.341362Z"
    }
   },
   "outputs": [
    {
     "data": {
      "text/html": [
       "<div>\n",
       "<style scoped>\n",
       "    .dataframe tbody tr th:only-of-type {\n",
       "        vertical-align: middle;\n",
       "    }\n",
       "\n",
       "    .dataframe tbody tr th {\n",
       "        vertical-align: top;\n",
       "    }\n",
       "\n",
       "    .dataframe thead th {\n",
       "        text-align: right;\n",
       "    }\n",
       "</style>\n",
       "<table border=\"1\" class=\"dataframe\">\n",
       "  <thead>\n",
       "    <tr style=\"text-align: right;\">\n",
       "      <th></th>\n",
       "      <th>name</th>\n",
       "      <th>seq</th>\n",
       "    </tr>\n",
       "  </thead>\n",
       "  <tbody>\n",
       "  </tbody>\n",
       "</table>\n",
       "</div>"
      ],
      "text/plain": [
       "Empty DataFrame\n",
       "Columns: [name, seq]\n",
       "Index: []"
      ]
     },
     "execution_count": 187,
     "metadata": {},
     "output_type": "execute_result"
    }
   ],
   "source": [
    "ss()"
   ]
  },
  {
   "cell_type": "markdown",
   "metadata": {},
   "source": [
    "### Tabla `precios_mercado`"
   ]
  },
  {
   "cell_type": "markdown",
   "metadata": {},
   "source": [
    "Esta tabla registrará los precios de mercado de los instrumentos. En este caso definiremos una restricción de tipo `UNIQUE` a una combinación de campos."
   ]
  },
  {
   "cell_type": "code",
   "execution_count": 188,
   "metadata": {
    "ExecuteTime": {
     "end_time": "2021-09-01T20:36:56.356419Z",
     "start_time": "2021-09-01T20:36:56.353142Z"
    }
   },
   "outputs": [],
   "source": [
    "qry = \"CREATE TABLE IF NOT EXISTS precios_mercado ( \\\n",
    "id INTEGER PRIMARY KEY AUTOINCREMENT, \\\n",
    "fecha TEXT NOT NULL, \\\n",
    "id_instrumento INTEGER NOT NULL, \\\n",
    "precio NUMERIC NOT NULL, \\\n",
    "FOREIGN KEY (id_instrumento) REFERENCES instrumentos (id) \\\n",
    "ON DELETE NO ACTION ON UPDATE NO ACTION, \\\n",
    "UNIQUE(fecha, id_instrumento) \\\n",
    ")\""
   ]
  },
  {
   "cell_type": "code",
   "execution_count": 189,
   "metadata": {
    "ExecuteTime": {
     "end_time": "2021-09-01T20:36:56.366616Z",
     "start_time": "2021-09-01T20:36:56.359326Z"
    }
   },
   "outputs": [
    {
     "data": {
      "text/plain": [
       "<sqlite3.Cursor at 0x7f35e2a3af80>"
      ]
     },
     "execution_count": 189,
     "metadata": {},
     "output_type": "execute_result"
    }
   ],
   "source": [
    "cursor.execute(qry)"
   ]
  },
  {
   "cell_type": "code",
   "execution_count": 190,
   "metadata": {
    "ExecuteTime": {
     "end_time": "2021-09-01T20:36:56.379800Z",
     "start_time": "2021-09-01T20:36:56.368701Z"
    }
   },
   "outputs": [
    {
     "data": {
      "text/html": [
       "<div>\n",
       "<style scoped>\n",
       "    .dataframe tbody tr th:only-of-type {\n",
       "        vertical-align: middle;\n",
       "    }\n",
       "\n",
       "    .dataframe tbody tr th {\n",
       "        vertical-align: top;\n",
       "    }\n",
       "\n",
       "    .dataframe thead th {\n",
       "        text-align: right;\n",
       "    }\n",
       "</style>\n",
       "<table border=\"1\" class=\"dataframe\">\n",
       "  <thead>\n",
       "    <tr style=\"text-align: right;\">\n",
       "      <th></th>\n",
       "      <th>name</th>\n",
       "      <th>sql</th>\n",
       "    </tr>\n",
       "  </thead>\n",
       "  <tbody>\n",
       "    <tr>\n",
       "      <th>0</th>\n",
       "      <td>clientes</td>\n",
       "      <td>CREATE TABLE clientes ( id INTEGER PRIMARY KEY...</td>\n",
       "    </tr>\n",
       "    <tr>\n",
       "      <th>1</th>\n",
       "      <td>sqlite_sequence</td>\n",
       "      <td>CREATE TABLE sqlite_sequence(name,seq)</td>\n",
       "    </tr>\n",
       "    <tr>\n",
       "      <th>2</th>\n",
       "      <td>cuentas</td>\n",
       "      <td>CREATE TABLE cuentas ( id INTEGER PRIMARY KEY ...</td>\n",
       "    </tr>\n",
       "    <tr>\n",
       "      <th>3</th>\n",
       "      <td>tipo_movimiento</td>\n",
       "      <td>CREATE TABLE tipo_movimiento ( id INTEGER PRIM...</td>\n",
       "    </tr>\n",
       "    <tr>\n",
       "      <th>4</th>\n",
       "      <td>caja</td>\n",
       "      <td>CREATE TABLE caja ( id INTEGER PRIMARY KEY AUT...</td>\n",
       "    </tr>\n",
       "    <tr>\n",
       "      <th>5</th>\n",
       "      <td>tipos_instrumentos</td>\n",
       "      <td>CREATE TABLE tipos_instrumentos ( id INTEGER P...</td>\n",
       "    </tr>\n",
       "    <tr>\n",
       "      <th>6</th>\n",
       "      <td>instrumentos</td>\n",
       "      <td>CREATE TABLE instrumentos ( id INTEGER PRIMARY...</td>\n",
       "    </tr>\n",
       "    <tr>\n",
       "      <th>7</th>\n",
       "      <td>inversiones</td>\n",
       "      <td>CREATE TABLE inversiones ( id INTEGER PRIMARY ...</td>\n",
       "    </tr>\n",
       "    <tr>\n",
       "      <th>8</th>\n",
       "      <td>precios_mercado</td>\n",
       "      <td>CREATE TABLE precios_mercado ( id INTEGER PRIM...</td>\n",
       "    </tr>\n",
       "  </tbody>\n",
       "</table>\n",
       "</div>"
      ],
      "text/plain": [
       "                 name                                                sql\n",
       "0            clientes  CREATE TABLE clientes ( id INTEGER PRIMARY KEY...\n",
       "1     sqlite_sequence             CREATE TABLE sqlite_sequence(name,seq)\n",
       "2             cuentas  CREATE TABLE cuentas ( id INTEGER PRIMARY KEY ...\n",
       "3     tipo_movimiento  CREATE TABLE tipo_movimiento ( id INTEGER PRIM...\n",
       "4                caja  CREATE TABLE caja ( id INTEGER PRIMARY KEY AUT...\n",
       "5  tipos_instrumentos  CREATE TABLE tipos_instrumentos ( id INTEGER P...\n",
       "6        instrumentos  CREATE TABLE instrumentos ( id INTEGER PRIMARY...\n",
       "7         inversiones  CREATE TABLE inversiones ( id INTEGER PRIMARY ...\n",
       "8     precios_mercado  CREATE TABLE precios_mercado ( id INTEGER PRIM..."
      ]
     },
     "execution_count": 190,
     "metadata": {},
     "output_type": "execute_result"
    }
   ],
   "source": [
    "show_tables(conn)"
   ]
  },
  {
   "cell_type": "code",
   "execution_count": 191,
   "metadata": {
    "ExecuteTime": {
     "end_time": "2021-09-01T20:36:56.391965Z",
     "start_time": "2021-09-01T20:36:56.382369Z"
    }
   },
   "outputs": [
    {
     "data": {
      "text/html": [
       "<div>\n",
       "<style scoped>\n",
       "    .dataframe tbody tr th:only-of-type {\n",
       "        vertical-align: middle;\n",
       "    }\n",
       "\n",
       "    .dataframe tbody tr th {\n",
       "        vertical-align: top;\n",
       "    }\n",
       "\n",
       "    .dataframe thead th {\n",
       "        text-align: right;\n",
       "    }\n",
       "</style>\n",
       "<table border=\"1\" class=\"dataframe\">\n",
       "  <thead>\n",
       "    <tr style=\"text-align: right;\">\n",
       "      <th></th>\n",
       "      <th>name</th>\n",
       "      <th>seq</th>\n",
       "    </tr>\n",
       "  </thead>\n",
       "  <tbody>\n",
       "  </tbody>\n",
       "</table>\n",
       "</div>"
      ],
      "text/plain": [
       "Empty DataFrame\n",
       "Columns: [name, seq]\n",
       "Index: []"
      ]
     },
     "execution_count": 191,
     "metadata": {},
     "output_type": "execute_result"
    }
   ],
   "source": [
    "ss()"
   ]
  },
  {
   "cell_type": "markdown",
   "metadata": {},
   "source": [
    "## Insertar Data"
   ]
  },
  {
   "cell_type": "markdown",
   "metadata": {},
   "source": [
    "Vamos a insertar data en las distintas tablas que hemos definido."
   ]
  },
  {
   "cell_type": "markdown",
   "metadata": {},
   "source": [
    "### Tabla `clientes`"
   ]
  },
  {
   "cell_type": "markdown",
   "metadata": {},
   "source": [
    "Recordemos los campos de la tabla."
   ]
  },
  {
   "cell_type": "code",
   "execution_count": 192,
   "metadata": {
    "ExecuteTime": {
     "end_time": "2021-09-01T20:36:56.403537Z",
     "start_time": "2021-09-01T20:36:56.394076Z"
    }
   },
   "outputs": [
    {
     "data": {
      "text/html": [
       "<div>\n",
       "<style scoped>\n",
       "    .dataframe tbody tr th:only-of-type {\n",
       "        vertical-align: middle;\n",
       "    }\n",
       "\n",
       "    .dataframe tbody tr th {\n",
       "        vertical-align: top;\n",
       "    }\n",
       "\n",
       "    .dataframe thead th {\n",
       "        text-align: right;\n",
       "    }\n",
       "</style>\n",
       "<table border=\"1\" class=\"dataframe\">\n",
       "  <thead>\n",
       "    <tr style=\"text-align: right;\">\n",
       "      <th></th>\n",
       "      <th>id</th>\n",
       "      <th>nombre</th>\n",
       "      <th>apellido</th>\n",
       "      <th>email</th>\n",
       "      <th>telefono</th>\n",
       "    </tr>\n",
       "  </thead>\n",
       "  <tbody>\n",
       "  </tbody>\n",
       "</table>\n",
       "</div>"
      ],
      "text/plain": [
       "Empty DataFrame\n",
       "Columns: [id, nombre, apellido, email, telefono]\n",
       "Index: []"
      ]
     },
     "execution_count": 192,
     "metadata": {},
     "output_type": "execute_result"
    }
   ],
   "source": [
    "pd.read_sql(\"SELECT * FROM clientes\", conn)"
   ]
  },
  {
   "cell_type": "markdown",
   "metadata": {},
   "source": [
    "Para insertar data en una BBDD relacional se utiliza la instrucción `INSERT`. Notar que, dado que el campo `id` es `AUTOINCREMENT` no es necesario incluirlo."
   ]
  },
  {
   "cell_type": "code",
   "execution_count": 193,
   "metadata": {
    "ExecuteTime": {
     "end_time": "2021-09-01T20:36:56.408591Z",
     "start_time": "2021-09-01T20:36:56.405875Z"
    }
   },
   "outputs": [],
   "source": [
    "qry = \"INSERT INTO clientes (nombre, apellido, email, telefono) \\\n",
    "VALUES ('Alvaro', 'Diaz', 'alvaro@efaa.cl', 56955556666)\""
   ]
  },
  {
   "cell_type": "code",
   "execution_count": 194,
   "metadata": {
    "ExecuteTime": {
     "end_time": "2021-09-01T20:36:56.415373Z",
     "start_time": "2021-09-01T20:36:56.410698Z"
    }
   },
   "outputs": [
    {
     "data": {
      "text/plain": [
       "<sqlite3.Cursor at 0x7f35e2a3af80>"
      ]
     },
     "execution_count": 194,
     "metadata": {},
     "output_type": "execute_result"
    }
   ],
   "source": [
    "cursor.execute(qry)"
   ]
  },
  {
   "cell_type": "code",
   "execution_count": 195,
   "metadata": {
    "ExecuteTime": {
     "end_time": "2021-09-01T20:36:56.430200Z",
     "start_time": "2021-09-01T20:36:56.417570Z"
    }
   },
   "outputs": [
    {
     "data": {
      "text/html": [
       "<div>\n",
       "<style scoped>\n",
       "    .dataframe tbody tr th:only-of-type {\n",
       "        vertical-align: middle;\n",
       "    }\n",
       "\n",
       "    .dataframe tbody tr th {\n",
       "        vertical-align: top;\n",
       "    }\n",
       "\n",
       "    .dataframe thead th {\n",
       "        text-align: right;\n",
       "    }\n",
       "</style>\n",
       "<table border=\"1\" class=\"dataframe\">\n",
       "  <thead>\n",
       "    <tr style=\"text-align: right;\">\n",
       "      <th></th>\n",
       "      <th>id</th>\n",
       "      <th>nombre</th>\n",
       "      <th>apellido</th>\n",
       "      <th>email</th>\n",
       "      <th>telefono</th>\n",
       "    </tr>\n",
       "  </thead>\n",
       "  <tbody>\n",
       "    <tr>\n",
       "      <th>0</th>\n",
       "      <td>1</td>\n",
       "      <td>Alvaro</td>\n",
       "      <td>Diaz</td>\n",
       "      <td>alvaro@efaa.cl</td>\n",
       "      <td>56955556666</td>\n",
       "    </tr>\n",
       "  </tbody>\n",
       "</table>\n",
       "</div>"
      ],
      "text/plain": [
       "   id  nombre apellido           email     telefono\n",
       "0   1  Alvaro     Diaz  alvaro@efaa.cl  56955556666"
      ]
     },
     "execution_count": 195,
     "metadata": {},
     "output_type": "execute_result"
    }
   ],
   "source": [
    "pd.read_sql(\"SELECT * FROM clientes\", conn)"
   ]
  },
  {
   "cell_type": "markdown",
   "metadata": {},
   "source": [
    "**HABLAR DEL COMMIT**"
   ]
  },
  {
   "cell_type": "code",
   "execution_count": 196,
   "metadata": {
    "ExecuteTime": {
     "end_time": "2021-09-01T20:36:56.438925Z",
     "start_time": "2021-09-01T20:36:56.433113Z"
    }
   },
   "outputs": [],
   "source": [
    "conn.commit()"
   ]
  },
  {
   "cell_type": "markdown",
   "metadata": {},
   "source": [
    "Podemos también ingresar más de un registro a la vez."
   ]
  },
  {
   "cell_type": "code",
   "execution_count": 197,
   "metadata": {
    "ExecuteTime": {
     "end_time": "2021-09-01T20:36:56.445111Z",
     "start_time": "2021-09-01T20:36:56.441417Z"
    }
   },
   "outputs": [],
   "source": [
    "qry = \"INSERT INTO clientes (nombre, apellido, email, telefono) \\\n",
    "VALUES ('Ricardo', 'Gomez', 'ricardo.gomez@efaa.cl', 56955551234), \\\n",
    "('Thomas', 'Macmillan', 'thomas.macmillan@efaa.cl', 56955554321)\""
   ]
  },
  {
   "cell_type": "code",
   "execution_count": 198,
   "metadata": {
    "ExecuteTime": {
     "end_time": "2021-09-01T20:36:56.454226Z",
     "start_time": "2021-09-01T20:36:56.448162Z"
    }
   },
   "outputs": [],
   "source": [
    "cursor.execute(qry)\n",
    "conn.commit()"
   ]
  },
  {
   "cell_type": "code",
   "execution_count": 199,
   "metadata": {
    "ExecuteTime": {
     "end_time": "2021-09-01T20:36:56.474618Z",
     "start_time": "2021-09-01T20:36:56.456974Z"
    }
   },
   "outputs": [
    {
     "data": {
      "text/html": [
       "<div>\n",
       "<style scoped>\n",
       "    .dataframe tbody tr th:only-of-type {\n",
       "        vertical-align: middle;\n",
       "    }\n",
       "\n",
       "    .dataframe tbody tr th {\n",
       "        vertical-align: top;\n",
       "    }\n",
       "\n",
       "    .dataframe thead th {\n",
       "        text-align: right;\n",
       "    }\n",
       "</style>\n",
       "<table border=\"1\" class=\"dataframe\">\n",
       "  <thead>\n",
       "    <tr style=\"text-align: right;\">\n",
       "      <th></th>\n",
       "      <th>id</th>\n",
       "      <th>nombre</th>\n",
       "      <th>apellido</th>\n",
       "      <th>email</th>\n",
       "      <th>telefono</th>\n",
       "    </tr>\n",
       "  </thead>\n",
       "  <tbody>\n",
       "    <tr>\n",
       "      <th>0</th>\n",
       "      <td>1</td>\n",
       "      <td>Alvaro</td>\n",
       "      <td>Diaz</td>\n",
       "      <td>alvaro@efaa.cl</td>\n",
       "      <td>56955556666</td>\n",
       "    </tr>\n",
       "    <tr>\n",
       "      <th>1</th>\n",
       "      <td>2</td>\n",
       "      <td>Ricardo</td>\n",
       "      <td>Gomez</td>\n",
       "      <td>ricardo.gomez@efaa.cl</td>\n",
       "      <td>56955551234</td>\n",
       "    </tr>\n",
       "    <tr>\n",
       "      <th>2</th>\n",
       "      <td>3</td>\n",
       "      <td>Thomas</td>\n",
       "      <td>Macmillan</td>\n",
       "      <td>thomas.macmillan@efaa.cl</td>\n",
       "      <td>56955554321</td>\n",
       "    </tr>\n",
       "  </tbody>\n",
       "</table>\n",
       "</div>"
      ],
      "text/plain": [
       "   id   nombre   apellido                     email     telefono\n",
       "0   1   Alvaro       Diaz            alvaro@efaa.cl  56955556666\n",
       "1   2  Ricardo      Gomez     ricardo.gomez@efaa.cl  56955551234\n",
       "2   3   Thomas  Macmillan  thomas.macmillan@efaa.cl  56955554321"
      ]
     },
     "execution_count": 199,
     "metadata": {},
     "output_type": "execute_result"
    }
   ],
   "source": [
    "pd.read_sql(\"SELECT * FROM clientes\", conn)"
   ]
  },
  {
   "cell_type": "markdown",
   "metadata": {},
   "source": [
    "Recordemos que el campo `email` tiene una restricción `UNIQUE`, veamos qué ocurre si, por error, ingresamos un email repetido."
   ]
  },
  {
   "cell_type": "code",
   "execution_count": 200,
   "metadata": {
    "ExecuteTime": {
     "end_time": "2021-09-01T20:36:56.481743Z",
     "start_time": "2021-09-01T20:36:56.478027Z"
    }
   },
   "outputs": [],
   "source": [
    "qry = \"INSERT INTO clientes (nombre, apellido, email, telefono) \\\n",
    "VALUES ('Oliver', 'Mohr', 'alvaro@efaa.cl', 56955553141)\""
   ]
  },
  {
   "cell_type": "code",
   "execution_count": 201,
   "metadata": {
    "ExecuteTime": {
     "end_time": "2021-09-01T20:36:56.493066Z",
     "start_time": "2021-09-01T20:36:56.484310Z"
    }
   },
   "outputs": [
    {
     "ename": "IntegrityError",
     "evalue": "UNIQUE constraint failed: clientes.email",
     "output_type": "error",
     "traceback": [
      "\u001b[0;31m---------------------------------------------------------------------------\u001b[0m",
      "\u001b[0;31mIntegrityError\u001b[0m                            Traceback (most recent call last)",
      "\u001b[0;32m<ipython-input-201-41ad314d9cd0>\u001b[0m in \u001b[0;36m<module>\u001b[0;34m\u001b[0m\n\u001b[0;32m----> 1\u001b[0;31m \u001b[0mcursor\u001b[0m\u001b[0;34m.\u001b[0m\u001b[0mexecute\u001b[0m\u001b[0;34m(\u001b[0m\u001b[0mqry\u001b[0m\u001b[0;34m)\u001b[0m\u001b[0;34m\u001b[0m\u001b[0;34m\u001b[0m\u001b[0m\n\u001b[0m",
      "\u001b[0;31mIntegrityError\u001b[0m: UNIQUE constraint failed: clientes.email"
     ]
    }
   ],
   "source": [
    "cursor.execute(qry)"
   ]
  },
  {
   "cell_type": "code",
   "execution_count": 202,
   "metadata": {
    "ExecuteTime": {
     "end_time": "2021-09-01T20:37:07.393629Z",
     "start_time": "2021-09-01T20:37:07.375038Z"
    }
   },
   "outputs": [
    {
     "data": {
      "text/html": [
       "<div>\n",
       "<style scoped>\n",
       "    .dataframe tbody tr th:only-of-type {\n",
       "        vertical-align: middle;\n",
       "    }\n",
       "\n",
       "    .dataframe tbody tr th {\n",
       "        vertical-align: top;\n",
       "    }\n",
       "\n",
       "    .dataframe thead th {\n",
       "        text-align: right;\n",
       "    }\n",
       "</style>\n",
       "<table border=\"1\" class=\"dataframe\">\n",
       "  <thead>\n",
       "    <tr style=\"text-align: right;\">\n",
       "      <th></th>\n",
       "      <th>id</th>\n",
       "      <th>nombre</th>\n",
       "      <th>apellido</th>\n",
       "      <th>email</th>\n",
       "      <th>telefono</th>\n",
       "    </tr>\n",
       "  </thead>\n",
       "  <tbody>\n",
       "    <tr>\n",
       "      <th>0</th>\n",
       "      <td>1</td>\n",
       "      <td>Alvaro</td>\n",
       "      <td>Diaz</td>\n",
       "      <td>alvaro@efaa.cl</td>\n",
       "      <td>56955556666</td>\n",
       "    </tr>\n",
       "    <tr>\n",
       "      <th>1</th>\n",
       "      <td>2</td>\n",
       "      <td>Ricardo</td>\n",
       "      <td>Gomez</td>\n",
       "      <td>ricardo.gomez@efaa.cl</td>\n",
       "      <td>56955551234</td>\n",
       "    </tr>\n",
       "    <tr>\n",
       "      <th>2</th>\n",
       "      <td>3</td>\n",
       "      <td>Thomas</td>\n",
       "      <td>Macmillan</td>\n",
       "      <td>thomas.macmillan@efaa.cl</td>\n",
       "      <td>56955554321</td>\n",
       "    </tr>\n",
       "  </tbody>\n",
       "</table>\n",
       "</div>"
      ],
      "text/plain": [
       "   id   nombre   apellido                     email     telefono\n",
       "0   1   Alvaro       Diaz            alvaro@efaa.cl  56955556666\n",
       "1   2  Ricardo      Gomez     ricardo.gomez@efaa.cl  56955551234\n",
       "2   3   Thomas  Macmillan  thomas.macmillan@efaa.cl  56955554321"
      ]
     },
     "execution_count": 202,
     "metadata": {},
     "output_type": "execute_result"
    }
   ],
   "source": [
    "pd.read_sql(\"SELECT * FROM clientes\", conn)"
   ]
  },
  {
   "cell_type": "markdown",
   "metadata": {},
   "source": [
    "### Tabla `cuentas`"
   ]
  },
  {
   "cell_type": "markdown",
   "metadata": {},
   "source": [
    "Recordemos los campos de esta tabla."
   ]
  },
  {
   "cell_type": "code",
   "execution_count": 203,
   "metadata": {
    "ExecuteTime": {
     "end_time": "2021-09-01T20:37:07.411273Z",
     "start_time": "2021-09-01T20:37:07.397545Z"
    }
   },
   "outputs": [
    {
     "data": {
      "text/html": [
       "<div>\n",
       "<style scoped>\n",
       "    .dataframe tbody tr th:only-of-type {\n",
       "        vertical-align: middle;\n",
       "    }\n",
       "\n",
       "    .dataframe tbody tr th {\n",
       "        vertical-align: top;\n",
       "    }\n",
       "\n",
       "    .dataframe thead th {\n",
       "        text-align: right;\n",
       "    }\n",
       "</style>\n",
       "<table border=\"1\" class=\"dataframe\">\n",
       "  <thead>\n",
       "    <tr style=\"text-align: right;\">\n",
       "      <th></th>\n",
       "      <th>id</th>\n",
       "      <th>nombre</th>\n",
       "      <th>id_cliente</th>\n",
       "    </tr>\n",
       "  </thead>\n",
       "  <tbody>\n",
       "  </tbody>\n",
       "</table>\n",
       "</div>"
      ],
      "text/plain": [
       "Empty DataFrame\n",
       "Columns: [id, nombre, id_cliente]\n",
       "Index: []"
      ]
     },
     "execution_count": 203,
     "metadata": {},
     "output_type": "execute_result"
    }
   ],
   "source": [
    "pd.read_sql(\"SELECT * FROM cuentas\", conn)"
   ]
  },
  {
   "cell_type": "markdown",
   "metadata": {},
   "source": [
    "Vamos a insertar algunas cuentas."
   ]
  },
  {
   "cell_type": "code",
   "execution_count": 204,
   "metadata": {
    "ExecuteTime": {
     "end_time": "2021-09-01T20:37:07.418305Z",
     "start_time": "2021-09-01T20:37:07.414310Z"
    }
   },
   "outputs": [],
   "source": [
    "cuentas = [\n",
    "    ('CUENTA1', 1),\n",
    "    ('CUENTA2', 1),\n",
    "    ('CUENTA1', 2),\n",
    "    ('CUENTA1', 3)\n",
    "]"
   ]
  },
  {
   "cell_type": "markdown",
   "metadata": {},
   "source": [
    "Con este comando podemos insertar todas las cuentas con una sola instrucción."
   ]
  },
  {
   "cell_type": "code",
   "execution_count": 205,
   "metadata": {
    "ExecuteTime": {
     "end_time": "2021-09-01T20:37:07.428343Z",
     "start_time": "2021-09-01T20:37:07.421127Z"
    }
   },
   "outputs": [],
   "source": [
    "cursor.executemany(\"INSERT INTO cuentas (nombre, id_cliente) VALUES (?, ?)\", cuentas)\n",
    "conn.commit()"
   ]
  },
  {
   "cell_type": "code",
   "execution_count": 206,
   "metadata": {
    "ExecuteTime": {
     "end_time": "2021-09-01T20:37:07.451572Z",
     "start_time": "2021-09-01T20:37:07.434248Z"
    }
   },
   "outputs": [
    {
     "data": {
      "text/html": [
       "<div>\n",
       "<style scoped>\n",
       "    .dataframe tbody tr th:only-of-type {\n",
       "        vertical-align: middle;\n",
       "    }\n",
       "\n",
       "    .dataframe tbody tr th {\n",
       "        vertical-align: top;\n",
       "    }\n",
       "\n",
       "    .dataframe thead th {\n",
       "        text-align: right;\n",
       "    }\n",
       "</style>\n",
       "<table border=\"1\" class=\"dataframe\">\n",
       "  <thead>\n",
       "    <tr style=\"text-align: right;\">\n",
       "      <th></th>\n",
       "      <th>id</th>\n",
       "      <th>nombre</th>\n",
       "      <th>id_cliente</th>\n",
       "    </tr>\n",
       "  </thead>\n",
       "  <tbody>\n",
       "    <tr>\n",
       "      <th>0</th>\n",
       "      <td>1</td>\n",
       "      <td>CUENTA1</td>\n",
       "      <td>1</td>\n",
       "    </tr>\n",
       "    <tr>\n",
       "      <th>1</th>\n",
       "      <td>2</td>\n",
       "      <td>CUENTA2</td>\n",
       "      <td>1</td>\n",
       "    </tr>\n",
       "    <tr>\n",
       "      <th>2</th>\n",
       "      <td>3</td>\n",
       "      <td>CUENTA1</td>\n",
       "      <td>2</td>\n",
       "    </tr>\n",
       "    <tr>\n",
       "      <th>3</th>\n",
       "      <td>4</td>\n",
       "      <td>CUENTA1</td>\n",
       "      <td>3</td>\n",
       "    </tr>\n",
       "  </tbody>\n",
       "</table>\n",
       "</div>"
      ],
      "text/plain": [
       "   id   nombre  id_cliente\n",
       "0   1  CUENTA1           1\n",
       "1   2  CUENTA2           1\n",
       "2   3  CUENTA1           2\n",
       "3   4  CUENTA1           3"
      ]
     },
     "execution_count": 206,
     "metadata": {},
     "output_type": "execute_result"
    }
   ],
   "source": [
    "pd.read_sql(\"SELECT * FROM cuentas\", conn)"
   ]
  },
  {
   "cell_type": "markdown",
   "metadata": {},
   "source": [
    "¿Qué pasa si tratamos de insertar una cuenta para un cliente que no existe?"
   ]
  },
  {
   "cell_type": "code",
   "execution_count": 207,
   "metadata": {
    "ExecuteTime": {
     "end_time": "2021-09-01T20:37:07.469356Z",
     "start_time": "2021-09-01T20:37:07.455925Z"
    }
   },
   "outputs": [
    {
     "ename": "IntegrityError",
     "evalue": "FOREIGN KEY constraint failed",
     "output_type": "error",
     "traceback": [
      "\u001b[0;31m---------------------------------------------------------------------------\u001b[0m",
      "\u001b[0;31mIntegrityError\u001b[0m                            Traceback (most recent call last)",
      "\u001b[0;32m<ipython-input-207-580d40b3cdbb>\u001b[0m in \u001b[0;36m<module>\u001b[0;34m\u001b[0m\n\u001b[0;32m----> 1\u001b[0;31m \u001b[0mcursor\u001b[0m\u001b[0;34m.\u001b[0m\u001b[0mexecute\u001b[0m\u001b[0;34m(\u001b[0m\u001b[0;34m\"INSERT INTO cuentas (nombre, id_cliente) VALUES ('CUENTA1', 4)\"\u001b[0m\u001b[0;34m)\u001b[0m\u001b[0;34m\u001b[0m\u001b[0;34m\u001b[0m\u001b[0m\n\u001b[0m",
      "\u001b[0;31mIntegrityError\u001b[0m: FOREIGN KEY constraint failed"
     ]
    }
   ],
   "source": [
    "cursor.execute(\"INSERT INTO cuentas (nombre, id_cliente) VALUES ('CUENTA1', 4)\")"
   ]
  },
  {
   "cell_type": "markdown",
   "metadata": {},
   "source": [
    "### Tabla `tipo_movimiento`"
   ]
  },
  {
   "cell_type": "markdown",
   "metadata": {},
   "source": [
    "Esta es una tabla con data estática. Vamos a insertar los 4 tipos de movimientos que indicamos al inicio."
   ]
  },
  {
   "cell_type": "code",
   "execution_count": 208,
   "metadata": {
    "ExecuteTime": {
     "end_time": "2021-09-01T20:37:15.949629Z",
     "start_time": "2021-09-01T20:37:15.940307Z"
    }
   },
   "outputs": [
    {
     "data": {
      "text/html": [
       "<div>\n",
       "<style scoped>\n",
       "    .dataframe tbody tr th:only-of-type {\n",
       "        vertical-align: middle;\n",
       "    }\n",
       "\n",
       "    .dataframe tbody tr th {\n",
       "        vertical-align: top;\n",
       "    }\n",
       "\n",
       "    .dataframe thead th {\n",
       "        text-align: right;\n",
       "    }\n",
       "</style>\n",
       "<table border=\"1\" class=\"dataframe\">\n",
       "  <thead>\n",
       "    <tr style=\"text-align: right;\">\n",
       "      <th></th>\n",
       "      <th>id</th>\n",
       "      <th>codigo</th>\n",
       "    </tr>\n",
       "  </thead>\n",
       "  <tbody>\n",
       "  </tbody>\n",
       "</table>\n",
       "</div>"
      ],
      "text/plain": [
       "Empty DataFrame\n",
       "Columns: [id, codigo]\n",
       "Index: []"
      ]
     },
     "execution_count": 208,
     "metadata": {},
     "output_type": "execute_result"
    }
   ],
   "source": [
    "pd.read_sql(\"SELECT * FROM tipo_movimiento\", conn)"
   ]
  },
  {
   "cell_type": "code",
   "execution_count": 209,
   "metadata": {
    "ExecuteTime": {
     "end_time": "2021-09-01T20:37:15.955738Z",
     "start_time": "2021-09-01T20:37:15.952341Z"
    }
   },
   "outputs": [],
   "source": [
    "movimientos = [\n",
    "    ('APORTE',), ('RETIRO',), ('COMPRA',), ('VENTA',)\n",
    "]"
   ]
  },
  {
   "cell_type": "code",
   "execution_count": 210,
   "metadata": {
    "ExecuteTime": {
     "end_time": "2021-09-01T20:37:15.963156Z",
     "start_time": "2021-09-01T20:37:15.957700Z"
    }
   },
   "outputs": [],
   "source": [
    "cursor.executemany(\"INSERT INTO tipo_movimiento (codigo) VALUES (?)\", movimientos)\n",
    "conn.commit()"
   ]
  },
  {
   "cell_type": "markdown",
   "metadata": {},
   "source": [
    "### Tabla `caja`"
   ]
  },
  {
   "cell_type": "markdown",
   "metadata": {},
   "source": [
    "Vamos a hacerle un aporte de 10 MM CLP a la `CUENTA1` de Ricardo."
   ]
  },
  {
   "cell_type": "code",
   "execution_count": 211,
   "metadata": {
    "ExecuteTime": {
     "end_time": "2021-09-01T20:37:15.973951Z",
     "start_time": "2021-09-01T20:37:15.965192Z"
    }
   },
   "outputs": [
    {
     "data": {
      "text/html": [
       "<style  type=\"text/css\" >\n",
       "</style><table id=\"T_64ef99a0_0b64_11ec_80d9_02cba411ec9d\" ><thead>    <tr>        <th class=\"blank level0\" ></th>        <th class=\"col_heading level0 col0\" >id</th>        <th class=\"col_heading level0 col1\" >id_cuenta</th>        <th class=\"col_heading level0 col2\" >codigo_movimiento</th>        <th class=\"col_heading level0 col3\" >monto</th>    </tr></thead><tbody>\n",
       "        </tbody></table>"
      ],
      "text/plain": [
       "<pandas.io.formats.style.Styler at 0x7f35e26fc198>"
      ]
     },
     "execution_count": 211,
     "metadata": {},
     "output_type": "execute_result"
    }
   ],
   "source": [
    "pd.read_sql(\"SELECT * FROM caja\", conn).style.format({'monto': '{:,.0f}'})"
   ]
  },
  {
   "cell_type": "code",
   "execution_count": 212,
   "metadata": {
    "ExecuteTime": {
     "end_time": "2021-09-01T20:37:15.979799Z",
     "start_time": "2021-09-01T20:37:15.977176Z"
    }
   },
   "outputs": [],
   "source": [
    "qry = \"INSERT INTO caja (id_cuenta, codigo_movimiento, monto) VALUES (3, 'APORTE', 10000000)\""
   ]
  },
  {
   "cell_type": "code",
   "execution_count": 213,
   "metadata": {
    "ExecuteTime": {
     "end_time": "2021-09-01T20:37:15.987322Z",
     "start_time": "2021-09-01T20:37:15.983110Z"
    }
   },
   "outputs": [],
   "source": [
    "cursor.execute(qry)\n",
    "conn.commit()"
   ]
  },
  {
   "cell_type": "markdown",
   "metadata": {},
   "source": [
    "### Tabla `tipos_instrumentos`"
   ]
  },
  {
   "cell_type": "markdown",
   "metadata": {},
   "source": [
    "Esta es una tabla con data estática. Vamos a insertar dos tipos de instrumentos."
   ]
  },
  {
   "cell_type": "code",
   "execution_count": 214,
   "metadata": {
    "ExecuteTime": {
     "end_time": "2021-09-01T20:37:15.997828Z",
     "start_time": "2021-09-01T20:37:15.989517Z"
    }
   },
   "outputs": [
    {
     "data": {
      "text/html": [
       "<div>\n",
       "<style scoped>\n",
       "    .dataframe tbody tr th:only-of-type {\n",
       "        vertical-align: middle;\n",
       "    }\n",
       "\n",
       "    .dataframe tbody tr th {\n",
       "        vertical-align: top;\n",
       "    }\n",
       "\n",
       "    .dataframe thead th {\n",
       "        text-align: right;\n",
       "    }\n",
       "</style>\n",
       "<table border=\"1\" class=\"dataframe\">\n",
       "  <thead>\n",
       "    <tr style=\"text-align: right;\">\n",
       "      <th></th>\n",
       "      <th>id</th>\n",
       "      <th>codigo</th>\n",
       "    </tr>\n",
       "  </thead>\n",
       "  <tbody>\n",
       "  </tbody>\n",
       "</table>\n",
       "</div>"
      ],
      "text/plain": [
       "Empty DataFrame\n",
       "Columns: [id, codigo]\n",
       "Index: []"
      ]
     },
     "execution_count": 214,
     "metadata": {},
     "output_type": "execute_result"
    }
   ],
   "source": [
    "pd.read_sql(\"SELECT * FROM tipos_instrumentos\", conn)"
   ]
  },
  {
   "cell_type": "code",
   "execution_count": 215,
   "metadata": {
    "ExecuteTime": {
     "end_time": "2021-09-01T20:37:16.003535Z",
     "start_time": "2021-09-01T20:37:16.000107Z"
    }
   },
   "outputs": [],
   "source": [
    "tipos_instrumentos = [\n",
    "    ('ACCIONES',), ('CUOTA_FONDOS',), ('ETF',)\n",
    "]"
   ]
  },
  {
   "cell_type": "code",
   "execution_count": 216,
   "metadata": {
    "ExecuteTime": {
     "end_time": "2021-09-01T20:37:16.011290Z",
     "start_time": "2021-09-01T20:37:16.006028Z"
    }
   },
   "outputs": [],
   "source": [
    "cursor.executemany(\"INSERT INTO tipos_instrumentos (codigo) VALUES (?)\", tipos_instrumentos)\n",
    "conn.commit()"
   ]
  },
  {
   "cell_type": "markdown",
   "metadata": {},
   "source": [
    "### Tabla `instrumentos`"
   ]
  },
  {
   "cell_type": "code",
   "execution_count": 217,
   "metadata": {
    "ExecuteTime": {
     "end_time": "2021-09-01T20:37:16.022392Z",
     "start_time": "2021-09-01T20:37:16.013453Z"
    }
   },
   "outputs": [
    {
     "data": {
      "text/html": [
       "<div>\n",
       "<style scoped>\n",
       "    .dataframe tbody tr th:only-of-type {\n",
       "        vertical-align: middle;\n",
       "    }\n",
       "\n",
       "    .dataframe tbody tr th {\n",
       "        vertical-align: top;\n",
       "    }\n",
       "\n",
       "    .dataframe thead th {\n",
       "        text-align: right;\n",
       "    }\n",
       "</style>\n",
       "<table border=\"1\" class=\"dataframe\">\n",
       "  <thead>\n",
       "    <tr style=\"text-align: right;\">\n",
       "      <th></th>\n",
       "      <th>id</th>\n",
       "      <th>codigo</th>\n",
       "      <th>codigo_instrumento</th>\n",
       "    </tr>\n",
       "  </thead>\n",
       "  <tbody>\n",
       "  </tbody>\n",
       "</table>\n",
       "</div>"
      ],
      "text/plain": [
       "Empty DataFrame\n",
       "Columns: [id, codigo, codigo_instrumento]\n",
       "Index: []"
      ]
     },
     "execution_count": 217,
     "metadata": {},
     "output_type": "execute_result"
    }
   ],
   "source": [
    "pd.read_sql(\"SELECT * FROM instrumentos\", conn)"
   ]
  },
  {
   "cell_type": "code",
   "execution_count": 218,
   "metadata": {
    "ExecuteTime": {
     "end_time": "2021-09-01T20:37:16.027822Z",
     "start_time": "2021-09-01T20:37:16.024655Z"
    }
   },
   "outputs": [],
   "source": [
    "instrumentos = [\n",
    "    ('COPEC', 'ACCIONES'),\n",
    "    ('MMKT_LV', 'CUOTA_FONDOS'),\n",
    "    ('SP500', 'ETF'),\n",
    "]"
   ]
  },
  {
   "cell_type": "code",
   "execution_count": 219,
   "metadata": {
    "ExecuteTime": {
     "end_time": "2021-09-01T20:37:16.035635Z",
     "start_time": "2021-09-01T20:37:16.029991Z"
    }
   },
   "outputs": [],
   "source": [
    "cursor.executemany(\"INSERT INTO instrumentos (codigo, codigo_instrumento) VALUES (?, ?)\", instrumentos)\n",
    "conn.commit()"
   ]
  },
  {
   "cell_type": "markdown",
   "metadata": {},
   "source": [
    "### Compra de un Instrumento"
   ]
  },
  {
   "cell_type": "markdown",
   "metadata": {},
   "source": [
    "Aquí vamos a ver un ejemplo de la utilidad de usar `commit`. Al ingresar una compra de un instrumento, se deben realizar dos inserciones de datos:\n",
    "\n",
    "- Un nuevo registro en la tabla `inversiones`\n",
    "- Un nuevo movimiento en la tabla `caja` que refleje que se ha utilizado el saldo.\n",
    "\n",
    "Ambas operaciones están envueltas de forma explícita en una `TRANSACTION`, de modo que si cualquier parte de ésta falla, no quedará incompleta y todo se puede reversar."
   ]
  },
  {
   "cell_type": "code",
   "execution_count": 220,
   "metadata": {
    "ExecuteTime": {
     "end_time": "2021-09-01T20:37:16.041044Z",
     "start_time": "2021-09-01T20:37:16.037792Z"
    }
   },
   "outputs": [],
   "source": [
    "id_cuenta = 3\n",
    "instrumento = 'COPEC'\n",
    "codigo = 'COMPRA'\n",
    "numero = 1000\n",
    "precio = 7150"
   ]
  },
  {
   "cell_type": "code",
   "execution_count": 221,
   "metadata": {
    "ExecuteTime": {
     "end_time": "2021-09-01T20:37:16.047607Z",
     "start_time": "2021-09-01T20:37:16.043261Z"
    }
   },
   "outputs": [],
   "source": [
    "qry_caja = \"INSERT INTO caja (id_cuenta, codigo_movimiento, monto) VALUES (?, ?, ?)\""
   ]
  },
  {
   "cell_type": "code",
   "execution_count": 222,
   "metadata": {
    "ExecuteTime": {
     "end_time": "2021-09-01T20:37:16.053493Z",
     "start_time": "2021-09-01T20:37:16.049650Z"
    }
   },
   "outputs": [],
   "source": [
    "qry_inversion = \"INSERT INTO inversiones (id_cuenta, codigo_instrumento, monto, precio) \\\n",
    "VALUES (?, ?, ?, ?)\""
   ]
  },
  {
   "cell_type": "code",
   "execution_count": 223,
   "metadata": {
    "ExecuteTime": {
     "end_time": "2021-09-01T20:37:16.069662Z",
     "start_time": "2021-09-01T20:37:16.055272Z"
    }
   },
   "outputs": [],
   "source": [
    "try:\n",
    "    cursor.execute(\"BEGIN TRANSACTION\")\n",
    "    cursor.execute(qry_caja, [id_cuenta, codigo, numero * precio if codigo == 'VENTA' else -numero * precio])\n",
    "    cursor.execute(qry_inversion, [id_cuenta, instrumento, numero, precio])\n",
    "    conn.commit()\n",
    "except Exception as e:\n",
    "    print(str(e))\n",
    "    cursor.execute(\"ROLLBACK\")"
   ]
  },
  {
   "cell_type": "code",
   "execution_count": 224,
   "metadata": {
    "ExecuteTime": {
     "end_time": "2021-09-01T20:37:16.083449Z",
     "start_time": "2021-09-01T20:37:16.072081Z"
    }
   },
   "outputs": [
    {
     "data": {
      "text/html": [
       "<div>\n",
       "<style scoped>\n",
       "    .dataframe tbody tr th:only-of-type {\n",
       "        vertical-align: middle;\n",
       "    }\n",
       "\n",
       "    .dataframe tbody tr th {\n",
       "        vertical-align: top;\n",
       "    }\n",
       "\n",
       "    .dataframe thead th {\n",
       "        text-align: right;\n",
       "    }\n",
       "</style>\n",
       "<table border=\"1\" class=\"dataframe\">\n",
       "  <thead>\n",
       "    <tr style=\"text-align: right;\">\n",
       "      <th></th>\n",
       "      <th>id</th>\n",
       "      <th>id_cuenta</th>\n",
       "      <th>codigo_movimiento</th>\n",
       "      <th>monto</th>\n",
       "    </tr>\n",
       "  </thead>\n",
       "  <tbody>\n",
       "    <tr>\n",
       "      <th>0</th>\n",
       "      <td>1</td>\n",
       "      <td>3</td>\n",
       "      <td>APORTE</td>\n",
       "      <td>10000000</td>\n",
       "    </tr>\n",
       "    <tr>\n",
       "      <th>1</th>\n",
       "      <td>2</td>\n",
       "      <td>3</td>\n",
       "      <td>COMPRA</td>\n",
       "      <td>-7150000</td>\n",
       "    </tr>\n",
       "  </tbody>\n",
       "</table>\n",
       "</div>"
      ],
      "text/plain": [
       "   id  id_cuenta codigo_movimiento     monto\n",
       "0   1          3            APORTE  10000000\n",
       "1   2          3            COMPRA  -7150000"
      ]
     },
     "execution_count": 224,
     "metadata": {},
     "output_type": "execute_result"
    }
   ],
   "source": [
    "pd.read_sql(\"SELECT * FROM caja\", conn)"
   ]
  },
  {
   "cell_type": "code",
   "execution_count": 225,
   "metadata": {
    "ExecuteTime": {
     "end_time": "2021-09-01T20:37:16.096641Z",
     "start_time": "2021-09-01T20:37:16.085376Z"
    }
   },
   "outputs": [
    {
     "data": {
      "text/html": [
       "<div>\n",
       "<style scoped>\n",
       "    .dataframe tbody tr th:only-of-type {\n",
       "        vertical-align: middle;\n",
       "    }\n",
       "\n",
       "    .dataframe tbody tr th {\n",
       "        vertical-align: top;\n",
       "    }\n",
       "\n",
       "    .dataframe thead th {\n",
       "        text-align: right;\n",
       "    }\n",
       "</style>\n",
       "<table border=\"1\" class=\"dataframe\">\n",
       "  <thead>\n",
       "    <tr style=\"text-align: right;\">\n",
       "      <th></th>\n",
       "      <th>id</th>\n",
       "      <th>id_cuenta</th>\n",
       "      <th>codigo_instrumento</th>\n",
       "      <th>monto</th>\n",
       "      <th>precio</th>\n",
       "    </tr>\n",
       "  </thead>\n",
       "  <tbody>\n",
       "    <tr>\n",
       "      <th>0</th>\n",
       "      <td>1</td>\n",
       "      <td>3</td>\n",
       "      <td>COPEC</td>\n",
       "      <td>1000</td>\n",
       "      <td>7150</td>\n",
       "    </tr>\n",
       "  </tbody>\n",
       "</table>\n",
       "</div>"
      ],
      "text/plain": [
       "   id  id_cuenta codigo_instrumento  monto  precio\n",
       "0   1          3              COPEC   1000    7150"
      ]
     },
     "execution_count": 225,
     "metadata": {},
     "output_type": "execute_result"
    }
   ],
   "source": [
    "pd.read_sql(\"SELECT * FROM inversiones\", conn)"
   ]
  },
  {
   "cell_type": "markdown",
   "metadata": {},
   "source": [
    "## Cerrar Conexión"
   ]
  },
  {
   "cell_type": "code",
   "execution_count": 226,
   "metadata": {
    "ExecuteTime": {
     "end_time": "2021-09-01T20:37:16.108182Z",
     "start_time": "2021-09-01T20:37:16.098684Z"
    }
   },
   "outputs": [
    {
     "ename": "NameError",
     "evalue": "name 'stop' is not defined",
     "output_type": "error",
     "traceback": [
      "\u001b[0;31m---------------------------------------------------------------------------\u001b[0m",
      "\u001b[0;31mNameError\u001b[0m                                 Traceback (most recent call last)",
      "\u001b[0;32m<ipython-input-226-4f76a9dad686>\u001b[0m in \u001b[0;36m<module>\u001b[0;34m\u001b[0m\n\u001b[0;32m----> 1\u001b[0;31m \u001b[0mstop\u001b[0m\u001b[0;34m\u001b[0m\u001b[0;34m\u001b[0m\u001b[0m\n\u001b[0m",
      "\u001b[0;31mNameError\u001b[0m: name 'stop' is not defined"
     ]
    }
   ],
   "source": [
    "stop"
   ]
  },
  {
   "cell_type": "code",
   "execution_count": null,
   "metadata": {
    "ExecuteTime": {
     "end_time": "2021-09-01T20:37:16.110323Z",
     "start_time": "2021-09-01T20:37:15.815Z"
    }
   },
   "outputs": [],
   "source": [
    "conn.close()"
   ]
  }
 ],
 "metadata": {
  "hide_input": false,
  "kernelspec": {
   "display_name": "Python 3",
   "language": "python",
   "name": "python3"
  },
  "language_info": {
   "codemirror_mode": {
    "name": "ipython",
    "version": 3
   },
   "file_extension": ".py",
   "mimetype": "text/x-python",
   "name": "python",
   "nbconvert_exporter": "python",
   "pygments_lexer": "ipython3",
   "version": "3.7.3"
  },
  "toc": {
   "base_numbering": 1,
   "nav_menu": {},
   "number_sections": true,
   "sideBar": true,
   "skip_h1_title": true,
   "title_cell": "Table of Contents",
   "title_sidebar": "Contenido",
   "toc_cell": false,
   "toc_position": {
    "height": "calc(100% - 180px)",
    "left": "10px",
    "top": "150px",
    "width": "259px"
   },
   "toc_section_display": true,
   "toc_window_display": true
  }
 },
 "nbformat": 4,
 "nbformat_minor": 4
}
