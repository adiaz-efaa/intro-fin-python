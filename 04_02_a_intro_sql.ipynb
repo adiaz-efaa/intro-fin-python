{
 "cells": [
  {
   "cell_type": "markdown",
   "metadata": {},
   "source": [
    "# Ejercicio"
   ]
  },
  {
   "cell_type": "markdown",
   "metadata": {},
   "source": [
    "¿Cómo modelarían una base de datos que permitiera almacenar precios de mercado? Debiera poder gestionar precios de acciones, de instrumentos de renta fija, de swaps y quizás muchos más. ¿Cómo diseñar la BBDD de modo que pueda incorporar nuevos tipos de instrumentos?\n",
    "\n",
    "Responder definiendo las distintas tablas con sus campos y relaciones. Pueden usar alguna de las herramientas GUI que les mostré o alguna otra que hayan encontrado."
   ]
  },
  {
   "cell_type": "markdown",
   "metadata": {},
   "source": [
    "## ¿Qué datos quiero guardar?"
   ]
  },
  {
   "cell_type": "markdown",
   "metadata": {},
   "source": [
    "- Fecha, nombre, dato\n",
    "- Si es tasa, precio, volatilidad\n",
    "- Clase de activo (asset class de BBG)\n",
    "- Hay activos que son instrumentos (acciones, bonos) y hay índices (Libor, el dólar observado).\n",
    "- Hay mercado organizado o bursátil y mercado OTC.\n",
    "- Plazo en algunos casos (curvas,) ---> según el activo voy a necesitar otros datos adicionales. Ejemplo, bono: tasa cupón, plazo, ...., futuro: settlement date ...\n",
    "- Open, High, Low, Close, Volumen\n",
    "- Convenciones si son tasas (day count, lineal o compuesto)\n",
    "- Identificador del activo (nemo, ticker, cusip, ...)\n",
    "- Fuente del precio --> características de la fuente ...\n",
    "- Timestamp, bid, ask, last (relacionado a un timeframe)"
   ]
  },
  {
   "cell_type": "markdown",
   "metadata": {},
   "source": [
    "## ¿Qué tablas defino?"
   ]
  },
  {
   "cell_type": "markdown",
   "metadata": {},
   "source": [
    "- Serie de precios (precios diarios):\n",
    " - timestamp\n",
    " - identificador del activo (FK a Activos)\n",
    " - tipo de dato (FK al codigo de tipo de dato)\n",
    " - tipo de valor (bid, ask, close, last ..., NAV que aplica para los ETF)\n",
    " - valor\n",
    " \n",
    " \n",
    " - Tipo de valor\n",
    "  - id\n",
    "  - codigo (bid, ask, ...)\n",
    " \n",
    " \n",
    " - Tipo de dato\n",
    "  - id\n",
    "  - codigo (unique)\n",
    "  - descripcion\n",
    " \n",
    " \n",
    " - Activos\n",
    "  - id\n",
    "  - codigo\n",
    "  - codigo asset class\n",
    "  - descripcion\n",
    "  \n",
    "  \n",
    "- Caracteristicas Activos\n",
    " - id\n",
    " - codigo del activo (FK a Activos)\n",
    " - characteristicas: y esto es un JSON (piensen en un Dict de Python)\n",
    "\n",
    "\n",
    "- Asset Class\n",
    " - id\n",
    " - codigo\n",
    " - descripcion\n",
    "\n",
    "\n",
    "- Curvas - Superficies\n",
    " - id\n",
    " - codigo\n",
    " - descripcion\n",
    "\n",
    "\n",
    "- Elementos Curvas\n",
    " - id\n",
    " - codigo activo\n",
    " - codigo curva\n",
    " \n",
    "\n",
    "- Emisores\n",
    "\n",
    "\n",
    "- Ratings\n",
    " - Necesita una dimensión temporal\n",
    " \n",
    " \n",
    "------------------------------ \n",
    "**Descartado**\n",
    "\n",
    " - Factor de riesgo:\n",
    "  - id\n",
    "  - moneda\n",
    "  - nombre del activo\n",
    "  - id tipo factor\n",
    "  - clave_isin (campo que sirve para meter más detalle)\n",
    "  \n",
    "\n",
    " - Factor - Tipo\n",
    "  - Indica el asset class del factor\n",
    "  - 1 a 4 (tasa, spread, tipo de cambio, ...)\n",
    "  \n",
    "**Observaciones**\n",
    "\n",
    "- FK a campos descriptivos y no a los id."
   ]
  },
  {
   "cell_type": "markdown",
   "metadata": {},
   "source": [
    "## ¿Qué queremos hacer con estos datos?"
   ]
  },
  {
   "cell_type": "markdown",
   "metadata": {},
   "source": [
    "- Valorización de cierre de día\n",
    "- Estadísticas\n",
    "- Diseño y Backtesting de estrategias\n",
    "- Métricas de riesgo: VaR ---> Tablas de retornos diarios\n",
    "- Métricas de liquidez"
   ]
  },
  {
   "cell_type": "markdown",
   "metadata": {},
   "source": [
    "## Campo `JSON`"
   ]
  },
  {
   "cell_type": "markdown",
   "metadata": {},
   "source": [
    "SQLite no tiene JSON. ¿Cómo podemos emularlo?\n",
    "\n",
    "https://www.w3schools.com/whatis/whatis_json.asp"
   ]
  },
  {
   "cell_type": "code",
   "execution_count": 1,
   "metadata": {
    "ExecuteTime": {
     "end_time": "2021-09-08T22:54:33.313576Z",
     "start_time": "2021-09-08T22:54:33.309451Z"
    }
   },
   "outputs": [],
   "source": [
    "import json"
   ]
  },
  {
   "cell_type": "code",
   "execution_count": 3,
   "metadata": {
    "ExecuteTime": {
     "end_time": "2021-09-08T22:56:34.094971Z",
     "start_time": "2021-09-08T22:56:34.089247Z"
    }
   },
   "outputs": [],
   "source": [
    "ejemplo = [\n",
    "    {\n",
    "        'nemo': 'bono1',\n",
    "        'tir': .01\n",
    "    },\n",
    "    {\n",
    "        'nemo': 'bono2',\n",
    "        'tir': .02\n",
    "    }\n",
    "]"
   ]
  },
  {
   "cell_type": "code",
   "execution_count": 4,
   "metadata": {
    "ExecuteTime": {
     "end_time": "2021-09-08T22:59:31.488349Z",
     "start_time": "2021-09-08T22:59:31.485131Z"
    }
   },
   "outputs": [],
   "source": [
    "json_obj = json.dumps(ejemplo)"
   ]
  },
  {
   "cell_type": "code",
   "execution_count": 5,
   "metadata": {
    "ExecuteTime": {
     "end_time": "2021-09-08T22:59:38.239069Z",
     "start_time": "2021-09-08T22:59:38.228245Z"
    }
   },
   "outputs": [
    {
     "data": {
      "text/plain": [
       "'[{\"nemo\": \"bono1\", \"tir\": 0.01}, {\"nemo\": \"bono2\", \"tir\": 0.02}]'"
      ]
     },
     "execution_count": 5,
     "metadata": {},
     "output_type": "execute_result"
    }
   ],
   "source": [
    "json_obj"
   ]
  },
  {
   "cell_type": "code",
   "execution_count": 6,
   "metadata": {
    "ExecuteTime": {
     "end_time": "2021-09-08T23:00:56.500008Z",
     "start_time": "2021-09-08T23:00:56.497012Z"
    }
   },
   "outputs": [],
   "source": [
    "json_str = str(json_obj)"
   ]
  },
  {
   "cell_type": "code",
   "execution_count": 7,
   "metadata": {
    "ExecuteTime": {
     "end_time": "2021-09-08T23:01:01.986940Z",
     "start_time": "2021-09-08T23:01:01.981360Z"
    }
   },
   "outputs": [
    {
     "data": {
      "text/plain": [
       "'[{\"nemo\": \"bono1\", \"tir\": 0.01}, {\"nemo\": \"bono2\", \"tir\": 0.02}]'"
      ]
     },
     "execution_count": 7,
     "metadata": {},
     "output_type": "execute_result"
    }
   ],
   "source": [
    "json_str"
   ]
  },
  {
   "cell_type": "markdown",
   "metadata": {},
   "source": [
    "Para insertar un JSON en SQLite, hay que agregar un campo de tipo TEXT y definir el json como un `dict` o `list` de `dict`, luego transformar a JSON con `json.dumps()` e insertar `str(json_object)`. Probar a insertar directamente `json_object`, puede que funcione."
   ]
  }
 ],
 "metadata": {
  "hide_input": false,
  "kernelspec": {
   "display_name": "Python 3",
   "language": "python",
   "name": "python3"
  },
  "language_info": {
   "codemirror_mode": {
    "name": "ipython",
    "version": 3
   },
   "file_extension": ".py",
   "mimetype": "text/x-python",
   "name": "python",
   "nbconvert_exporter": "python",
   "pygments_lexer": "ipython3",
   "version": "3.7.3"
  },
  "toc": {
   "base_numbering": 1,
   "nav_menu": {},
   "number_sections": true,
   "sideBar": true,
   "skip_h1_title": true,
   "title_cell": "Table of Contents",
   "title_sidebar": "Contenido",
   "toc_cell": false,
   "toc_position": {
    "height": "calc(100% - 180px)",
    "left": "10px",
    "top": "150px",
    "width": "218.6px"
   },
   "toc_section_display": true,
   "toc_window_display": true
  }
 },
 "nbformat": 4,
 "nbformat_minor": 4
}
